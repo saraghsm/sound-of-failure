{
  "nbformat": 4,
  "nbformat_minor": 0,
  "metadata": {
    "colab": {
      "name": "WB_20210320_VarAE_training_demo.ipynb",
      "provenance": [],
      "collapsed_sections": []
    },
    "kernelspec": {
      "name": "python3",
      "display_name": "Python 3"
    },
    "accelerator": "GPU"
  },
  "cells": [
    {
      "cell_type": "markdown",
      "metadata": {
        "id": "Mv8aAIa0HcMf"
      },
      "source": [
        "# Import Packages"
      ]
    },
    {
      "cell_type": "code",
      "metadata": {
        "id": "N4YWwxNTHbi2",
        "colab": {
          "base_uri": "https://localhost:8080/"
        },
        "outputId": "2f679e9b-7aa8-423c-df77-e8b890a4a42d"
      },
      "source": [
        "import sys\n",
        "import os\n",
        "import shutil\n",
        "import librosa\n",
        "import glob\n",
        "import tqdm\n",
        "import json\n",
        "import ast\n",
        "import random\n",
        "\n",
        "from librosa import display as ld\n",
        "\n",
        "import tensorflow as tf\n",
        "from tensorflow.keras.models import Model\n",
        "from tensorflow.keras import layers\n",
        "from tensorflow.keras import backend as K\n",
        "\n",
        "!pip install git+https://github.com/AI-Guru/ngdlm.git\n",
        "tf.compat.v1.disable_eager_execution()\n",
        "\n",
        "from sklearn.preprocessing import StandardScaler\n",
        "from sklearn.externals.joblib import load, dump\n",
        "from sklearn import metrics\n",
        "from sklearn.preprocessing import StandardScaler, MinMaxScaler\n",
        "\n",
        "from IPython import display as ipd\n",
        "import numpy as np\n",
        "import matplotlib.pyplot as plt\n",
        "import seaborn as sns\n",
        "\n",
        "import joblib\n",
        "from configparser import ConfigParser"
      ],
      "execution_count": 1,
      "outputs": [
        {
          "output_type": "stream",
          "text": [
            "Collecting git+https://github.com/AI-Guru/ngdlm.git\n",
            "  Cloning https://github.com/AI-Guru/ngdlm.git to /tmp/pip-req-build-xvbfp8mj\n",
            "  Running command git clone -q https://github.com/AI-Guru/ngdlm.git /tmp/pip-req-build-xvbfp8mj\n",
            "Requirement already satisfied: keras in /usr/local/lib/python3.7/dist-packages (from ngdlm==0.0.3) (2.4.3)\n",
            "Requirement already satisfied: tensorflow in /usr/local/lib/python3.7/dist-packages (from ngdlm==0.0.3) (2.4.1)\n",
            "Requirement already satisfied: matplotlib in /usr/local/lib/python3.7/dist-packages (from ngdlm==0.0.3) (3.2.2)\n",
            "Requirement already satisfied: numpy>=1.9.1 in /usr/local/lib/python3.7/dist-packages (from keras->ngdlm==0.0.3) (1.19.5)\n",
            "Requirement already satisfied: h5py in /usr/local/lib/python3.7/dist-packages (from keras->ngdlm==0.0.3) (2.10.0)\n",
            "Requirement already satisfied: scipy>=0.14 in /usr/local/lib/python3.7/dist-packages (from keras->ngdlm==0.0.3) (1.4.1)\n",
            "Requirement already satisfied: pyyaml in /usr/local/lib/python3.7/dist-packages (from keras->ngdlm==0.0.3) (3.13)\n",
            "Requirement already satisfied: astunparse~=1.6.3 in /usr/local/lib/python3.7/dist-packages (from tensorflow->ngdlm==0.0.3) (1.6.3)\n",
            "Requirement already satisfied: keras-preprocessing~=1.1.2 in /usr/local/lib/python3.7/dist-packages (from tensorflow->ngdlm==0.0.3) (1.1.2)\n",
            "Requirement already satisfied: six~=1.15.0 in /usr/local/lib/python3.7/dist-packages (from tensorflow->ngdlm==0.0.3) (1.15.0)\n",
            "Requirement already satisfied: termcolor~=1.1.0 in /usr/local/lib/python3.7/dist-packages (from tensorflow->ngdlm==0.0.3) (1.1.0)\n",
            "Requirement already satisfied: opt-einsum~=3.3.0 in /usr/local/lib/python3.7/dist-packages (from tensorflow->ngdlm==0.0.3) (3.3.0)\n",
            "Requirement already satisfied: absl-py~=0.10 in /usr/local/lib/python3.7/dist-packages (from tensorflow->ngdlm==0.0.3) (0.10.0)\n",
            "Requirement already satisfied: wheel~=0.35 in /usr/local/lib/python3.7/dist-packages (from tensorflow->ngdlm==0.0.3) (0.36.2)\n",
            "Requirement already satisfied: protobuf>=3.9.2 in /usr/local/lib/python3.7/dist-packages (from tensorflow->ngdlm==0.0.3) (3.12.4)\n",
            "Requirement already satisfied: tensorflow-estimator<2.5.0,>=2.4.0 in /usr/local/lib/python3.7/dist-packages (from tensorflow->ngdlm==0.0.3) (2.4.0)\n",
            "Requirement already satisfied: wrapt~=1.12.1 in /usr/local/lib/python3.7/dist-packages (from tensorflow->ngdlm==0.0.3) (1.12.1)\n",
            "Requirement already satisfied: grpcio~=1.32.0 in /usr/local/lib/python3.7/dist-packages (from tensorflow->ngdlm==0.0.3) (1.32.0)\n",
            "Requirement already satisfied: gast==0.3.3 in /usr/local/lib/python3.7/dist-packages (from tensorflow->ngdlm==0.0.3) (0.3.3)\n",
            "Requirement already satisfied: google-pasta~=0.2 in /usr/local/lib/python3.7/dist-packages (from tensorflow->ngdlm==0.0.3) (0.2.0)\n",
            "Requirement already satisfied: typing-extensions~=3.7.4 in /usr/local/lib/python3.7/dist-packages (from tensorflow->ngdlm==0.0.3) (3.7.4.3)\n",
            "Requirement already satisfied: flatbuffers~=1.12.0 in /usr/local/lib/python3.7/dist-packages (from tensorflow->ngdlm==0.0.3) (1.12)\n",
            "Requirement already satisfied: tensorboard~=2.4 in /usr/local/lib/python3.7/dist-packages (from tensorflow->ngdlm==0.0.3) (2.4.1)\n",
            "Requirement already satisfied: cycler>=0.10 in /usr/local/lib/python3.7/dist-packages (from matplotlib->ngdlm==0.0.3) (0.10.0)\n",
            "Requirement already satisfied: python-dateutil>=2.1 in /usr/local/lib/python3.7/dist-packages (from matplotlib->ngdlm==0.0.3) (2.8.1)\n",
            "Requirement already satisfied: pyparsing!=2.0.4,!=2.1.2,!=2.1.6,>=2.0.1 in /usr/local/lib/python3.7/dist-packages (from matplotlib->ngdlm==0.0.3) (2.4.7)\n",
            "Requirement already satisfied: kiwisolver>=1.0.1 in /usr/local/lib/python3.7/dist-packages (from matplotlib->ngdlm==0.0.3) (1.3.1)\n",
            "Requirement already satisfied: setuptools in /usr/local/lib/python3.7/dist-packages (from protobuf>=3.9.2->tensorflow->ngdlm==0.0.3) (54.1.2)\n",
            "Requirement already satisfied: google-auth<2,>=1.6.3 in /usr/local/lib/python3.7/dist-packages (from tensorboard~=2.4->tensorflow->ngdlm==0.0.3) (1.27.1)\n",
            "Requirement already satisfied: tensorboard-plugin-wit>=1.6.0 in /usr/local/lib/python3.7/dist-packages (from tensorboard~=2.4->tensorflow->ngdlm==0.0.3) (1.8.0)\n",
            "Requirement already satisfied: requests<3,>=2.21.0 in /usr/local/lib/python3.7/dist-packages (from tensorboard~=2.4->tensorflow->ngdlm==0.0.3) (2.23.0)\n",
            "Requirement already satisfied: werkzeug>=0.11.15 in /usr/local/lib/python3.7/dist-packages (from tensorboard~=2.4->tensorflow->ngdlm==0.0.3) (1.0.1)\n",
            "Requirement already satisfied: google-auth-oauthlib<0.5,>=0.4.1 in /usr/local/lib/python3.7/dist-packages (from tensorboard~=2.4->tensorflow->ngdlm==0.0.3) (0.4.3)\n",
            "Requirement already satisfied: markdown>=2.6.8 in /usr/local/lib/python3.7/dist-packages (from tensorboard~=2.4->tensorflow->ngdlm==0.0.3) (3.3.4)\n",
            "Requirement already satisfied: cachetools<5.0,>=2.0.0 in /usr/local/lib/python3.7/dist-packages (from google-auth<2,>=1.6.3->tensorboard~=2.4->tensorflow->ngdlm==0.0.3) (4.2.1)\n",
            "Requirement already satisfied: pyasn1-modules>=0.2.1 in /usr/local/lib/python3.7/dist-packages (from google-auth<2,>=1.6.3->tensorboard~=2.4->tensorflow->ngdlm==0.0.3) (0.2.8)\n",
            "Requirement already satisfied: rsa<5,>=3.1.4; python_version >= \"3.6\" in /usr/local/lib/python3.7/dist-packages (from google-auth<2,>=1.6.3->tensorboard~=2.4->tensorflow->ngdlm==0.0.3) (4.7.2)\n",
            "Requirement already satisfied: idna<3,>=2.5 in /usr/local/lib/python3.7/dist-packages (from requests<3,>=2.21.0->tensorboard~=2.4->tensorflow->ngdlm==0.0.3) (2.10)\n",
            "Requirement already satisfied: urllib3!=1.25.0,!=1.25.1,<1.26,>=1.21.1 in /usr/local/lib/python3.7/dist-packages (from requests<3,>=2.21.0->tensorboard~=2.4->tensorflow->ngdlm==0.0.3) (1.24.3)\n",
            "Requirement already satisfied: certifi>=2017.4.17 in /usr/local/lib/python3.7/dist-packages (from requests<3,>=2.21.0->tensorboard~=2.4->tensorflow->ngdlm==0.0.3) (2020.12.5)\n",
            "Requirement already satisfied: chardet<4,>=3.0.2 in /usr/local/lib/python3.7/dist-packages (from requests<3,>=2.21.0->tensorboard~=2.4->tensorflow->ngdlm==0.0.3) (3.0.4)\n",
            "Requirement already satisfied: requests-oauthlib>=0.7.0 in /usr/local/lib/python3.7/dist-packages (from google-auth-oauthlib<0.5,>=0.4.1->tensorboard~=2.4->tensorflow->ngdlm==0.0.3) (1.3.0)\n",
            "Requirement already satisfied: importlib-metadata; python_version < \"3.8\" in /usr/local/lib/python3.7/dist-packages (from markdown>=2.6.8->tensorboard~=2.4->tensorflow->ngdlm==0.0.3) (3.7.2)\n",
            "Requirement already satisfied: pyasn1<0.5.0,>=0.4.6 in /usr/local/lib/python3.7/dist-packages (from pyasn1-modules>=0.2.1->google-auth<2,>=1.6.3->tensorboard~=2.4->tensorflow->ngdlm==0.0.3) (0.4.8)\n",
            "Requirement already satisfied: oauthlib>=3.0.0 in /usr/local/lib/python3.7/dist-packages (from requests-oauthlib>=0.7.0->google-auth-oauthlib<0.5,>=0.4.1->tensorboard~=2.4->tensorflow->ngdlm==0.0.3) (3.1.0)\n",
            "Requirement already satisfied: zipp>=0.5 in /usr/local/lib/python3.7/dist-packages (from importlib-metadata; python_version < \"3.8\"->markdown>=2.6.8->tensorboard~=2.4->tensorflow->ngdlm==0.0.3) (3.4.1)\n",
            "Building wheels for collected packages: ngdlm\n",
            "  Building wheel for ngdlm (setup.py) ... \u001b[?25l\u001b[?25hdone\n",
            "  Created wheel for ngdlm: filename=ngdlm-0.0.3-py2.py3-none-any.whl size=32027 sha256=34282a3e47327401b6b1948f6002f20caea00718a23f4254da4fb793632f9720\n",
            "  Stored in directory: /tmp/pip-ephem-wheel-cache-rab31rbw/wheels/93/06/27/e156acb49f475c364c3c9fa4ad4ab7bfa38808bff5bf9c4647\n",
            "Successfully built ngdlm\n",
            "Installing collected packages: ngdlm\n",
            "Successfully installed ngdlm-0.0.3\n"
          ],
          "name": "stdout"
        },
        {
          "output_type": "stream",
          "text": [
            "/usr/local/lib/python3.7/dist-packages/sklearn/externals/joblib/__init__.py:15: FutureWarning: sklearn.externals.joblib is deprecated in 0.21 and will be removed in 0.23. Please import this functionality directly from joblib, which can be installed with: pip install joblib. If this warning is raised when loading pickled models, you may need to re-serialize those models with scikit-learn 0.21+.\n",
            "  warnings.warn(msg, category=FutureWarning)\n"
          ],
          "name": "stderr"
        }
      ]
    },
    {
      "cell_type": "markdown",
      "metadata": {
        "id": "9fTJnTN9Hte0"
      },
      "source": [
        "# Mount Google Drive\n",
        "#### 1. First mount"
      ]
    },
    {
      "cell_type": "code",
      "metadata": {
        "colab": {
          "base_uri": "https://localhost:8080/"
        },
        "id": "0qhTQeB2upJN",
        "outputId": "c78fa6e1-e374-4984-fe63-2fe0cffa2ff6"
      },
      "source": [
        "from google.colab import drive\n",
        "drive.mount('/gdrive')\n",
        "%cd /gdrive/MyDrive/sound-of-failure"
      ],
      "execution_count": 2,
      "outputs": [
        {
          "output_type": "stream",
          "text": [
            "Mounted at /gdrive\n",
            "/gdrive/MyDrive/sound-of-failure\n"
          ],
          "name": "stdout"
        }
      ]
    },
    {
      "cell_type": "markdown",
      "metadata": {
        "id": "PGyZQ7M0t-py"
      },
      "source": [
        "#### 2. Remount"
      ]
    },
    {
      "cell_type": "code",
      "metadata": {
        "colab": {
          "base_uri": "https://localhost:8080/"
        },
        "id": "AeEkdLfFk-0e",
        "outputId": "82bcccf8-2a55-43a2-f101-9abf5d66ba7f"
      },
      "source": [
        "%cd ../../..\n",
        "drive.flush_and_unmount()\n",
        "drive.mount('/gdrive', force_remount=True)\n",
        "%cd /gdrive/My Drive/sound-of-failure"
      ],
      "execution_count": 3,
      "outputs": [
        {
          "output_type": "stream",
          "text": [
            "/\n",
            "Mounted at /gdrive\n",
            "/gdrive/My Drive/sound-of-failure\n"
          ],
          "name": "stdout"
        }
      ]
    },
    {
      "cell_type": "markdown",
      "metadata": {
        "id": "rrWBR69_IGJj"
      },
      "source": [
        "# Import Own Modules"
      ]
    },
    {
      "cell_type": "code",
      "metadata": {
        "id": "Xo7kKPNOIMz-"
      },
      "source": [
        "sys.path += ['src/01_data_processing', 'src/02_modelling', ]\n",
        "\n",
        "import spectrogram as spec\n",
        "import train_test_split as splt\n",
        "import train_model_autoencoder as train"
      ],
      "execution_count": 5,
      "outputs": []
    },
    {
      "cell_type": "markdown",
      "metadata": {
        "id": "nlIUwYBnSuOd"
      },
      "source": [
        "# Global constants"
      ]
    },
    {
      "cell_type": "markdown",
      "metadata": {
        "id": "PM7yY9Hte7AG"
      },
      "source": [
        "### First run the scripts for building the config files.\n",
        "\n",
        "Some of the parameters can be passed through the command line.\n",
        "At present the command line parameters are the following :\n",
        "\n",
        "1. conf_base.py : Script for building the base config file (saves in sound-of-failure/conf/conf_base.ini)\n",
        "        -raw : Pass the location of the raw data dir\n",
        "\n",
        "\n",
        "2. conf_convAE.py : Script for building the config file holding the parameters for Mel Spectrogram and Convolutional Autoencoder (saves in sound-of-failure/conf/make_conf_convAE.ini). Convolutional Autoencoders can be either Autoencoders or Variational Autoencoders.\n",
        "        -ae : AE or VAE\n",
        "        -mel : No. of mels\n",
        "        -fft : No. of FFT bands\n",
        "        -hop : Hop length for the sliding window while calculating FFT\n",
        "        -dim : Time dimension of one spectrogram block after chunking the whole spectrogram\n",
        "        -s : Step for the sliding window for creating chunks from one spectrogram\n"
      ]
    },
    {
      "cell_type": "markdown",
      "metadata": {
        "id": "HPc6UkH2tZQX"
      },
      "source": [
        "To check the description of the command line parameters one could activate the '-h' flag. For example :"
      ]
    },
    {
      "cell_type": "code",
      "metadata": {
        "colab": {
          "base_uri": "https://localhost:8080/"
        },
        "id": "QQkcCK8Ct3Lm",
        "outputId": "34e73432-ffeb-4ff1-8f33-ae8e0aebb901"
      },
      "source": [
        "%run /gdrive/MyDrive/sound-of-failure/src/00_utils/make_conf_convAE.py -h"
      ],
      "execution_count": 6,
      "outputs": [
        {
          "output_type": "stream",
          "text": [
            "usage: make_conf_convAE.py [-h] [-ae] [-mel] [-fft] [-hop] [-dim] [-s]\n",
            "\n",
            "Params for Spectrogram and Autoencoder (AE or VAE)\n",
            "\n",
            "optional arguments:\n",
            "  -h, --help            show this help message and exit\n",
            "  -ae , --ae            Type of Autoencoder (AE or VAE)\n",
            "  -mel , --n_mels       No. of mel bands\n",
            "  -fft , --n_fft        No. of FFT bands\n",
            "  -hop , --hop_length   Hop length for FFT calc\n",
            "  -dim , --dim          Time dimension of Spectrogram block\n",
            "  -s , --step           Sliding window step for Spectrogram chunking\n"
          ],
          "name": "stdout"
        }
      ]
    },
    {
      "cell_type": "markdown",
      "metadata": {
        "id": "gVxSOVRS0x-_"
      },
      "source": [
        "#### Note the change here : While running VAE we have to specify -ae to VAE in the command line. This ensures that the right config file is created (conf/conf_VAE.ini)."
      ]
    },
    {
      "cell_type": "code",
      "metadata": {
        "id": "A3Id9ote4biL"
      },
      "source": [
        "%run /gdrive/MyDrive/sound-of-failure/src/00_utils/make_conf_base.py -raw '/gdrive/MyDrive/Hitachi_data/dataset'\n",
        "%run /gdrive/MyDrive/sound-of-failure/src/00_utils/make_conf_convAE.py -ae VAE -mel 128 -fft 1024 -hop 512 -dim 32 -s 8"
      ],
      "execution_count": 7,
      "outputs": []
    },
    {
      "cell_type": "markdown",
      "metadata": {
        "id": "gNT43QWpf7Zo"
      },
      "source": [
        "### Then read from the config files\n",
        "\n",
        "There are two config files : \n",
        "\n",
        "1. sound-of-failure/conf/**conf_base**.ini\n",
        "2. sound-of-failure/conf/**conf_VAE**.ini"
      ]
    },
    {
      "cell_type": "markdown",
      "metadata": {
        "id": "HQUoVWzg0a2-"
      },
      "source": [
        "##### Note the change here : In normal Autoencoders the created config file is called conf_convAE.ini. Now is is called conf_VAE.ini."
      ]
    },
    {
      "cell_type": "code",
      "metadata": {
        "id": "ygPws2kf-gMS"
      },
      "source": [
        "base_conf = train.read_config('/gdrive/MyDrive/sound-of-failure/conf/conf_base.ini')\n",
        "param_conf = train.read_config('/gdrive/MyDrive/sound-of-failure/conf/conf_VAE.ini')"
      ],
      "execution_count": 8,
      "outputs": []
    },
    {
      "cell_type": "markdown",
      "metadata": {
        "id": "XhqKBfNNhzDG"
      },
      "source": [
        "#### Read the parameters directly from the config files\n",
        "\n",
        "Question : Should the reading of config files be done within notebooks or the source script should directly read from them?"
      ]
    },
    {
      "cell_type": "code",
      "metadata": {
        "id": "1YtgVox0-7b3"
      },
      "source": [
        "# Directories\n",
        "RAW_DATA_DIR = base_conf['directories']['raw_data_dir']\n",
        "BASE_DIR = base_conf['directories']['base_dir']\n",
        "\n",
        "\n",
        "# Mel spectrograms\n",
        "N_MELS = param_conf.getint('melspec', 'n_mels')\n",
        "N_FFT = param_conf.getint('melspec', 'n_fft')\n",
        "HOP_LENGTH = param_conf.getint('melspec', 'hop_length')\n",
        "POWER = param_conf.getfloat('melspec', 'power')\n",
        "WINDOW = param_conf.get('melspec', 'window')\n",
        "\n",
        "\n",
        "# Subsampling\n",
        "DIM = param_conf.getint('melspec', 'dim')\n",
        "STEP = param_conf.getint('melspec', 'step')\n",
        "\n",
        "\n",
        "# Scaler and cost function\n",
        "SCALER_TYPE = param_conf.get('model', 'scaler')\n",
        "LOSS = param_conf.get('model', 'loss')\n",
        "\n",
        "\n",
        "# Optimizer\n",
        "OPTIMIZER = param_conf.get('model', 'optimizer')\n",
        "EPOCHS = param_conf.getint('model', 'epochs')\n",
        "BATCH_SIZE = param_conf.getint('model', 'batch_size')\n",
        "VALIDATION_SPLIT = param_conf.getfloat('model', 'val_split')\n",
        "SHUFFLE = param_conf.getboolean('model', 'shuffle')\n",
        "\n",
        "\n",
        "# Autoencoder\n",
        "INPUT_SHAPE = (param_conf.getint('melspec', 'dim'),\n",
        "               param_conf.getint('melspec', 'n_mels'),\n",
        "               1)\n",
        "\n",
        "LATENT_DIM = param_conf.getint('autoencoder', 'latentdim')\n",
        "NUM_NODES = json.loads(param_conf.get('autoencoder', 'num_nodes'))\n",
        "NUM_KERNEL = json.loads(param_conf.get('autoencoder', 'num_kernel'))\n",
        "NUM_STRIDES = param_conf.get('autoencoder', 'num_strides')\n",
        "NUM_STRIDES = list(ast.literal_eval(NUM_STRIDES))\n",
        "\n",
        "\n",
        "# Data\n",
        "DB = param_conf.get('data', 'noise')\n",
        "MACHINE_TYPE = param_conf.get('data', 'machine')\n",
        "MACHINE_ID = param_conf.get('data', 'machine_id')"
      ],
      "execution_count": 9,
      "outputs": []
    },
    {
      "cell_type": "markdown",
      "metadata": {
        "id": "nNCFbJV8SAX1"
      },
      "source": [
        "# Execute preprocessing steps\n",
        "#### 1. Generate unscaled mel spectrograms (~ 5 minutes)"
      ]
    },
    {
      "cell_type": "code",
      "metadata": {
        "colab": {
          "base_uri": "https://localhost:8080/"
        },
        "id": "Dc0KZB_h9nwL",
        "outputId": "c7063061-6f79-4572-8fb6-642d42a33e62"
      },
      "source": [
        "spec.make_mel_dirs(BASE_DIR, DB, MACHINE_TYPE, MACHINE_ID)\n",
        "\n",
        "spec.make_mels(RAW_DATA_DIR, BASE_DIR, \n",
        "               DB, MACHINE_TYPE, MACHINE_ID, \n",
        "               N_MELS, N_FFT, HOP_LENGTH, POWER, WINDOW)"
      ],
      "execution_count": 10,
      "outputs": [
        {
          "output_type": "stream",
          "text": [
            "Generate normal spectrograms and save to /gdrive/MyDrive/sound-of-failure/data/mel_spectrograms/6dB/valve/id_00/normal.\n",
            "Generate abnormal spectrograms and save to /gdrive/MyDrive/sound-of-failure/data/mel_spectrograms/6dB/valve/id_00/abnormal.\n"
          ],
          "name": "stdout"
        }
      ]
    },
    {
      "cell_type": "markdown",
      "metadata": {
        "id": "9cFvil9_SMTt"
      },
      "source": [
        "#### 2. Separate train and test files"
      ]
    },
    {
      "cell_type": "code",
      "metadata": {
        "id": "77iQhf4K9n33"
      },
      "source": [
        "train_files, train_labels, test_files, test_labels = splt.make_train_test_split(BASE_DIR, \n",
        "                                                                           DB, MACHINE_TYPE, MACHINE_ID, \n",
        "                                                                           random_seed=1)"
      ],
      "execution_count": 11,
      "outputs": []
    },
    {
      "cell_type": "markdown",
      "metadata": {
        "id": "VQ4hNFi5SWK5"
      },
      "source": [
        "#### 3. Fit scaler to train files"
      ]
    },
    {
      "cell_type": "markdown",
      "metadata": {
        "id": "aZxJV_ediUP1"
      },
      "source": [
        "#### 3.1 Plot an example spectrogram\n",
        "\n",
        "Just a sanity check"
      ]
    },
    {
      "cell_type": "code",
      "metadata": {
        "colab": {
          "base_uri": "https://localhost:8080/",
          "height": 295
        },
        "id": "Q6_eI568XV3m",
        "outputId": "9eaf0989-41be-4097-8e6e-40bf3cb62b4d"
      },
      "source": [
        "spect = np.load('/gdrive/MyDrive/sound-of-failure/data/mel_spectrograms/6dB/valve/id_00/normal/00000990.npy')\n",
        "\n",
        "fig, ax = plt.subplots()\n",
        "plt.title(\"Example spectrogram \")\n",
        "img = ld.specshow(spect, \n",
        "                    x_axis='time', \n",
        "                    y_axis='mel', \n",
        "                    sr=16000, \n",
        "                    fmax=8000, \n",
        "                    ax=ax)\n",
        "\n",
        "fig.colorbar(img, ax=ax)\n",
        "plt.show()\n",
        "plt.close()"
      ],
      "execution_count": 12,
      "outputs": [
        {
          "output_type": "display_data",
          "data": {
            "image/png": "[encoded data removed]",
            "text/plain": [
              "<Figure size 432x288 with 2 Axes>"
            ]
          },
          "metadata": {
            "tags": [],
            "needs_background": "light"
          }
        }
      ]
    },
    {
      "cell_type": "code",
      "metadata": {
        "id": "cXQ_834-9n7y"
      },
      "source": [
        "scaler = spec.create_scaler(SCALER_TYPE)\n",
        "spec.fit_scaler_to_mel_files(scaler, train_files)"
      ],
      "execution_count": 13,
      "outputs": []
    },
    {
      "cell_type": "markdown",
      "metadata": {
        "id": "MsHNzTQESepd"
      },
      "source": [
        "#### 4. Generate training data from scaling and subsampling mel spectrograms"
      ]
    },
    {
      "cell_type": "code",
      "metadata": {
        "id": "behp3UQGDDz7"
      },
      "source": [
        "train_data = splt.generate_train_data(train_files, scaler, DIM, STEP)"
      ],
      "execution_count": 14,
      "outputs": []
    },
    {
      "cell_type": "code",
      "metadata": {
        "colab": {
          "base_uri": "https://localhost:8080/"
        },
        "id": "i8XIS0EWHMBT",
        "outputId": "cae6ffe6-04c2-4b6d-f8d9-1685a0fd776b"
      },
      "source": [
        "train_data.shape"
      ],
      "execution_count": 15,
      "outputs": [
        {
          "output_type": "execute_result",
          "data": {
            "text/plain": [
              "(32264, 32, 128, 1)"
            ]
          },
          "metadata": {
            "tags": []
          },
          "execution_count": 15
        }
      ]
    },
    {
      "cell_type": "markdown",
      "metadata": {
        "id": "J6VStMg7VFDj"
      },
      "source": [
        "# Modelling"
      ]
    },
    {
      "cell_type": "markdown",
      "metadata": {
        "id": "LlzbhcxnYubl"
      },
      "source": [
        "### Build Variational Autoencoder\n",
        "\n",
        "While training a new model the model should be called fresh from `train/load_new_model`. \n",
        "\n",
        "For prediction or model evaluation, one should call `train/load_saved_model`\n",
        "\n"
      ]
    },
    {
      "cell_type": "code",
      "metadata": {
        "colab": {
          "base_uri": "https://localhost:8080/"
        },
        "id": "URd_-ubwHMM9",
        "outputId": "dc4eceee-f135-4785-d9a2-4fda4747d755"
      },
      "source": [
        "my_model = train.load_new_model(model_name='VAE',\n",
        "                                input_shape=INPUT_SHAPE,\n",
        "                                num_nodes=NUM_NODES,\n",
        "                                num_kernel=NUM_KERNEL,\n",
        "                                num_strides=NUM_STRIDES,\n",
        "                                latent_dim=LATENT_DIM)\n",
        "\n",
        "print(my_model.summary())"
      ],
      "execution_count": 16,
      "outputs": [
        {
          "output_type": "stream",
          "text": [
            "Encoder:\n",
            "Model: \"encoder\"\n",
            "__________________________________________________________________________________________________\n",
            "Layer (type)                    Output Shape         Param #     Connected to                     \n",
            "==================================================================================================\n",
            "encoder_input (InputLayer)      [(None, 32, 128, 1)] 0                                            \n",
            "__________________________________________________________________________________________________\n",
            "conv_enc0 (Conv2D)              (None, 32, 64, 32)   832         encoder_input[0][0]              \n",
            "__________________________________________________________________________________________________\n",
            "batchnorm_enc0 (BatchNormalizat (None, 32, 64, 32)   128         conv_enc0[0][0]                  \n",
            "__________________________________________________________________________________________________\n",
            "relu_enc0 (ReLU)                (None, 32, 64, 32)   0           batchnorm_enc0[0][0]             \n",
            "__________________________________________________________________________________________________\n",
            "conv_enc1 (Conv2D)              (None, 16, 32, 64)   51264       relu_enc0[0][0]                  \n",
            "__________________________________________________________________________________________________\n",
            "batchnorm_enc1 (BatchNormalizat (None, 16, 32, 64)   256         conv_enc1[0][0]                  \n",
            "__________________________________________________________________________________________________\n",
            "relu_enc1 (ReLU)                (None, 16, 32, 64)   0           batchnorm_enc1[0][0]             \n",
            "__________________________________________________________________________________________________\n",
            "conv_enc2 (Conv2D)              (None, 8, 16, 128)   73856       relu_enc1[0][0]                  \n",
            "__________________________________________________________________________________________________\n",
            "batchnorm_enc2 (BatchNormalizat (None, 8, 16, 128)   512         conv_enc2[0][0]                  \n",
            "__________________________________________________________________________________________________\n",
            "relu_enc2 (ReLU)                (None, 8, 16, 128)   0           batchnorm_enc2[0][0]             \n",
            "__________________________________________________________________________________________________\n",
            "conv_enc3 (Conv2D)              (None, 8, 8, 256)    295168      relu_enc2[0][0]                  \n",
            "__________________________________________________________________________________________________\n",
            "batchnorm_enc3 (BatchNormalizat (None, 8, 8, 256)    1024        conv_enc3[0][0]                  \n",
            "__________________________________________________________________________________________________\n",
            "relu_enc3 (ReLU)                (None, 8, 8, 256)    0           batchnorm_enc3[0][0]             \n",
            "__________________________________________________________________________________________________\n",
            "flatten_enc (Flatten)           (None, 16384)        0           relu_enc3[0][0]                  \n",
            "__________________________________________________________________________________________________\n",
            "latent_enc (Dense)              (None, 20)           327700      flatten_enc[0][0]                \n",
            "__________________________________________________________________________________________________\n",
            "z_mean (Dense)                  (None, 20)           420         latent_enc[0][0]                 \n",
            "__________________________________________________________________________________________________\n",
            "z_log_var (Dense)               (None, 20)           420         latent_enc[0][0]                 \n",
            "__________________________________________________________________________________________________\n",
            "z (Lambda)                      (None, 20)           0           z_mean[0][0]                     \n",
            "                                                                 z_log_var[0][0]                  \n",
            "==================================================================================================\n",
            "Total params: 751,580\n",
            "Trainable params: 750,620\n",
            "Non-trainable params: 960\n",
            "__________________________________________________________________________________________________\n",
            "Decoder:\n",
            "Model: \"decoder\"\n",
            "_________________________________________________________________\n",
            "Layer (type)                 Output Shape              Param #   \n",
            "=================================================================\n",
            "decoder_input (InputLayer)   [(None, 20)]              0         \n",
            "_________________________________________________________________\n",
            "dense_dec (Dense)            (None, 16384)             344064    \n",
            "_________________________________________________________________\n",
            "reshape_dec (Reshape)        (None, 8, 8, 256)         0         \n",
            "_________________________________________________________________\n",
            "convTranspose_dec2 (Conv2DTr (None, 8, 16, 128)        295040    \n",
            "_________________________________________________________________\n",
            "batchnorm_dec2 (BatchNormali (None, 8, 16, 128)        512       \n",
            "_________________________________________________________________\n",
            "relu_dec2 (ReLU)             (None, 8, 16, 128)        0         \n",
            "_________________________________________________________________\n",
            "convTranspose_dec1 (Conv2DTr (None, 16, 32, 64)        204864    \n",
            "_________________________________________________________________\n",
            "batchnorm_dec1 (BatchNormali (None, 16, 32, 64)        256       \n",
            "_________________________________________________________________\n",
            "relu_dec1 (ReLU)             (None, 16, 32, 64)        0         \n",
            "_________________________________________________________________\n",
            "convTranspose_dec0 (Conv2DTr (None, 32, 64, 32)        51232     \n",
            "_________________________________________________________________\n",
            "batchnorm_dec0 (BatchNormali (None, 32, 64, 32)        128       \n",
            "_________________________________________________________________\n",
            "relu_dec0 (ReLU)             (None, 32, 64, 32)        0         \n",
            "_________________________________________________________________\n",
            "output_dec (Conv2DTranspose) (None, 32, 128, 1)        801       \n",
            "=================================================================\n",
            "Total params: 896,897\n",
            "Trainable params: 896,449\n",
            "Non-trainable params: 448\n",
            "_________________________________________________________________\n",
            "Autoencoder:\n",
            "Model: \"vae\"\n",
            "_________________________________________________________________\n",
            "Layer (type)                 Output Shape              Param #   \n",
            "=================================================================\n",
            "encoder_input (InputLayer)   [(None, 32, 128, 1)]      0         \n",
            "_________________________________________________________________\n",
            "encoder (Functional)         [(None, 20), (None, 20),  751580    \n",
            "_________________________________________________________________\n",
            "decoder (Functional)         (None, 32, 128, 1)        896897    \n",
            "=================================================================\n",
            "Total params: 1,648,477\n",
            "Trainable params: 1,647,069\n",
            "Non-trainable params: 1,408\n",
            "_________________________________________________________________\n",
            "None\n"
          ],
          "name": "stdout"
        }
      ]
    },
    {
      "cell_type": "markdown",
      "metadata": {
        "id": "fHHvxZD8R5Oh"
      },
      "source": [
        "#### NOTE THE CHANGE : \n",
        "    1. `train.compile_model`: Now the model is compiled with a learning rate that can be specified by the user. Currently three optimizers can be chosen:\n",
        "      -Adam\n",
        "      -RMSprop\n",
        "      -SGD\n",
        "\n",
        "    2. train.train_model: In the model training there are two options:\n",
        "      A. Train with callbacks: If callback=True, then EarlyStopping and ModelCheckpoint is enabled. In that case a patience and a path to save the best model must be specified.\n",
        "      B. Train without callbacks: Set callback=False in that case. No EarlyStopping and also the best model will not be saved.\n",
        "\n",
        "\n",
        "\n"
      ]
    },
    {
      "cell_type": "code",
      "metadata": {
        "id": "c1wcjHHIVC-Q",
        "colab": {
          "base_uri": "https://localhost:8080/",
          "height": 1000
        },
        "outputId": "7ec31107-6504-4c40-9fd0-5515c3ddb913"
      },
      "source": [
        "# Compile model\n",
        "train.compile_model(model=my_model, \n",
        "              optimizer=OPTIMIZER, \n",
        "              loss=LOSS, \n",
        "              learning_rate=0.001)\n",
        "\n",
        "# Train model\n",
        "history = train.train_model(model=my_model,\n",
        "          train_data=train_data,\n",
        "          epochs=EPOCHS,\n",
        "          batch_size=BATCH_SIZE,\n",
        "          validation_split=VALIDATION_SPLIT,\n",
        "          shuffle=SHUFFLE,\n",
        "          callback=True,\n",
        "          patience=15,\n",
        "          model_outdir='/gdrive/MyDrive/sound-of-failure/models/00_trial_VAE.hdf5')\n",
        "\n",
        "# Plot model history\n",
        "train.plot_train_history(history)"
      ],
      "execution_count": 17,
      "outputs": [
        {
          "output_type": "stream",
          "text": [
            "Train on 29037 samples, validate on 3227 samples\n",
            "Epoch 1/30\n",
            "29037/29037 [==============================] - ETA: 0s - loss: 8.7334"
          ],
          "name": "stdout"
        },
        {
          "output_type": "stream",
          "text": [
            "/usr/local/lib/python3.7/dist-packages/tensorflow/python/keras/engine/training.py:2325: UserWarning: `Model.state_updates` will be removed in a future version. This property should not be used in TensorFlow 2.0, as `updates` are applied automatically.\n",
            "  warnings.warn('`Model.state_updates` will be removed in a future version. '\n"
          ],
          "name": "stderr"
        },
        {
          "output_type": "stream",
          "text": [
            "\n",
            "Epoch 00001: val_loss improved from inf to 0.20029, saving model to /gdrive/MyDrive/sound-of-failure/models/00_trial_VAE.hdf5\n",
            "29037/29037 [==============================] - 65s 2ms/sample - loss: 8.7334 - val_loss: 0.2003\n",
            "Epoch 2/30\n",
            "28992/29037 [============================>.] - ETA: 0s - loss: 0.1683\n",
            "Epoch 00002: val_loss improved from 0.20029 to 0.14857, saving model to /gdrive/MyDrive/sound-of-failure/models/00_trial_VAE.hdf5\n",
            "29037/29037 [==============================] - 27s 940us/sample - loss: 0.1683 - val_loss: 0.1486\n",
            "Epoch 3/30\n",
            "28992/29037 [============================>.] - ETA: 0s - loss: 0.1442\n",
            "Epoch 00003: val_loss improved from 0.14857 to 0.14207, saving model to /gdrive/MyDrive/sound-of-failure/models/00_trial_VAE.hdf5\n",
            "29037/29037 [==============================] - 28s 954us/sample - loss: 0.1441 - val_loss: 0.1421\n",
            "Epoch 4/30\n",
            "28992/29037 [============================>.] - ETA: 0s - loss: 0.1331\n",
            "Epoch 00004: val_loss improved from 0.14207 to 0.12997, saving model to /gdrive/MyDrive/sound-of-failure/models/00_trial_VAE.hdf5\n",
            "29037/29037 [==============================] - 28s 974us/sample - loss: 0.1331 - val_loss: 0.1300\n",
            "Epoch 5/30\n",
            "28992/29037 [============================>.] - ETA: 0s - loss: 0.1260\n",
            "Epoch 00005: val_loss improved from 0.12997 to 0.12375, saving model to /gdrive/MyDrive/sound-of-failure/models/00_trial_VAE.hdf5\n",
            "29037/29037 [==============================] - 28s 970us/sample - loss: 0.1259 - val_loss: 0.1237\n",
            "Epoch 6/30\n",
            "28992/29037 [============================>.] - ETA: 0s - loss: 0.1210\n",
            "Epoch 00006: val_loss improved from 0.12375 to 0.12147, saving model to /gdrive/MyDrive/sound-of-failure/models/00_trial_VAE.hdf5\n",
            "29037/29037 [==============================] - 28s 954us/sample - loss: 0.1210 - val_loss: 0.1215\n",
            "Epoch 7/30\n",
            "29037/29037 [==============================] - ETA: 0s - loss: 0.1178\n",
            "Epoch 00007: val_loss improved from 0.12147 to 0.11753, saving model to /gdrive/MyDrive/sound-of-failure/models/00_trial_VAE.hdf5\n",
            "29037/29037 [==============================] - 28s 964us/sample - loss: 0.1178 - val_loss: 0.1175\n",
            "Epoch 8/30\n",
            "28992/29037 [============================>.] - ETA: 0s - loss: 0.1145\n",
            "Epoch 00008: val_loss did not improve from 0.11753\n",
            "29037/29037 [==============================] - 27s 946us/sample - loss: 0.1145 - val_loss: 0.1199\n",
            "Epoch 9/30\n",
            "28992/29037 [============================>.] - ETA: 0s - loss: 0.1118\n",
            "Epoch 00009: val_loss improved from 0.11753 to 0.11449, saving model to /gdrive/MyDrive/sound-of-failure/models/00_trial_VAE.hdf5\n",
            "29037/29037 [==============================] - 28s 956us/sample - loss: 0.1118 - val_loss: 0.1145\n",
            "Epoch 10/30\n",
            "28992/29037 [============================>.] - ETA: 0s - loss: 0.1090\n",
            "Epoch 00010: val_loss improved from 0.11449 to 0.11065, saving model to /gdrive/MyDrive/sound-of-failure/models/00_trial_VAE.hdf5\n",
            "29037/29037 [==============================] - 28s 959us/sample - loss: 0.1090 - val_loss: 0.1106\n",
            "Epoch 11/30\n",
            "28992/29037 [============================>.] - ETA: 0s - loss: 0.1068\n",
            "Epoch 00011: val_loss did not improve from 0.11065\n",
            "29037/29037 [==============================] - 27s 944us/sample - loss: 0.1068 - val_loss: 0.1110\n",
            "Epoch 12/30\n",
            "28992/29037 [============================>.] - ETA: 0s - loss: 0.1051\n",
            "Epoch 00012: val_loss improved from 0.11065 to 0.10678, saving model to /gdrive/MyDrive/sound-of-failure/models/00_trial_VAE.hdf5\n",
            "29037/29037 [==============================] - 28s 959us/sample - loss: 0.1051 - val_loss: 0.1068\n",
            "Epoch 13/30\n",
            "28992/29037 [============================>.] - ETA: 0s - loss: 0.1026\n",
            "Epoch 00013: val_loss improved from 0.10678 to 0.10617, saving model to /gdrive/MyDrive/sound-of-failure/models/00_trial_VAE.hdf5\n",
            "29037/29037 [==============================] - 28s 960us/sample - loss: 0.1026 - val_loss: 0.1062\n",
            "Epoch 14/30\n",
            "28992/29037 [============================>.] - ETA: 0s - loss: 0.1004\n",
            "Epoch 00014: val_loss improved from 0.10617 to 0.10401, saving model to /gdrive/MyDrive/sound-of-failure/models/00_trial_VAE.hdf5\n",
            "29037/29037 [==============================] - 28s 959us/sample - loss: 0.1004 - val_loss: 0.1040\n",
            "Epoch 15/30\n",
            "28992/29037 [============================>.] - ETA: 0s - loss: 0.0986\n",
            "Epoch 00015: val_loss improved from 0.10401 to 0.10324, saving model to /gdrive/MyDrive/sound-of-failure/models/00_trial_VAE.hdf5\n",
            "29037/29037 [==============================] - 28s 958us/sample - loss: 0.0986 - val_loss: 0.1032\n",
            "Epoch 16/30\n",
            "28992/29037 [============================>.] - ETA: 0s - loss: 0.0961\n",
            "Epoch 00016: val_loss improved from 0.10324 to 0.09979, saving model to /gdrive/MyDrive/sound-of-failure/models/00_trial_VAE.hdf5\n",
            "29037/29037 [==============================] - 28s 959us/sample - loss: 0.0961 - val_loss: 0.0998\n",
            "Epoch 17/30\n",
            "28992/29037 [============================>.] - ETA: 0s - loss: 0.0931\n",
            "Epoch 00017: val_loss improved from 0.09979 to 0.09766, saving model to /gdrive/MyDrive/sound-of-failure/models/00_trial_VAE.hdf5\n",
            "29037/29037 [==============================] - 28s 959us/sample - loss: 0.0931 - val_loss: 0.0977\n",
            "Epoch 18/30\n",
            "28992/29037 [============================>.] - ETA: 0s - loss: 0.0902\n",
            "Epoch 00018: val_loss improved from 0.09766 to 0.09291, saving model to /gdrive/MyDrive/sound-of-failure/models/00_trial_VAE.hdf5\n",
            "29037/29037 [==============================] - 28s 960us/sample - loss: 0.0902 - val_loss: 0.0929\n",
            "Epoch 19/30\n",
            "28992/29037 [============================>.] - ETA: 0s - loss: 0.0871\n",
            "Epoch 00019: val_loss improved from 0.09291 to 0.09117, saving model to /gdrive/MyDrive/sound-of-failure/models/00_trial_VAE.hdf5\n",
            "29037/29037 [==============================] - 28s 960us/sample - loss: 0.0871 - val_loss: 0.0912\n",
            "Epoch 20/30\n",
            "28992/29037 [============================>.] - ETA: 0s - loss: 0.0851\n",
            "Epoch 00020: val_loss improved from 0.09117 to 0.08918, saving model to /gdrive/MyDrive/sound-of-failure/models/00_trial_VAE.hdf5\n",
            "29037/29037 [==============================] - 28s 958us/sample - loss: 0.0851 - val_loss: 0.0892\n",
            "Epoch 21/30\n",
            "28992/29037 [============================>.] - ETA: 0s - loss: 0.0837\n",
            "Epoch 00021: val_loss improved from 0.08918 to 0.08824, saving model to /gdrive/MyDrive/sound-of-failure/models/00_trial_VAE.hdf5\n",
            "29037/29037 [==============================] - 28s 962us/sample - loss: 0.0837 - val_loss: 0.0882\n",
            "Epoch 22/30\n",
            "28992/29037 [============================>.] - ETA: 0s - loss: 0.0827\n",
            "Epoch 00022: val_loss improved from 0.08824 to 0.08817, saving model to /gdrive/MyDrive/sound-of-failure/models/00_trial_VAE.hdf5\n",
            "29037/29037 [==============================] - 28s 961us/sample - loss: 0.0827 - val_loss: 0.0882\n",
            "Epoch 23/30\n",
            "28992/29037 [============================>.] - ETA: 0s - loss: 0.0818\n",
            "Epoch 00023: val_loss improved from 0.08817 to 0.08679, saving model to /gdrive/MyDrive/sound-of-failure/models/00_trial_VAE.hdf5\n",
            "29037/29037 [==============================] - 28s 956us/sample - loss: 0.0818 - val_loss: 0.0868\n",
            "Epoch 24/30\n",
            "28992/29037 [============================>.] - ETA: 0s - loss: 0.0814\n",
            "Epoch 00024: val_loss improved from 0.08679 to 0.08632, saving model to /gdrive/MyDrive/sound-of-failure/models/00_trial_VAE.hdf5\n",
            "29037/29037 [==============================] - 28s 962us/sample - loss: 0.0814 - val_loss: 0.0863\n",
            "Epoch 25/30\n",
            "28992/29037 [============================>.] - ETA: 0s - loss: 0.0807\n",
            "Epoch 00025: val_loss did not improve from 0.08632\n",
            "29037/29037 [==============================] - 27s 945us/sample - loss: 0.0807 - val_loss: 0.0874\n",
            "Epoch 26/30\n",
            "28992/29037 [============================>.] - ETA: 0s - loss: 0.0802\n",
            "Epoch 00026: val_loss improved from 0.08632 to 0.08558, saving model to /gdrive/MyDrive/sound-of-failure/models/00_trial_VAE.hdf5\n",
            "29037/29037 [==============================] - 28s 960us/sample - loss: 0.0802 - val_loss: 0.0856\n",
            "Epoch 27/30\n",
            "28992/29037 [============================>.] - ETA: 0s - loss: 0.0800\n",
            "Epoch 00027: val_loss improved from 0.08558 to 0.08493, saving model to /gdrive/MyDrive/sound-of-failure/models/00_trial_VAE.hdf5\n",
            "29037/29037 [==============================] - 28s 959us/sample - loss: 0.0800 - val_loss: 0.0849\n",
            "Epoch 28/30\n",
            "28992/29037 [============================>.] - ETA: 0s - loss: 0.0795\n",
            "Epoch 00028: val_loss did not improve from 0.08493\n",
            "29037/29037 [==============================] - 27s 946us/sample - loss: 0.0795 - val_loss: 0.0877\n",
            "Epoch 29/30\n",
            "28992/29037 [============================>.] - ETA: 0s - loss: 0.0793\n",
            "Epoch 00029: val_loss did not improve from 0.08493\n",
            "29037/29037 [==============================] - 27s 945us/sample - loss: 0.0793 - val_loss: 0.0855\n",
            "Epoch 30/30\n",
            "28992/29037 [============================>.] - ETA: 0s - loss: 0.0789\n",
            "Epoch 00030: val_loss did not improve from 0.08493\n",
            "29037/29037 [==============================] - 27s 947us/sample - loss: 0.0789 - val_loss: 0.0854\n"
          ],
          "name": "stdout"
        },
        {
          "output_type": "display_data",
          "data": {
            "image/png": "[encoded data removed]",
            "text/plain": [
              "<Figure size 432x432 with 1 Axes>"
            ]
          },
          "metadata": {
            "tags": [],
            "needs_background": "light"
          }
        }
      ]
    },
    {
      "cell_type": "markdown",
      "metadata": {
        "id": "k6wRA8FTq9N3"
      },
      "source": [
        "# Evaluation : Reconstruction error and ROC AUC score"
      ]
    },
    {
      "cell_type": "code",
      "metadata": {
        "id": "mEQPtwLAq8B9",
        "colab": {
          "base_uri": "https://localhost:8080/"
        },
        "outputId": "2f92ba91-628f-4347-88f4-ce6496f196fc"
      },
      "source": [
        "saved_model = train.load_saved_model('/gdrive/MyDrive/sound-of-failure/models/00_trial_VAE.hdf5')\n",
        "\n",
        "y_pred = np.zeros(len(test_files))\n",
        "y_true = test_labels\n",
        "\n",
        "for idx, test_file in tqdm.tqdm(enumerate(test_files), total=len(test_files)):\n",
        "  #print(\"File no.={}, location={}, label={}\".format(idx, test_file, test_label))\n",
        "\n",
        "  mel = np.load(test_file)\n",
        "\n",
        "  scaled_mel = spec.apply_scaler_to_mel(scaler, mel)\n",
        "\n",
        "  batch = splt.subsample_from_mel(scaled_mel, DIM, STEP)\n",
        "\n",
        "  batch_prediction = saved_model.predict(batch)\n",
        "\n",
        "  squared_error = np.square(batch - batch_prediction)\n",
        "  channelwise_error = np.mean(squared_error, axis=-1)\n",
        "  reconstruction_error = np.mean(channelwise_error)\n",
        "\n",
        "  y_pred[idx] = reconstruction_error\n",
        "\n",
        "\n",
        "auc_score = metrics.roc_auc_score(y_true, y_pred)\n",
        "print(\"Roc AUC score={}\".format(auc_score))"
      ],
      "execution_count": 18,
      "outputs": [
        {
          "output_type": "stream",
          "text": [
            "\r  0%|          | 0/238 [00:00<?, ?it/s]/usr/local/lib/python3.7/dist-packages/tensorflow/python/keras/engine/training.py:2325: UserWarning: `Model.state_updates` will be removed in a future version. This property should not be used in TensorFlow 2.0, as `updates` are applied automatically.\n",
            "  warnings.warn('`Model.state_updates` will be removed in a future version. '\n",
            "100%|██████████| 238/238 [00:04<00:00, 55.29it/s]"
          ],
          "name": "stderr"
        },
        {
          "output_type": "stream",
          "text": [
            "Roc AUC score=0.8916743167855378\n"
          ],
          "name": "stdout"
        },
        {
          "output_type": "stream",
          "text": [
            "\n"
          ],
          "name": "stderr"
        }
      ]
    },
    {
      "cell_type": "code",
      "metadata": {
        "id": "3afvtoaS9oYd"
      },
      "source": [
        ""
      ],
      "execution_count": 18,
      "outputs": []
    }
  ]
}