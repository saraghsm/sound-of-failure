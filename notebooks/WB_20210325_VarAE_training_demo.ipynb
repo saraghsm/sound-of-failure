{
  "nbformat": 4,
  "nbformat_minor": 0,
  "metadata": {
    "accelerator": "GPU",
    "colab": {
      "name": "WB_20210325_VarAE_training_demo.ipynb",
      "provenance": [],
      "collapsed_sections": [],
      "machine_shape": "hm"
    },
    "kernelspec": {
      "display_name": "Python 3",
      "name": "python3"
    }
  },
  "cells": [
    {
      "cell_type": "markdown",
      "metadata": {
        "id": "Mv8aAIa0HcMf"
      },
      "source": [
        "# Import Packages"
      ]
    },
    {
      "cell_type": "code",
      "metadata": {
        "colab": {
          "base_uri": "https://localhost:8080/"
        },
        "id": "N4YWwxNTHbi2",
        "outputId": "bed27fd4-d32b-4fb8-e79b-c0fef7e7d955"
      },
      "source": [
        "import sys\n",
        "import os\n",
        "import shutil\n",
        "import librosa\n",
        "import glob\n",
        "import tqdm\n",
        "import json\n",
        "import ast\n",
        "import random\n",
        "\n",
        "from librosa import display as ld\n",
        "\n",
        "import tensorflow as tf\n",
        "from tensorflow.keras.models import Model\n",
        "from tensorflow.keras import layers\n",
        "from tensorflow.keras import backend as K\n",
        "\n",
        "!pip install git+https://github.com/AI-Guru/ngdlm.git\n",
        "tf.compat.v1.disable_eager_execution()\n",
        "\n",
        "from sklearn.preprocessing import StandardScaler\n",
        "from sklearn.externals.joblib import load, dump\n",
        "from sklearn import metrics\n",
        "from sklearn.preprocessing import StandardScaler, MinMaxScaler\n",
        "\n",
        "from IPython import display as ipd\n",
        "import numpy as np\n",
        "import matplotlib.pyplot as plt\n",
        "import seaborn as sns\n",
        "\n",
        "import joblib\n",
        "from configparser import ConfigParser"
      ],
      "execution_count": 1,
      "outputs": [
        {
          "output_type": "stream",
          "text": [
            "Collecting git+https://github.com/AI-Guru/ngdlm.git\n",
            "  Cloning https://github.com/AI-Guru/ngdlm.git to /tmp/pip-req-build-dbr9c72_\n",
            "  Running command git clone -q https://github.com/AI-Guru/ngdlm.git /tmp/pip-req-build-dbr9c72_\n",
            "Requirement already satisfied (use --upgrade to upgrade): ngdlm==0.0.3 from git+https://github.com/AI-Guru/ngdlm.git in /usr/local/lib/python3.7/dist-packages\n",
            "Requirement already satisfied: keras in /usr/local/lib/python3.7/dist-packages (from ngdlm==0.0.3) (2.4.3)\n",
            "Requirement already satisfied: tensorflow in /usr/local/lib/python3.7/dist-packages (from ngdlm==0.0.3) (2.4.1)\n",
            "Requirement already satisfied: matplotlib in /usr/local/lib/python3.7/dist-packages (from ngdlm==0.0.3) (3.2.2)\n",
            "Requirement already satisfied: numpy>=1.9.1 in /usr/local/lib/python3.7/dist-packages (from keras->ngdlm==0.0.3) (1.19.5)\n",
            "Requirement already satisfied: scipy>=0.14 in /usr/local/lib/python3.7/dist-packages (from keras->ngdlm==0.0.3) (1.4.1)\n",
            "Requirement already satisfied: h5py in /usr/local/lib/python3.7/dist-packages (from keras->ngdlm==0.0.3) (2.10.0)\n",
            "Requirement already satisfied: pyyaml in /usr/local/lib/python3.7/dist-packages (from keras->ngdlm==0.0.3) (3.13)\n",
            "Requirement already satisfied: termcolor~=1.1.0 in /usr/local/lib/python3.7/dist-packages (from tensorflow->ngdlm==0.0.3) (1.1.0)\n",
            "Requirement already satisfied: tensorboard~=2.4 in /usr/local/lib/python3.7/dist-packages (from tensorflow->ngdlm==0.0.3) (2.4.1)\n",
            "Requirement already satisfied: tensorflow-estimator<2.5.0,>=2.4.0 in /usr/local/lib/python3.7/dist-packages (from tensorflow->ngdlm==0.0.3) (2.4.0)\n",
            "Requirement already satisfied: wheel~=0.35 in /usr/local/lib/python3.7/dist-packages (from tensorflow->ngdlm==0.0.3) (0.36.2)\n",
            "Requirement already satisfied: typing-extensions~=3.7.4 in /usr/local/lib/python3.7/dist-packages (from tensorflow->ngdlm==0.0.3) (3.7.4.3)\n",
            "Requirement already satisfied: astunparse~=1.6.3 in /usr/local/lib/python3.7/dist-packages (from tensorflow->ngdlm==0.0.3) (1.6.3)\n",
            "Requirement already satisfied: absl-py~=0.10 in /usr/local/lib/python3.7/dist-packages (from tensorflow->ngdlm==0.0.3) (0.10.0)\n",
            "Requirement already satisfied: opt-einsum~=3.3.0 in /usr/local/lib/python3.7/dist-packages (from tensorflow->ngdlm==0.0.3) (3.3.0)\n",
            "Requirement already satisfied: protobuf>=3.9.2 in /usr/local/lib/python3.7/dist-packages (from tensorflow->ngdlm==0.0.3) (3.12.4)\n",
            "Requirement already satisfied: keras-preprocessing~=1.1.2 in /usr/local/lib/python3.7/dist-packages (from tensorflow->ngdlm==0.0.3) (1.1.2)\n",
            "Requirement already satisfied: grpcio~=1.32.0 in /usr/local/lib/python3.7/dist-packages (from tensorflow->ngdlm==0.0.3) (1.32.0)\n",
            "Requirement already satisfied: six~=1.15.0 in /usr/local/lib/python3.7/dist-packages (from tensorflow->ngdlm==0.0.3) (1.15.0)\n",
            "Requirement already satisfied: gast==0.3.3 in /usr/local/lib/python3.7/dist-packages (from tensorflow->ngdlm==0.0.3) (0.3.3)\n",
            "Requirement already satisfied: google-pasta~=0.2 in /usr/local/lib/python3.7/dist-packages (from tensorflow->ngdlm==0.0.3) (0.2.0)\n",
            "Requirement already satisfied: wrapt~=1.12.1 in /usr/local/lib/python3.7/dist-packages (from tensorflow->ngdlm==0.0.3) (1.12.1)\n",
            "Requirement already satisfied: flatbuffers~=1.12.0 in /usr/local/lib/python3.7/dist-packages (from tensorflow->ngdlm==0.0.3) (1.12)\n",
            "Requirement already satisfied: cycler>=0.10 in /usr/local/lib/python3.7/dist-packages (from matplotlib->ngdlm==0.0.3) (0.10.0)\n",
            "Requirement already satisfied: python-dateutil>=2.1 in /usr/local/lib/python3.7/dist-packages (from matplotlib->ngdlm==0.0.3) (2.8.1)\n",
            "Requirement already satisfied: pyparsing!=2.0.4,!=2.1.2,!=2.1.6,>=2.0.1 in /usr/local/lib/python3.7/dist-packages (from matplotlib->ngdlm==0.0.3) (2.4.7)\n",
            "Requirement already satisfied: kiwisolver>=1.0.1 in /usr/local/lib/python3.7/dist-packages (from matplotlib->ngdlm==0.0.3) (1.3.1)\n",
            "Requirement already satisfied: werkzeug>=0.11.15 in /usr/local/lib/python3.7/dist-packages (from tensorboard~=2.4->tensorflow->ngdlm==0.0.3) (1.0.1)\n",
            "Requirement already satisfied: requests<3,>=2.21.0 in /usr/local/lib/python3.7/dist-packages (from tensorboard~=2.4->tensorflow->ngdlm==0.0.3) (2.23.0)\n",
            "Requirement already satisfied: tensorboard-plugin-wit>=1.6.0 in /usr/local/lib/python3.7/dist-packages (from tensorboard~=2.4->tensorflow->ngdlm==0.0.3) (1.8.0)\n",
            "Requirement already satisfied: google-auth-oauthlib<0.5,>=0.4.1 in /usr/local/lib/python3.7/dist-packages (from tensorboard~=2.4->tensorflow->ngdlm==0.0.3) (0.4.3)\n",
            "Requirement already satisfied: markdown>=2.6.8 in /usr/local/lib/python3.7/dist-packages (from tensorboard~=2.4->tensorflow->ngdlm==0.0.3) (3.3.4)\n",
            "Requirement already satisfied: google-auth<2,>=1.6.3 in /usr/local/lib/python3.7/dist-packages (from tensorboard~=2.4->tensorflow->ngdlm==0.0.3) (1.27.1)\n",
            "Requirement already satisfied: setuptools>=41.0.0 in /usr/local/lib/python3.7/dist-packages (from tensorboard~=2.4->tensorflow->ngdlm==0.0.3) (54.1.2)\n",
            "Requirement already satisfied: urllib3!=1.25.0,!=1.25.1,<1.26,>=1.21.1 in /usr/local/lib/python3.7/dist-packages (from requests<3,>=2.21.0->tensorboard~=2.4->tensorflow->ngdlm==0.0.3) (1.24.3)\n",
            "Requirement already satisfied: chardet<4,>=3.0.2 in /usr/local/lib/python3.7/dist-packages (from requests<3,>=2.21.0->tensorboard~=2.4->tensorflow->ngdlm==0.0.3) (3.0.4)\n",
            "Requirement already satisfied: idna<3,>=2.5 in /usr/local/lib/python3.7/dist-packages (from requests<3,>=2.21.0->tensorboard~=2.4->tensorflow->ngdlm==0.0.3) (2.10)\n",
            "Requirement already satisfied: certifi>=2017.4.17 in /usr/local/lib/python3.7/dist-packages (from requests<3,>=2.21.0->tensorboard~=2.4->tensorflow->ngdlm==0.0.3) (2020.12.5)\n",
            "Requirement already satisfied: requests-oauthlib>=0.7.0 in /usr/local/lib/python3.7/dist-packages (from google-auth-oauthlib<0.5,>=0.4.1->tensorboard~=2.4->tensorflow->ngdlm==0.0.3) (1.3.0)\n",
            "Requirement already satisfied: importlib-metadata; python_version < \"3.8\" in /usr/local/lib/python3.7/dist-packages (from markdown>=2.6.8->tensorboard~=2.4->tensorflow->ngdlm==0.0.3) (3.7.2)\n",
            "Requirement already satisfied: rsa<5,>=3.1.4; python_version >= \"3.6\" in /usr/local/lib/python3.7/dist-packages (from google-auth<2,>=1.6.3->tensorboard~=2.4->tensorflow->ngdlm==0.0.3) (4.7.2)\n",
            "Requirement already satisfied: pyasn1-modules>=0.2.1 in /usr/local/lib/python3.7/dist-packages (from google-auth<2,>=1.6.3->tensorboard~=2.4->tensorflow->ngdlm==0.0.3) (0.2.8)\n",
            "Requirement already satisfied: cachetools<5.0,>=2.0.0 in /usr/local/lib/python3.7/dist-packages (from google-auth<2,>=1.6.3->tensorboard~=2.4->tensorflow->ngdlm==0.0.3) (4.2.1)\n",
            "Requirement already satisfied: oauthlib>=3.0.0 in /usr/local/lib/python3.7/dist-packages (from requests-oauthlib>=0.7.0->google-auth-oauthlib<0.5,>=0.4.1->tensorboard~=2.4->tensorflow->ngdlm==0.0.3) (3.1.0)\n",
            "Requirement already satisfied: zipp>=0.5 in /usr/local/lib/python3.7/dist-packages (from importlib-metadata; python_version < \"3.8\"->markdown>=2.6.8->tensorboard~=2.4->tensorflow->ngdlm==0.0.3) (3.4.1)\n",
            "Requirement already satisfied: pyasn1>=0.1.3 in /usr/local/lib/python3.7/dist-packages (from rsa<5,>=3.1.4; python_version >= \"3.6\"->google-auth<2,>=1.6.3->tensorboard~=2.4->tensorflow->ngdlm==0.0.3) (0.4.8)\n",
            "Building wheels for collected packages: ngdlm\n",
            "  Building wheel for ngdlm (setup.py) ... \u001b[?25l\u001b[?25hdone\n",
            "  Created wheel for ngdlm: filename=ngdlm-0.0.3-py2.py3-none-any.whl size=32027 sha256=a406a2bc8977e532f562ca5eeac7d7e87d714af3cac9a9f6048d730d1caf4073\n",
            "  Stored in directory: /tmp/pip-ephem-wheel-cache-cpco8yqg/wheels/93/06/27/e156acb49f475c364c3c9fa4ad4ab7bfa38808bff5bf9c4647\n",
            "Successfully built ngdlm\n"
          ],
          "name": "stdout"
        },
        {
          "output_type": "stream",
          "text": [
            "/usr/local/lib/python3.7/dist-packages/sklearn/externals/joblib/__init__.py:15: FutureWarning: sklearn.externals.joblib is deprecated in 0.21 and will be removed in 0.23. Please import this functionality directly from joblib, which can be installed with: pip install joblib. If this warning is raised when loading pickled models, you may need to re-serialize those models with scikit-learn 0.21+.\n",
            "  warnings.warn(msg, category=FutureWarning)\n"
          ],
          "name": "stderr"
        }
      ]
    },
    {
      "cell_type": "markdown",
      "metadata": {
        "id": "9fTJnTN9Hte0"
      },
      "source": [
        "# Mount Google Drive\n",
        "#### 1. First mount"
      ]
    },
    {
      "cell_type": "code",
      "metadata": {
        "colab": {
          "base_uri": "https://localhost:8080/"
        },
        "id": "0qhTQeB2upJN",
        "outputId": "3ce79fdf-99fb-4c14-c9b8-36f1a0b2cb20"
      },
      "source": [
        "from google.colab import drive\n",
        "drive.mount('/gdrive')\n",
        "%cd /gdrive/MyDrive/sound-of-failure"
      ],
      "execution_count": 2,
      "outputs": [
        {
          "output_type": "stream",
          "text": [
            "Drive already mounted at /gdrive; to attempt to forcibly remount, call drive.mount(\"/gdrive\", force_remount=True).\n",
            "/gdrive/MyDrive/sound-of-failure\n"
          ],
          "name": "stdout"
        }
      ]
    },
    {
      "cell_type": "markdown",
      "metadata": {
        "id": "PGyZQ7M0t-py"
      },
      "source": [
        "#### 2. Remount"
      ]
    },
    {
      "cell_type": "code",
      "metadata": {
        "colab": {
          "base_uri": "https://localhost:8080/"
        },
        "id": "AeEkdLfFk-0e",
        "outputId": "bc78b8bf-bf85-445b-ed7b-9eb3eabed078"
      },
      "source": [
        "%cd ../../..\n",
        "drive.flush_and_unmount()\n",
        "drive.mount('/gdrive', force_remount=True)\n",
        "%cd /gdrive/My Drive/sound-of-failure"
      ],
      "execution_count": 3,
      "outputs": [
        {
          "output_type": "stream",
          "text": [
            "/\n",
            "Mounted at /gdrive\n",
            "/gdrive/My Drive/sound-of-failure\n"
          ],
          "name": "stdout"
        }
      ]
    },
    {
      "cell_type": "markdown",
      "metadata": {
        "id": "rrWBR69_IGJj"
      },
      "source": [
        "# Import Own Modules"
      ]
    },
    {
      "cell_type": "code",
      "metadata": {
        "colab": {
          "base_uri": "https://localhost:8080/"
        },
        "id": "Xo7kKPNOIMz-",
        "outputId": "1465d00e-72b1-4a2c-c2f2-5d3c5dc19fb7"
      },
      "source": [
        "sys.path += ['src/01_data_processing', 'src/02_modelling', 'src/03_modell_evaluation',]\n",
        "\n",
        "import spectrogram as spec\n",
        "import train_test_split as splt\n",
        "import train_model_autoencoder as train\n",
        "import eval_model_autoencoder as eval"
      ],
      "execution_count": 4,
      "outputs": [
        {
          "output_type": "stream",
          "text": [
            "hello world\n",
            "/gdrive/My Drive/sound-of-failure\n"
          ],
          "name": "stdout"
        }
      ]
    },
    {
      "cell_type": "markdown",
      "metadata": {
        "id": "nlIUwYBnSuOd"
      },
      "source": [
        "# Global constants"
      ]
    },
    {
      "cell_type": "markdown",
      "metadata": {
        "id": "PM7yY9Hte7AG"
      },
      "source": [
        "### First run the scripts for building the config files.\n",
        "\n",
        "Some of the parameters can be passed through the command line.\n",
        "At present the command line parameters are the following :\n",
        "\n",
        "1. conf_base.py : Script for building the base config file (saves in sound-of-failure/conf/conf_base.ini)\n",
        "        -raw : Pass the location of the raw data dir\n",
        "\n",
        "\n",
        "2. conf_convAE.py : Script for building the config file holding the parameters for Mel Spectrogram and Convolutional Autoencoder (saves in sound-of-failure/conf/make_conf_convAE.ini). Convolutional Autoencoders can be either Autoencoders or Variational Autoencoders.\n",
        "        -ae : AE or VAE\n",
        "        -mel : No. of mels\n",
        "        -fft : No. of FFT bands\n",
        "        -hop : Hop length for the sliding window while calculating FFT\n",
        "        -dim : Time dimension of one spectrogram block after chunking the whole spectrogram\n",
        "        -s : Step for the sliding window for creating chunks from one spectrogram\n"
      ]
    },
    {
      "cell_type": "markdown",
      "metadata": {
        "id": "HPc6UkH2tZQX"
      },
      "source": [
        "To check the description of the command line parameters one could activate the '-h' flag. For example :"
      ]
    },
    {
      "cell_type": "code",
      "metadata": {
        "colab": {
          "base_uri": "https://localhost:8080/"
        },
        "id": "QQkcCK8Ct3Lm",
        "outputId": "ae166e59-9946-4315-dc7e-ee84e3a6bfc1"
      },
      "source": [
        "%run /gdrive/MyDrive/sound-of-failure/src/00_utils/make_conf_convAE.py -h"
      ],
      "execution_count": 5,
      "outputs": [
        {
          "output_type": "stream",
          "text": [
            "usage: make_conf_convAE.py [-h] [-ae] [-mel] [-fft] [-hop] [-dim] [-s]\n",
            "\n",
            "Params for Spectrogram and Autoencoder (AE or VAE)\n",
            "\n",
            "optional arguments:\n",
            "  -h, --help            show this help message and exit\n",
            "  -ae , --ae            Type of Autoencoder (AE or VAE)\n",
            "  -mel , --n_mels       No. of mel bands\n",
            "  -fft , --n_fft        No. of FFT bands\n",
            "  -hop , --hop_length   Hop length for FFT calc\n",
            "  -dim , --dim          Time dimension of Spectrogram block\n",
            "  -s , --step           Sliding window step for Spectrogram chunking\n"
          ],
          "name": "stdout"
        }
      ]
    },
    {
      "cell_type": "markdown",
      "metadata": {
        "id": "gVxSOVRS0x-_"
      },
      "source": [
        "#### Note the change here : While running VAE we have to specify -ae to VAE in the command line. This ensures that the right config file is created (conf/conf_VAE.ini)."
      ]
    },
    {
      "cell_type": "code",
      "metadata": {
        "id": "A3Id9ote4biL"
      },
      "source": [
        "%run /gdrive/MyDrive/sound-of-failure/src/00_utils/make_conf_base.py -raw '/gdrive/MyDrive/Hitachi_data/dataset'\n",
        "%run /gdrive/MyDrive/sound-of-failure/src/00_utils/make_conf_convAE.py -ae VAE -mel 32 -fft 1024 -hop 256 -dim 64 -s 8"
      ],
      "execution_count": 6,
      "outputs": []
    },
    {
      "cell_type": "markdown",
      "metadata": {
        "id": "gNT43QWpf7Zo"
      },
      "source": [
        "### Then read from the config files\n",
        "\n",
        "There are two config files : \n",
        "\n",
        "1. sound-of-failure/conf/**conf_base**.ini\n",
        "2. sound-of-failure/conf/**conf_VAE**.ini"
      ]
    },
    {
      "cell_type": "markdown",
      "metadata": {
        "id": "HQUoVWzg0a2-"
      },
      "source": [
        "##### Note the change here : In normal Autoencoders the created config file is called conf_convAE.ini. Now is is called conf_VAE.ini."
      ]
    },
    {
      "cell_type": "code",
      "metadata": {
        "id": "ygPws2kf-gMS"
      },
      "source": [
        "base_conf = train.read_config('/gdrive/MyDrive/sound-of-failure/conf/conf_base.ini')\n",
        "param_conf = train.read_config('/gdrive/MyDrive/sound-of-failure/conf/conf_VAE.ini')"
      ],
      "execution_count": 7,
      "outputs": []
    },
    {
      "cell_type": "markdown",
      "metadata": {
        "id": "XhqKBfNNhzDG"
      },
      "source": [
        "#### Read the parameters directly from the config files\n",
        "\n",
        "Question : Should the reading of config files be done within notebooks or the source script should directly read from them?"
      ]
    },
    {
      "cell_type": "code",
      "metadata": {
        "id": "1YtgVox0-7b3"
      },
      "source": [
        "# Directories\n",
        "RAW_DATA_DIR = base_conf['directories']['raw_data_dir']\n",
        "BASE_DIR = base_conf['directories']['base_dir']\n",
        "\n",
        "\n",
        "# Mel spectrograms\n",
        "N_MELS = param_conf.getint('melspec', 'n_mels')\n",
        "N_FFT = param_conf.getint('melspec', 'n_fft')\n",
        "HOP_LENGTH = param_conf.getint('melspec', 'hop_length')\n",
        "POWER = param_conf.getfloat('melspec', 'power')\n",
        "WINDOW = param_conf.get('melspec', 'window')\n",
        "\n",
        "\n",
        "# Subsampling\n",
        "DIM = param_conf.getint('melspec', 'dim')\n",
        "STEP = param_conf.getint('melspec', 'step')\n",
        "\n",
        "\n",
        "# Scaler and cost function\n",
        "SCALER_TYPE = param_conf.get('model', 'scaler')\n",
        "LOSS = param_conf.get('model', 'loss')\n",
        "\n",
        "\n",
        "# Optimizer\n",
        "OPTIMIZER = param_conf.get('model', 'optimizer')\n",
        "EPOCHS = param_conf.getint('model', 'epochs')\n",
        "BATCH_SIZE = param_conf.getint('model', 'batch_size')\n",
        "VALIDATION_SPLIT = param_conf.getfloat('model', 'val_split')\n",
        "SHUFFLE = param_conf.getboolean('model', 'shuffle')\n",
        "\n",
        "\n",
        "# Autoencoder\n",
        "INPUT_SHAPE = (param_conf.getint('melspec', 'dim'),\n",
        "               param_conf.getint('melspec', 'n_mels'),\n",
        "               1)\n",
        "\n",
        "LATENT_DIM = param_conf.getint('autoencoder', 'latentdim')\n",
        "NUM_NODES = json.loads(param_conf.get('autoencoder', 'num_nodes'))\n",
        "NUM_KERNEL = json.loads(param_conf.get('autoencoder', 'num_kernel'))\n",
        "NUM_STRIDES = param_conf.get('autoencoder', 'num_strides')\n",
        "NUM_STRIDES = list(ast.literal_eval(NUM_STRIDES))\n",
        "\n",
        "\n",
        "# Data\n",
        "DB = param_conf.get('data', 'noise')\n",
        "MACHINE_TYPE = param_conf.get('data', 'machine')\n",
        "MACHINE_ID = param_conf.get('data', 'machine_id')"
      ],
      "execution_count": 8,
      "outputs": []
    },
    {
      "cell_type": "markdown",
      "metadata": {
        "id": "nNCFbJV8SAX1"
      },
      "source": [
        "# Execute preprocessing steps\n",
        "#### 1. Generate unscaled mel spectrograms (~ 5 minutes)"
      ]
    },
    {
      "cell_type": "code",
      "metadata": {
        "colab": {
          "base_uri": "https://localhost:8080/"
        },
        "id": "Dc0KZB_h9nwL",
        "outputId": "32806aaa-05a3-4138-8e55-67f135d41a42"
      },
      "source": [
        "spec.make_mel_dirs(BASE_DIR, DB, MACHINE_TYPE, MACHINE_ID)\n",
        "\n",
        "spec.make_mels(RAW_DATA_DIR, BASE_DIR, \n",
        "               DB, MACHINE_TYPE, MACHINE_ID, \n",
        "               N_MELS, N_FFT, HOP_LENGTH, POWER, WINDOW)"
      ],
      "execution_count": 9,
      "outputs": [
        {
          "output_type": "stream",
          "text": [
            "Generate normal spectrograms and save to /gdrive/MyDrive/sound-of-failure/data/mel_spectrograms/6dB/valve/id_00/normal.\n",
            "Generate abnormal spectrograms and save to /gdrive/MyDrive/sound-of-failure/data/mel_spectrograms/6dB/valve/id_00/abnormal.\n"
          ],
          "name": "stdout"
        }
      ]
    },
    {
      "cell_type": "markdown",
      "metadata": {
        "id": "9cFvil9_SMTt"
      },
      "source": [
        "#### 2. Separate train and test files"
      ]
    },
    {
      "cell_type": "code",
      "metadata": {
        "id": "77iQhf4K9n33"
      },
      "source": [
        "train_files, train_labels, test_files, test_labels = splt.make_train_test_split(BASE_DIR, \n",
        "                                                                           DB, MACHINE_TYPE, MACHINE_ID, \n",
        "                                                                           random_seed=1)"
      ],
      "execution_count": 10,
      "outputs": []
    },
    {
      "cell_type": "markdown",
      "metadata": {
        "id": "VQ4hNFi5SWK5"
      },
      "source": [
        "#### 3. Fit scaler to train files"
      ]
    },
    {
      "cell_type": "markdown",
      "metadata": {
        "id": "aZxJV_ediUP1"
      },
      "source": [
        "#### 3.1 Plot an example spectrogram\n",
        "\n",
        "Just a sanity check"
      ]
    },
    {
      "cell_type": "code",
      "metadata": {
        "colab": {
          "base_uri": "https://localhost:8080/",
          "height": 295
        },
        "id": "Q6_eI568XV3m",
        "outputId": "4b1471be-c562-414d-ed3c-ca674aedbb0e"
      },
      "source": [
        "spect = np.load('/gdrive/MyDrive/sound-of-failure/data/mel_spectrograms/6dB/valve/id_00/normal/00000990.npy')\n",
        "\n",
        "fig, ax = plt.subplots()\n",
        "plt.title(\"Example spectrogram \")\n",
        "img = ld.specshow(spect, \n",
        "                    x_axis='time', \n",
        "                    y_axis='mel', \n",
        "                    sr=16000, \n",
        "                    fmax=8000, \n",
        "                    ax=ax)\n",
        "\n",
        "fig.colorbar(img, ax=ax)\n",
        "plt.show()\n",
        "plt.close()"
      ],
      "execution_count": 11,
      "outputs": [
        {
          "output_type": "display_data",
          "data": {
            "image/png": "[encoded data removed]",
            "text/plain": [
              "<Figure size 432x288 with 2 Axes>"
            ]
          },
          "metadata": {
            "tags": [],
            "needs_background": "light"
          }
        }
      ]
    },
    {
      "cell_type": "code",
      "metadata": {
        "id": "cXQ_834-9n7y"
      },
      "source": [
        "scaler = spec.create_scaler(SCALER_TYPE)\n",
        "spec.fit_scaler_to_mel_files(scaler, train_files)"
      ],
      "execution_count": 12,
      "outputs": []
    },
    {
      "cell_type": "markdown",
      "metadata": {
        "id": "MsHNzTQESepd"
      },
      "source": [
        "#### 4. Generate training data from scaling and subsampling mel spectrograms"
      ]
    },
    {
      "cell_type": "code",
      "metadata": {
        "id": "behp3UQGDDz7"
      },
      "source": [
        "train_data = splt.generate_train_data(train_files, scaler, DIM, STEP)"
      ],
      "execution_count": 13,
      "outputs": []
    },
    {
      "cell_type": "code",
      "metadata": {
        "colab": {
          "base_uri": "https://localhost:8080/"
        },
        "id": "i8XIS0EWHMBT",
        "outputId": "ed150c06-e16d-4739-b18c-ffec4415dcec"
      },
      "source": [
        "train_data.shape"
      ],
      "execution_count": 14,
      "outputs": [
        {
          "output_type": "execute_result",
          "data": {
            "text/plain": [
              "(62784, 64, 32, 1)"
            ]
          },
          "metadata": {
            "tags": []
          },
          "execution_count": 14
        }
      ]
    },
    {
      "cell_type": "markdown",
      "metadata": {
        "id": "J6VStMg7VFDj"
      },
      "source": [
        "# Modelling"
      ]
    },
    {
      "cell_type": "markdown",
      "metadata": {
        "id": "LlzbhcxnYubl"
      },
      "source": [
        "### Build Variational Autoencoder\n",
        "\n",
        "While training a new model the model should be called fresh from `train/load_new_model`. \n",
        "\n",
        "For prediction or model evaluation, one should call `train/load_saved_model`\n",
        "\n"
      ]
    },
    {
      "cell_type": "code",
      "metadata": {
        "colab": {
          "base_uri": "https://localhost:8080/"
        },
        "id": "URd_-ubwHMM9",
        "outputId": "3e44b905-ed12-408b-e887-d449ccbf1330"
      },
      "source": [
        "my_model = train.load_new_model(model_name='VAE',\n",
        "                                input_shape=INPUT_SHAPE,\n",
        "                                num_nodes=NUM_NODES,\n",
        "                                num_kernel=NUM_KERNEL,\n",
        "                                num_strides=NUM_STRIDES,\n",
        "                                latent_dim=LATENT_DIM)\n",
        "\n",
        "print(my_model.summary())"
      ],
      "execution_count": 15,
      "outputs": [
        {
          "output_type": "stream",
          "text": [
            "Encoder:\n",
            "Model: \"encoder\"\n",
            "__________________________________________________________________________________________________\n",
            "Layer (type)                    Output Shape         Param #     Connected to                     \n",
            "==================================================================================================\n",
            "encoder_input (InputLayer)      [(None, 64, 32, 1)]  0                                            \n",
            "__________________________________________________________________________________________________\n",
            "conv_enc0 (Conv2D)              (None, 64, 16, 32)   832         encoder_input[0][0]              \n",
            "__________________________________________________________________________________________________\n",
            "batchnorm_enc0 (BatchNormalizat (None, 64, 16, 32)   128         conv_enc0[0][0]                  \n",
            "__________________________________________________________________________________________________\n",
            "relu_enc0 (ReLU)                (None, 64, 16, 32)   0           batchnorm_enc0[0][0]             \n",
            "__________________________________________________________________________________________________\n",
            "conv_enc1 (Conv2D)              (None, 32, 8, 64)    51264       relu_enc0[0][0]                  \n",
            "__________________________________________________________________________________________________\n",
            "batchnorm_enc1 (BatchNormalizat (None, 32, 8, 64)    256         conv_enc1[0][0]                  \n",
            "__________________________________________________________________________________________________\n",
            "relu_enc1 (ReLU)                (None, 32, 8, 64)    0           batchnorm_enc1[0][0]             \n",
            "__________________________________________________________________________________________________\n",
            "conv_enc2 (Conv2D)              (None, 16, 4, 128)   73856       relu_enc1[0][0]                  \n",
            "__________________________________________________________________________________________________\n",
            "batchnorm_enc2 (BatchNormalizat (None, 16, 4, 128)   512         conv_enc2[0][0]                  \n",
            "__________________________________________________________________________________________________\n",
            "relu_enc2 (ReLU)                (None, 16, 4, 128)   0           batchnorm_enc2[0][0]             \n",
            "__________________________________________________________________________________________________\n",
            "conv_enc3 (Conv2D)              (None, 16, 2, 256)   295168      relu_enc2[0][0]                  \n",
            "__________________________________________________________________________________________________\n",
            "batchnorm_enc3 (BatchNormalizat (None, 16, 2, 256)   1024        conv_enc3[0][0]                  \n",
            "__________________________________________________________________________________________________\n",
            "relu_enc3 (ReLU)                (None, 16, 2, 256)   0           batchnorm_enc3[0][0]             \n",
            "__________________________________________________________________________________________________\n",
            "flatten_enc (Flatten)           (None, 8192)         0           relu_enc3[0][0]                  \n",
            "__________________________________________________________________________________________________\n",
            "latent_enc (Dense)              (None, 20)           163860      flatten_enc[0][0]                \n",
            "__________________________________________________________________________________________________\n",
            "z_mean (Dense)                  (None, 20)           420         latent_enc[0][0]                 \n",
            "__________________________________________________________________________________________________\n",
            "z_log_var (Dense)               (None, 20)           420         latent_enc[0][0]                 \n",
            "__________________________________________________________________________________________________\n",
            "z (Lambda)                      (None, 20)           0           z_mean[0][0]                     \n",
            "                                                                 z_log_var[0][0]                  \n",
            "==================================================================================================\n",
            "Total params: 587,740\n",
            "Trainable params: 586,780\n",
            "Non-trainable params: 960\n",
            "__________________________________________________________________________________________________\n",
            "Decoder:\n",
            "Model: \"decoder\"\n",
            "_________________________________________________________________\n",
            "Layer (type)                 Output Shape              Param #   \n",
            "=================================================================\n",
            "decoder_input (InputLayer)   [(None, 20)]              0         \n",
            "_________________________________________________________________\n",
            "dense_dec (Dense)            (None, 8192)              172032    \n",
            "_________________________________________________________________\n",
            "reshape_dec (Reshape)        (None, 16, 2, 256)        0         \n",
            "_________________________________________________________________\n",
            "convTranspose_dec2 (Conv2DTr (None, 16, 4, 128)        295040    \n",
            "_________________________________________________________________\n",
            "batchnorm_dec2 (BatchNormali (None, 16, 4, 128)        512       \n",
            "_________________________________________________________________\n",
            "relu_dec2 (ReLU)             (None, 16, 4, 128)        0         \n",
            "_________________________________________________________________\n",
            "convTranspose_dec1 (Conv2DTr (None, 32, 8, 64)         204864    \n",
            "_________________________________________________________________\n",
            "batchnorm_dec1 (BatchNormali (None, 32, 8, 64)         256       \n",
            "_________________________________________________________________\n",
            "relu_dec1 (ReLU)             (None, 32, 8, 64)         0         \n",
            "_________________________________________________________________\n",
            "convTranspose_dec0 (Conv2DTr (None, 64, 16, 32)        51232     \n",
            "_________________________________________________________________\n",
            "batchnorm_dec0 (BatchNormali (None, 64, 16, 32)        128       \n",
            "_________________________________________________________________\n",
            "relu_dec0 (ReLU)             (None, 64, 16, 32)        0         \n",
            "_________________________________________________________________\n",
            "output_dec (Conv2DTranspose) (None, 64, 32, 1)         801       \n",
            "=================================================================\n",
            "Total params: 724,865\n",
            "Trainable params: 724,417\n",
            "Non-trainable params: 448\n",
            "_________________________________________________________________\n",
            "Autoencoder:\n",
            "Model: \"vae\"\n",
            "_________________________________________________________________\n",
            "Layer (type)                 Output Shape              Param #   \n",
            "=================================================================\n",
            "encoder_input (InputLayer)   [(None, 64, 32, 1)]       0         \n",
            "_________________________________________________________________\n",
            "encoder (Functional)         [(None, 20), (None, 20),  587740    \n",
            "_________________________________________________________________\n",
            "decoder (Functional)         (None, 64, 32, 1)         724865    \n",
            "=================================================================\n",
            "Total params: 1,312,605\n",
            "Trainable params: 1,311,197\n",
            "Non-trainable params: 1,408\n",
            "_________________________________________________________________\n",
            "None\n"
          ],
          "name": "stdout"
        }
      ]
    },
    {
      "cell_type": "markdown",
      "metadata": {
        "id": "fHHvxZD8R5Oh"
      },
      "source": [
        "#### NOTE THE CHANGE : \n",
        "    1. `train.compile_model`: Now the model is compiled with a learning rate that can be specified by the user. Currently three optimizers can be chosen:\n",
        "      -Adam\n",
        "      -RMSprop\n",
        "      -SGD\n",
        "\n",
        "    2. train.train_model: In the model training there are two options:\n",
        "      A. Train with callbacks: If callback=True, then EarlyStopping and ModelCheckpoint is enabled. In that case a patience and a path to save the best model must be specified.\n",
        "      B. Train without callbacks: Set callback=False in that case. No EarlyStopping and also the best model will not be saved.\n",
        "\n",
        "\n",
        "\n"
      ]
    },
    {
      "cell_type": "code",
      "metadata": {
        "colab": {
          "base_uri": "https://localhost:8080/",
          "height": 1000
        },
        "id": "c1wcjHHIVC-Q",
        "outputId": "3d4cdf78-35e8-4dde-a0f9-c14d9dff9ffb"
      },
      "source": [
        "# Compile model\n",
        "train.compile_model(model=my_model, \n",
        "              optimizer=OPTIMIZER, \n",
        "              loss=LOSS, \n",
        "              learning_rate=0.001)\n",
        "\n",
        "# Train model\n",
        "history = train.train_model(model=my_model,\n",
        "          train_data=train_data,\n",
        "          epochs=EPOCHS,\n",
        "          batch_size=BATCH_SIZE,\n",
        "          validation_split=VALIDATION_SPLIT,\n",
        "          shuffle=SHUFFLE,\n",
        "          callback=True,\n",
        "          patience=15,\n",
        "          model_outdir='/gdrive/MyDrive/sound-of-failure/models/00_trial_VAE.hdf5')\n",
        "\n",
        "# Plot model history\n",
        "train.plot_train_history(history)"
      ],
      "execution_count": 16,
      "outputs": [
        {
          "output_type": "stream",
          "text": [
            "Train on 56505 samples, validate on 6279 samples\n",
            "Epoch 1/100\n",
            "56505/56505 [==============================] - ETA: 0s - loss: 0.1057"
          ],
          "name": "stdout"
        },
        {
          "output_type": "stream",
          "text": [
            "/usr/local/lib/python3.7/dist-packages/tensorflow/python/keras/engine/training.py:2325: UserWarning: `Model.state_updates` will be removed in a future version. This property should not be used in TensorFlow 2.0, as `updates` are applied automatically.\n",
            "  warnings.warn('`Model.state_updates` will be removed in a future version. '\n"
          ],
          "name": "stderr"
        },
        {
          "output_type": "stream",
          "text": [
            "\n",
            "Epoch 00001: val_loss improved from inf to 0.06478, saving model to /gdrive/MyDrive/sound-of-failure/models/00_trial_VAE.hdf5\n",
            "56505/56505 [==============================] - 29s 512us/sample - loss: 0.1057 - val_loss: 0.0648\n",
            "Epoch 2/100\n",
            "56505/56505 [==============================] - ETA: 0s - loss: 0.0563\n",
            "Epoch 00002: val_loss improved from 0.06478 to 0.05558, saving model to /gdrive/MyDrive/sound-of-failure/models/00_trial_VAE.hdf5\n",
            "56505/56505 [==============================] - 25s 448us/sample - loss: 0.0563 - val_loss: 0.0556\n",
            "Epoch 3/100\n",
            "56505/56505 [==============================] - ETA: 0s - loss: 0.0526\n",
            "Epoch 00003: val_loss improved from 0.05558 to 0.05066, saving model to /gdrive/MyDrive/sound-of-failure/models/00_trial_VAE.hdf5\n",
            "56505/56505 [==============================] - 26s 459us/sample - loss: 0.0526 - val_loss: 0.0507\n",
            "Epoch 4/100\n",
            "56505/56505 [==============================] - ETA: 0s - loss: 0.0505\n",
            "Epoch 00004: val_loss did not improve from 0.05066\n",
            "56505/56505 [==============================] - 25s 444us/sample - loss: 0.0505 - val_loss: 0.0518\n",
            "Epoch 5/100\n",
            "56505/56505 [==============================] - ETA: 0s - loss: 0.0485\n",
            "Epoch 00005: val_loss improved from 0.05066 to 0.04945, saving model to /gdrive/MyDrive/sound-of-failure/models/00_trial_VAE.hdf5\n",
            "56505/56505 [==============================] - 26s 456us/sample - loss: 0.0485 - val_loss: 0.0494\n",
            "Epoch 6/100\n",
            "56505/56505 [==============================] - ETA: 0s - loss: 0.0471\n",
            "Epoch 00006: val_loss improved from 0.04945 to 0.04880, saving model to /gdrive/MyDrive/sound-of-failure/models/00_trial_VAE.hdf5\n",
            "56505/56505 [==============================] - 26s 468us/sample - loss: 0.0471 - val_loss: 0.0488\n",
            "Epoch 7/100\n",
            "56505/56505 [==============================] - ETA: 0s - loss: 0.0458\n",
            "Epoch 00007: val_loss improved from 0.04880 to 0.04798, saving model to /gdrive/MyDrive/sound-of-failure/models/00_trial_VAE.hdf5\n",
            "56505/56505 [==============================] - 26s 463us/sample - loss: 0.0458 - val_loss: 0.0480\n",
            "Epoch 8/100\n",
            "56505/56505 [==============================] - ETA: 0s - loss: 0.0449\n",
            "Epoch 00008: val_loss improved from 0.04798 to 0.04702, saving model to /gdrive/MyDrive/sound-of-failure/models/00_trial_VAE.hdf5\n",
            "56505/56505 [==============================] - 26s 458us/sample - loss: 0.0449 - val_loss: 0.0470\n",
            "Epoch 9/100\n",
            "56505/56505 [==============================] - ETA: 0s - loss: 0.0441\n",
            "Epoch 00009: val_loss did not improve from 0.04702\n",
            "56505/56505 [==============================] - 25s 444us/sample - loss: 0.0441 - val_loss: 0.0482\n",
            "Epoch 10/100\n",
            "56505/56505 [==============================] - ETA: 0s - loss: 0.0434\n",
            "Epoch 00010: val_loss improved from 0.04702 to 0.04659, saving model to /gdrive/MyDrive/sound-of-failure/models/00_trial_VAE.hdf5\n",
            "56505/56505 [==============================] - 26s 455us/sample - loss: 0.0434 - val_loss: 0.0466\n",
            "Epoch 11/100\n",
            "56505/56505 [==============================] - ETA: 0s - loss: 0.0427\n",
            "Epoch 00011: val_loss improved from 0.04659 to 0.04532, saving model to /gdrive/MyDrive/sound-of-failure/models/00_trial_VAE.hdf5\n",
            "56505/56505 [==============================] - 26s 458us/sample - loss: 0.0427 - val_loss: 0.0453\n",
            "Epoch 12/100\n",
            "56505/56505 [==============================] - ETA: 0s - loss: 0.0420\n",
            "Epoch 00012: val_loss improved from 0.04532 to 0.04420, saving model to /gdrive/MyDrive/sound-of-failure/models/00_trial_VAE.hdf5\n",
            "56505/56505 [==============================] - 26s 453us/sample - loss: 0.0420 - val_loss: 0.0442\n",
            "Epoch 13/100\n",
            "56505/56505 [==============================] - ETA: 0s - loss: 0.0416\n",
            "Epoch 00013: val_loss did not improve from 0.04420\n",
            "56505/56505 [==============================] - 25s 441us/sample - loss: 0.0416 - val_loss: 0.0461\n",
            "Epoch 14/100\n",
            "56505/56505 [==============================] - ETA: 0s - loss: 0.0411\n",
            "Epoch 00014: val_loss did not improve from 0.04420\n",
            "56505/56505 [==============================] - 25s 441us/sample - loss: 0.0411 - val_loss: 0.0460\n",
            "Epoch 15/100\n",
            "56505/56505 [==============================] - ETA: 0s - loss: 0.0407\n",
            "Epoch 00015: val_loss did not improve from 0.04420\n",
            "56505/56505 [==============================] - 25s 441us/sample - loss: 0.0407 - val_loss: 0.0449\n",
            "Epoch 16/100\n",
            "56505/56505 [==============================] - ETA: 0s - loss: 0.0404\n",
            "Epoch 00016: val_loss did not improve from 0.04420\n",
            "56505/56505 [==============================] - 25s 440us/sample - loss: 0.0404 - val_loss: 0.0443\n",
            "Epoch 17/100\n",
            "56505/56505 [==============================] - ETA: 0s - loss: 0.0401\n",
            "Epoch 00017: val_loss improved from 0.04420 to 0.04366, saving model to /gdrive/MyDrive/sound-of-failure/models/00_trial_VAE.hdf5\n",
            "56505/56505 [==============================] - 26s 455us/sample - loss: 0.0401 - val_loss: 0.0437\n",
            "Epoch 18/100\n",
            "56505/56505 [==============================] - ETA: 0s - loss: 0.0397\n",
            "Epoch 00018: val_loss did not improve from 0.04366\n",
            "56505/56505 [==============================] - 25s 439us/sample - loss: 0.0397 - val_loss: 0.0437\n",
            "Epoch 19/100\n",
            "56505/56505 [==============================] - ETA: 0s - loss: 0.0395\n",
            "Epoch 00019: val_loss improved from 0.04366 to 0.04294, saving model to /gdrive/MyDrive/sound-of-failure/models/00_trial_VAE.hdf5\n",
            "56505/56505 [==============================] - 25s 450us/sample - loss: 0.0395 - val_loss: 0.0429\n",
            "Epoch 20/100\n",
            "56505/56505 [==============================] - ETA: 0s - loss: 0.0392\n",
            "Epoch 00020: val_loss improved from 0.04294 to 0.04293, saving model to /gdrive/MyDrive/sound-of-failure/models/00_trial_VAE.hdf5\n",
            "56505/56505 [==============================] - 26s 452us/sample - loss: 0.0392 - val_loss: 0.0429\n",
            "Epoch 21/100\n",
            "56505/56505 [==============================] - ETA: 0s - loss: 0.0391\n",
            "Epoch 00021: val_loss did not improve from 0.04293\n",
            "56505/56505 [==============================] - 25s 438us/sample - loss: 0.0391 - val_loss: 0.0434\n",
            "Epoch 22/100\n",
            "56505/56505 [==============================] - ETA: 0s - loss: 0.0388\n",
            "Epoch 00022: val_loss improved from 0.04293 to 0.04277, saving model to /gdrive/MyDrive/sound-of-failure/models/00_trial_VAE.hdf5\n",
            "56505/56505 [==============================] - 25s 451us/sample - loss: 0.0388 - val_loss: 0.0428\n",
            "Epoch 23/100\n",
            "56505/56505 [==============================] - ETA: 0s - loss: 0.0386\n",
            "Epoch 00023: val_loss improved from 0.04277 to 0.04263, saving model to /gdrive/MyDrive/sound-of-failure/models/00_trial_VAE.hdf5\n",
            "56505/56505 [==============================] - 26s 453us/sample - loss: 0.0386 - val_loss: 0.0426\n",
            "Epoch 24/100\n",
            "56505/56505 [==============================] - ETA: 0s - loss: 0.0385\n",
            "Epoch 00024: val_loss improved from 0.04263 to 0.04255, saving model to /gdrive/MyDrive/sound-of-failure/models/00_trial_VAE.hdf5\n",
            "56505/56505 [==============================] - 25s 448us/sample - loss: 0.0385 - val_loss: 0.0425\n",
            "Epoch 25/100\n",
            "56505/56505 [==============================] - ETA: 0s - loss: 0.0383\n",
            "Epoch 00025: val_loss did not improve from 0.04255\n",
            "56505/56505 [==============================] - 25s 437us/sample - loss: 0.0383 - val_loss: 0.0426\n",
            "Epoch 26/100\n",
            "56505/56505 [==============================] - ETA: 0s - loss: 0.0382\n",
            "Epoch 00026: val_loss improved from 0.04255 to 0.04239, saving model to /gdrive/MyDrive/sound-of-failure/models/00_trial_VAE.hdf5\n",
            "56505/56505 [==============================] - 25s 448us/sample - loss: 0.0382 - val_loss: 0.0424\n",
            "Epoch 27/100\n",
            "56505/56505 [==============================] - ETA: 0s - loss: 0.0381\n",
            "Epoch 00027: val_loss did not improve from 0.04239\n",
            "56505/56505 [==============================] - 25s 436us/sample - loss: 0.0381 - val_loss: 0.0427\n",
            "Epoch 28/100\n",
            "56505/56505 [==============================] - ETA: 0s - loss: 0.0380\n",
            "Epoch 00028: val_loss did not improve from 0.04239\n",
            "56505/56505 [==============================] - 25s 435us/sample - loss: 0.0380 - val_loss: 0.0424\n",
            "Epoch 29/100\n",
            "56505/56505 [==============================] - ETA: 0s - loss: 0.0378\n",
            "Epoch 00029: val_loss improved from 0.04239 to 0.04235, saving model to /gdrive/MyDrive/sound-of-failure/models/00_trial_VAE.hdf5\n",
            "56505/56505 [==============================] - 25s 450us/sample - loss: 0.0378 - val_loss: 0.0424\n",
            "Epoch 30/100\n",
            "56505/56505 [==============================] - ETA: 0s - loss: 0.0377\n",
            "Epoch 00030: val_loss did not improve from 0.04235\n",
            "56505/56505 [==============================] - 25s 437us/sample - loss: 0.0377 - val_loss: 0.0430\n",
            "Epoch 31/100\n",
            "56505/56505 [==============================] - ETA: 0s - loss: 0.0377\n",
            "Epoch 00031: val_loss did not improve from 0.04235\n",
            "56505/56505 [==============================] - 25s 439us/sample - loss: 0.0377 - val_loss: 0.0428\n",
            "Epoch 32/100\n",
            "56505/56505 [==============================] - ETA: 0s - loss: 0.0375\n",
            "Epoch 00032: val_loss improved from 0.04235 to 0.04222, saving model to /gdrive/MyDrive/sound-of-failure/models/00_trial_VAE.hdf5\n",
            "56505/56505 [==============================] - 26s 453us/sample - loss: 0.0375 - val_loss: 0.0422\n",
            "Epoch 33/100\n",
            "56505/56505 [==============================] - ETA: 0s - loss: 0.0375\n",
            "Epoch 00033: val_loss did not improve from 0.04222\n",
            "56505/56505 [==============================] - 25s 439us/sample - loss: 0.0375 - val_loss: 0.0423\n",
            "Epoch 34/100\n",
            "56505/56505 [==============================] - ETA: 0s - loss: 0.0375\n",
            "Epoch 00034: val_loss did not improve from 0.04222\n",
            "56505/56505 [==============================] - 25s 437us/sample - loss: 0.0375 - val_loss: 0.0426\n",
            "Epoch 35/100\n",
            "56505/56505 [==============================] - ETA: 0s - loss: 0.0372\n",
            "Epoch 00035: val_loss did not improve from 0.04222\n",
            "56505/56505 [==============================] - 25s 438us/sample - loss: 0.0372 - val_loss: 0.0426\n",
            "Epoch 36/100\n",
            "56505/56505 [==============================] - ETA: 0s - loss: 0.0372\n",
            "Epoch 00036: val_loss did not improve from 0.04222\n",
            "56505/56505 [==============================] - 25s 435us/sample - loss: 0.0372 - val_loss: 0.0423\n",
            "Epoch 37/100\n",
            "56505/56505 [==============================] - ETA: 0s - loss: 0.0371\n",
            "Epoch 00037: val_loss did not improve from 0.04222\n",
            "56505/56505 [==============================] - 25s 436us/sample - loss: 0.0371 - val_loss: 0.0424\n",
            "Epoch 38/100\n",
            "56505/56505 [==============================] - ETA: 0s - loss: 0.0371\n",
            "Epoch 00038: val_loss did not improve from 0.04222\n",
            "56505/56505 [==============================] - 25s 437us/sample - loss: 0.0371 - val_loss: 0.0429\n",
            "Epoch 39/100\n",
            "56505/56505 [==============================] - ETA: 0s - loss: 0.0370\n",
            "Epoch 00039: val_loss improved from 0.04222 to 0.04188, saving model to /gdrive/MyDrive/sound-of-failure/models/00_trial_VAE.hdf5\n",
            "56505/56505 [==============================] - 25s 451us/sample - loss: 0.0370 - val_loss: 0.0419\n",
            "Epoch 40/100\n",
            "56505/56505 [==============================] - ETA: 0s - loss: 0.0368\n",
            "Epoch 00040: val_loss did not improve from 0.04188\n",
            "56505/56505 [==============================] - 25s 436us/sample - loss: 0.0368 - val_loss: 0.0422\n",
            "Epoch 41/100\n",
            "56505/56505 [==============================] - ETA: 0s - loss: 0.0369\n",
            "Epoch 00041: val_loss did not improve from 0.04188\n",
            "56505/56505 [==============================] - 25s 437us/sample - loss: 0.0369 - val_loss: 0.0421\n",
            "Epoch 42/100\n",
            "56505/56505 [==============================] - ETA: 0s - loss: 0.0369\n",
            "Epoch 00042: val_loss did not improve from 0.04188\n",
            "56505/56505 [==============================] - 25s 437us/sample - loss: 0.0369 - val_loss: 0.0421\n",
            "Epoch 43/100\n",
            "56448/56505 [============================>.] - ETA: 0s - loss: 0.0367\n",
            "Epoch 00043: val_loss did not improve from 0.04188\n",
            "56505/56505 [==============================] - 25s 437us/sample - loss: 0.0367 - val_loss: 0.0421\n",
            "Epoch 44/100\n",
            "56505/56505 [==============================] - ETA: 0s - loss: 0.0367\n",
            "Epoch 00044: val_loss did not improve from 0.04188\n",
            "56505/56505 [==============================] - 25s 438us/sample - loss: 0.0367 - val_loss: 0.0422\n",
            "Epoch 45/100\n",
            "56505/56505 [==============================] - ETA: 0s - loss: 0.0367\n",
            "Epoch 00045: val_loss did not improve from 0.04188\n",
            "56505/56505 [==============================] - 25s 437us/sample - loss: 0.0367 - val_loss: 0.0426\n",
            "Epoch 46/100\n",
            "56505/56505 [==============================] - ETA: 0s - loss: 0.0367\n",
            "Epoch 00046: val_loss did not improve from 0.04188\n",
            "56505/56505 [==============================] - 25s 439us/sample - loss: 0.0367 - val_loss: 0.0437\n",
            "Epoch 47/100\n",
            "56505/56505 [==============================] - ETA: 0s - loss: 0.0365\n",
            "Epoch 00047: val_loss did not improve from 0.04188\n",
            "56505/56505 [==============================] - 25s 437us/sample - loss: 0.0365 - val_loss: 0.0425\n",
            "Epoch 48/100\n",
            "56505/56505 [==============================] - ETA: 0s - loss: 0.0365\n",
            "Epoch 00048: val_loss improved from 0.04188 to 0.04181, saving model to /gdrive/MyDrive/sound-of-failure/models/00_trial_VAE.hdf5\n",
            "56505/56505 [==============================] - 26s 452us/sample - loss: 0.0365 - val_loss: 0.0418\n",
            "Epoch 49/100\n",
            "56505/56505 [==============================] - ETA: 0s - loss: 0.0365\n",
            "Epoch 00049: val_loss did not improve from 0.04181\n",
            "56505/56505 [==============================] - 25s 438us/sample - loss: 0.0365 - val_loss: 0.0421\n",
            "Epoch 50/100\n",
            "56505/56505 [==============================] - ETA: 0s - loss: 0.0363\n",
            "Epoch 00050: val_loss did not improve from 0.04181\n",
            "56505/56505 [==============================] - 25s 438us/sample - loss: 0.0363 - val_loss: 0.0421\n",
            "Epoch 51/100\n",
            "56505/56505 [==============================] - ETA: 0s - loss: 0.0363\n",
            "Epoch 00051: val_loss did not improve from 0.04181\n",
            "56505/56505 [==============================] - 25s 439us/sample - loss: 0.0363 - val_loss: 0.0422\n",
            "Epoch 52/100\n",
            "56505/56505 [==============================] - ETA: 0s - loss: 0.0364\n",
            "Epoch 00052: val_loss did not improve from 0.04181\n",
            "56505/56505 [==============================] - 25s 437us/sample - loss: 0.0364 - val_loss: 0.0418\n",
            "Epoch 53/100\n",
            "56505/56505 [==============================] - ETA: 0s - loss: 0.0364\n",
            "Epoch 00053: val_loss did not improve from 0.04181\n",
            "56505/56505 [==============================] - 25s 437us/sample - loss: 0.0364 - val_loss: 0.0425\n",
            "Epoch 54/100\n",
            "56505/56505 [==============================] - ETA: 0s - loss: 0.0362\n",
            "Epoch 00054: val_loss did not improve from 0.04181\n",
            "56505/56505 [==============================] - 25s 438us/sample - loss: 0.0362 - val_loss: 0.0421\n",
            "Epoch 55/100\n",
            "56448/56505 [============================>.] - ETA: 0s - loss: 0.0363\n",
            "Epoch 00055: val_loss did not improve from 0.04181\n",
            "56505/56505 [==============================] - 25s 438us/sample - loss: 0.0363 - val_loss: 0.0427\n",
            "Epoch 56/100\n",
            "56505/56505 [==============================] - ETA: 0s - loss: 0.0362\n",
            "Epoch 00056: val_loss did not improve from 0.04181\n",
            "56505/56505 [==============================] - 25s 437us/sample - loss: 0.0362 - val_loss: 0.0421\n",
            "Epoch 57/100\n",
            "56505/56505 [==============================] - ETA: 0s - loss: 0.0361\n",
            "Epoch 00057: val_loss did not improve from 0.04181\n",
            "56505/56505 [==============================] - 25s 437us/sample - loss: 0.0361 - val_loss: 0.0422\n",
            "Epoch 58/100\n",
            "56505/56505 [==============================] - ETA: 0s - loss: 0.0362\n",
            "Epoch 00058: val_loss did not improve from 0.04181\n",
            "56505/56505 [==============================] - 25s 438us/sample - loss: 0.0362 - val_loss: 0.0425\n",
            "Epoch 59/100\n",
            "56505/56505 [==============================] - ETA: 0s - loss: 0.0361\n",
            "Epoch 00059: val_loss did not improve from 0.04181\n",
            "56505/56505 [==============================] - 25s 437us/sample - loss: 0.0361 - val_loss: 0.0418\n",
            "Epoch 60/100\n",
            "56505/56505 [==============================] - ETA: 0s - loss: 0.0360\n",
            "Epoch 00060: val_loss did not improve from 0.04181\n",
            "56505/56505 [==============================] - 25s 437us/sample - loss: 0.0360 - val_loss: 0.0422\n",
            "Epoch 61/100\n",
            "56505/56505 [==============================] - ETA: 0s - loss: 0.0360\n",
            "Epoch 00061: val_loss did not improve from 0.04181\n",
            "56505/56505 [==============================] - 25s 439us/sample - loss: 0.0360 - val_loss: 0.0424\n",
            "Epoch 62/100\n",
            "56505/56505 [==============================] - ETA: 0s - loss: 0.0360\n",
            "Epoch 00062: val_loss did not improve from 0.04181\n",
            "56505/56505 [==============================] - 25s 437us/sample - loss: 0.0360 - val_loss: 0.0421\n",
            "Epoch 63/100\n",
            "56505/56505 [==============================] - ETA: 0s - loss: 0.0359\n",
            "Epoch 00063: val_loss did not improve from 0.04181\n",
            "56505/56505 [==============================] - 25s 437us/sample - loss: 0.0359 - val_loss: 0.0421\n",
            "Epoch 00063: early stopping\n"
          ],
          "name": "stdout"
        },
        {
          "output_type": "display_data",
          "data": {
            "image/png": "[encoded data removed]",
            "text/plain": [
              "<Figure size 432x432 with 1 Axes>"
            ]
          },
          "metadata": {
            "tags": [],
            "needs_background": "light"
          }
        }
      ]
    },
    {
      "cell_type": "markdown",
      "metadata": {
        "id": "k6wRA8FTq9N3"
      },
      "source": [
        "# Model evaluation\n"
      ]
    },
    {
      "cell_type": "code",
      "metadata": {
        "colab": {
          "base_uri": "https://localhost:8080/",
          "height": 120
        },
        "id": "mEQPtwLAq8B9",
        "outputId": "03ed5df5-2697-486d-c7a6-b3c57013933b"
      },
      "source": [
        "\"\"\"saved_model = train.load_saved_model('/gdrive/MyDrive/sound-of-failure/models/00_trial_VAE.hdf5')\n",
        "\n",
        "y_pred = np.zeros(len(test_files))\n",
        "y_true = test_labels\n",
        "\n",
        "for idx, test_file in tqdm.tqdm(enumerate(test_files), total=len(test_files)):\n",
        "  #print(\"File no.={}, location={}, label={}\".format(idx, test_file, test_label))\n",
        "\n",
        "  mel = np.load(test_file)\n",
        "\n",
        "  scaled_mel = spec.apply_scaler_to_mel(scaler, mel)\n",
        "\n",
        "  batch = splt.subsample_from_mel(scaled_mel, DIM, STEP)\n",
        "\n",
        "  batch_prediction = saved_model.predict(batch)\n",
        "\n",
        "  squared_error = np.square(batch - batch_prediction)\n",
        "  channelwise_error = np.mean(squared_error, axis=-1)\n",
        "  reconstruction_error = np.mean(channelwise_error)\n",
        "\n",
        "  y_pred[idx] = reconstruction_error\n",
        "\n",
        "\n",
        "auc_score = metrics.roc_auc_score(y_true, y_pred)\n",
        "print(\"Roc AUC score={}\".format(auc_score))\"\"\""
      ],
      "execution_count": 17,
      "outputs": [
        {
          "output_type": "execute_result",
          "data": {
            "application/vnd.google.colaboratory.intrinsic+json": {
              "type": "string"
            },
            "text/plain": [
              "'saved_model = train.load_saved_model(\\'/gdrive/MyDrive/sound-of-failure/models/00_trial_VAE.hdf5\\')\\n\\ny_pred = np.zeros(len(test_files))\\ny_true = test_labels\\n\\nfor idx, test_file in tqdm.tqdm(enumerate(test_files), total=len(test_files)):\\n  #print(\"File no.={}, location={}, label={}\".format(idx, test_file, test_label))\\n\\n  mel = np.load(test_file)\\n\\n  scaled_mel = spec.apply_scaler_to_mel(scaler, mel)\\n\\n  batch = splt.subsample_from_mel(scaled_mel, DIM, STEP)\\n\\n  batch_prediction = saved_model.predict(batch)\\n\\n  squared_error = np.square(batch - batch_prediction)\\n  channelwise_error = np.mean(squared_error, axis=-1)\\n  reconstruction_error = np.mean(channelwise_error)\\n\\n  y_pred[idx] = reconstruction_error\\n\\n\\nauc_score = metrics.roc_auc_score(y_true, y_pred)\\nprint(\"Roc AUC score={}\".format(auc_score))'"
            ]
          },
          "metadata": {
            "tags": []
          },
          "execution_count": 17
        }
      ]
    },
    {
      "cell_type": "markdown",
      "metadata": {
        "id": "idZ42GyD5MXl"
      },
      "source": [
        "### Load trained model"
      ]
    },
    {
      "cell_type": "code",
      "metadata": {
        "id": "3afvtoaS9oYd"
      },
      "source": [
        "saved_model = train.load_saved_model('/gdrive/MyDrive/sound-of-failure/models/00_trial_VAE.hdf5')"
      ],
      "execution_count": 18,
      "outputs": []
    },
    {
      "cell_type": "markdown",
      "metadata": {
        "id": "0jxzD2Nr5yn4"
      },
      "source": [
        "### Reconstruction error and ROC curve"
      ]
    },
    {
      "cell_type": "code",
      "metadata": {
        "colab": {
          "base_uri": "https://localhost:8080/"
        },
        "id": "z9_p_17c5xtO",
        "outputId": "21dbf2db-82ff-49f6-c30e-96e1768057e4"
      },
      "source": [
        "# Reconstruction loss for test and train spectrograms\n",
        "reco_loss_test = eval.reco_loss(model=saved_model, \n",
        "                                scaler=scaler,\n",
        "                                dim=DIM,\n",
        "                                step=STEP,\n",
        "                                test_files=test_files)\n",
        "\n",
        "reco_loss_train = eval.reco_loss(model=saved_model, \n",
        "                                scaler=scaler,\n",
        "                                dim=DIM,\n",
        "                                step=STEP,\n",
        "                                test_files=train_files)"
      ],
      "execution_count": 19,
      "outputs": [
        {
          "output_type": "stream",
          "text": [
            "\r  0%|          | 0/238 [00:00<?, ?it/s]/usr/local/lib/python3.7/dist-packages/tensorflow/python/keras/engine/training.py:2325: UserWarning: `Model.state_updates` will be removed in a future version. This property should not be used in TensorFlow 2.0, as `updates` are applied automatically.\n",
            "  warnings.warn('`Model.state_updates` will be removed in a future version. '\n",
            "100%|██████████| 238/238 [00:03<00:00, 61.37it/s]\n",
            "100%|██████████| 872/872 [00:12<00:00, 67.20it/s]\n"
          ],
          "name": "stderr"
        }
      ]
    },
    {
      "cell_type": "code",
      "metadata": {
        "colab": {
          "base_uri": "https://localhost:8080/",
          "height": 405
        },
        "id": "_BLhZHvN6uzf",
        "outputId": "924308e4-dbb7-4eb8-f77c-5a5a1153276c"
      },
      "source": [
        "# ROC curve and ROC AUC score (for test data)\n",
        "eval.plot_roc_curve(test_labels, reco_loss_test)"
      ],
      "execution_count": 20,
      "outputs": [
        {
          "output_type": "stream",
          "text": [
            "Roc AUC score=0.970129228161853\n"
          ],
          "name": "stdout"
        },
        {
          "output_type": "display_data",
          "data": {
            "image/png": "[encoded data removed]",
            "text/plain": [
              "<Figure size 432x432 with 1 Axes>"
            ]
          },
          "metadata": {
            "tags": [],
            "needs_background": "light"
          }
        }
      ]
    },
    {
      "cell_type": "code",
      "metadata": {
        "colab": {
          "base_uri": "https://localhost:8080/",
          "height": 350
        },
        "id": "by67dGZk7EkM",
        "outputId": "194d7335-72c6-4edf-d404-e3b650a3c81a"
      },
      "source": [
        "# Visualize separation between normal and abnormal reconstruction loss\n",
        "eval.plot_losses(y_true=test_labels,\n",
        "                 y_pred=reco_loss_test,\n",
        "                 y_train=reco_loss_train,\n",
        "                 title=\"Reconstruction Loss\",\n",
        "                 xlabel='Reconstruction Loss')"
      ],
      "execution_count": 21,
      "outputs": [
        {
          "output_type": "display_data",
          "data": {
            "image/png": "[encoded data removed]",
            "text/plain": [
              "<Figure size 576x360 with 1 Axes>"
            ]
          },
          "metadata": {
            "tags": [],
            "needs_background": "light"
          }
        }
      ]
    },
    {
      "cell_type": "markdown",
      "metadata": {
        "id": "HSfLoTuo7uOk"
      },
      "source": [
        "### KL Divergence loss"
      ]
    },
    {
      "cell_type": "code",
      "metadata": {
        "colab": {
          "base_uri": "https://localhost:8080/"
        },
        "id": "Fsj1grm57qbL",
        "outputId": "cd68b6ce-9767-40b4-ee63-6d43e6dd8de6"
      },
      "source": [
        "# KL-divergence for the test and train spectrograms\n",
        "kl_loss_test = eval.kl_loss(model=my_model, \n",
        "                            scaler=scaler,\n",
        "                            dim=DIM,\n",
        "                            step=STEP,\n",
        "                            test_files=test_files)\n",
        "\n",
        "kl_loss_train = eval.kl_loss(model=my_model, \n",
        "                            scaler=scaler,\n",
        "                            dim=DIM,\n",
        "                            step=STEP,\n",
        "                            test_files=train_files)"
      ],
      "execution_count": 22,
      "outputs": [
        {
          "output_type": "stream",
          "text": [
            "\r  0%|          | 0/238 [00:00<?, ?it/s]/usr/local/lib/python3.7/dist-packages/tensorflow/python/keras/engine/training.py:2325: UserWarning: `Model.state_updates` will be removed in a future version. This property should not be used in TensorFlow 2.0, as `updates` are applied automatically.\n",
            "  warnings.warn('`Model.state_updates` will be removed in a future version. '\n",
            "100%|██████████| 238/238 [01:05<00:00,  3.64it/s]\n",
            "100%|██████████| 872/872 [06:26<00:00,  2.26it/s]\n"
          ],
          "name": "stderr"
        }
      ]
    },
    {
      "cell_type": "code",
      "metadata": {
        "colab": {
          "base_uri": "https://localhost:8080/",
          "height": 350
        },
        "id": "B5pBiNM78Tmg",
        "outputId": "4f16e21f-8403-4a4e-9a57-5bf2372422f1"
      },
      "source": [
        "# Visualize separation between normal and abnormal KL_divergence loss\n",
        "eval.plot_losses(y_true=test_labels,\n",
        "                 y_pred=kl_loss_test,\n",
        "                 y_train=kl_loss_train,\n",
        "                 title=\"KL-divergence Loss\",\n",
        "                 xlabel='KL-divergence Loss')"
      ],
      "execution_count": 23,
      "outputs": [
        {
          "output_type": "display_data",
          "data": {
            "image/png": "[encoded data removed]",
            "text/plain": [
              "<Figure size 576x360 with 1 Axes>"
            ]
          },
          "metadata": {
            "tags": [],
            "needs_background": "light"
          }
        }
      ]
    },
    {
      "cell_type": "code",
      "metadata": {
        "id": "OaoLThO8N_Oq"
      },
      "source": [
        ""
      ],
      "execution_count": 23,
      "outputs": []
    }
  ]
}