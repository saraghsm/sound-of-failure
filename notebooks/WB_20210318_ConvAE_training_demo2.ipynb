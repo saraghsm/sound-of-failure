{
  "nbformat": 4,
  "nbformat_minor": 0,
  "metadata": {
    "colab": {
      "name": "WB_20210318_ConvAE_training_demo2.ipynb",
      "provenance": [],
      "collapsed_sections": []
    },
    "kernelspec": {
      "name": "python3",
      "display_name": "Python 3"
    },
    "accelerator": "GPU"
  },
  "cells": [
    {
      "cell_type": "markdown",
      "metadata": {
        "id": "Mv8aAIa0HcMf"
      },
      "source": [
        "# Import Packages"
      ]
    },
    {
      "cell_type": "code",
      "metadata": {
        "id": "N4YWwxNTHbi2",
        "colab": {
          "base_uri": "https://localhost:8080/"
        },
        "outputId": "6f9f991d-258b-49e4-9912-45f3f0249fdc"
      },
      "source": [
        "import sys\n",
        "import os\n",
        "import shutil\n",
        "import librosa\n",
        "import glob\n",
        "import tqdm\n",
        "import json\n",
        "import ast\n",
        "import random\n",
        "\n",
        "from librosa import display as ld\n",
        "\n",
        "import tensorflow as tf\n",
        "from tensorflow.keras.models import Model\n",
        "from tensorflow.keras import layers\n",
        "from tensorflow.keras import backend as K\n",
        "\n",
        "from sklearn.preprocessing import StandardScaler\n",
        "from sklearn.externals.joblib import load, dump\n",
        "from sklearn import metrics\n",
        "from sklearn.preprocessing import StandardScaler, MinMaxScaler\n",
        "\n",
        "from IPython import display as ipd\n",
        "import numpy as np\n",
        "import matplotlib.pyplot as plt\n",
        "import seaborn as sns\n",
        "\n",
        "import joblib\n",
        "from configparser import ConfigParser"
      ],
      "execution_count": 1,
      "outputs": [
        {
          "output_type": "stream",
          "text": [
            "/usr/local/lib/python3.7/dist-packages/sklearn/externals/joblib/__init__.py:15: FutureWarning: sklearn.externals.joblib is deprecated in 0.21 and will be removed in 0.23. Please import this functionality directly from joblib, which can be installed with: pip install joblib. If this warning is raised when loading pickled models, you may need to re-serialize those models with scikit-learn 0.21+.\n",
            "  warnings.warn(msg, category=FutureWarning)\n"
          ],
          "name": "stderr"
        }
      ]
    },
    {
      "cell_type": "markdown",
      "metadata": {
        "id": "9fTJnTN9Hte0"
      },
      "source": [
        "# Mount Google Drive\n",
        "#### 1. First mount"
      ]
    },
    {
      "cell_type": "code",
      "metadata": {
        "colab": {
          "base_uri": "https://localhost:8080/"
        },
        "id": "0qhTQeB2upJN",
        "outputId": "3401be86-e677-464a-95a6-a0be34613fbd"
      },
      "source": [
        "from google.colab import drive\n",
        "drive.mount('/gdrive')\n",
        "%cd /gdrive/MyDrive/sound-of-failure"
      ],
      "execution_count": 2,
      "outputs": [
        {
          "output_type": "stream",
          "text": [
            "Drive already mounted at /gdrive; to attempt to forcibly remount, call drive.mount(\"/gdrive\", force_remount=True).\n",
            "/gdrive/MyDrive/sound-of-failure\n"
          ],
          "name": "stdout"
        }
      ]
    },
    {
      "cell_type": "markdown",
      "metadata": {
        "id": "PGyZQ7M0t-py"
      },
      "source": [
        "#### 2. Remount"
      ]
    },
    {
      "cell_type": "code",
      "metadata": {
        "colab": {
          "base_uri": "https://localhost:8080/"
        },
        "id": "AeEkdLfFk-0e",
        "outputId": "5e4209c8-f616-4ce8-eb72-3815d0171257"
      },
      "source": [
        "%cd ../../..\n",
        "drive.flush_and_unmount()\n",
        "drive.mount('/gdrive', force_remount=True)\n",
        "%cd /gdrive/My Drive/sound-of-failure"
      ],
      "execution_count": 3,
      "outputs": [
        {
          "output_type": "stream",
          "text": [
            "/\n",
            "Mounted at /gdrive\n",
            "/gdrive/My Drive/sound-of-failure\n"
          ],
          "name": "stdout"
        }
      ]
    },
    {
      "cell_type": "markdown",
      "metadata": {
        "id": "rrWBR69_IGJj"
      },
      "source": [
        "# Import Own Modules"
      ]
    },
    {
      "cell_type": "code",
      "metadata": {
        "id": "Xo7kKPNOIMz-",
        "colab": {
          "base_uri": "https://localhost:8080/"
        },
        "outputId": "4ab3558e-0dcf-4fc1-deaa-93471729c813"
      },
      "source": [
        "sys.path += ['src/01_data_processing', 'src/02_modelling']\n",
        "\n",
        "import spectrogram as spec\n",
        "import train_test_split as splt\n",
        "from conv_autoencoder import ConvAutoencoder"
      ],
      "execution_count": 4,
      "outputs": [
        {
          "output_type": "stream",
          "text": [
            "hello world\n",
            "/gdrive/My Drive/sound-of-failure\n"
          ],
          "name": "stdout"
        }
      ]
    },
    {
      "cell_type": "markdown",
      "metadata": {
        "id": "nlIUwYBnSuOd"
      },
      "source": [
        "# Global constants"
      ]
    },
    {
      "cell_type": "markdown",
      "metadata": {
        "id": "PM7yY9Hte7AG"
      },
      "source": [
        "### First run the scripts for building the config files.\n",
        "\n",
        "Some of the parameters can be passed through the command line.\n",
        "At present the command line parameters are the following :\n",
        "\n",
        "1. conf_base.py : Script for building the base config file (saves in sound-of-failure/conf/conf_base.ini)\n",
        "        -raw : Pass the location of the raw data dir\n",
        "\n",
        "\n",
        "2. conf_convAE.py : Script for building the config file holding the parameters for Mel Spectrogram and Convolutional Autoencoder (saves in sound-of-failure/conf/conf_convAE.ini)\n",
        "        -mel : No. of mels\n",
        "        -fft : No. of FFT bands\n",
        "        -hop : Hop length for the sliding window while calculating FFT\n",
        "        -dim : Time dimension of one spectrogram block after chunking the whole spectrogram\n",
        "        -s : Step for the sliding window for creating chunks from one spectrogram\n"
      ]
    },
    {
      "cell_type": "markdown",
      "metadata": {
        "id": "HPc6UkH2tZQX"
      },
      "source": [
        "To check the description of the command line parameters one could activate the '-h' flag. For example :"
      ]
    },
    {
      "cell_type": "code",
      "metadata": {
        "colab": {
          "base_uri": "https://localhost:8080/"
        },
        "id": "QQkcCK8Ct3Lm",
        "outputId": "c4777036-f294-49c8-e822-a70ad19e1c98"
      },
      "source": [
        "%run /gdrive/MyDrive/sound-of-failure/src/00_utils/make_conf_convAE.py -h"
      ],
      "execution_count": 5,
      "outputs": [
        {
          "output_type": "stream",
          "text": [
            "usage: make_conf_convAE.py [-h] [-mel] [-fft] [-hop] [-dim] [-s]\n",
            "\n",
            "Params for Spectrogram and Conv AE\n",
            "\n",
            "optional arguments:\n",
            "  -h, --help            show this help message and exit\n",
            "  -mel , --n_mels       No. of mel bands\n",
            "  -fft , --n_fft        No. of FFT bands\n",
            "  -hop , --hop_length   Hop length for FFT calc\n",
            "  -dim , --dim          Time dimension of Spectrogram block\n",
            "  -s , --step           Sliding window step for Spectrogram chunking\n"
          ],
          "name": "stdout"
        }
      ]
    },
    {
      "cell_type": "code",
      "metadata": {
        "id": "A3Id9ote4biL"
      },
      "source": [
        "%run /gdrive/MyDrive/sound-of-failure/src/00_utils/make_conf_base.py -raw '/gdrive/MyDrive/Hitachi_data/dataset'\n",
        "%run /gdrive/MyDrive/sound-of-failure/src/00_utils/make_conf_convAE.py -mel 128 -fft 1024 -hop 512 -dim 32 -s 8"
      ],
      "execution_count": 6,
      "outputs": []
    },
    {
      "cell_type": "markdown",
      "metadata": {
        "id": "gNT43QWpf7Zo"
      },
      "source": [
        "### Then read from the config files\n",
        "\n",
        "There are two config files : \n",
        "\n",
        "1. sound-of-failure/conf/**conf_base**.ini\n",
        "2. sound-of-failure/conf/**conf_convAE**.ini"
      ]
    },
    {
      "cell_type": "code",
      "metadata": {
        "id": "TorEBX3N9lik"
      },
      "source": [
        "def read_config(config_file):\n",
        "  \"\"\"\n",
        "  Function for reading config files\n",
        "  \"\"\"\n",
        "  config = ConfigParser()\n",
        "  config.read(config_file)\n",
        "  return config"
      ],
      "execution_count": 7,
      "outputs": []
    },
    {
      "cell_type": "code",
      "metadata": {
        "id": "ygPws2kf-gMS"
      },
      "source": [
        "base_conf = read_config('/gdrive/MyDrive/sound-of-failure/conf/conf_base.ini')\n",
        "param_conf = read_config('/gdrive/MyDrive/sound-of-failure/conf/conf_convAE.ini')"
      ],
      "execution_count": 8,
      "outputs": []
    },
    {
      "cell_type": "markdown",
      "metadata": {
        "id": "XhqKBfNNhzDG"
      },
      "source": [
        "#### Read the parameters directly from the config files\n",
        "\n",
        "Question : Should the reading of config files be done within notebooks or the source script should directly read from them?"
      ]
    },
    {
      "cell_type": "code",
      "metadata": {
        "id": "1YtgVox0-7b3"
      },
      "source": [
        "# Directories\n",
        "RAW_DATA_DIR = base_conf['directories']['raw_data_dir']\n",
        "BASE_DIR = base_conf['directories']['base_dir']\n",
        "\n",
        "\n",
        "# Mel spectrograms\n",
        "N_MELS = param_conf.getint('melspec', 'n_mels')\n",
        "N_FFT = param_conf.getint('melspec', 'n_fft')\n",
        "HOP_LENGTH = param_conf.getint('melspec', 'hop_length')\n",
        "POWER = param_conf.getfloat('melspec', 'power')\n",
        "WINDOW = param_conf.get('melspec', 'window')\n",
        "\n",
        "\n",
        "# Subsampling\n",
        "DIM = param_conf.getint('melspec', 'dim')\n",
        "STEP = param_conf.getint('melspec', 'step')\n",
        "\n",
        "\n",
        "# Scaler and cost function\n",
        "SCALER_TYPE = param_conf.get('model', 'scaler')\n",
        "LOSS = param_conf.get('model', 'loss')\n",
        "\n",
        "\n",
        "# Optimizer\n",
        "OPTIMIZER = param_conf.get('model', 'optimizer')\n",
        "EPOCHS = param_conf.getint('model', 'epochs')\n",
        "BATCH_SIZE = param_conf.getint('model', 'batch_size')\n",
        "VALIDATION_SPLIT = param_conf.getfloat('model', 'val_split')\n",
        "SHUFFLE = param_conf.getboolean('model', 'shuffle')\n",
        "\n",
        "\n",
        "# Autoencoder\n",
        "INPUT_SHAPE = (param_conf.getint('melspec', 'dim'),\n",
        "               param_conf.getint('melspec', 'n_mels'),\n",
        "               1)\n",
        "\n",
        "LATENT_DIM = param_conf.getint('autoencoder', 'latentdim')\n",
        "NUM_NODES = json.loads(param_conf.get('autoencoder', 'num_nodes'))\n",
        "NUM_KERNEL = json.loads(param_conf.get('autoencoder', 'num_kernel'))\n",
        "NUM_STRIDES = param_conf.get('autoencoder', 'num_strides')\n",
        "NUM_STRIDES = list(ast.literal_eval(NUM_STRIDES))\n",
        "\n",
        "\n",
        "# Data\n",
        "DB = param_conf.get('data', 'noise')\n",
        "MACHINE_TYPE = param_conf.get('data', 'machine')\n",
        "MACHINE_ID = param_conf.get('data', 'machine_id')"
      ],
      "execution_count": 9,
      "outputs": []
    },
    {
      "cell_type": "markdown",
      "metadata": {
        "id": "nNCFbJV8SAX1"
      },
      "source": [
        "# Execute preprocessing steps\n",
        "#### 1. Generate unscaled mel spectrograms (~ 5 minutes)"
      ]
    },
    {
      "cell_type": "code",
      "metadata": {
        "colab": {
          "base_uri": "https://localhost:8080/"
        },
        "id": "Dc0KZB_h9nwL",
        "outputId": "709c4721-e239-4811-986c-9c7e06b0dfdd"
      },
      "source": [
        "spec.make_mel_dirs(BASE_DIR, DB, MACHINE_TYPE, MACHINE_ID)\n",
        "\n",
        "spec.make_mels(RAW_DATA_DIR, BASE_DIR, \n",
        "               DB, MACHINE_TYPE, MACHINE_ID, \n",
        "               N_MELS, N_FFT, HOP_LENGTH, POWER, WINDOW)"
      ],
      "execution_count": 10,
      "outputs": [
        {
          "output_type": "stream",
          "text": [
            "Generate normal spectrograms and save to /gdrive/MyDrive/sound-of-failure/data/mel_spectrograms/6dB/valve/id_00/normal.\n",
            "Generate abnormal spectrograms and save to /gdrive/MyDrive/sound-of-failure/data/mel_spectrograms/6dB/valve/id_00/abnormal.\n"
          ],
          "name": "stdout"
        }
      ]
    },
    {
      "cell_type": "markdown",
      "metadata": {
        "id": "9cFvil9_SMTt"
      },
      "source": [
        "#### 2. Separate train and test files"
      ]
    },
    {
      "cell_type": "code",
      "metadata": {
        "id": "77iQhf4K9n33"
      },
      "source": [
        "train_files, train_labels, test_files, test_labels = splt.make_train_test_split(BASE_DIR, \n",
        "                                                                           DB, MACHINE_TYPE, MACHINE_ID, \n",
        "                                                                           random_seed=1)"
      ],
      "execution_count": 11,
      "outputs": []
    },
    {
      "cell_type": "markdown",
      "metadata": {
        "id": "VQ4hNFi5SWK5"
      },
      "source": [
        "#### 3. Fit scaler to train files"
      ]
    },
    {
      "cell_type": "markdown",
      "metadata": {
        "id": "aZxJV_ediUP1"
      },
      "source": [
        "#### 3.1 Plot an example spectrogram\n",
        "\n",
        "Just a sanity check"
      ]
    },
    {
      "cell_type": "code",
      "metadata": {
        "colab": {
          "base_uri": "https://localhost:8080/",
          "height": 295
        },
        "id": "Q6_eI568XV3m",
        "outputId": "306bf99a-0b53-428f-b2f8-11d89ab396f0"
      },
      "source": [
        "spect = np.load('/gdrive/MyDrive/sound-of-failure/data/mel_spectrograms/6dB/valve/id_00/normal/00000990.npy')\n",
        "\n",
        "fig, ax = plt.subplots()\n",
        "plt.title(\"Example spectrogram \")\n",
        "img = ld.specshow(spect, \n",
        "                    x_axis='time', \n",
        "                    y_axis='mel', \n",
        "                    sr=16000, \n",
        "                    fmax=8000, \n",
        "                    ax=ax)\n",
        "\n",
        "fig.colorbar(img, ax=ax)\n",
        "plt.show()\n",
        "plt.close()"
      ],
      "execution_count": 12,
      "outputs": [
        {
          "output_type": "display_data",
          "data": {
            "image/png": "[encoded data removed]",
            "text/plain": [
              "<Figure size 432x288 with 2 Axes>"
            ]
          },
          "metadata": {
            "tags": [],
            "needs_background": "light"
          }
        }
      ]
    },
    {
      "cell_type": "code",
      "metadata": {
        "id": "cXQ_834-9n7y"
      },
      "source": [
        "scaler = spec.create_scaler(SCALER_TYPE)\n",
        "spec.fit_scaler_to_mel_files(scaler, train_files)"
      ],
      "execution_count": 13,
      "outputs": []
    },
    {
      "cell_type": "markdown",
      "metadata": {
        "id": "MsHNzTQESepd"
      },
      "source": [
        "#### 4. Generate training data from scaling and subsampling mel spectrograms"
      ]
    },
    {
      "cell_type": "code",
      "metadata": {
        "id": "behp3UQGDDz7"
      },
      "source": [
        "train_data = splt.generate_train_data(train_files, scaler, DIM, STEP)"
      ],
      "execution_count": 14,
      "outputs": []
    },
    {
      "cell_type": "code",
      "metadata": {
        "colab": {
          "base_uri": "https://localhost:8080/"
        },
        "id": "i8XIS0EWHMBT",
        "outputId": "c17aab7a-605f-423f-c4af-0b29e1e1c55a"
      },
      "source": [
        "train_data.shape"
      ],
      "execution_count": 15,
      "outputs": [
        {
          "output_type": "execute_result",
          "data": {
            "text/plain": [
              "(32264, 32, 128, 1)"
            ]
          },
          "metadata": {
            "tags": []
          },
          "execution_count": 15
        }
      ]
    },
    {
      "cell_type": "markdown",
      "metadata": {
        "id": "J6VStMg7VFDj"
      },
      "source": [
        "# Modelling"
      ]
    },
    {
      "cell_type": "markdown",
      "metadata": {
        "id": "LlzbhcxnYubl"
      },
      "source": [
        "### Build Convolutional Autoencoder"
      ]
    },
    {
      "cell_type": "code",
      "metadata": {
        "colab": {
          "base_uri": "https://localhost:8080/"
        },
        "id": "URd_-ubwHMM9",
        "outputId": "8845bc6d-5b1b-426a-d967-59c1154d5232"
      },
      "source": [
        "my_model = ConvAutoencoder(input_shape=INPUT_SHAPE,\n",
        "                           num_nodes=NUM_NODES,\n",
        "                           num_kernel=NUM_KERNEL,\n",
        "                           num_strides=NUM_STRIDES,\n",
        "                           latent_dim=LATENT_DIM)\n",
        "\n",
        "print(my_model.summary())"
      ],
      "execution_count": 16,
      "outputs": [
        {
          "output_type": "stream",
          "text": [
            "This is my autoencoder\n",
            "Model: \"Encoder\"\n",
            "_________________________________________________________________\n",
            "Layer (type)                 Output Shape              Param #   \n",
            "=================================================================\n",
            "Encoder_input (InputLayer)   [(None, 32, 128, 1)]      0         \n",
            "_________________________________________________________________\n",
            "Conv_enc0 (Conv2D)           (None, 32, 64, 32)        832       \n",
            "_________________________________________________________________\n",
            "BatchNorm_enc0 (BatchNormali (None, 32, 64, 32)        128       \n",
            "_________________________________________________________________\n",
            "ReLU_enc0 (ReLU)             (None, 32, 64, 32)        0         \n",
            "_________________________________________________________________\n",
            "Conv_enc1 (Conv2D)           (None, 16, 32, 64)        51264     \n",
            "_________________________________________________________________\n",
            "BatchNorm_enc1 (BatchNormali (None, 16, 32, 64)        256       \n",
            "_________________________________________________________________\n",
            "ReLU_enc1 (ReLU)             (None, 16, 32, 64)        0         \n",
            "_________________________________________________________________\n",
            "Conv_enc2 (Conv2D)           (None, 8, 16, 128)        73856     \n",
            "_________________________________________________________________\n",
            "BatchNorm_enc2 (BatchNormali (None, 8, 16, 128)        512       \n",
            "_________________________________________________________________\n",
            "ReLU_enc2 (ReLU)             (None, 8, 16, 128)        0         \n",
            "_________________________________________________________________\n",
            "Conv_enc3 (Conv2D)           (None, 8, 8, 256)         295168    \n",
            "_________________________________________________________________\n",
            "BatchNorm_enc3 (BatchNormali (None, 8, 8, 256)         1024      \n",
            "_________________________________________________________________\n",
            "ReLU_enc3 (ReLU)             (None, 8, 8, 256)         0         \n",
            "_________________________________________________________________\n",
            "Flatten_enc (Flatten)        (None, 16384)             0         \n",
            "_________________________________________________________________\n",
            "Latent_enc (Dense)           (None, 20)                327700    \n",
            "=================================================================\n",
            "Total params: 750,740\n",
            "Trainable params: 749,780\n",
            "Non-trainable params: 960\n",
            "_________________________________________________________________\n",
            "Shape before flatten=(8, 8, 256)\n",
            "Model: \"Decoder\"\n",
            "_________________________________________________________________\n",
            "Layer (type)                 Output Shape              Param #   \n",
            "=================================================================\n",
            "decoder_input (InputLayer)   [(None, 20)]              0         \n",
            "_________________________________________________________________\n",
            "Decoder_dense (Dense)        (None, 16384)             344064    \n",
            "_________________________________________________________________\n",
            "reshape (Reshape)            (None, 8, 8, 256)         0         \n",
            "_________________________________________________________________\n",
            "Decoder_ConvTrans2 (Conv2DTr (None, 8, 16, 128)        295040    \n",
            "_________________________________________________________________\n",
            "Decoder_BatchNorm2 (BatchNor (None, 8, 16, 128)        512       \n",
            "_________________________________________________________________\n",
            "Decoder_ReLU2 (ReLU)         (None, 8, 16, 128)        0         \n",
            "_________________________________________________________________\n",
            "Decoder_ConvTrans3 (Conv2DTr (None, 16, 32, 64)        204864    \n",
            "_________________________________________________________________\n",
            "Decoder_BatchNorm3 (BatchNor (None, 16, 32, 64)        256       \n",
            "_________________________________________________________________\n",
            "Decoder_ReLU3 (ReLU)         (None, 16, 32, 64)        0         \n",
            "_________________________________________________________________\n",
            "Decoder_ConvTrans4 (Conv2DTr (None, 32, 64, 32)        51232     \n",
            "_________________________________________________________________\n",
            "Decoder_BatchNorm4 (BatchNor (None, 32, 64, 32)        128       \n",
            "_________________________________________________________________\n",
            "Decoder_ReLU4 (ReLU)         (None, 32, 64, 32)        0         \n",
            "_________________________________________________________________\n",
            "Decoder_output (Conv2DTransp (None, 32, 128, 1)        801       \n",
            "=================================================================\n",
            "Total params: 896,897\n",
            "Trainable params: 896,449\n",
            "Non-trainable params: 448\n",
            "_________________________________________________________________\n",
            "Model: \"model\"\n",
            "_________________________________________________________________\n",
            "Layer (type)                 Output Shape              Param #   \n",
            "=================================================================\n",
            "Encoder_input (InputLayer)   [(None, 32, 128, 1)]      0         \n",
            "_________________________________________________________________\n",
            "Encoder (Functional)         (None, 20)                750740    \n",
            "_________________________________________________________________\n",
            "Decoder (Functional)         (None, 32, 128, 1)        896897    \n",
            "=================================================================\n",
            "Total params: 1,647,637\n",
            "Trainable params: 1,646,229\n",
            "Non-trainable params: 1,408\n",
            "_________________________________________________________________\n",
            "None\n"
          ],
          "name": "stdout"
        }
      ]
    },
    {
      "cell_type": "code",
      "metadata": {
        "id": "c1wcjHHIVC-Q",
        "colab": {
          "base_uri": "https://localhost:8080/",
          "height": 1000
        },
        "outputId": "4972067c-0c1f-4cb4-ada1-54d5ca65e9bf"
      },
      "source": [
        "model = my_model.model\n",
        "\n",
        "model.compile(loss=LOSS, optimizer=OPTIMIZER)\n",
        "\n",
        "history = model.fit(train_data,\n",
        "                    train_data,\n",
        "                    epochs=EPOCHS,\n",
        "                    batch_size=BATCH_SIZE,\n",
        "                    validation_split=VALIDATION_SPLIT,\n",
        "                    shuffle=SHUFFLE,\n",
        "                    verbose=1)\n",
        "\n",
        "plt.plot(history.history['loss'], label='loss')\n",
        "plt.plot(history.history['val_loss'], label='val_loss')\n",
        "plt.legend()\n",
        "plt.xlabel(\"Epochs\")\n",
        "plt.ylabel(\"Loss\")\n",
        "plt.show()\n",
        "plt.close()"
      ],
      "execution_count": 17,
      "outputs": [
        {
          "output_type": "stream",
          "text": [
            "Epoch 1/30\n",
            "454/454 [==============================] - 47s 31ms/step - loss: 0.2479 - val_loss: 0.1094\n",
            "Epoch 2/30\n",
            "454/454 [==============================] - 13s 29ms/step - loss: 0.0924 - val_loss: 0.0927\n",
            "Epoch 3/30\n",
            "454/454 [==============================] - 13s 29ms/step - loss: 0.0769 - val_loss: 0.0907\n",
            "Epoch 4/30\n",
            "454/454 [==============================] - 13s 29ms/step - loss: 0.0733 - val_loss: 0.0746\n",
            "Epoch 5/30\n",
            "454/454 [==============================] - 13s 30ms/step - loss: 0.0717 - val_loss: 0.0756\n",
            "Epoch 6/30\n",
            "454/454 [==============================] - 14s 30ms/step - loss: 0.0698 - val_loss: 0.0872\n",
            "Epoch 7/30\n",
            "454/454 [==============================] - 14s 30ms/step - loss: 0.0697 - val_loss: 0.0786\n",
            "Epoch 8/30\n",
            "454/454 [==============================] - 14s 30ms/step - loss: 0.0694 - val_loss: 0.0857\n",
            "Epoch 9/30\n",
            "454/454 [==============================] - 14s 30ms/step - loss: 0.0682 - val_loss: 0.0709\n",
            "Epoch 10/30\n",
            "454/454 [==============================] - 14s 30ms/step - loss: 0.0681 - val_loss: 0.0716\n",
            "Epoch 11/30\n",
            "454/454 [==============================] - 14s 30ms/step - loss: 0.0670 - val_loss: 0.0725\n",
            "Epoch 12/30\n",
            "454/454 [==============================] - 14s 31ms/step - loss: 0.0671 - val_loss: 0.0717\n",
            "Epoch 13/30\n",
            "454/454 [==============================] - 14s 31ms/step - loss: 0.0660 - val_loss: 0.0712\n",
            "Epoch 14/30\n",
            "454/454 [==============================] - 14s 31ms/step - loss: 0.0663 - val_loss: 0.0716\n",
            "Epoch 15/30\n",
            "454/454 [==============================] - 14s 31ms/step - loss: 0.0659 - val_loss: 0.0781\n",
            "Epoch 16/30\n",
            "454/454 [==============================] - 14s 31ms/step - loss: 0.0656 - val_loss: 0.0699\n",
            "Epoch 17/30\n",
            "454/454 [==============================] - 14s 31ms/step - loss: 0.0653 - val_loss: 0.0683\n",
            "Epoch 18/30\n",
            "454/454 [==============================] - 14s 31ms/step - loss: 0.0650 - val_loss: 0.0722\n",
            "Epoch 19/30\n",
            "454/454 [==============================] - 14s 31ms/step - loss: 0.0646 - val_loss: 0.0689\n",
            "Epoch 20/30\n",
            "454/454 [==============================] - 14s 31ms/step - loss: 0.0643 - val_loss: 0.0686\n",
            "Epoch 21/30\n",
            "454/454 [==============================] - 14s 31ms/step - loss: 0.0640 - val_loss: 0.0697\n",
            "Epoch 22/30\n",
            "454/454 [==============================] - 14s 31ms/step - loss: 0.0636 - val_loss: 0.0688\n",
            "Epoch 23/30\n",
            "454/454 [==============================] - 14s 31ms/step - loss: 0.0630 - val_loss: 0.0683\n",
            "Epoch 24/30\n",
            "454/454 [==============================] - 14s 31ms/step - loss: 0.0628 - val_loss: 0.0701\n",
            "Epoch 25/30\n",
            "454/454 [==============================] - 14s 31ms/step - loss: 0.0627 - val_loss: 0.0679\n",
            "Epoch 26/30\n",
            "454/454 [==============================] - 14s 31ms/step - loss: 0.0623 - val_loss: 0.0674\n",
            "Epoch 27/30\n",
            "454/454 [==============================] - 14s 31ms/step - loss: 0.0620 - val_loss: 0.0683\n",
            "Epoch 28/30\n",
            "454/454 [==============================] - 14s 31ms/step - loss: 0.0621 - val_loss: 0.0683\n",
            "Epoch 29/30\n",
            "454/454 [==============================] - 14s 31ms/step - loss: 0.0619 - val_loss: 0.0681\n",
            "Epoch 30/30\n",
            "454/454 [==============================] - 14s 31ms/step - loss: 0.0618 - val_loss: 0.0684\n"
          ],
          "name": "stdout"
        },
        {
          "output_type": "display_data",
          "data": {
            "image/png": "[encoded data removed]",
            "text/plain": [
              "<Figure size 432x288 with 1 Axes>"
            ]
          },
          "metadata": {
            "tags": [],
            "needs_background": "light"
          }
        }
      ]
    },
    {
      "cell_type": "markdown",
      "metadata": {
        "id": "k6wRA8FTq9N3"
      },
      "source": [
        "# Evaluation : Reconstruction error and ROC AUC score"
      ]
    },
    {
      "cell_type": "code",
      "metadata": {
        "id": "mEQPtwLAq8B9",
        "colab": {
          "base_uri": "https://localhost:8080/"
        },
        "outputId": "54e88db2-38dc-4ff2-9b20-1d76a8260e08"
      },
      "source": [
        "y_pred = np.zeros(len(test_files))\n",
        "y_true = test_labels\n",
        "\n",
        "for idx, test_file in tqdm.tqdm(enumerate(test_files), total=len(test_files)):\n",
        "  #print(\"File no.={}, location={}, label={}\".format(idx, test_file, test_label))\n",
        "\n",
        "  mel = np.load(test_file)\n",
        "\n",
        "  scaled_mel = spec.apply_scaler_to_mel(scaler, mel)\n",
        "\n",
        "  batch = splt.subsample_from_mel(scaled_mel, DIM, STEP)\n",
        "\n",
        "  batch_prediction = model.predict(batch)\n",
        "\n",
        "  squared_error = np.square(batch - batch_prediction)\n",
        "  channelwise_error = np.mean(squared_error, axis=-1)\n",
        "  reconstruction_error = np.mean(channelwise_error)\n",
        "\n",
        "  y_pred[idx] = reconstruction_error\n",
        "\n",
        "\n",
        "auc_score = metrics.roc_auc_score(y_true, y_pred)\n",
        "print(\"Roc AUC score={}\".format(auc_score))"
      ],
      "execution_count": 18,
      "outputs": [
        {
          "output_type": "stream",
          "text": [
            "100%|██████████| 238/238 [00:11<00:00, 20.77it/s]"
          ],
          "name": "stderr"
        },
        {
          "output_type": "stream",
          "text": [
            "Roc AUC score=0.8894145893651577\n"
          ],
          "name": "stdout"
        },
        {
          "output_type": "stream",
          "text": [
            "\n"
          ],
          "name": "stderr"
        }
      ]
    },
    {
      "cell_type": "code",
      "metadata": {
        "id": "3afvtoaS9oYd"
      },
      "source": [
        ""
      ],
      "execution_count": 18,
      "outputs": []
    }
  ]
}