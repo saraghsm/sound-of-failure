{
 "cells": [
  {
   "cell_type": "markdown",
   "metadata": {
    "id": "Mv8aAIa0HcMf"
   },
   "source": [
    "# Import Packages"
   ]
  },
  {
   "cell_type": "code",
   "execution_count": 1,
   "metadata": {
    "colab": {
     "base_uri": "https://localhost:8080/"
    },
    "executionInfo": {
     "elapsed": 2315,
     "status": "ok",
     "timestamp": 1615763980066,
     "user": {
      "displayName": "Niklas Hübel",
      "photoUrl": "",
      "userId": "17667331810374229520"
     },
     "user_tz": -60
    },
    "id": "N4YWwxNTHbi2",
    "outputId": "43a485ea-14ac-4e48-f8e3-3a3fb7efdeee"
   },
   "outputs": [
    {
     "name": "stderr",
     "output_type": "stream",
     "text": [
      "/usr/local/lib/python3.7/dist-packages/sklearn/externals/joblib/__init__.py:15: FutureWarning: sklearn.externals.joblib is deprecated in 0.21 and will be removed in 0.23. Please import this functionality directly from joblib, which can be installed with: pip install joblib. If this warning is raised when loading pickled models, you may need to re-serialize those models with scikit-learn 0.21+.\n",
      "  warnings.warn(msg, category=FutureWarning)\n"
     ]
    }
   ],
   "source": [
    "import sys\n",
    "import os\n",
    "import shutil\n",
    "import librosa\n",
    "import glob\n",
    "import tqdm\n",
    "import json\n",
    "import random\n",
    "\n",
    "from librosa import display as ld\n",
    "\n",
    "import tensorflow as tf\n",
    "from tensorflow.keras.models import Model\n",
    "from tensorflow.keras import layers\n",
    "from tensorflow.keras import backend as K\n",
    "\n",
    "from sklearn.preprocessing import StandardScaler\n",
    "from sklearn.externals.joblib import load, dump\n",
    "from sklearn import metrics\n",
    "from sklearn.preprocessing import StandardScaler, MinMaxScaler\n",
    "\n",
    "from IPython import display as ipd\n",
    "import numpy as np\n",
    "import matplotlib.pyplot as plt\n",
    "import seaborn as sns\n",
    "\n",
    "import joblib"
   ]
  },
  {
   "cell_type": "markdown",
   "metadata": {
    "id": "9fTJnTN9Hte0"
   },
   "source": [
    "# Mount Google Drive and Set File Paths"
   ]
  },
  {
   "cell_type": "code",
   "execution_count": 2,
   "metadata": {
    "colab": {
     "base_uri": "https://localhost:8080/"
    },
    "executionInfo": {
     "elapsed": 511,
     "status": "ok",
     "timestamp": 1615763981658,
     "user": {
      "displayName": "Niklas Hübel",
      "photoUrl": "",
      "userId": "17667331810374229520"
     },
     "user_tz": -60
    },
    "id": "0qhTQeB2upJN",
    "outputId": "5df372b1-7728-4a79-f8e6-f587639b14c1"
   },
   "outputs": [
    {
     "name": "stdout",
     "output_type": "stream",
     "text": [
      "Drive already mounted at /gdrive; to attempt to forcibly remount, call drive.mount(\"/gdrive\", force_remount=True).\n",
      "/gdrive\n"
     ]
    }
   ],
   "source": [
    "from google.colab import drive\n",
    "drive.mount('/gdrive')\n",
    "%cd /gdrive"
   ]
  },
  {
   "cell_type": "code",
   "execution_count": 3,
   "metadata": {
    "executionInfo": {
     "elapsed": 478,
     "status": "ok",
     "timestamp": 1615763982870,
     "user": {
      "displayName": "Niklas Hübel",
      "photoUrl": "",
      "userId": "17667331810374229520"
     },
     "user_tz": -60
    },
    "id": "pWyhJ6fNupQq"
   },
   "outputs": [],
   "source": [
    "sys.path += ['/gdrive/MyDrive/soundofsilence/src/filecheck', \n",
    "             '/gdrive/MyDrive/soundofsilence/src/preprocessing', \n",
    "             '/gdrive/MyDrive/soundofsilence/src/models']"
   ]
  },
  {
   "cell_type": "markdown",
   "metadata": {
    "id": "rrWBR69_IGJj"
   },
   "source": [
    "# Import Own Modules"
   ]
  },
  {
   "cell_type": "code",
   "execution_count": 4,
   "metadata": {
    "executionInfo": {
     "elapsed": 451,
     "status": "ok",
     "timestamp": 1615763984519,
     "user": {
      "displayName": "Niklas Hübel",
      "photoUrl": "",
      "userId": "17667331810374229520"
     },
     "user_tz": -60
    },
    "id": "Xo7kKPNOIMz-"
   },
   "outputs": [],
   "source": [
    "#from flatfielding import *\n",
    "#from filepath import *\n",
    "#from train_test_split import *\n",
    "#from spectrogram import *\n",
    "from conv_autoencoder import Autoencoder"
   ]
  },
  {
   "cell_type": "markdown",
   "metadata": {
    "id": "Dso9LmQZIfZ-"
   },
   "source": [
    "# Helper Functions (-> put in own modules!)"
   ]
  },
  {
   "cell_type": "code",
   "execution_count": 5,
   "metadata": {
    "executionInfo": {
     "elapsed": 565,
     "status": "ok",
     "timestamp": 1615763988593,
     "user": {
      "displayName": "Niklas Hübel",
      "photoUrl": "",
      "userId": "17667331810374229520"
     },
     "user_tz": -60
    },
    "id": "foZe3g0cupX_"
   },
   "outputs": [],
   "source": [
    "def get_normal_file_list(data_dir):\n",
    "  return sorted(glob.glob(os.path.join(data_dir, 'normal', '*.wav')))\n",
    "\n",
    "\n",
    "def get_abnormal_file_list(data_dir):\n",
    "  return sorted(glob.glob(os.path.join(data_dir, 'abnormal', '*.wav')))\n",
    "\n",
    "\n",
    "def make_train_test_split(data_dir):\n",
    "  normal_files = get_normal_file_list(data_dir)\n",
    "  abnormal_files = get_abnormal_file_list(data_dir)\n",
    "  test_files = random.sample(normal_files, len(abnormal_files)) + abnormal_files\n",
    "  train_files = [f for f in normal_files if f not in test_files]\n",
    "  test_labels = [1]*len(abnormal_files) + [0]*len(abnormal_files)\n",
    "  train_labels = [0] * len(train_files)\n",
    "\n",
    "  return train_files, train_labels, test_files, test_labels\n",
    "\n",
    "\n",
    "def make_results_dir(base_dir, db, machine_type, machine_id, model_name):\n",
    "  results_dir = base_dir\n",
    "  for dir in ['results', db, machine_type, machine_id, model_name]:\n",
    "    results_dir = os.path.join(results_dir, dir)\n",
    "    if not os.path.exists(results_dir):\n",
    "      os.mkdir(results_dir)\n",
    "  \n",
    "  return results_dir\n",
    "\n",
    "\n",
    "def save_train_test_split(train_files, \n",
    "                          train_labels, \n",
    "                          test_files, \n",
    "                          test_label, \n",
    "                          results_dir):\n",
    "  \n",
    "  split_path = os.path.join(results_dir, 'train_test_split.json')\n",
    "  split_dict = {'train_files': train_files, \n",
    "                'train_labels': train_labels, \n",
    "                'test_files': test_files, \n",
    "                'test_labels': test_labels}\n",
    "  \n",
    "  with open(split_path, 'w') as f:\n",
    "    json.dump(split_dict, f)\n",
    "\n",
    "\n",
    "def load_train_test_split(results_dir):\n",
    "  split_path = os.path.join(results_dir, 'train_test_split.json')\n",
    "  with open(split_path, 'r') as f:\n",
    "    split_dict = f.read()\n",
    "  \n",
    "  split_dict = json.loads(split_dict)\n",
    "  train_files = split_dict['train_files'] \n",
    "  train_labels = split_dict['train_labels']\n",
    "  test_files = split_dict['test_files']\n",
    "  test_labels = split_dict['test_labels']\n",
    "  \n",
    "  return train_files, train_labels, test_files, test_labels\n",
    "\n",
    "\n",
    "def save_trained_model(trained_model, results_dir):\n",
    "  model_path = os.path.join(results_dir, 'model') \n",
    "  trained_model.save(model_path)"
   ]
  },
  {
   "cell_type": "code",
   "execution_count": 6,
   "metadata": {
    "executionInfo": {
     "elapsed": 492,
     "status": "ok",
     "timestamp": 1615763990740,
     "user": {
      "displayName": "Niklas Hübel",
      "photoUrl": "",
      "userId": "17667331810374229520"
     },
     "user_tz": -60
    },
    "id": "NLYDua2aBodK"
   },
   "outputs": [],
   "source": [
    "def plot_example_spectrogram(audio_file,\n",
    "                             n_mels,\n",
    "                             n_fft,\n",
    "                             hop_length,\n",
    "                             power,\n",
    "                             window):    \n",
    "\n",
    "    y, sr = librosa.load(audio_file, sr=None, mono=True)\n",
    "\n",
    "    mel_spectro = librosa.feature.melspectrogram(y=y,\n",
    "                                                 sr=sr,\n",
    "                                                 n_fft=n_fft,\n",
    "                                                 hop_length=hop_length,\n",
    "                                                 n_mels=n_mels,\n",
    "                                                 power=power,\n",
    "                                                 window=window)\n",
    "\n",
    "    log_mel_spectrogram = librosa.power_to_db(mel_spectro, ref=np.max)\n",
    "      \n",
    "    fig, ax = plt.subplots()\n",
    "    plt.title(\"Example spectrogram of: {}\".format(', '.join(audio_file.split('/')[-5:-1])))\n",
    "    img = ld.specshow(log_mel_spectrogram, \n",
    "                    x_axis='time', \n",
    "                    y_axis='mel', \n",
    "                    sr=sr, \n",
    "                    fmax=8000, \n",
    "                    ax=ax)\n",
    "\n",
    "    fig.colorbar(img, ax=ax)\n",
    "    plt.show()\n",
    "    plt.close()"
   ]
  },
  {
   "cell_type": "markdown",
   "metadata": {
    "id": "epkTjqnqLrY5"
   },
   "source": [
    "# Helper Functions (modified Code from 'spectrogram.py')"
   ]
  },
  {
   "cell_type": "code",
   "execution_count": 7,
   "metadata": {
    "colab": {
     "base_uri": "https://localhost:8080/"
    },
    "executionInfo": {
     "elapsed": 498,
     "status": "ok",
     "timestamp": 1615764005887,
     "user": {
      "displayName": "Niklas Hübel",
      "photoUrl": "",
      "userId": "17667331810374229520"
     },
     "user_tz": -60
    },
    "id": "FvVRU_XBLcRS",
    "outputId": "62951942-36c2-4167-f4f9-713c75d0e231"
   },
   "outputs": [
    {
     "name": "stdout",
     "output_type": "stream",
     "text": [
      "[[  8   9  10]\n",
      " [ 80  90 100]] \n",
      "\n",
      "[[-1. -1. -1.]\n",
      " [ 1.  1.  1.]] \n",
      "\n",
      "[[-1.01433446 -0.98989267 -0.96545087]\n",
      " [ 0.74547472  0.98989267  1.23431061]]\n"
     ]
    }
   ],
   "source": [
    "#################################\n",
    "# PROBLEM WITH PREVIOUS SCALING #\n",
    "#################################\n",
    "mel1 = np.array([[8, 9, 10],\n",
    "                 [80, 90, 100]])\n",
    "print(mel1, '\\n')\n",
    "\n",
    "# Option 1: previous\n",
    "scaler = StandardScaler()\n",
    "scaler.partial_fit(mel1)\n",
    "mel1_scaled = scaler.transform(mel1)\n",
    "print(mel1_scaled, '\\n')\n",
    "\n",
    "# Option 2: new\n",
    "scaler = StandardScaler()\n",
    "shape1 = mel1.shape\n",
    "flat_mel1 = mel1.flatten().reshape(-1, 1)\n",
    "scaler.partial_fit(flat_mel1)\n",
    "flat_mel1_scaled = scaler.transform(flat_mel1)\n",
    "mel1_scaled = flat_mel1_scaled.reshape(shape1)\n",
    "print(mel1_scaled)"
   ]
  },
  {
   "cell_type": "code",
   "execution_count": 8,
   "metadata": {
    "executionInfo": {
     "elapsed": 525,
     "status": "ok",
     "timestamp": 1615764008031,
     "user": {
      "displayName": "Niklas Hübel",
      "photoUrl": "",
      "userId": "17667331810374229520"
     },
     "user_tz": -60
    },
    "id": "MGW9jIxGLrz6"
   },
   "outputs": [],
   "source": [
    "def mels_from_file(file, \n",
    "                   n_fft, \n",
    "                   n_mels, \n",
    "                   hop_length, \n",
    "                   window, \n",
    "                   power, \n",
    "                   dim, \n",
    "                   step):\n",
    "    \n",
    "  y, sr = librosa.load(file, sr=None, mono=True)\n",
    "  mel_spec = librosa.feature.melspectrogram(y,\n",
    "                                            n_fft=n_fft,\n",
    "                                            hop_length=hop_length,\n",
    "                                            sr=sr,\n",
    "                                            n_mels=n_mels,\n",
    "                                            window=window,\n",
    "                                            power=power)\n",
    "    \n",
    "  log_mel_spec = librosa.power_to_db(mel_spec, ref=np.max)\n",
    "  log_mel_spec = log_mel_spec.T\n",
    "\n",
    "  length = log_mel_spec.shape[0]\n",
    "  start_indices = np.arange(length - dim + step, step=step)\n",
    "\n",
    "  for num, idx in enumerate(start_indices):\n",
    "    start = min(idx, length - dim)\n",
    "    one_slice = log_mel_spec[start : start + dim, :]\n",
    "    one_slice = one_slice.reshape((1, one_slice.shape[0], one_slice.shape[1]))\n",
    "    \n",
    "    if num == 0:\n",
    "      batch = one_slice\n",
    "    else:\n",
    "      batch = np.concatenate((batch, one_slice))\n",
    "\n",
    "  return batch\n",
    "\n",
    "\n",
    "def mels_from_list_list(filelist, \n",
    "                        out_dir, \n",
    "                        n_fft, \n",
    "                        n_mels, \n",
    "                        hop_length, \n",
    "                        window, \n",
    "                        power, \n",
    "                        dim, \n",
    "                        step, \n",
    "                        save_file_name): \n",
    "\n",
    "  for i, file in tqdm.tqdm(enumerate(filelist), total=len(filelist)):\n",
    "    batch = mels_from_file(file=file, n_fft=n_fft, n_mels=n_mels, \n",
    "                           hop_length=hop_length, window=window, power=power, \n",
    "                           dim=dim, step=step)\n",
    "    if i == 0:\n",
    "      vectorarray = batch\n",
    "    else:\n",
    "      vectorarray = np.concatenate((vectorarray, batch))\n",
    "\n",
    "  vectorarray = vectorarray.reshape((vectorarray.shape[0], \n",
    "                                     vectorarray.shape[1], \n",
    "                                     vectorarray.shape[2], \n",
    "                                     1))\n",
    "  mel_path = os.path.join(out_dir, save_file_name)\n",
    "  np.save(mel_path, vectorarray)\n",
    "\n",
    "  return vectorarray\n",
    "\n",
    "\n",
    "def load_mels(mels_dir, mels_file_name):\n",
    "  return np.load(os.path.join(mels_dir, mels_file_name))\n",
    "\n",
    "\n",
    "def fit_scaler(mels, \n",
    "               scaler_dir, \n",
    "               scaler_type='StandardScaler'):\n",
    "  \"\"\"\n",
    "  Function for fitting a Normalizer (sklearn.preprocessing)\n",
    "  \"\"\"\n",
    "  if scaler_type == 'StandardScaler':\n",
    "    scaler = StandardScaler()\n",
    "  elif scaler_type == 'MinMaxScaler':\n",
    "    scaler == MinMaxScaler()\n",
    "  else:\n",
    "    print('Scaler not valid! Use StandardScaler or MinMaxScaler.')\n",
    "  \n",
    "  for mel in mels:\n",
    "    flat_mel = mel.flatten().reshape(-1, 1)\n",
    "    scaler.partial_fit(flat_mel)\n",
    "\n",
    "  scaler_path = os.path.join(scaler_dir, scaler_type+'.bin')\n",
    "  dump(scaler, scaler_path, compress=True)                \n",
    "\n",
    "  return scaler\n",
    "\n",
    "\n",
    "def load_scaler(scaler_dir, scaler_type):\n",
    "  scaler_path = os.path.join(scaler_dir, scaler_type+'.bin')\n",
    "  scaler = load(scaler_path)\n",
    "  return scaler\n",
    "\n",
    "\n",
    "def apply_scaler(scaler, mels):\n",
    "  mels_scaled = [mel.flatten().reshape(-1, 1) for mel in mels]\n",
    "  mels_scaled = [scaler.transform(mel) for mel in mels_scaled]\n",
    "  mels_scaled = np.array(mels_scaled).reshape(mels.shape)\n",
    "  return mels_scaled"
   ]
  },
  {
   "cell_type": "markdown",
   "metadata": {
    "id": "B8xgNgsAI4Tz"
   },
   "source": [
    "# Global Constants"
   ]
  },
  {
   "cell_type": "code",
   "execution_count": 9,
   "metadata": {
    "colab": {
     "base_uri": "https://localhost:8080/"
    },
    "executionInfo": {
     "elapsed": 718,
     "status": "ok",
     "timestamp": 1615764027075,
     "user": {
      "displayName": "Niklas Hübel",
      "photoUrl": "",
      "userId": "17667331810374229520"
     },
     "user_tz": -60
    },
    "id": "2zapdHCClhBu",
    "outputId": "61aa5574-6a24-468c-f366-4a180f6448bb"
   },
   "outputs": [
    {
     "name": "stdout",
     "output_type": "stream",
     "text": [
      "/gdrive\n",
      "'Anyfile Notepad Files'    mimii_baseline\n",
      " camvid_tiny\t\t   pets_images\n",
      "'Colab Notebooks'\t   results\n",
      " dogs_vs_cats\t\t  'Sound of Failure – Notes (in SCQA Scheme).gdoc'\n",
      " filepath.cpython-37.pyc   soundofsilence\n",
      " flatfield\t\t   speeches.txt\n",
      " KaggleDogsVsCats\n"
     ]
    }
   ],
   "source": [
    "!pwd\n",
    "!ls MyDrive"
   ]
  },
  {
   "cell_type": "code",
   "execution_count": 10,
   "metadata": {
    "executionInfo": {
     "elapsed": 529,
     "status": "ok",
     "timestamp": 1615764032391,
     "user": {
      "displayName": "Niklas Hübel",
      "photoUrl": "",
      "userId": "17667331810374229520"
     },
     "user_tz": -60
    },
    "id": "V4h_5irPJQG2"
   },
   "outputs": [],
   "source": [
    "# Directories\n",
    "MIMII_DATA_DIR = os.path.join('MyDrive', 'mimii_baseline', 'dataset')\n",
    "BASE_DIR = 'MyDrive'\n",
    "\n",
    "\n",
    "# Mel spectrograms\n",
    "N_MELS = 128\n",
    "N_FFT = 1024\n",
    "HOP_LENGTH = 512\n",
    "POWER = 2.0\n",
    "WINDOW = 'hann'\n",
    "DIM = 32\n",
    "STEP = 8\n",
    "TRAIN_MELS_FILE = 'train_mels.npy'\n",
    "TEST_MELS_FILE = 'test_mels.npy'\n",
    "\n",
    "\n",
    "# Scaler and cost function\n",
    "SCALER = 'StandardScaler'\n",
    "LOSS = 'mean_squared_error'\n",
    "\n",
    "\n",
    "# Optimizer\n",
    "OPTIMIZER = 'adam'\n",
    "EPOCHS = 5\n",
    "BATCH_SIZE = 64\n",
    "VALIDATION_SPLIT = 0.1\n",
    "\n",
    "\n",
    "# Data\n",
    "DB = '6dB'\n",
    "MACHINE_TYPE = 'valve'\n",
    "MACHINE_ID = 'id_00'\n",
    "\n",
    "\n",
    "MODEL_NAME = 'conv_autoencoder'"
   ]
  },
  {
   "cell_type": "markdown",
   "metadata": {
    "id": "H5dnIS0PJosA"
   },
   "source": [
    "# Train-Test Split"
   ]
  },
  {
   "cell_type": "code",
   "execution_count": 11,
   "metadata": {
    "executionInfo": {
     "elapsed": 489,
     "status": "ok",
     "timestamp": 1615764034816,
     "user": {
      "displayName": "Niklas Hübel",
      "photoUrl": "",
      "userId": "17667331810374229520"
     },
     "user_tz": -60
    },
    "id": "4phihXkgJ2Lo"
   },
   "outputs": [],
   "source": [
    "data_dir = os.path.join(MIMII_DATA_DIR, \n",
    "                        DB, \n",
    "                        MACHINE_TYPE, \n",
    "                        MACHINE_ID)\n",
    "\n",
    "results_dir = make_results_dir(BASE_DIR, \n",
    "                               DB, \n",
    "                               MACHINE_TYPE, \n",
    "                               MACHINE_ID, \n",
    "                               MODEL_NAME)\n",
    "\n",
    "train_test_split_ = make_train_test_split(data_dir)\n",
    "train_files = train_test_split_[0]\n",
    "train_labels = train_test_split_[1]\n",
    "test_files = train_test_split_[2]\n",
    "test_labels = train_test_split_[3]\n",
    "\n",
    "save_train_test_split(train_files, \n",
    "                      train_labels, \n",
    "                      test_files, \n",
    "                      test_labels, \n",
    "                      results_dir)"
   ]
  },
  {
   "cell_type": "markdown",
   "metadata": {
    "id": "0Ppt18oFKkni"
   },
   "source": [
    "# Inspect Single Audio Samples\n",
    "#### Normal example"
   ]
  },
  {
   "cell_type": "code",
   "execution_count": 13,
   "metadata": {
    "colab": {
     "base_uri": "https://localhost:8080/",
     "height": 330,
     "output_embedded_package_id": "1aqWISTL1HzURkRlGT76sjtRO3Yx6xYEL"
    },
    "executionInfo": {
     "elapsed": 3569,
     "status": "ok",
     "timestamp": 1615764059132,
     "user": {
      "displayName": "Niklas Hübel",
      "photoUrl": "",
      "userId": "17667331810374229520"
     },
     "user_tz": -60
    },
    "id": "stL_89tCupcj",
    "outputId": "7e18fbd4-a5fb-4012-dbc5-ce33d46b180d"
   },
   "outputs": [
    {
     "data": {
      "text/plain": [
       "Output hidden; open in https://colab.research.google.com to view."
      ]
     },
     "metadata": {},
     "output_type": "display_data"
    }
   ],
   "source": [
    "audio_file = get_normal_file_list(data_dir)[0]\n",
    "\n",
    "plot_example_spectrogram(audio_file, \n",
    "                         n_mels=N_MELS,\n",
    "                         n_fft=N_FFT,\n",
    "                         hop_length=HOP_LENGTH,\n",
    "                         window=WINDOW,\n",
    "                         power=POWER)\n",
    "\n",
    "ipd.Audio(audio_file)"
   ]
  },
  {
   "cell_type": "markdown",
   "metadata": {
    "id": "7maJY8C9Pa-k"
   },
   "source": [
    "#### Abnormal example"
   ]
  },
  {
   "cell_type": "code",
   "execution_count": 14,
   "metadata": {
    "colab": {
     "base_uri": "https://localhost:8080/",
     "height": 330,
     "output_embedded_package_id": "1Rx9YpneiLEtCn0tYXLlcNem-lQRze6Xs"
    },
    "executionInfo": {
     "elapsed": 3908,
     "status": "ok",
     "timestamp": 1615764065075,
     "user": {
      "displayName": "Niklas Hübel",
      "photoUrl": "",
      "userId": "17667331810374229520"
     },
     "user_tz": -60
    },
    "id": "w43CFQFnEp2-",
    "outputId": "6153ce54-b4ad-48af-de11-97ec0acbcd91"
   },
   "outputs": [
    {
     "data": {
      "text/plain": [
       "Output hidden; open in https://colab.research.google.com to view."
      ]
     },
     "metadata": {},
     "output_type": "display_data"
    }
   ],
   "source": [
    "audio_file = get_abnormal_file_list(data_dir)[0]\n",
    "\n",
    "plot_example_spectrogram(audio_file, \n",
    "                         n_mels=N_MELS,\n",
    "                         n_fft=N_FFT,\n",
    "                         hop_length=HOP_LENGTH,\n",
    "                         window=WINDOW,\n",
    "                         power=POWER)\n",
    "\n",
    "ipd.Audio(audio_file)"
   ]
  },
  {
   "cell_type": "markdown",
   "metadata": {
    "id": "xt9if4tdKvVz"
   },
   "source": [
    "# Data Preprocessing"
   ]
  },
  {
   "cell_type": "markdown",
   "metadata": {
    "id": "OnzwX-gcK3Io"
   },
   "source": [
    "#### 1. Generate mel spectrograms for training"
   ]
  },
  {
   "cell_type": "code",
   "execution_count": 16,
   "metadata": {
    "colab": {
     "base_uri": "https://localhost:8080/"
    },
    "executionInfo": {
     "elapsed": 105101,
     "status": "ok",
     "timestamp": 1615764463539,
     "user": {
      "displayName": "Niklas Hübel",
      "photoUrl": "",
      "userId": "17667331810374229520"
     },
     "user_tz": -60
    },
    "id": "fkhAopTAF-1b",
    "outputId": "28536b4f-0839-4e81-b277-a7ac063c86d7"
   },
   "outputs": [
    {
     "name": "stderr",
     "output_type": "stream",
     "text": [
      "100%|██████████| 872/872 [01:33<00:00,  9.32it/s]\n"
     ]
    }
   ],
   "source": [
    "# Generate mel spectrograms from file list and save\n",
    "train_mels = mels_from_list_list(filelist=train_files,\n",
    "                                 out_dir=results_dir,\n",
    "                                 n_fft=N_FFT, \n",
    "                                 n_mels=N_MELS, \n",
    "                                 hop_length=HOP_LENGTH, \n",
    "                                 window=WINDOW, \n",
    "                                 power=POWER, \n",
    "                                 dim=DIM, \n",
    "                                 step=STEP,\n",
    "                                 save_file_name=TRAIN_MELS_FILE)"
   ]
  },
  {
   "cell_type": "markdown",
   "metadata": {
    "id": "acEPVUlMDpr6"
   },
   "source": [
    "#### 2. Fit scaler to training spectrograms"
   ]
  },
  {
   "cell_type": "code",
   "execution_count": 17,
   "metadata": {
    "executionInfo": {
     "elapsed": 9219,
     "status": "ok",
     "timestamp": 1615764546623,
     "user": {
      "displayName": "Niklas Hübel",
      "photoUrl": "",
      "userId": "17667331810374229520"
     },
     "user_tz": -60
    },
    "id": "NF2EXzkRDqOo"
   },
   "outputs": [],
   "source": [
    "# Load unscaled mel spectrograms\n",
    "train_mels = load_mels(mels_dir=results_dir, \n",
    "                       mels_file_name=TRAIN_MELS_FILE)\n",
    "\n",
    "# Fit and save scaler\n",
    "scaler = fit_scaler(mels=train_mels, \n",
    "                    scaler_dir=results_dir, \n",
    "                    scaler_type=SCALER)"
   ]
  },
  {
   "cell_type": "markdown",
   "metadata": {
    "id": "djEPi1MBDrBh"
   },
   "source": [
    "#### 3. Apply scaler to training spectrograms"
   ]
  },
  {
   "cell_type": "code",
   "execution_count": 18,
   "metadata": {
    "executionInfo": {
     "elapsed": 4740,
     "status": "ok",
     "timestamp": 1615764575812,
     "user": {
      "displayName": "Niklas Hübel",
      "photoUrl": "",
      "userId": "17667331810374229520"
     },
     "user_tz": -60
    },
    "id": "nL0tTJYmDrmj"
   },
   "outputs": [],
   "source": [
    "# Load unscaled mel spectrograms\n",
    "train_mels = load_mels(mels_dir=results_dir, \n",
    "                       mels_file_name=TRAIN_MELS_FILE)\n",
    "\n",
    "# Load scaler\n",
    "scaler = load_scaler(scaler_dir=results_dir, \n",
    "                     scaler_type=SCALER)\n",
    "\n",
    "# Apply scaler\n",
    "train_data = apply_scaler(scaler=scaler, \n",
    "                          mels=train_mels)"
   ]
  },
  {
   "cell_type": "markdown",
   "metadata": {
    "id": "naw-tALjONCs"
   },
   "source": [
    "#### 2. Generate scaled mel spectrograms for training and save in 'train_feature' directory"
   ]
  },
  {
   "cell_type": "code",
   "execution_count": 12,
   "metadata": {
    "colab": {
     "base_uri": "https://localhost:8080/"
    },
    "executionInfo": {
     "elapsed": 105964,
     "status": "ok",
     "timestamp": 1615717783975,
     "user": {
      "displayName": "Niklas Hübel",
      "photoUrl": "",
      "userId": "17667331810374229520"
     },
     "user_tz": -60
    },
    "id": "guMiFtsSGv_S",
    "outputId": "eac2a914-e963-4367-8c2c-572852751f17"
   },
   "outputs": [
    {
     "name": "stderr",
     "output_type": "stream",
     "text": [
      "100%|██████████| 872/872 [01:35<00:00,  9.17it/s]\n"
     ]
    }
   ],
   "source": [
    "train_data = mel_spectrogram_list(filelist=train_files,\n",
    "                                  labels=train_labels,\n",
    "                                  out_dir=results_dir,\n",
    "                                  scaler_dir=results_dir,\n",
    "                                  n_fft=N_FFT,\n",
    "                                  n_mels=N_MELS,\n",
    "                                  hop_length=HOP_LENGTH,\n",
    "                                  window=WINDOW,\n",
    "                                  power=POWER,\n",
    "                                  dim=DIM,\n",
    "                                  step=STEP)"
   ]
  },
  {
   "cell_type": "code",
   "execution_count": 13,
   "metadata": {
    "colab": {
     "base_uri": "https://localhost:8080/"
    },
    "executionInfo": {
     "elapsed": 534,
     "status": "ok",
     "timestamp": 1615718086642,
     "user": {
      "displayName": "Niklas Hübel",
      "photoUrl": "",
      "userId": "17667331810374229520"
     },
     "user_tz": -60
    },
    "id": "_e-mS-ZxR04W",
    "outputId": "58502c5c-6674-4baa-fb9a-362257bfe151"
   },
   "outputs": [
    {
     "data": {
      "text/plain": [
       "(32264, 32, 128, 1)"
      ]
     },
     "execution_count": 13,
     "metadata": {
      "tags": []
     },
     "output_type": "execute_result"
    }
   ],
   "source": [
    "train_data.shape"
   ]
  },
  {
   "cell_type": "markdown",
   "metadata": {
    "id": "lM16tq3hRQgs"
   },
   "source": [
    "# Modelling\n",
    "#### 1. Define model"
   ]
  },
  {
   "cell_type": "code",
   "execution_count": 15,
   "metadata": {
    "colab": {
     "base_uri": "https://localhost:8080/"
    },
    "executionInfo": {
     "elapsed": 724,
     "status": "ok",
     "timestamp": 1615718413331,
     "user": {
      "displayName": "Niklas Hübel",
      "photoUrl": "",
      "userId": "17667331810374229520"
     },
     "user_tz": -60
    },
    "id": "uy5B6rB9Pmrt",
    "outputId": "63519b03-2b48-4683-b717-ef1930851d6d"
   },
   "outputs": [
    {
     "name": "stdout",
     "output_type": "stream",
     "text": [
      "This is my autoencoder\n",
      "Model: \"Encoder\"\n",
      "_________________________________________________________________\n",
      "Layer (type)                 Output Shape              Param #   \n",
      "=================================================================\n",
      "Encoder_input (InputLayer)   [(None, 32, 128, 1)]      0         \n",
      "_________________________________________________________________\n",
      "Conv_enc0 (Conv2D)           (None, 32, 64, 32)        832       \n",
      "_________________________________________________________________\n",
      "BatchNorm_enc0 (BatchNormali (None, 32, 64, 32)        128       \n",
      "_________________________________________________________________\n",
      "ReLU_enc0 (ReLU)             (None, 32, 64, 32)        0         \n",
      "_________________________________________________________________\n",
      "Conv_enc1 (Conv2D)           (None, 16, 32, 64)        51264     \n",
      "_________________________________________________________________\n",
      "BatchNorm_enc1 (BatchNormali (None, 16, 32, 64)        256       \n",
      "_________________________________________________________________\n",
      "ReLU_enc1 (ReLU)             (None, 16, 32, 64)        0         \n",
      "_________________________________________________________________\n",
      "Conv_enc2 (Conv2D)           (None, 8, 16, 128)        73856     \n",
      "_________________________________________________________________\n",
      "BatchNorm_enc2 (BatchNormali (None, 8, 16, 128)        512       \n",
      "_________________________________________________________________\n",
      "ReLU_enc2 (ReLU)             (None, 8, 16, 128)        0         \n",
      "_________________________________________________________________\n",
      "Conv_enc3 (Conv2D)           (None, 8, 8, 256)         295168    \n",
      "_________________________________________________________________\n",
      "BatchNorm_enc3 (BatchNormali (None, 8, 8, 256)         1024      \n",
      "_________________________________________________________________\n",
      "ReLU_enc3 (ReLU)             (None, 8, 8, 256)         0         \n",
      "_________________________________________________________________\n",
      "Flatten_enc (Flatten)        (None, 16384)             0         \n",
      "_________________________________________________________________\n",
      "Latent_enc (Dense)           (None, 20)                327700    \n",
      "=================================================================\n",
      "Total params: 750,740\n",
      "Trainable params: 749,780\n",
      "Non-trainable params: 960\n",
      "_________________________________________________________________\n",
      "Model: \"Decoder\"\n",
      "_________________________________________________________________\n",
      "Layer (type)                 Output Shape              Param #   \n",
      "=================================================================\n",
      "decoder_input (InputLayer)   [(None, 20)]              0         \n",
      "_________________________________________________________________\n",
      "Decoder_dense (Dense)        (None, 16384)             344064    \n",
      "_________________________________________________________________\n",
      "Decoder_reshape (Reshape)    (None, 8, 8, 256)         0         \n",
      "_________________________________________________________________\n",
      "Decoder_ConvTrans1 (Conv2DTr (None, 8, 16, 256)        590080    \n",
      "_________________________________________________________________\n",
      "Decoder_BatchNorm1 (BatchNor (None, 8, 16, 256)        1024      \n",
      "_________________________________________________________________\n",
      "Decoder_ReLU1 (ReLU)         (None, 8, 16, 256)        0         \n",
      "_________________________________________________________________\n",
      "Decoder_ConvTrans2 (Conv2DTr (None, 16, 32, 128)       295040    \n",
      "_________________________________________________________________\n",
      "Decoder_BatchNorm2 (BatchNor (None, 16, 32, 128)       512       \n",
      "_________________________________________________________________\n",
      "Decoder_ReLU2 (ReLU)         (None, 16, 32, 128)       0         \n",
      "_________________________________________________________________\n",
      "Decoder_ConvTrans3 (Conv2DTr (None, 32, 64, 64)        204864    \n",
      "_________________________________________________________________\n",
      "Decoder_BatchNorm3 (BatchNor (None, 32, 64, 64)        256       \n",
      "_________________________________________________________________\n",
      "Decoder_ReLU3 (ReLU)         (None, 32, 64, 64)        0         \n",
      "_________________________________________________________________\n",
      "Decoder_output (Conv2DTransp (None, 32, 128, 1)        1601      \n",
      "_________________________________________________________________\n",
      "Decoder_activation (Activati (None, 32, 128, 1)        0         \n",
      "=================================================================\n",
      "Total params: 1,437,441\n",
      "Trainable params: 1,436,545\n",
      "Non-trainable params: 896\n",
      "_________________________________________________________________\n",
      "Model: \"model_1\"\n",
      "_________________________________________________________________\n",
      "Layer (type)                 Output Shape              Param #   \n",
      "=================================================================\n",
      "Encoder_input (InputLayer)   [(None, 32, 128, 1)]      0         \n",
      "_________________________________________________________________\n",
      "Encoder (Functional)         (None, 20)                750740    \n",
      "_________________________________________________________________\n",
      "Decoder (Functional)         (None, 32, 128, 1)        1437441   \n",
      "=================================================================\n",
      "Total params: 2,188,181\n",
      "Trainable params: 2,186,325\n",
      "Non-trainable params: 1,856\n",
      "_________________________________________________________________\n",
      "None\n"
     ]
    }
   ],
   "source": [
    "my_model = Autoencoder(input_shape=(32, 128, 1),\n",
    "                       num_nodes=[32, 64, 128, 256,],\n",
    "                       num_kernel=[5, 5, 3, 3],\n",
    "                       num_strides=[(1, 2), (2, 2), (2, 2), (1, 2),],\n",
    "                       latent_dim=20)\n",
    "\n",
    "print(my_model.summary())"
   ]
  },
  {
   "cell_type": "markdown",
   "metadata": {
    "id": "yPOejBDiXCvR"
   },
   "source": [
    "#### 2. Train model and plot loss curves"
   ]
  },
  {
   "cell_type": "code",
   "execution_count": 16,
   "metadata": {
    "colab": {
     "base_uri": "https://localhost:8080/",
     "height": 449
    },
    "executionInfo": {
     "elapsed": 142094,
     "status": "ok",
     "timestamp": 1615718573545,
     "user": {
      "displayName": "Niklas Hübel",
      "photoUrl": "",
      "userId": "17667331810374229520"
     },
     "user_tz": -60
    },
    "id": "G4PzC-nfRkST",
    "outputId": "adfd7d4c-ecec-452b-fadc-71bdb4362bc7"
   },
   "outputs": [
    {
     "name": "stdout",
     "output_type": "stream",
     "text": [
      "Epoch 1/5\n",
      "454/454 [==============================] - 55s 49ms/step - loss: 0.7109 - val_loss: 0.7231\n",
      "Epoch 2/5\n",
      "454/454 [==============================] - 22s 48ms/step - loss: 0.6399 - val_loss: 0.7006\n",
      "Epoch 3/5\n",
      "454/454 [==============================] - 21s 47ms/step - loss: 0.6356 - val_loss: 0.6982\n",
      "Epoch 4/5\n",
      "454/454 [==============================] - 21s 47ms/step - loss: 0.6332 - val_loss: 0.6975\n",
      "Epoch 5/5\n",
      "454/454 [==============================] - 21s 47ms/step - loss: 0.6341 - val_loss: 0.6974\n"
     ]
    },
    {
     "data": {
      "image/png": "[encoded data removed]",
      "text/plain": [
       "<Figure size 432x288 with 1 Axes>"
      ]
     },
     "metadata": {
      "needs_background": "light",
      "tags": []
     },
     "output_type": "display_data"
    }
   ],
   "source": [
    "model = my_model.model\n",
    "\n",
    "model.compile(loss=LOSS, optimizer=OPTIMIZER)\n",
    "\n",
    "history = model.fit(train_data,\n",
    "                    train_data,\n",
    "                    epochs=EPOCHS,\n",
    "                    batch_size=BATCH_SIZE,\n",
    "                    validation_split=VALIDATION_SPLIT,\n",
    "                    shuffle=True,\n",
    "                    verbose=1)\n",
    "\n",
    "plt.plot(history.history['loss'], label='loss')\n",
    "plt.plot(history.history['val_loss'], label='val_loss')\n",
    "plt.legend()\n",
    "plt.xlabel(\"Epochs\")\n",
    "plt.ylabel(\"Loss\")\n",
    "plt.show()\n",
    "plt.close()"
   ]
  },
  {
   "cell_type": "markdown",
   "metadata": {
    "id": "yxcgTX_7Y04V"
   },
   "source": [
    "#### 3. Save trained model and history"
   ]
  },
  {
   "cell_type": "code",
   "execution_count": 26,
   "metadata": {
    "colab": {
     "base_uri": "https://localhost:8080/"
    },
    "executionInfo": {
     "elapsed": 496,
     "status": "ok",
     "timestamp": 1615713646450,
     "user": {
      "displayName": "Niklas Hübel",
      "photoUrl": "",
      "userId": "17667331810374229520"
     },
     "user_tz": -60
    },
    "id": "5ekA-XBeSR65",
    "outputId": "cd785225-7367-4d14-f4a0-3f120f91a62f"
   },
   "outputs": [
    {
     "data": {
      "text/plain": [
       "tensorflow.python.keras.callbacks.History"
      ]
     },
     "execution_count": 26,
     "metadata": {
      "tags": []
     },
     "output_type": "execute_result"
    }
   ],
   "source": [
    "type(history)\n",
    "history.key"
   ]
  },
  {
   "cell_type": "markdown",
   "metadata": {
    "id": "oTlG1-iJYp8k"
   },
   "source": [
    "# Model Evaluation"
   ]
  },
  {
   "cell_type": "code",
   "execution_count": null,
   "metadata": {
    "id": "Tm6-KhGYXSkb"
   },
   "outputs": [],
   "source": [
    "# Load trained model\n",
    "model_name = 'conv_autoencoder'\n",
    "model_path = get_model_path(target_dir, model_name)\n",
    "model =  tf.keras.models.load_model(model_path)"
   ]
  },
  {
   "cell_type": "code",
   "execution_count": null,
   "metadata": {
    "id": "qqOeVw987Vei"
   },
   "outputs": [],
   "source": [
    "# Load train test split used in training\n",
    "split_path = get_split_path(target_dir, model_name)\n",
    "with open(split_path, 'r') as infile:\n",
    "    data=infile.read()\n",
    "\n",
    "split_dict = json.loads(data)\n",
    "split_dict.keys()\n",
    "test_files, test_labels = split_dict['test_files'], split_dict['test_labels']"
   ]
  },
  {
   "cell_type": "code",
   "execution_count": null,
   "metadata": {
    "colab": {
     "base_uri": "https://localhost:8080/"
    },
    "executionInfo": {
     "elapsed": 535,
     "status": "ok",
     "timestamp": 1615582316435,
     "user": {
      "displayName": "Niklas Hübel",
      "photoUrl": "",
      "userId": "17667331810374229520"
     },
     "user_tz": -60
    },
    "id": "Q5t7kBUVfDi9",
    "outputId": "9bab9f7c-dc80-49e7-ab46-ab742e26c617"
   },
   "outputs": [
    {
     "data": {
      "text/plain": [
       "array([1, 1, 1, 1, 1, 1, 1, 1, 1, 1, 1, 1, 1, 1, 1, 1, 1, 1, 1, 1, 1, 1,\n",
       "       1, 1, 1, 1, 1, 1, 1, 1, 1, 1, 1, 1, 1, 1, 1])"
      ]
     },
     "execution_count": 38,
     "metadata": {
      "tags": []
     },
     "output_type": "execute_result"
    }
   ],
   "source": [
    "scaler_path = os.path.join(target_dir, train_scaler_dir, 'scaler.bin')\n",
    "scaler = load(scaler_path)\n",
    "\n",
    "#test_block = mel_spectrogram(test_files[0], )\n",
    "\n",
    "test_file = test_files[0]\n",
    "test_label = test_labels[0]\n",
    "\n",
    "block = mel_spectrogram(test_file, scaler, n_fft, n_mels, hop_length, window, power, dim, step)\n",
    "block = block.reshape((block.shape[0], block.shape[1], block.shape[2], 1)) \n",
    "\n",
    "block_labels = np.array([1] * block.shape[0]) * test_label\n"
   ]
  },
  {
   "cell_type": "code",
   "execution_count": null,
   "metadata": {
    "colab": {
     "base_uri": "https://localhost:8080/",
     "height": 232
    },
    "executionInfo": {
     "elapsed": 474,
     "status": "error",
     "timestamp": 1615589429065,
     "user": {
      "displayName": "Niklas Hübel",
      "photoUrl": "",
      "userId": "17667331810374229520"
     },
     "user_tz": -60
    },
    "id": "x-OtaurOMmUr",
    "outputId": "eb9b29f1-7a5a-4f4c-edd2-8246a4fa6309"
   },
   "outputs": [
    {
     "ename": "NameError",
     "evalue": "ignored",
     "output_type": "error",
     "traceback": [
      "\u001b[0;31m---------------------------------------------------------------------------\u001b[0m",
      "\u001b[0;31mNameError\u001b[0m                                 Traceback (most recent call last)",
      "\u001b[0;32m<ipython-input-1-af91d79a7233>\u001b[0m in \u001b[0;36m<module>\u001b[0;34m()\u001b[0m\n\u001b[0;32m----> 1\u001b[0;31m \u001b[0mblock_prediction\u001b[0m \u001b[0;34m=\u001b[0m \u001b[0mmodel\u001b[0m\u001b[0;34m.\u001b[0m\u001b[0mpredict\u001b[0m\u001b[0;34m(\u001b[0m\u001b[0mblock\u001b[0m\u001b[0;34m)\u001b[0m\u001b[0;34m\u001b[0m\u001b[0;34m\u001b[0m\u001b[0m\n\u001b[0m\u001b[1;32m      2\u001b[0m \u001b[0msquared_error\u001b[0m \u001b[0;34m=\u001b[0m \u001b[0mnp\u001b[0m\u001b[0;34m.\u001b[0m\u001b[0msquare\u001b[0m\u001b[0;34m(\u001b[0m\u001b[0mblock\u001b[0m \u001b[0;34m-\u001b[0m \u001b[0mblock_prediction\u001b[0m\u001b[0;34m)\u001b[0m\u001b[0;34m\u001b[0m\u001b[0;34m\u001b[0m\u001b[0m\n\u001b[1;32m      3\u001b[0m \u001b[0;34m\u001b[0m\u001b[0m\n\u001b[1;32m      4\u001b[0m \u001b[0mprint\u001b[0m\u001b[0;34m(\u001b[0m\u001b[0msquared_error\u001b[0m\u001b[0;34m.\u001b[0m\u001b[0mshape\u001b[0m\u001b[0;34m)\u001b[0m\u001b[0;34m\u001b[0m\u001b[0;34m\u001b[0m\u001b[0m\n\u001b[1;32m      5\u001b[0m \u001b[0mnp\u001b[0m\u001b[0;34m.\u001b[0m\u001b[0mmax\u001b[0m\u001b[0;34m(\u001b[0m\u001b[0msquared_error\u001b[0m\u001b[0;34m,\u001b[0m \u001b[0maxis\u001b[0m\u001b[0;34m=\u001b[0m\u001b[0;36m2\u001b[0m\u001b[0;34m)\u001b[0m\u001b[0;34m.\u001b[0m\u001b[0mshape\u001b[0m\u001b[0;34m\u001b[0m\u001b[0;34m\u001b[0m\u001b[0m\n",
      "\u001b[0;31mNameError\u001b[0m: name 'model' is not defined"
     ]
    }
   ],
   "source": [
    "block_prediction = model.predict(block)\n",
    "squared_error = np.square(block - block_prediction)\n",
    "\n",
    "print(squared_error.shape)\n",
    "np.max(squared_error, axis=2).shape\n",
    "max_SE = squared_error.max(axis=1).max(axis=1)\n",
    "mean_SE = squared_error.mean(axis=1).mean(axis=1)\n",
    "squared_error.mean(axis=-1)"
   ]
  },
  {
   "cell_type": "code",
   "execution_count": null,
   "metadata": {
    "colab": {
     "base_uri": "https://localhost:8080/"
    },
    "executionInfo": {
     "elapsed": 66868,
     "status": "ok",
     "timestamp": 1615420980407,
     "user": {
      "displayName": "Niklas Hübel",
      "photoUrl": "",
      "userId": "17667331810374229520"
     },
     "user_tz": -60
    },
    "id": "-3YGe2qTVshi",
    "outputId": "7c126b4b-46cd-4ced-8d5e-30d9de34ed8e"
   },
   "outputs": [
    {
     "name": "stderr",
     "output_type": "stream",
     "text": [
      "\n",
      "\n",
      "\n",
      "\n",
      "\n",
      "  0%|          | 0/238 [00:00<?, ?it/s]\u001b[A\u001b[A\u001b[A\u001b[A\u001b[A\n",
      "\n",
      "\n",
      "\n",
      "\n",
      "  0%|          | 1/238 [00:00<00:39,  6.02it/s]\u001b[A\u001b[A\u001b[A\u001b[A\u001b[A\n",
      "\n",
      "\n",
      "\n",
      "\n",
      "  1%|          | 2/238 [00:00<00:34,  6.81it/s]\u001b[A\u001b[A\u001b[A\u001b[A\u001b[A\n",
      "\n",
      "\n",
      "\n",
      "\n",
      "  1%|▏         | 3/238 [00:00<00:32,  7.28it/s]\u001b[A\u001b[A\u001b[A\u001b[A\u001b[A\n",
      "\n",
      "\n",
      "\n",
      "\n",
      "  2%|▏         | 4/238 [00:00<00:30,  7.76it/s]\u001b[A\u001b[A\u001b[A\u001b[A\u001b[A\n",
      "\n",
      "\n",
      "\n",
      "\n",
      "  2%|▏         | 5/238 [00:00<00:28,  8.10it/s]\u001b[A\u001b[A\u001b[A\u001b[A\u001b[A\n",
      "\n",
      "\n",
      "\n",
      "\n",
      "  3%|▎         | 6/238 [00:00<00:27,  8.38it/s]\u001b[A\u001b[A\u001b[A\u001b[A\u001b[A\n",
      "\n",
      "\n",
      "\n",
      "\n",
      "  3%|▎         | 7/238 [00:00<00:27,  8.51it/s]\u001b[A\u001b[A\u001b[A\u001b[A\u001b[A\n",
      "\n",
      "\n",
      "\n",
      "\n",
      "  3%|▎         | 8/238 [00:00<00:26,  8.63it/s]\u001b[A\u001b[A\u001b[A\u001b[A\u001b[A\n",
      "\n",
      "\n",
      "\n",
      "\n",
      "  4%|▍         | 9/238 [00:01<00:25,  8.81it/s]\u001b[A\u001b[A\u001b[A\u001b[A\u001b[A\n",
      "\n",
      "\n",
      "\n",
      "\n",
      "  4%|▍         | 10/238 [00:01<00:25,  8.98it/s]\u001b[A\u001b[A\u001b[A\u001b[A\u001b[A\n",
      "\n",
      "\n",
      "\n",
      "\n",
      "  5%|▍         | 11/238 [00:01<00:24,  9.16it/s]\u001b[A\u001b[A\u001b[A\u001b[A\u001b[A\n",
      "\n",
      "\n",
      "\n",
      "\n",
      "  5%|▌         | 12/238 [00:01<00:25,  8.97it/s]\u001b[A\u001b[A\u001b[A\u001b[A\u001b[A\n",
      "\n",
      "\n",
      "\n",
      "\n",
      "  5%|▌         | 13/238 [00:01<00:28,  7.85it/s]\u001b[A\u001b[A\u001b[A\u001b[A\u001b[A\n",
      "\n",
      "\n",
      "\n",
      "\n",
      "  6%|▌         | 14/238 [00:01<00:27,  8.24it/s]\u001b[A\u001b[A\u001b[A\u001b[A\u001b[A\n",
      "\n",
      "\n",
      "\n",
      "\n",
      "  6%|▋         | 15/238 [00:02<00:47,  4.65it/s]\u001b[A\u001b[A\u001b[A\u001b[A\u001b[A\n",
      "\n",
      "\n",
      "\n",
      "\n",
      "  7%|▋         | 16/238 [00:02<01:03,  3.51it/s]\u001b[A\u001b[A\u001b[A\u001b[A\u001b[A\n",
      "\n",
      "\n",
      "\n",
      "\n",
      "  7%|▋         | 17/238 [00:02<00:51,  4.33it/s]\u001b[A\u001b[A\u001b[A\u001b[A\u001b[A\n",
      "\n",
      "\n",
      "\n",
      "\n",
      "  8%|▊         | 18/238 [00:02<00:42,  5.15it/s]\u001b[A\u001b[A\u001b[A\u001b[A\u001b[A\n",
      "\n",
      "\n",
      "\n",
      "\n",
      "  8%|▊         | 19/238 [00:02<00:36,  5.96it/s]\u001b[A\u001b[A\u001b[A\u001b[A\u001b[A\n",
      "\n",
      "\n",
      "\n",
      "\n",
      "  8%|▊         | 20/238 [00:02<00:32,  6.69it/s]\u001b[A\u001b[A\u001b[A\u001b[A\u001b[A\n",
      "\n",
      "\n",
      "\n",
      "\n",
      "  9%|▉         | 21/238 [00:03<00:29,  7.35it/s]\u001b[A\u001b[A\u001b[A\u001b[A\u001b[A\n",
      "\n",
      "\n",
      "\n",
      "\n",
      "  9%|▉         | 22/238 [00:03<00:27,  7.74it/s]\u001b[A\u001b[A\u001b[A\u001b[A\u001b[A\n",
      "\n",
      "\n",
      "\n",
      "\n",
      " 10%|▉         | 23/238 [00:03<00:26,  8.20it/s]\u001b[A\u001b[A\u001b[A\u001b[A\u001b[A\n",
      "\n",
      "\n",
      "\n",
      "\n",
      " 10%|█         | 24/238 [00:03<00:26,  7.93it/s]\u001b[A\u001b[A\u001b[A\u001b[A\u001b[A\n",
      "\n",
      "\n",
      "\n",
      "\n",
      " 11%|█         | 25/238 [00:03<00:47,  4.52it/s]\u001b[A\u001b[A\u001b[A\u001b[A\u001b[A\n",
      "\n",
      "\n",
      "\n",
      "\n",
      " 11%|█         | 26/238 [00:04<00:57,  3.71it/s]\u001b[A\u001b[A\u001b[A\u001b[A\u001b[A\n",
      "\n",
      "\n",
      "\n",
      "\n",
      " 11%|█▏        | 27/238 [00:04<00:47,  4.44it/s]\u001b[A\u001b[A\u001b[A\u001b[A\u001b[A\n",
      "\n",
      "\n",
      "\n",
      "\n",
      " 12%|█▏        | 28/238 [00:04<00:40,  5.23it/s]\u001b[A\u001b[A\u001b[A\u001b[A\u001b[A\n",
      "\n",
      "\n",
      "\n",
      "\n",
      " 12%|█▏        | 29/238 [00:04<00:35,  5.97it/s]\u001b[A\u001b[A\u001b[A\u001b[A\u001b[A\n",
      "\n",
      "\n",
      "\n",
      "\n",
      " 13%|█▎        | 30/238 [00:04<00:31,  6.62it/s]\u001b[A\u001b[A\u001b[A\u001b[A\u001b[A\n",
      "\n",
      "\n",
      "\n",
      "\n",
      " 13%|█▎        | 31/238 [00:04<00:28,  7.19it/s]\u001b[A\u001b[A\u001b[A\u001b[A\u001b[A\n",
      "\n",
      "\n",
      "\n",
      "\n",
      " 13%|█▎        | 32/238 [00:04<00:26,  7.68it/s]\u001b[A\u001b[A\u001b[A\u001b[A\u001b[A\n",
      "\n",
      "\n",
      "\n",
      "\n",
      " 14%|█▍        | 33/238 [00:05<00:26,  7.83it/s]\u001b[A\u001b[A\u001b[A\u001b[A\u001b[A\n",
      "\n",
      "\n",
      "\n",
      "\n",
      " 14%|█▍        | 34/238 [00:05<00:24,  8.18it/s]\u001b[A\u001b[A\u001b[A\u001b[A\u001b[A\n",
      "\n",
      "\n",
      "\n",
      "\n",
      " 15%|█▍        | 35/238 [00:05<00:26,  7.77it/s]\u001b[A\u001b[A\u001b[A\u001b[A\u001b[A\n",
      "\n",
      "\n",
      "\n",
      "\n",
      " 15%|█▌        | 36/238 [00:05<00:26,  7.75it/s]\u001b[A\u001b[A\u001b[A\u001b[A\u001b[A\n",
      "\n",
      "\n",
      "\n",
      "\n",
      " 16%|█▌        | 37/238 [00:05<00:24,  8.22it/s]\u001b[A\u001b[A\u001b[A\u001b[A\u001b[A\n",
      "\n",
      "\n",
      "\n",
      "\n",
      " 16%|█▌        | 38/238 [00:05<00:23,  8.50it/s]\u001b[A\u001b[A\u001b[A\u001b[A\u001b[A\n",
      "\n",
      "\n",
      "\n",
      "\n",
      " 16%|█▋        | 39/238 [00:05<00:22,  8.80it/s]\u001b[A\u001b[A\u001b[A\u001b[A\u001b[A\n",
      "\n",
      "\n",
      "\n",
      "\n",
      " 17%|█▋        | 40/238 [00:05<00:22,  8.92it/s]\u001b[A\u001b[A\u001b[A\u001b[A\u001b[A\n",
      "\n",
      "\n",
      "\n",
      "\n",
      " 17%|█▋        | 41/238 [00:05<00:21,  8.96it/s]\u001b[A\u001b[A\u001b[A\u001b[A\u001b[A\n",
      "\n",
      "\n",
      "\n",
      "\n",
      " 18%|█▊        | 42/238 [00:06<00:21,  9.01it/s]\u001b[A\u001b[A\u001b[A\u001b[A\u001b[A\n",
      "\n",
      "\n",
      "\n",
      "\n",
      " 18%|█▊        | 43/238 [00:06<00:21,  9.08it/s]\u001b[A\u001b[A\u001b[A\u001b[A\u001b[A\n",
      "\n",
      "\n",
      "\n",
      "\n",
      " 18%|█▊        | 44/238 [00:06<00:21,  9.08it/s]\u001b[A\u001b[A\u001b[A\u001b[A\u001b[A\n",
      "\n",
      "\n",
      "\n",
      "\n",
      " 19%|█▉        | 45/238 [00:06<00:21,  9.12it/s]\u001b[A\u001b[A\u001b[A\u001b[A\u001b[A\n",
      "\n",
      "\n",
      "\n",
      "\n",
      " 19%|█▉        | 46/238 [00:06<00:21,  9.07it/s]\u001b[A\u001b[A\u001b[A\u001b[A\u001b[A\n",
      "\n",
      "\n",
      "\n",
      "\n",
      " 20%|█▉        | 47/238 [00:06<00:20,  9.21it/s]\u001b[A\u001b[A\u001b[A\u001b[A\u001b[A\n",
      "\n",
      "\n",
      "\n",
      "\n",
      " 20%|██        | 48/238 [00:06<00:20,  9.26it/s]\u001b[A\u001b[A\u001b[A\u001b[A\u001b[A\n",
      "\n",
      "\n",
      "\n",
      "\n",
      " 21%|██        | 49/238 [00:06<00:20,  9.16it/s]\u001b[A\u001b[A\u001b[A\u001b[A\u001b[A\n",
      "\n",
      "\n",
      "\n",
      "\n",
      " 21%|██        | 50/238 [00:06<00:21,  8.73it/s]\u001b[A\u001b[A\u001b[A\u001b[A\u001b[A\n",
      "\n",
      "\n",
      "\n",
      "\n",
      " 21%|██▏       | 51/238 [00:07<00:20,  8.95it/s]\u001b[A\u001b[A\u001b[A\u001b[A\u001b[A\n",
      "\n",
      "\n",
      "\n",
      "\n",
      " 22%|██▏       | 52/238 [00:07<00:20,  9.05it/s]\u001b[A\u001b[A\u001b[A\u001b[A\u001b[A\n",
      "\n",
      "\n",
      "\n",
      "\n",
      " 22%|██▏       | 53/238 [00:07<00:20,  9.13it/s]\u001b[A\u001b[A\u001b[A\u001b[A\u001b[A\n",
      "\n",
      "\n",
      "\n",
      "\n",
      " 23%|██▎       | 54/238 [00:07<00:20,  9.06it/s]\u001b[A\u001b[A\u001b[A\u001b[A\u001b[A\n",
      "\n",
      "\n",
      "\n",
      "\n",
      " 23%|██▎       | 55/238 [00:07<00:19,  9.16it/s]\u001b[A\u001b[A\u001b[A\u001b[A\u001b[A\n",
      "\n",
      "\n",
      "\n",
      "\n",
      " 24%|██▎       | 56/238 [00:07<00:19,  9.28it/s]\u001b[A\u001b[A\u001b[A\u001b[A\u001b[A\n",
      "\n",
      "\n",
      "\n",
      "\n",
      " 24%|██▍       | 57/238 [00:07<00:19,  9.34it/s]\u001b[A\u001b[A\u001b[A\u001b[A\u001b[A\n",
      "\n",
      "\n",
      "\n",
      "\n",
      " 24%|██▍       | 58/238 [00:07<00:19,  9.32it/s]\u001b[A\u001b[A\u001b[A\u001b[A\u001b[A\n",
      "\n",
      "\n",
      "\n",
      "\n",
      " 25%|██▍       | 59/238 [00:08<00:41,  4.35it/s]\u001b[A\u001b[A\u001b[A\u001b[A\u001b[A\n",
      "\n",
      "\n",
      "\n",
      "\n",
      " 25%|██▌       | 60/238 [00:08<00:34,  5.17it/s]\u001b[A\u001b[A\u001b[A\u001b[A\u001b[A\n",
      "\n",
      "\n",
      "\n",
      "\n",
      " 26%|██▌       | 61/238 [00:08<00:29,  5.96it/s]\u001b[A\u001b[A\u001b[A\u001b[A\u001b[A\n",
      "\n",
      "\n",
      "\n",
      "\n",
      " 26%|██▌       | 62/238 [00:08<00:26,  6.57it/s]\u001b[A\u001b[A\u001b[A\u001b[A\u001b[A\n",
      "\n",
      "\n",
      "\n",
      "\n",
      " 26%|██▋       | 63/238 [00:08<00:24,  7.13it/s]\u001b[A\u001b[A\u001b[A\u001b[A\u001b[A\n",
      "\n",
      "\n",
      "\n",
      "\n",
      " 27%|██▋       | 64/238 [00:08<00:23,  7.50it/s]\u001b[A\u001b[A\u001b[A\u001b[A\u001b[A\n",
      "\n",
      "\n",
      "\n",
      "\n",
      " 27%|██▋       | 65/238 [00:09<00:21,  7.92it/s]\u001b[A\u001b[A\u001b[A\u001b[A\u001b[A\n",
      "\n",
      "\n",
      "\n",
      "\n",
      " 28%|██▊       | 66/238 [00:09<00:21,  8.01it/s]\u001b[A\u001b[A\u001b[A\u001b[A\u001b[A\n",
      "\n",
      "\n",
      "\n",
      "\n",
      " 28%|██▊       | 67/238 [00:09<00:21,  8.12it/s]\u001b[A\u001b[A\u001b[A\u001b[A\u001b[A\n",
      "\n",
      "\n",
      "\n",
      "\n",
      " 29%|██▊       | 68/238 [00:09<00:20,  8.34it/s]\u001b[A\u001b[A\u001b[A\u001b[A\u001b[A\n",
      "\n",
      "\n",
      "\n",
      "\n",
      " 29%|██▉       | 69/238 [00:09<00:33,  5.04it/s]\u001b[A\u001b[A\u001b[A\u001b[A\u001b[A\n",
      "\n",
      "\n",
      "\n",
      "\n",
      " 29%|██▉       | 70/238 [00:09<00:28,  5.82it/s]\u001b[A\u001b[A\u001b[A\u001b[A\u001b[A\n",
      "\n",
      "\n",
      "\n",
      "\n",
      " 30%|██▉       | 71/238 [00:09<00:25,  6.56it/s]\u001b[A\u001b[A\u001b[A\u001b[A\u001b[A\n",
      "\n",
      "\n",
      "\n",
      "\n",
      " 30%|███       | 72/238 [00:10<00:23,  7.15it/s]\u001b[A\u001b[A\u001b[A\u001b[A\u001b[A\n",
      "\n",
      "\n",
      "\n",
      "\n",
      " 31%|███       | 73/238 [00:10<00:21,  7.63it/s]\u001b[A\u001b[A\u001b[A\u001b[A\u001b[A\n",
      "\n",
      "\n",
      "\n",
      "\n",
      " 31%|███       | 74/238 [00:10<00:20,  7.96it/s]\u001b[A\u001b[A\u001b[A\u001b[A\u001b[A\n",
      "\n",
      "\n",
      "\n",
      "\n",
      " 32%|███▏      | 75/238 [00:10<00:20,  7.89it/s]\u001b[A\u001b[A\u001b[A\u001b[A\u001b[A\n",
      "\n",
      "\n",
      "\n",
      "\n",
      " 32%|███▏      | 76/238 [00:10<00:20,  7.95it/s]\u001b[A\u001b[A\u001b[A\u001b[A\u001b[A\n",
      "\n",
      "\n",
      "\n",
      "\n",
      " 32%|███▏      | 77/238 [00:10<00:19,  8.25it/s]\u001b[A\u001b[A\u001b[A\u001b[A\u001b[A\n",
      "\n",
      "\n",
      "\n",
      "\n",
      " 33%|███▎      | 78/238 [00:10<00:20,  7.94it/s]\u001b[A\u001b[A\u001b[A\u001b[A\u001b[A\n",
      "\n",
      "\n",
      "\n",
      "\n",
      " 33%|███▎      | 79/238 [00:10<00:19,  8.11it/s]\u001b[A\u001b[A\u001b[A\u001b[A\u001b[A\n",
      "\n",
      "\n",
      "\n",
      "\n",
      " 34%|███▎      | 80/238 [00:11<00:18,  8.41it/s]\u001b[A\u001b[A\u001b[A\u001b[A\u001b[A\n",
      "\n",
      "\n",
      "\n",
      "\n",
      " 34%|███▍      | 81/238 [00:11<00:31,  4.92it/s]\u001b[A\u001b[A\u001b[A\u001b[A\u001b[A\n",
      "\n",
      "\n",
      "\n",
      "\n",
      " 34%|███▍      | 82/238 [00:11<00:27,  5.66it/s]\u001b[A\u001b[A\u001b[A\u001b[A\u001b[A\n",
      "\n",
      "\n",
      "\n",
      "\n",
      " 35%|███▌      | 84/238 [00:11<00:23,  6.49it/s]\u001b[A\u001b[A\u001b[A\u001b[A\u001b[A\n",
      "\n",
      "\n",
      "\n",
      "\n",
      " 36%|███▌      | 85/238 [00:11<00:21,  7.07it/s]\u001b[A\u001b[A\u001b[A\u001b[A\u001b[A\n",
      "\n",
      "\n",
      "\n",
      "\n",
      " 36%|███▌      | 86/238 [00:11<00:20,  7.51it/s]\u001b[A\u001b[A\u001b[A\u001b[A\u001b[A\n",
      "\n",
      "\n",
      "\n",
      "\n",
      " 37%|███▋      | 87/238 [00:12<00:19,  7.93it/s]\u001b[A\u001b[A\u001b[A\u001b[A\u001b[A\n",
      "\n",
      "\n",
      "\n",
      "\n",
      " 37%|███▋      | 88/238 [00:12<00:18,  8.17it/s]\u001b[A\u001b[A\u001b[A\u001b[A\u001b[A\n",
      "\n",
      "\n",
      "\n",
      "\n",
      " 37%|███▋      | 89/238 [00:12<00:17,  8.36it/s]\u001b[A\u001b[A\u001b[A\u001b[A\u001b[A\n",
      "\n",
      "\n",
      "\n",
      "\n",
      " 38%|███▊      | 90/238 [00:12<00:17,  8.46it/s]\u001b[A\u001b[A\u001b[A\u001b[A\u001b[A\n",
      "\n",
      "\n",
      "\n",
      "\n",
      " 38%|███▊      | 91/238 [00:12<00:17,  8.34it/s]\u001b[A\u001b[A\u001b[A\u001b[A\u001b[A\n",
      "\n",
      "\n",
      "\n",
      "\n",
      " 39%|███▊      | 92/238 [00:12<00:17,  8.46it/s]\u001b[A\u001b[A\u001b[A\u001b[A\u001b[A\n",
      "\n",
      "\n",
      "\n",
      "\n",
      " 39%|███▉      | 93/238 [00:12<00:16,  8.65it/s]\u001b[A\u001b[A\u001b[A\u001b[A\u001b[A\n",
      "\n",
      "\n",
      "\n",
      "\n",
      " 39%|███▉      | 94/238 [00:13<00:29,  4.93it/s]\u001b[A\u001b[A\u001b[A\u001b[A\u001b[A\n",
      "\n",
      "\n",
      "\n",
      "\n",
      " 40%|███▉      | 95/238 [00:13<00:25,  5.72it/s]\u001b[A\u001b[A\u001b[A\u001b[A\u001b[A\n",
      "\n",
      "\n",
      "\n",
      "\n",
      " 40%|████      | 96/238 [00:13<00:21,  6.50it/s]\u001b[A\u001b[A\u001b[A\u001b[A\u001b[A\n",
      "\n",
      "\n",
      "\n",
      "\n",
      " 41%|████      | 97/238 [00:13<00:19,  7.15it/s]\u001b[A\u001b[A\u001b[A\u001b[A\u001b[A\n",
      "\n",
      "\n",
      "\n",
      "\n",
      " 41%|████      | 98/238 [00:13<00:18,  7.57it/s]\u001b[A\u001b[A\u001b[A\u001b[A\u001b[A\n",
      "\n",
      "\n",
      "\n",
      "\n",
      " 42%|████▏     | 99/238 [00:13<00:17,  8.07it/s]\u001b[A\u001b[A\u001b[A\u001b[A\u001b[A\n",
      "\n",
      "\n",
      "\n",
      "\n",
      " 42%|████▏     | 100/238 [00:13<00:16,  8.32it/s]\u001b[A\u001b[A\u001b[A\u001b[A\u001b[A\n",
      "\n",
      "\n",
      "\n",
      "\n",
      " 42%|████▏     | 101/238 [00:13<00:15,  8.69it/s]\u001b[A\u001b[A\u001b[A\u001b[A\u001b[A\n",
      "\n",
      "\n",
      "\n",
      "\n",
      " 43%|████▎     | 102/238 [00:14<00:15,  8.81it/s]\u001b[A\u001b[A\u001b[A\u001b[A\u001b[A\n",
      "\n",
      "\n",
      "\n",
      "\n",
      " 43%|████▎     | 103/238 [00:14<00:28,  4.69it/s]\u001b[A\u001b[A\u001b[A\u001b[A\u001b[A\n",
      "\n",
      "\n",
      "\n",
      "\n",
      " 44%|████▎     | 104/238 [00:14<00:24,  5.42it/s]\u001b[A\u001b[A\u001b[A\u001b[A\u001b[A\n",
      "\n",
      "\n",
      "\n",
      "\n",
      " 44%|████▍     | 105/238 [00:14<00:21,  6.19it/s]\u001b[A\u001b[A\u001b[A\u001b[A\u001b[A\n",
      "\n",
      "\n",
      "\n",
      "\n",
      " 45%|████▍     | 106/238 [00:14<00:19,  6.88it/s]\u001b[A\u001b[A\u001b[A\u001b[A\u001b[A\n",
      "\n",
      "\n",
      "\n",
      "\n",
      " 45%|████▍     | 107/238 [00:14<00:17,  7.42it/s]\u001b[A\u001b[A\u001b[A\u001b[A\u001b[A\n",
      "\n",
      "\n",
      "\n",
      "\n",
      " 45%|████▌     | 108/238 [00:15<00:16,  7.85it/s]\u001b[A\u001b[A\u001b[A\u001b[A\u001b[A\n",
      "\n",
      "\n",
      "\n",
      "\n",
      " 46%|████▌     | 109/238 [00:15<00:16,  7.78it/s]\u001b[A\u001b[A\u001b[A\u001b[A\u001b[A\n",
      "\n",
      "\n",
      "\n",
      "\n",
      " 46%|████▌     | 110/238 [00:15<00:15,  8.18it/s]\u001b[A\u001b[A\u001b[A\u001b[A\u001b[A\n",
      "\n",
      "\n",
      "\n",
      "\n",
      " 47%|████▋     | 111/238 [00:16<00:39,  3.18it/s]\u001b[A\u001b[A\u001b[A\u001b[A\u001b[A\n",
      "\n",
      "\n",
      "\n",
      "\n",
      " 47%|████▋     | 112/238 [00:16<00:32,  3.93it/s]\u001b[A\u001b[A\u001b[A\u001b[A\u001b[A\n",
      "\n",
      "\n",
      "\n",
      "\n",
      " 47%|████▋     | 113/238 [00:16<00:26,  4.74it/s]\u001b[A\u001b[A\u001b[A\u001b[A\u001b[A\n",
      "\n",
      "\n",
      "\n",
      "\n",
      " 48%|████▊     | 114/238 [00:16<00:22,  5.55it/s]\u001b[A\u001b[A\u001b[A\u001b[A\u001b[A\n",
      "\n",
      "\n",
      "\n",
      "\n",
      " 48%|████▊     | 115/238 [00:16<00:19,  6.25it/s]\u001b[A\u001b[A\u001b[A\u001b[A\u001b[A\n",
      "\n",
      "\n",
      "\n",
      "\n",
      " 49%|████▊     | 116/238 [00:16<00:18,  6.76it/s]\u001b[A\u001b[A\u001b[A\u001b[A\u001b[A\n",
      "\n",
      "\n",
      "\n",
      "\n",
      " 49%|████▉     | 117/238 [00:16<00:16,  7.25it/s]\u001b[A\u001b[A\u001b[A\u001b[A\u001b[A\n",
      "\n",
      "\n",
      "\n",
      "\n",
      " 50%|████▉     | 118/238 [00:16<00:15,  7.76it/s]\u001b[A\u001b[A\u001b[A\u001b[A\u001b[A\n",
      "\n",
      "\n",
      "\n",
      "\n",
      " 50%|█████     | 119/238 [00:17<00:25,  4.75it/s]\u001b[A\u001b[A\u001b[A\u001b[A\u001b[A\n",
      "\n",
      "\n",
      "\n",
      "\n",
      " 50%|█████     | 120/238 [00:17<00:21,  5.48it/s]\u001b[A\u001b[A\u001b[A\u001b[A\u001b[A\n",
      "\n",
      "\n",
      "\n",
      "\n",
      " 51%|█████     | 121/238 [00:17<00:32,  3.59it/s]\u001b[A\u001b[A\u001b[A\u001b[A\u001b[A\n",
      "\n",
      "\n",
      "\n",
      "\n",
      " 51%|█████▏    | 122/238 [00:18<00:37,  3.10it/s]\u001b[A\u001b[A\u001b[A\u001b[A\u001b[A\n",
      "\n",
      "\n",
      "\n",
      "\n",
      " 52%|█████▏    | 123/238 [00:18<00:41,  2.79it/s]\u001b[A\u001b[A\u001b[A\u001b[A\u001b[A\n",
      "\n",
      "\n",
      "\n",
      "\n",
      " 52%|█████▏    | 124/238 [00:19<00:42,  2.67it/s]\u001b[A\u001b[A\u001b[A\u001b[A\u001b[A\n",
      "\n",
      "\n",
      "\n",
      "\n",
      " 53%|█████▎    | 125/238 [00:19<00:45,  2.50it/s]\u001b[A\u001b[A\u001b[A\u001b[A\u001b[A\n",
      "\n",
      "\n",
      "\n",
      "\n",
      " 53%|█████▎    | 126/238 [00:20<00:53,  2.10it/s]\u001b[A\u001b[A\u001b[A\u001b[A\u001b[A\n",
      "\n",
      "\n",
      "\n",
      "\n",
      " 53%|█████▎    | 127/238 [00:20<00:50,  2.20it/s]\u001b[A\u001b[A\u001b[A\u001b[A\u001b[A\n",
      "\n",
      "\n",
      "\n",
      "\n",
      " 54%|█████▍    | 128/238 [00:21<00:48,  2.28it/s]\u001b[A\u001b[A\u001b[A\u001b[A\u001b[A\n",
      "\n",
      "\n",
      "\n",
      "\n",
      " 54%|█████▍    | 129/238 [00:21<00:51,  2.11it/s]\u001b[A\u001b[A\u001b[A\u001b[A\u001b[A\n",
      "\n",
      "\n",
      "\n",
      "\n",
      " 55%|█████▍    | 130/238 [00:22<00:50,  2.15it/s]\u001b[A\u001b[A\u001b[A\u001b[A\u001b[A\n",
      "\n",
      "\n",
      "\n",
      "\n",
      " 55%|█████▌    | 131/238 [00:22<00:49,  2.15it/s]\u001b[A\u001b[A\u001b[A\u001b[A\u001b[A\n",
      "\n",
      "\n",
      "\n",
      "\n",
      " 55%|█████▌    | 132/238 [00:22<00:46,  2.27it/s]\u001b[A\u001b[A\u001b[A\u001b[A\u001b[A\n",
      "\n",
      "\n",
      "\n",
      "\n",
      " 56%|█████▌    | 133/238 [00:23<00:44,  2.38it/s]\u001b[A\u001b[A\u001b[A\u001b[A\u001b[A\n",
      "\n",
      "\n",
      "\n",
      "\n",
      " 56%|█████▋    | 134/238 [00:23<00:46,  2.26it/s]\u001b[A\u001b[A\u001b[A\u001b[A\u001b[A\n",
      "\n",
      "\n",
      "\n",
      "\n",
      " 57%|█████▋    | 135/238 [00:24<00:45,  2.29it/s]\u001b[A\u001b[A\u001b[A\u001b[A\u001b[A\n",
      "\n",
      "\n",
      "\n",
      "\n",
      " 57%|█████▋    | 136/238 [00:24<00:42,  2.38it/s]\u001b[A\u001b[A\u001b[A\u001b[A\u001b[A\n",
      "\n",
      "\n",
      "\n",
      "\n",
      " 58%|█████▊    | 137/238 [00:24<00:42,  2.37it/s]\u001b[A\u001b[A\u001b[A\u001b[A\u001b[A\n",
      "\n",
      "\n",
      "\n",
      "\n",
      " 58%|█████▊    | 138/238 [00:25<00:41,  2.42it/s]\u001b[A\u001b[A\u001b[A\u001b[A\u001b[A\n",
      "\n",
      "\n",
      "\n",
      "\n",
      " 58%|█████▊    | 139/238 [00:25<00:40,  2.46it/s]\u001b[A\u001b[A\u001b[A\u001b[A\u001b[A\n",
      "\n",
      "\n",
      "\n",
      "\n",
      " 59%|█████▉    | 140/238 [00:26<00:38,  2.55it/s]\u001b[A\u001b[A\u001b[A\u001b[A\u001b[A\n",
      "\n",
      "\n",
      "\n",
      "\n",
      " 59%|█████▉    | 141/238 [00:26<00:40,  2.41it/s]\u001b[A\u001b[A\u001b[A\u001b[A\u001b[A\n",
      "\n",
      "\n",
      "\n",
      "\n",
      " 60%|█████▉    | 142/238 [00:26<00:39,  2.44it/s]\u001b[A\u001b[A\u001b[A\u001b[A\u001b[A\n",
      "\n",
      "\n",
      "\n",
      "\n",
      " 60%|██████    | 143/238 [00:27<00:41,  2.31it/s]\u001b[A\u001b[A\u001b[A\u001b[A\u001b[A\n",
      "\n",
      "\n",
      "\n",
      "\n",
      " 61%|██████    | 144/238 [00:28<00:46,  2.03it/s]\u001b[A\u001b[A\u001b[A\u001b[A\u001b[A\n",
      "\n",
      "\n",
      "\n",
      "\n",
      " 61%|██████    | 145/238 [00:28<00:45,  2.06it/s]\u001b[A\u001b[A\u001b[A\u001b[A\u001b[A\n",
      "\n",
      "\n",
      "\n",
      "\n",
      " 61%|██████▏   | 146/238 [00:29<00:43,  2.13it/s]\u001b[A\u001b[A\u001b[A\u001b[A\u001b[A\n",
      "\n",
      "\n",
      "\n",
      "\n",
      " 62%|██████▏   | 147/238 [00:29<00:41,  2.20it/s]\u001b[A\u001b[A\u001b[A\u001b[A\u001b[A\n",
      "\n",
      "\n",
      "\n",
      "\n",
      " 62%|██████▏   | 148/238 [00:29<00:37,  2.38it/s]\u001b[A\u001b[A\u001b[A\u001b[A\u001b[A\n",
      "\n",
      "\n",
      "\n",
      "\n",
      " 63%|██████▎   | 149/238 [00:30<00:37,  2.37it/s]\u001b[A\u001b[A\u001b[A\u001b[A\u001b[A\n",
      "\n",
      "\n",
      "\n",
      "\n",
      " 63%|██████▎   | 150/238 [00:30<00:35,  2.46it/s]\u001b[A\u001b[A\u001b[A\u001b[A\u001b[A\n",
      "\n",
      "\n",
      "\n",
      "\n",
      " 63%|██████▎   | 151/238 [00:30<00:35,  2.48it/s]\u001b[A\u001b[A\u001b[A\u001b[A\u001b[A\n",
      "\n",
      "\n",
      "\n",
      "\n",
      " 64%|██████▍   | 152/238 [00:31<00:35,  2.42it/s]\u001b[A\u001b[A\u001b[A\u001b[A\u001b[A\n",
      "\n",
      "\n",
      "\n",
      "\n",
      " 64%|██████▍   | 153/238 [00:31<00:35,  2.37it/s]\u001b[A\u001b[A\u001b[A\u001b[A\u001b[A\n",
      "\n",
      "\n",
      "\n",
      "\n",
      " 65%|██████▍   | 154/238 [00:32<00:34,  2.46it/s]\u001b[A\u001b[A\u001b[A\u001b[A\u001b[A\n",
      "\n",
      "\n",
      "\n",
      "\n",
      " 65%|██████▌   | 155/238 [00:32<00:33,  2.47it/s]\u001b[A\u001b[A\u001b[A\u001b[A\u001b[A\n",
      "\n",
      "\n",
      "\n",
      "\n",
      " 66%|██████▌   | 156/238 [00:33<00:32,  2.49it/s]\u001b[A\u001b[A\u001b[A\u001b[A\u001b[A\n",
      "\n",
      "\n",
      "\n",
      "\n",
      " 66%|██████▌   | 157/238 [00:33<00:32,  2.52it/s]\u001b[A\u001b[A\u001b[A\u001b[A\u001b[A\n",
      "\n",
      "\n",
      "\n",
      "\n",
      " 66%|██████▋   | 158/238 [00:33<00:30,  2.59it/s]\u001b[A\u001b[A\u001b[A\u001b[A\u001b[A\n",
      "\n",
      "\n",
      "\n",
      "\n",
      " 67%|██████▋   | 159/238 [00:34<00:30,  2.59it/s]\u001b[A\u001b[A\u001b[A\u001b[A\u001b[A\n",
      "\n",
      "\n",
      "\n",
      "\n",
      " 67%|██████▋   | 160/238 [00:34<00:30,  2.56it/s]\u001b[A\u001b[A\u001b[A\u001b[A\u001b[A\n",
      "\n",
      "\n",
      "\n",
      "\n",
      " 68%|██████▊   | 161/238 [00:34<00:29,  2.59it/s]\u001b[A\u001b[A\u001b[A\u001b[A\u001b[A\n",
      "\n",
      "\n",
      "\n",
      "\n",
      " 68%|██████▊   | 162/238 [00:35<00:30,  2.51it/s]\u001b[A\u001b[A\u001b[A\u001b[A\u001b[A\n",
      "\n",
      "\n",
      "\n",
      "\n",
      " 68%|██████▊   | 163/238 [00:35<00:29,  2.51it/s]\u001b[A\u001b[A\u001b[A\u001b[A\u001b[A\n",
      "\n",
      "\n",
      "\n",
      "\n",
      " 69%|██████▉   | 164/238 [00:36<00:29,  2.50it/s]\u001b[A\u001b[A\u001b[A\u001b[A\u001b[A\n",
      "\n",
      "\n",
      "\n",
      "\n",
      " 69%|██████▉   | 165/238 [00:36<00:30,  2.37it/s]\u001b[A\u001b[A\u001b[A\u001b[A\u001b[A\n",
      "\n",
      "\n",
      "\n",
      "\n",
      " 70%|██████▉   | 166/238 [00:37<00:30,  2.36it/s]\u001b[A\u001b[A\u001b[A\u001b[A\u001b[A\n",
      "\n",
      "\n",
      "\n",
      "\n",
      " 70%|███████   | 167/238 [00:37<00:28,  2.46it/s]\u001b[A\u001b[A\u001b[A\u001b[A\u001b[A\n",
      "\n",
      "\n",
      "\n",
      "\n",
      " 71%|███████   | 168/238 [00:37<00:28,  2.45it/s]\u001b[A\u001b[A\u001b[A\u001b[A\u001b[A\n",
      "\n",
      "\n",
      "\n",
      "\n",
      " 71%|███████   | 169/238 [00:38<00:27,  2.51it/s]\u001b[A\u001b[A\u001b[A\u001b[A\u001b[A\n",
      "\n",
      "\n",
      "\n",
      "\n",
      " 71%|███████▏  | 170/238 [00:38<00:26,  2.57it/s]\u001b[A\u001b[A\u001b[A\u001b[A\u001b[A\n",
      "\n",
      "\n",
      "\n",
      "\n",
      " 72%|███████▏  | 171/238 [00:39<00:27,  2.44it/s]\u001b[A\u001b[A\u001b[A\u001b[A\u001b[A\n",
      "\n",
      "\n",
      "\n",
      "\n",
      " 72%|███████▏  | 172/238 [00:39<00:28,  2.34it/s]\u001b[A\u001b[A\u001b[A\u001b[A\u001b[A\n",
      "\n",
      "\n",
      "\n",
      "\n",
      " 73%|███████▎  | 173/238 [00:39<00:27,  2.37it/s]\u001b[A\u001b[A\u001b[A\u001b[A\u001b[A\n",
      "\n",
      "\n",
      "\n",
      "\n",
      " 73%|███████▎  | 174/238 [00:40<00:25,  2.47it/s]\u001b[A\u001b[A\u001b[A\u001b[A\u001b[A\n",
      "\n",
      "\n",
      "\n",
      "\n",
      " 74%|███████▎  | 175/238 [00:40<00:25,  2.50it/s]\u001b[A\u001b[A\u001b[A\u001b[A\u001b[A\n",
      "\n",
      "\n",
      "\n",
      "\n",
      " 74%|███████▍  | 176/238 [00:41<00:24,  2.55it/s]\u001b[A\u001b[A\u001b[A\u001b[A\u001b[A\n",
      "\n",
      "\n",
      "\n",
      "\n",
      " 74%|███████▍  | 177/238 [00:41<00:25,  2.44it/s]\u001b[A\u001b[A\u001b[A\u001b[A\u001b[A\n",
      "\n",
      "\n",
      "\n",
      "\n",
      " 75%|███████▍  | 178/238 [00:41<00:24,  2.46it/s]\u001b[A\u001b[A\u001b[A\u001b[A\u001b[A\n",
      "\n",
      "\n",
      "\n",
      "\n",
      " 75%|███████▌  | 179/238 [00:42<00:24,  2.37it/s]\u001b[A\u001b[A\u001b[A\u001b[A\u001b[A\n",
      "\n",
      "\n",
      "\n",
      "\n",
      " 76%|███████▌  | 180/238 [00:42<00:24,  2.40it/s]\u001b[A\u001b[A\u001b[A\u001b[A\u001b[A\n",
      "\n",
      "\n",
      "\n",
      "\n",
      " 76%|███████▌  | 181/238 [00:43<00:23,  2.46it/s]\u001b[A\u001b[A\u001b[A\u001b[A\u001b[A\n",
      "\n",
      "\n",
      "\n",
      "\n",
      " 76%|███████▋  | 182/238 [00:43<00:22,  2.50it/s]\u001b[A\u001b[A\u001b[A\u001b[A\u001b[A\n",
      "\n",
      "\n",
      "\n",
      "\n",
      " 77%|███████▋  | 183/238 [00:43<00:22,  2.43it/s]\u001b[A\u001b[A\u001b[A\u001b[A\u001b[A\n",
      "\n",
      "\n",
      "\n",
      "\n",
      " 77%|███████▋  | 184/238 [00:44<00:21,  2.55it/s]\u001b[A\u001b[A\u001b[A\u001b[A\u001b[A\n",
      "\n",
      "\n",
      "\n",
      "\n",
      " 78%|███████▊  | 185/238 [00:44<00:21,  2.46it/s]\u001b[A\u001b[A\u001b[A\u001b[A\u001b[A\n",
      "\n",
      "\n",
      "\n",
      "\n",
      " 78%|███████▊  | 186/238 [00:45<00:21,  2.47it/s]\u001b[A\u001b[A\u001b[A\u001b[A\u001b[A\n",
      "\n",
      "\n",
      "\n",
      "\n",
      " 79%|███████▊  | 187/238 [00:45<00:20,  2.52it/s]\u001b[A\u001b[A\u001b[A\u001b[A\u001b[A\n",
      "\n",
      "\n",
      "\n",
      "\n",
      " 79%|███████▉  | 188/238 [00:45<00:19,  2.54it/s]\u001b[A\u001b[A\u001b[A\u001b[A\u001b[A\n",
      "\n",
      "\n",
      "\n",
      "\n",
      " 79%|███████▉  | 189/238 [00:46<00:19,  2.48it/s]\u001b[A\u001b[A\u001b[A\u001b[A\u001b[A\n",
      "\n",
      "\n",
      "\n",
      "\n",
      " 80%|███████▉  | 190/238 [00:46<00:19,  2.50it/s]\u001b[A\u001b[A\u001b[A\u001b[A\u001b[A\n",
      "\n",
      "\n",
      "\n",
      "\n",
      " 80%|████████  | 191/238 [00:47<00:18,  2.49it/s]\u001b[A\u001b[A\u001b[A\u001b[A\u001b[A\n",
      "\n",
      "\n",
      "\n",
      "\n",
      " 81%|████████  | 192/238 [00:47<00:18,  2.49it/s]\u001b[A\u001b[A\u001b[A\u001b[A\u001b[A\n",
      "\n",
      "\n",
      "\n",
      "\n",
      " 81%|████████  | 193/238 [00:47<00:18,  2.47it/s]\u001b[A\u001b[A\u001b[A\u001b[A\u001b[A\n",
      "\n",
      "\n",
      "\n",
      "\n",
      " 82%|████████▏ | 194/238 [00:48<00:17,  2.46it/s]\u001b[A\u001b[A\u001b[A\u001b[A\u001b[A\n",
      "\n",
      "\n",
      "\n",
      "\n",
      " 82%|████████▏ | 195/238 [00:48<00:17,  2.47it/s]\u001b[A\u001b[A\u001b[A\u001b[A\u001b[A\n",
      "\n",
      "\n",
      "\n",
      "\n",
      " 82%|████████▏ | 196/238 [00:49<00:16,  2.51it/s]\u001b[A\u001b[A\u001b[A\u001b[A\u001b[A\n",
      "\n",
      "\n",
      "\n",
      "\n",
      " 83%|████████▎ | 197/238 [00:49<00:15,  2.57it/s]\u001b[A\u001b[A\u001b[A\u001b[A\u001b[A\n",
      "\n",
      "\n",
      "\n",
      "\n",
      " 83%|████████▎ | 198/238 [00:49<00:15,  2.57it/s]\u001b[A\u001b[A\u001b[A\u001b[A\u001b[A\n",
      "\n",
      "\n",
      "\n",
      "\n",
      " 84%|████████▎ | 199/238 [00:50<00:15,  2.56it/s]\u001b[A\u001b[A\u001b[A\u001b[A\u001b[A\n",
      "\n",
      "\n",
      "\n",
      "\n",
      " 84%|████████▍ | 200/238 [00:50<00:14,  2.56it/s]\u001b[A\u001b[A\u001b[A\u001b[A\u001b[A\n",
      "\n",
      "\n",
      "\n",
      "\n",
      " 84%|████████▍ | 201/238 [00:51<00:14,  2.57it/s]\u001b[A\u001b[A\u001b[A\u001b[A\u001b[A\n",
      "\n",
      "\n",
      "\n",
      "\n",
      " 85%|████████▍ | 202/238 [00:51<00:15,  2.39it/s]\u001b[A\u001b[A\u001b[A\u001b[A\u001b[A\n",
      "\n",
      "\n",
      "\n",
      "\n",
      " 85%|████████▌ | 203/238 [00:51<00:14,  2.42it/s]\u001b[A\u001b[A\u001b[A\u001b[A\u001b[A\n",
      "\n",
      "\n",
      "\n",
      "\n",
      " 86%|████████▌ | 204/238 [00:52<00:13,  2.45it/s]\u001b[A\u001b[A\u001b[A\u001b[A\u001b[A\n",
      "\n",
      "\n",
      "\n",
      "\n",
      " 86%|████████▌ | 205/238 [00:52<00:12,  2.57it/s]\u001b[A\u001b[A\u001b[A\u001b[A\u001b[A\n",
      "\n",
      "\n",
      "\n",
      "\n",
      " 87%|████████▋ | 206/238 [00:53<00:12,  2.59it/s]\u001b[A\u001b[A\u001b[A\u001b[A\u001b[A\n",
      "\n",
      "\n",
      "\n",
      "\n",
      " 87%|████████▋ | 207/238 [00:53<00:11,  2.60it/s]\u001b[A\u001b[A\u001b[A\u001b[A\u001b[A\n",
      "\n",
      "\n",
      "\n",
      "\n",
      " 87%|████████▋ | 208/238 [00:53<00:11,  2.60it/s]\u001b[A\u001b[A\u001b[A\u001b[A\u001b[A\n",
      "\n",
      "\n",
      "\n",
      "\n",
      " 88%|████████▊ | 209/238 [00:54<00:11,  2.61it/s]\u001b[A\u001b[A\u001b[A\u001b[A\u001b[A\n",
      "\n",
      "\n",
      "\n",
      "\n",
      " 88%|████████▊ | 210/238 [00:54<00:11,  2.48it/s]\u001b[A\u001b[A\u001b[A\u001b[A\u001b[A\n",
      "\n",
      "\n",
      "\n",
      "\n",
      " 89%|████████▊ | 211/238 [00:55<00:11,  2.44it/s]\u001b[A\u001b[A\u001b[A\u001b[A\u001b[A\n",
      "\n",
      "\n",
      "\n",
      "\n",
      " 89%|████████▉ | 212/238 [00:55<00:10,  2.47it/s]\u001b[A\u001b[A\u001b[A\u001b[A\u001b[A\n",
      "\n",
      "\n",
      "\n",
      "\n",
      " 89%|████████▉ | 213/238 [00:55<00:10,  2.40it/s]\u001b[A\u001b[A\u001b[A\u001b[A\u001b[A\n",
      "\n",
      "\n",
      "\n",
      "\n",
      " 90%|████████▉ | 214/238 [00:56<00:10,  2.30it/s]\u001b[A\u001b[A\u001b[A\u001b[A\u001b[A\n",
      "\n",
      "\n",
      "\n",
      "\n",
      " 90%|█████████ | 215/238 [00:56<00:09,  2.38it/s]\u001b[A\u001b[A\u001b[A\u001b[A\u001b[A\n",
      "\n",
      "\n",
      "\n",
      "\n",
      " 91%|█████████ | 216/238 [00:57<00:09,  2.42it/s]\u001b[A\u001b[A\u001b[A\u001b[A\u001b[A\n",
      "\n",
      "\n",
      "\n",
      "\n",
      " 91%|█████████ | 217/238 [00:57<00:08,  2.46it/s]\u001b[A\u001b[A\u001b[A\u001b[A\u001b[A\n",
      "\n",
      "\n",
      "\n",
      "\n",
      " 92%|█████████▏| 218/238 [00:58<00:08,  2.41it/s]\u001b[A\u001b[A\u001b[A\u001b[A\u001b[A\n",
      "\n",
      "\n",
      "\n",
      "\n",
      " 92%|█████████▏| 219/238 [00:58<00:07,  2.41it/s]\u001b[A\u001b[A\u001b[A\u001b[A\u001b[A\n",
      "\n",
      "\n",
      "\n",
      "\n",
      " 92%|█████████▏| 220/238 [00:58<00:07,  2.48it/s]\u001b[A\u001b[A\u001b[A\u001b[A\u001b[A\n",
      "\n",
      "\n",
      "\n",
      "\n",
      " 93%|█████████▎| 221/238 [00:59<00:06,  2.52it/s]\u001b[A\u001b[A\u001b[A\u001b[A\u001b[A\n",
      "\n",
      "\n",
      "\n",
      "\n",
      " 93%|█████████▎| 222/238 [00:59<00:06,  2.53it/s]\u001b[A\u001b[A\u001b[A\u001b[A\u001b[A\n",
      "\n",
      "\n",
      "\n",
      "\n",
      " 94%|█████████▎| 223/238 [01:00<00:06,  2.44it/s]\u001b[A\u001b[A\u001b[A\u001b[A\u001b[A\n",
      "\n",
      "\n",
      "\n",
      "\n",
      " 94%|█████████▍| 224/238 [01:00<00:05,  2.37it/s]\u001b[A\u001b[A\u001b[A\u001b[A\u001b[A\n",
      "\n",
      "\n",
      "\n",
      "\n",
      " 95%|█████████▍| 225/238 [01:01<00:06,  2.15it/s]\u001b[A\u001b[A\u001b[A\u001b[A\u001b[A\n",
      "\n",
      "\n",
      "\n",
      "\n",
      " 95%|█████████▍| 226/238 [01:01<00:05,  2.23it/s]\u001b[A\u001b[A\u001b[A\u001b[A\u001b[A\n",
      "\n",
      "\n",
      "\n",
      "\n",
      " 95%|█████████▌| 227/238 [01:01<00:04,  2.21it/s]\u001b[A\u001b[A\u001b[A\u001b[A\u001b[A\n",
      "\n",
      "\n",
      "\n",
      "\n",
      " 96%|█████████▌| 228/238 [01:02<00:04,  2.32it/s]\u001b[A\u001b[A\u001b[A\u001b[A\u001b[A\n",
      "\n",
      "\n",
      "\n",
      "\n",
      " 96%|█████████▌| 229/238 [01:02<00:03,  2.45it/s]\u001b[A\u001b[A\u001b[A\u001b[A\u001b[A\n",
      "\n",
      "\n",
      "\n",
      "\n",
      " 97%|█████████▋| 230/238 [01:03<00:03,  2.50it/s]\u001b[A\u001b[A\u001b[A\u001b[A\u001b[A\n",
      "\n",
      "\n",
      "\n",
      "\n",
      " 97%|█████████▋| 231/238 [01:03<00:02,  2.56it/s]\u001b[A\u001b[A\u001b[A\u001b[A\u001b[A\n",
      "\n",
      "\n",
      "\n",
      "\n",
      " 97%|█████████▋| 232/238 [01:03<00:02,  2.64it/s]\u001b[A\u001b[A\u001b[A\u001b[A\u001b[A\n",
      "\n",
      "\n",
      "\n",
      "\n",
      " 98%|█████████▊| 233/238 [01:04<00:02,  2.48it/s]\u001b[A\u001b[A\u001b[A\u001b[A\u001b[A\n",
      "\n",
      "\n",
      "\n",
      "\n",
      " 98%|█████████▊| 234/238 [01:04<00:01,  2.57it/s]\u001b[A\u001b[A\u001b[A\u001b[A\u001b[A\n",
      "\n",
      "\n",
      "\n",
      "\n",
      " 99%|█████████▊| 235/238 [01:04<00:01,  2.69it/s]\u001b[A\u001b[A\u001b[A\u001b[A\u001b[A\n",
      "\n",
      "\n",
      "\n",
      "\n",
      " 99%|█████████▉| 236/238 [01:05<00:00,  2.71it/s]\u001b[A\u001b[A\u001b[A\u001b[A\u001b[A\n",
      "\n",
      "\n",
      "\n",
      "\n",
      "100%|█████████▉| 237/238 [01:05<00:00,  2.62it/s]\u001b[A\u001b[A\u001b[A\u001b[A\u001b[A\n",
      "\n",
      "\n",
      "\n",
      "\n",
      "100%|██████████| 238/238 [01:06<00:00,  3.60it/s]\n"
     ]
    }
   ],
   "source": [
    "for num, file_name in tqdm.tqdm(enumerate(test_files), total=len(test_files)):\n",
    "  test_data = mel_spectrogram(file=file_name,\n",
    "                              scaler=scaler,\n",
    "                              n_fft=n_fft,\n",
    "                              n_mels=n_mels,\n",
    "                              hop_length=hop_length,\n",
    "                              window=window,\n",
    "                              power=power,\n",
    "                              dim=dim,\n",
    "                              step=step)\n",
    "  \n",
    "  test_data = test_data.reshape((test_data.shape[0], \n",
    "                                 test_data.shape[1], \n",
    "                                 test_data.shape[2], \n",
    "                                 1))\n",
    "    \n",
    "  test_pred = model.predict(test_data)\n",
    "\n",
    "  squared_error = np.square(test_data - test_pred)\n",
    "  featurewise_error = np.mean(squared_error, axis=-1)\n",
    "  reconstruction_error = np.mean(featurewise_error)\n",
    "\n",
    "  test_score[num] = np.mean(reconstruction_error)\n"
   ]
  },
  {
   "cell_type": "code",
   "execution_count": null,
   "metadata": {
    "colab": {
     "base_uri": "https://localhost:8080/"
    },
    "executionInfo": {
     "elapsed": 637,
     "status": "ok",
     "timestamp": 1615419800433,
     "user": {
      "displayName": "Niklas Hübel",
      "photoUrl": "",
      "userId": "17667331810374229520"
     },
     "user_tz": -60
    },
    "id": "tyxLoXJDffZU",
    "outputId": "d10a2967-d96d-435c-c29b-c42a6526f7c1"
   },
   "outputs": [
    {
     "data": {
      "text/plain": [
       "(32264, 32, 128, 1)"
      ]
     },
     "execution_count": 87,
     "metadata": {
      "tags": []
     },
     "output_type": "execute_result"
    }
   ],
   "source": [
    "test_data.shape"
   ]
  },
  {
   "cell_type": "code",
   "execution_count": null,
   "metadata": {
    "colab": {
     "base_uri": "https://localhost:8080/"
    },
    "executionInfo": {
     "elapsed": 12127,
     "status": "ok",
     "timestamp": 1615419851129,
     "user": {
      "displayName": "Niklas Hübel",
      "photoUrl": "",
      "userId": "17667331810374229520"
     },
     "user_tz": -60
    },
    "id": "d4PnFXhBfsUt",
    "outputId": "bb04a9e6-641e-4dfb-ee91-31921b384917"
   },
   "outputs": [
    {
     "data": {
      "text/plain": [
       "(32264, 128, 1)"
      ]
     },
     "execution_count": 89,
     "metadata": {
      "tags": []
     },
     "output_type": "execute_result"
    }
   ],
   "source": [
    "error = np.mean(np.square(test_data - model.predict(test_data)), axis=1)\n",
    "error.shape"
   ]
  },
  {
   "cell_type": "code",
   "execution_count": null,
   "metadata": {
    "id": "NEl6T2FIhndF"
   },
   "outputs": [],
   "source": []
  }
 ],
 "metadata": {
  "accelerator": "GPU",
  "colab": {
   "authorship_tag": "ABX9TyOXRq4Qpz2ame7jVVAP4sof",
   "collapsed_sections": [],
   "name": "refactor.ipynb",
   "provenance": []
  },
  "kernelspec": {
   "display_name": "Python 3",
   "language": "python",
   "name": "python3"
  },
  "language_info": {
   "codemirror_mode": {
    "name": "ipython",
    "version": 3
   },
   "file_extension": ".py",
   "mimetype": "text/x-python",
   "name": "python",
   "nbconvert_exporter": "python",
   "pygments_lexer": "ipython3",
   "version": "3.8.8"
  }
 },
 "nbformat": 4,
 "nbformat_minor": 1
}
