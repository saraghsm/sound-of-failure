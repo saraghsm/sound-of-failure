{
  "nbformat": 4,
  "nbformat_minor": 0,
  "metadata": {
    "colab": {
      "name": "WB_20210325_ConvAE_training_demo.ipynb",
      "provenance": [],
      "collapsed_sections": [],
      "machine_shape": "hm"
    },
    "kernelspec": {
      "name": "python3",
      "display_name": "Python 3"
    },
    "accelerator": "GPU"
  },
  "cells": [
    {
      "cell_type": "markdown",
      "metadata": {
        "id": "Mv8aAIa0HcMf"
      },
      "source": [
        "# Import Packages"
      ]
    },
    {
      "cell_type": "code",
      "metadata": {
        "id": "N4YWwxNTHbi2",
        "colab": {
          "base_uri": "https://localhost:8080/"
        },
        "outputId": "2d0aecf8-fa1d-4d70-a4a0-5eae5d553902"
      },
      "source": [
        "import sys\n",
        "import os\n",
        "import shutil\n",
        "import librosa\n",
        "import glob\n",
        "import tqdm\n",
        "import json\n",
        "import ast\n",
        "import random\n",
        "\n",
        "from librosa import display as ld\n",
        "\n",
        "import tensorflow as tf\n",
        "from tensorflow.keras.models import Model\n",
        "from tensorflow.keras import layers\n",
        "from tensorflow.keras import backend as K\n",
        "\n",
        "!pip install git+https://github.com/AI-Guru/ngdlm.git\n",
        "tf.compat.v1.disable_eager_execution()\n",
        "\n",
        "from sklearn.preprocessing import StandardScaler\n",
        "from sklearn.externals.joblib import load, dump\n",
        "from sklearn import metrics\n",
        "from sklearn.preprocessing import StandardScaler, MinMaxScaler\n",
        "\n",
        "from IPython import display as ipd\n",
        "import numpy as np\n",
        "import matplotlib.pyplot as plt\n",
        "import seaborn as sns\n",
        "\n",
        "import joblib\n",
        "from configparser import ConfigParser"
      ],
      "execution_count": 1,
      "outputs": [
        {
          "output_type": "stream",
          "text": [
            "Collecting git+https://github.com/AI-Guru/ngdlm.git\n",
            "  Cloning https://github.com/AI-Guru/ngdlm.git to /tmp/pip-req-build-dkj3861l\n",
            "  Running command git clone -q https://github.com/AI-Guru/ngdlm.git /tmp/pip-req-build-dkj3861l\n",
            "Requirement already satisfied (use --upgrade to upgrade): ngdlm==0.0.3 from git+https://github.com/AI-Guru/ngdlm.git in /usr/local/lib/python3.7/dist-packages\n",
            "Requirement already satisfied: keras in /usr/local/lib/python3.7/dist-packages (from ngdlm==0.0.3) (2.4.3)\n",
            "Requirement already satisfied: tensorflow in /usr/local/lib/python3.7/dist-packages (from ngdlm==0.0.3) (2.4.1)\n",
            "Requirement already satisfied: matplotlib in /usr/local/lib/python3.7/dist-packages (from ngdlm==0.0.3) (3.2.2)\n",
            "Requirement already satisfied: numpy>=1.9.1 in /usr/local/lib/python3.7/dist-packages (from keras->ngdlm==0.0.3) (1.19.5)\n",
            "Requirement already satisfied: h5py in /usr/local/lib/python3.7/dist-packages (from keras->ngdlm==0.0.3) (2.10.0)\n",
            "Requirement already satisfied: pyyaml in /usr/local/lib/python3.7/dist-packages (from keras->ngdlm==0.0.3) (3.13)\n",
            "Requirement already satisfied: scipy>=0.14 in /usr/local/lib/python3.7/dist-packages (from keras->ngdlm==0.0.3) (1.4.1)\n",
            "Requirement already satisfied: google-pasta~=0.2 in /usr/local/lib/python3.7/dist-packages (from tensorflow->ngdlm==0.0.3) (0.2.0)\n",
            "Requirement already satisfied: keras-preprocessing~=1.1.2 in /usr/local/lib/python3.7/dist-packages (from tensorflow->ngdlm==0.0.3) (1.1.2)\n",
            "Requirement already satisfied: six~=1.15.0 in /usr/local/lib/python3.7/dist-packages (from tensorflow->ngdlm==0.0.3) (1.15.0)\n",
            "Requirement already satisfied: typing-extensions~=3.7.4 in /usr/local/lib/python3.7/dist-packages (from tensorflow->ngdlm==0.0.3) (3.7.4.3)\n",
            "Requirement already satisfied: tensorflow-estimator<2.5.0,>=2.4.0 in /usr/local/lib/python3.7/dist-packages (from tensorflow->ngdlm==0.0.3) (2.4.0)\n",
            "Requirement already satisfied: astunparse~=1.6.3 in /usr/local/lib/python3.7/dist-packages (from tensorflow->ngdlm==0.0.3) (1.6.3)\n",
            "Requirement already satisfied: wheel~=0.35 in /usr/local/lib/python3.7/dist-packages (from tensorflow->ngdlm==0.0.3) (0.36.2)\n",
            "Requirement already satisfied: wrapt~=1.12.1 in /usr/local/lib/python3.7/dist-packages (from tensorflow->ngdlm==0.0.3) (1.12.1)\n",
            "Requirement already satisfied: tensorboard~=2.4 in /usr/local/lib/python3.7/dist-packages (from tensorflow->ngdlm==0.0.3) (2.4.1)\n",
            "Requirement already satisfied: grpcio~=1.32.0 in /usr/local/lib/python3.7/dist-packages (from tensorflow->ngdlm==0.0.3) (1.32.0)\n",
            "Requirement already satisfied: termcolor~=1.1.0 in /usr/local/lib/python3.7/dist-packages (from tensorflow->ngdlm==0.0.3) (1.1.0)\n",
            "Requirement already satisfied: absl-py~=0.10 in /usr/local/lib/python3.7/dist-packages (from tensorflow->ngdlm==0.0.3) (0.10.0)\n",
            "Requirement already satisfied: opt-einsum~=3.3.0 in /usr/local/lib/python3.7/dist-packages (from tensorflow->ngdlm==0.0.3) (3.3.0)\n",
            "Requirement already satisfied: flatbuffers~=1.12.0 in /usr/local/lib/python3.7/dist-packages (from tensorflow->ngdlm==0.0.3) (1.12)\n",
            "Requirement already satisfied: gast==0.3.3 in /usr/local/lib/python3.7/dist-packages (from tensorflow->ngdlm==0.0.3) (0.3.3)\n",
            "Requirement already satisfied: protobuf>=3.9.2 in /usr/local/lib/python3.7/dist-packages (from tensorflow->ngdlm==0.0.3) (3.12.4)\n",
            "Requirement already satisfied: kiwisolver>=1.0.1 in /usr/local/lib/python3.7/dist-packages (from matplotlib->ngdlm==0.0.3) (1.3.1)\n",
            "Requirement already satisfied: pyparsing!=2.0.4,!=2.1.2,!=2.1.6,>=2.0.1 in /usr/local/lib/python3.7/dist-packages (from matplotlib->ngdlm==0.0.3) (2.4.7)\n",
            "Requirement already satisfied: cycler>=0.10 in /usr/local/lib/python3.7/dist-packages (from matplotlib->ngdlm==0.0.3) (0.10.0)\n",
            "Requirement already satisfied: python-dateutil>=2.1 in /usr/local/lib/python3.7/dist-packages (from matplotlib->ngdlm==0.0.3) (2.8.1)\n",
            "Requirement already satisfied: setuptools>=41.0.0 in /usr/local/lib/python3.7/dist-packages (from tensorboard~=2.4->tensorflow->ngdlm==0.0.3) (54.1.2)\n",
            "Requirement already satisfied: google-auth<2,>=1.6.3 in /usr/local/lib/python3.7/dist-packages (from tensorboard~=2.4->tensorflow->ngdlm==0.0.3) (1.27.1)\n",
            "Requirement already satisfied: tensorboard-plugin-wit>=1.6.0 in /usr/local/lib/python3.7/dist-packages (from tensorboard~=2.4->tensorflow->ngdlm==0.0.3) (1.8.0)\n",
            "Requirement already satisfied: google-auth-oauthlib<0.5,>=0.4.1 in /usr/local/lib/python3.7/dist-packages (from tensorboard~=2.4->tensorflow->ngdlm==0.0.3) (0.4.3)\n",
            "Requirement already satisfied: werkzeug>=0.11.15 in /usr/local/lib/python3.7/dist-packages (from tensorboard~=2.4->tensorflow->ngdlm==0.0.3) (1.0.1)\n",
            "Requirement already satisfied: markdown>=2.6.8 in /usr/local/lib/python3.7/dist-packages (from tensorboard~=2.4->tensorflow->ngdlm==0.0.3) (3.3.4)\n",
            "Requirement already satisfied: requests<3,>=2.21.0 in /usr/local/lib/python3.7/dist-packages (from tensorboard~=2.4->tensorflow->ngdlm==0.0.3) (2.23.0)\n",
            "Requirement already satisfied: rsa<5,>=3.1.4; python_version >= \"3.6\" in /usr/local/lib/python3.7/dist-packages (from google-auth<2,>=1.6.3->tensorboard~=2.4->tensorflow->ngdlm==0.0.3) (4.7.2)\n",
            "Requirement already satisfied: cachetools<5.0,>=2.0.0 in /usr/local/lib/python3.7/dist-packages (from google-auth<2,>=1.6.3->tensorboard~=2.4->tensorflow->ngdlm==0.0.3) (4.2.1)\n",
            "Requirement already satisfied: pyasn1-modules>=0.2.1 in /usr/local/lib/python3.7/dist-packages (from google-auth<2,>=1.6.3->tensorboard~=2.4->tensorflow->ngdlm==0.0.3) (0.2.8)\n",
            "Requirement already satisfied: requests-oauthlib>=0.7.0 in /usr/local/lib/python3.7/dist-packages (from google-auth-oauthlib<0.5,>=0.4.1->tensorboard~=2.4->tensorflow->ngdlm==0.0.3) (1.3.0)\n",
            "Requirement already satisfied: importlib-metadata; python_version < \"3.8\" in /usr/local/lib/python3.7/dist-packages (from markdown>=2.6.8->tensorboard~=2.4->tensorflow->ngdlm==0.0.3) (3.7.2)\n",
            "Requirement already satisfied: certifi>=2017.4.17 in /usr/local/lib/python3.7/dist-packages (from requests<3,>=2.21.0->tensorboard~=2.4->tensorflow->ngdlm==0.0.3) (2020.12.5)\n",
            "Requirement already satisfied: urllib3!=1.25.0,!=1.25.1,<1.26,>=1.21.1 in /usr/local/lib/python3.7/dist-packages (from requests<3,>=2.21.0->tensorboard~=2.4->tensorflow->ngdlm==0.0.3) (1.24.3)\n",
            "Requirement already satisfied: idna<3,>=2.5 in /usr/local/lib/python3.7/dist-packages (from requests<3,>=2.21.0->tensorboard~=2.4->tensorflow->ngdlm==0.0.3) (2.10)\n",
            "Requirement already satisfied: chardet<4,>=3.0.2 in /usr/local/lib/python3.7/dist-packages (from requests<3,>=2.21.0->tensorboard~=2.4->tensorflow->ngdlm==0.0.3) (3.0.4)\n",
            "Requirement already satisfied: pyasn1>=0.1.3 in /usr/local/lib/python3.7/dist-packages (from rsa<5,>=3.1.4; python_version >= \"3.6\"->google-auth<2,>=1.6.3->tensorboard~=2.4->tensorflow->ngdlm==0.0.3) (0.4.8)\n",
            "Requirement already satisfied: oauthlib>=3.0.0 in /usr/local/lib/python3.7/dist-packages (from requests-oauthlib>=0.7.0->google-auth-oauthlib<0.5,>=0.4.1->tensorboard~=2.4->tensorflow->ngdlm==0.0.3) (3.1.0)\n",
            "Requirement already satisfied: zipp>=0.5 in /usr/local/lib/python3.7/dist-packages (from importlib-metadata; python_version < \"3.8\"->markdown>=2.6.8->tensorboard~=2.4->tensorflow->ngdlm==0.0.3) (3.4.1)\n",
            "Building wheels for collected packages: ngdlm\n",
            "  Building wheel for ngdlm (setup.py) ... \u001b[?25l\u001b[?25hdone\n",
            "  Created wheel for ngdlm: filename=ngdlm-0.0.3-py2.py3-none-any.whl size=32027 sha256=ab20cba4765cda04e79559f0184eba33756a199c398322f90db3f47e696221bf\n",
            "  Stored in directory: /tmp/pip-ephem-wheel-cache-9bz0amb9/wheels/93/06/27/e156acb49f475c364c3c9fa4ad4ab7bfa38808bff5bf9c4647\n",
            "Successfully built ngdlm\n"
          ],
          "name": "stdout"
        },
        {
          "output_type": "stream",
          "text": [
            "/usr/local/lib/python3.7/dist-packages/sklearn/externals/joblib/__init__.py:15: FutureWarning: sklearn.externals.joblib is deprecated in 0.21 and will be removed in 0.23. Please import this functionality directly from joblib, which can be installed with: pip install joblib. If this warning is raised when loading pickled models, you may need to re-serialize those models with scikit-learn 0.21+.\n",
            "  warnings.warn(msg, category=FutureWarning)\n"
          ],
          "name": "stderr"
        }
      ]
    },
    {
      "cell_type": "markdown",
      "metadata": {
        "id": "9fTJnTN9Hte0"
      },
      "source": [
        "# Mount Google Drive\n",
        "#### 1. First mount"
      ]
    },
    {
      "cell_type": "code",
      "metadata": {
        "colab": {
          "base_uri": "https://localhost:8080/"
        },
        "id": "0qhTQeB2upJN",
        "outputId": "96241b53-5806-4d07-da33-9b0891b4ceab"
      },
      "source": [
        "from google.colab import drive\n",
        "drive.mount('/gdrive')\n",
        "%cd /gdrive/MyDrive/sound-of-failure"
      ],
      "execution_count": 2,
      "outputs": [
        {
          "output_type": "stream",
          "text": [
            "Drive already mounted at /gdrive; to attempt to forcibly remount, call drive.mount(\"/gdrive\", force_remount=True).\n",
            "/gdrive/MyDrive/sound-of-failure\n"
          ],
          "name": "stdout"
        }
      ]
    },
    {
      "cell_type": "markdown",
      "metadata": {
        "id": "PGyZQ7M0t-py"
      },
      "source": [
        "#### 2. Remount"
      ]
    },
    {
      "cell_type": "code",
      "metadata": {
        "colab": {
          "base_uri": "https://localhost:8080/"
        },
        "id": "AeEkdLfFk-0e",
        "outputId": "1fe25db8-2d36-4789-9d6f-6ab36b64f0b4"
      },
      "source": [
        "%cd ../../..\n",
        "drive.flush_and_unmount()\n",
        "drive.mount('/gdrive', force_remount=True)\n",
        "%cd /gdrive/My Drive/sound-of-failure"
      ],
      "execution_count": 3,
      "outputs": [
        {
          "output_type": "stream",
          "text": [
            "/\n",
            "Mounted at /gdrive\n",
            "/gdrive/My Drive/sound-of-failure\n"
          ],
          "name": "stdout"
        }
      ]
    },
    {
      "cell_type": "markdown",
      "metadata": {
        "id": "rrWBR69_IGJj"
      },
      "source": [
        "# Import Own Modules"
      ]
    },
    {
      "cell_type": "code",
      "metadata": {
        "id": "Xo7kKPNOIMz-",
        "colab": {
          "base_uri": "https://localhost:8080/"
        },
        "outputId": "b656d196-1526-4355-caf5-f9bb3fafa46b"
      },
      "source": [
        "sys.path += ['src/01_data_processing', 'src/02_modelling', 'src/03_modell_evaluation',]\n",
        "\n",
        "import spectrogram as spec\n",
        "import train_test_split as splt\n",
        "import train_model_autoencoder as train\n",
        "import eval_model_autoencoder as eval"
      ],
      "execution_count": 4,
      "outputs": [
        {
          "output_type": "stream",
          "text": [
            "hello world\n",
            "/gdrive/My Drive/sound-of-failure\n"
          ],
          "name": "stdout"
        }
      ]
    },
    {
      "cell_type": "markdown",
      "metadata": {
        "id": "nlIUwYBnSuOd"
      },
      "source": [
        "# Global constants"
      ]
    },
    {
      "cell_type": "markdown",
      "metadata": {
        "id": "PM7yY9Hte7AG"
      },
      "source": [
        "### First run the scripts for building the config files.\n",
        "\n",
        "Some of the parameters can be passed through the command line.\n",
        "At present the command line parameters are the following :\n",
        "\n",
        "1. conf_base.py : Script for building the base config file (saves in sound-of-failure/conf/conf_base.ini)\n",
        "        -raw : Pass the location of the raw data dir\n",
        "\n",
        "\n",
        "2. conf_convAE.py : Script for building the config file holding the parameters for Mel Spectrogram and Convolutional Autoencoder (saves in sound-of-failure/conf/make_conf_convAE.ini). Convolutional Autoencoders can be either Autoencoders or Variational Autoencoders.\n",
        "        -ae : AE or VAE\n",
        "        -mel : No. of mels\n",
        "        -fft : No. of FFT bands\n",
        "        -hop : Hop length for the sliding window while calculating FFT\n",
        "        -dim : Time dimension of one spectrogram block after chunking the whole spectrogram\n",
        "        -s : Step for the sliding window for creating chunks from one spectrogram\n"
      ]
    },
    {
      "cell_type": "markdown",
      "metadata": {
        "id": "HPc6UkH2tZQX"
      },
      "source": [
        "To check the description of the command line parameters one could activate the '-h' flag. For example :"
      ]
    },
    {
      "cell_type": "code",
      "metadata": {
        "colab": {
          "base_uri": "https://localhost:8080/"
        },
        "id": "QQkcCK8Ct3Lm",
        "outputId": "5999f939-828a-4317-b6de-19c5507aed46"
      },
      "source": [
        "%run /gdrive/MyDrive/sound-of-failure/src/00_utils/make_conf_convAE.py -h"
      ],
      "execution_count": 5,
      "outputs": [
        {
          "output_type": "stream",
          "text": [
            "usage: make_conf_convAE.py [-h] [-ae] [-mel] [-fft] [-hop] [-dim] [-s]\n",
            "\n",
            "Params for Spectrogram and Autoencoder (AE or VAE)\n",
            "\n",
            "optional arguments:\n",
            "  -h, --help            show this help message and exit\n",
            "  -ae , --ae            Type of Autoencoder (AE or VAE)\n",
            "  -mel , --n_mels       No. of mel bands\n",
            "  -fft , --n_fft        No. of FFT bands\n",
            "  -hop , --hop_length   Hop length for FFT calc\n",
            "  -dim , --dim          Time dimension of Spectrogram block\n",
            "  -s , --step           Sliding window step for Spectrogram chunking\n"
          ],
          "name": "stdout"
        }
      ]
    },
    {
      "cell_type": "code",
      "metadata": {
        "id": "A3Id9ote4biL"
      },
      "source": [
        "%run /gdrive/MyDrive/sound-of-failure/src/00_utils/make_conf_base.py -raw '/gdrive/MyDrive/Hitachi_data/dataset'\n",
        "%run /gdrive/MyDrive/sound-of-failure/src/00_utils/make_conf_convAE.py -ae AE -mel 32 -fft 1024 -hop 128 -dim 32 -s 8"
      ],
      "execution_count": 6,
      "outputs": []
    },
    {
      "cell_type": "markdown",
      "metadata": {
        "id": "gNT43QWpf7Zo"
      },
      "source": [
        "### Then read from the config files\n",
        "\n",
        "There are two config files : \n",
        "\n",
        "1. sound-of-failure/conf/**conf_base**.ini\n",
        "2. sound-of-failure/conf/**conf_convAE**.ini"
      ]
    },
    {
      "cell_type": "code",
      "metadata": {
        "id": "TorEBX3N9lik"
      },
      "source": [
        "def read_config(config_file):\n",
        "  \"\"\"\n",
        "  Function for reading config files\n",
        "  \"\"\"\n",
        "  config = ConfigParser()\n",
        "  config.read(config_file)\n",
        "  return config"
      ],
      "execution_count": 7,
      "outputs": []
    },
    {
      "cell_type": "code",
      "metadata": {
        "id": "ygPws2kf-gMS"
      },
      "source": [
        "base_conf = read_config('/gdrive/MyDrive/sound-of-failure/conf/conf_base.ini')\n",
        "param_conf = read_config('/gdrive/MyDrive/sound-of-failure/conf/conf_convAE.ini')"
      ],
      "execution_count": 8,
      "outputs": []
    },
    {
      "cell_type": "markdown",
      "metadata": {
        "id": "XhqKBfNNhzDG"
      },
      "source": [
        "#### Read the parameters directly from the config files\n",
        "\n",
        "Question : Should the reading of config files be done within notebooks or the source script should directly read from them?"
      ]
    },
    {
      "cell_type": "code",
      "metadata": {
        "id": "1YtgVox0-7b3"
      },
      "source": [
        "# Directories\n",
        "RAW_DATA_DIR = base_conf['directories']['raw_data_dir']\n",
        "BASE_DIR = base_conf['directories']['base_dir']\n",
        "\n",
        "\n",
        "# Mel spectrograms\n",
        "N_MELS = param_conf.getint('melspec', 'n_mels')\n",
        "N_FFT = param_conf.getint('melspec', 'n_fft')\n",
        "HOP_LENGTH = param_conf.getint('melspec', 'hop_length')\n",
        "POWER = param_conf.getfloat('melspec', 'power')\n",
        "WINDOW = param_conf.get('melspec', 'window')\n",
        "\n",
        "\n",
        "# Subsampling\n",
        "DIM = param_conf.getint('melspec', 'dim')\n",
        "STEP = param_conf.getint('melspec', 'step')\n",
        "\n",
        "\n",
        "# Scaler and cost function\n",
        "SCALER_TYPE = param_conf.get('model', 'scaler')\n",
        "LOSS = param_conf.get('model', 'loss')\n",
        "\n",
        "\n",
        "# Optimizer\n",
        "OPTIMIZER = param_conf.get('model', 'optimizer')\n",
        "EPOCHS = param_conf.getint('model', 'epochs')\n",
        "BATCH_SIZE = param_conf.getint('model', 'batch_size')\n",
        "VALIDATION_SPLIT = param_conf.getfloat('model', 'val_split')\n",
        "SHUFFLE = param_conf.getboolean('model', 'shuffle')\n",
        "\n",
        "\n",
        "# Autoencoder\n",
        "INPUT_SHAPE = (param_conf.getint('melspec', 'dim'),\n",
        "               param_conf.getint('melspec', 'n_mels'),\n",
        "               1)\n",
        "\n",
        "LATENT_DIM = param_conf.getint('autoencoder', 'latentdim')\n",
        "NUM_NODES = json.loads(param_conf.get('autoencoder', 'num_nodes'))\n",
        "NUM_KERNEL = json.loads(param_conf.get('autoencoder', 'num_kernel'))\n",
        "NUM_STRIDES = param_conf.get('autoencoder', 'num_strides')\n",
        "NUM_STRIDES = list(ast.literal_eval(NUM_STRIDES))\n",
        "\n",
        "\n",
        "# Data\n",
        "DB = param_conf.get('data', 'noise')\n",
        "MACHINE_TYPE = param_conf.get('data', 'machine')\n",
        "MACHINE_ID = param_conf.get('data', 'machine_id')"
      ],
      "execution_count": 9,
      "outputs": []
    },
    {
      "cell_type": "markdown",
      "metadata": {
        "id": "nNCFbJV8SAX1"
      },
      "source": [
        "# Execute preprocessing steps\n",
        "#### 1. Generate unscaled mel spectrograms (~ 5 minutes)"
      ]
    },
    {
      "cell_type": "code",
      "metadata": {
        "colab": {
          "base_uri": "https://localhost:8080/"
        },
        "id": "Dc0KZB_h9nwL",
        "outputId": "83e55074-a46b-4329-8ec9-309c042bc4c0"
      },
      "source": [
        "spec.make_mel_dirs(BASE_DIR, DB, MACHINE_TYPE, MACHINE_ID)\n",
        "\n",
        "spec.make_mels(RAW_DATA_DIR, BASE_DIR, \n",
        "               DB, MACHINE_TYPE, MACHINE_ID, \n",
        "               N_MELS, N_FFT, HOP_LENGTH, POWER, WINDOW)"
      ],
      "execution_count": 10,
      "outputs": [
        {
          "output_type": "stream",
          "text": [
            "Generate normal spectrograms and save to /gdrive/MyDrive/sound-of-failure/data/mel_spectrograms/6dB/valve/id_00/normal.\n",
            "Generate abnormal spectrograms and save to /gdrive/MyDrive/sound-of-failure/data/mel_spectrograms/6dB/valve/id_00/abnormal.\n"
          ],
          "name": "stdout"
        }
      ]
    },
    {
      "cell_type": "markdown",
      "metadata": {
        "id": "9cFvil9_SMTt"
      },
      "source": [
        "#### 2. Separate train and test files"
      ]
    },
    {
      "cell_type": "code",
      "metadata": {
        "id": "77iQhf4K9n33"
      },
      "source": [
        "train_files, train_labels, test_files, test_labels = splt.make_train_test_split(BASE_DIR, \n",
        "                                                                           DB, MACHINE_TYPE, MACHINE_ID, \n",
        "                                                                           random_seed=1)"
      ],
      "execution_count": 11,
      "outputs": []
    },
    {
      "cell_type": "markdown",
      "metadata": {
        "id": "VQ4hNFi5SWK5"
      },
      "source": [
        "#### 3. Fit scaler to train files"
      ]
    },
    {
      "cell_type": "markdown",
      "metadata": {
        "id": "aZxJV_ediUP1"
      },
      "source": [
        "#### 3.1 Plot an example spectrogram\n",
        "\n",
        "Just a sanity check"
      ]
    },
    {
      "cell_type": "code",
      "metadata": {
        "colab": {
          "base_uri": "https://localhost:8080/",
          "height": 295
        },
        "id": "Q6_eI568XV3m",
        "outputId": "ee1fe336-d7ec-42b2-a586-af7e242c32d4"
      },
      "source": [
        "spect = np.load('/gdrive/MyDrive/sound-of-failure/data/mel_spectrograms/6dB/valve/id_00/normal/00000990.npy')\n",
        "\n",
        "fig, ax = plt.subplots()\n",
        "plt.title(\"Example spectrogram \")\n",
        "img = ld.specshow(spect, \n",
        "                    x_axis='time', \n",
        "                    y_axis='mel', \n",
        "                    sr=16000, \n",
        "                    fmax=8000, \n",
        "                    ax=ax)\n",
        "\n",
        "fig.colorbar(img, ax=ax)\n",
        "plt.show()\n",
        "plt.close()"
      ],
      "execution_count": 12,
      "outputs": [
        {
          "output_type": "display_data",
          "data": {
            "image/png": "[encoded data removed]",
            "text/plain": [
              "<Figure size 432x288 with 2 Axes>"
            ]
          },
          "metadata": {
            "tags": [],
            "needs_background": "light"
          }
        }
      ]
    },
    {
      "cell_type": "code",
      "metadata": {
        "id": "cXQ_834-9n7y"
      },
      "source": [
        "scaler = spec.create_scaler(SCALER_TYPE)\n",
        "spec.fit_scaler_to_mel_files(scaler, train_files)"
      ],
      "execution_count": 13,
      "outputs": []
    },
    {
      "cell_type": "markdown",
      "metadata": {
        "id": "MsHNzTQESepd"
      },
      "source": [
        "#### 4. Generate training data from scaling and subsampling mel spectrograms"
      ]
    },
    {
      "cell_type": "code",
      "metadata": {
        "id": "behp3UQGDDz7"
      },
      "source": [
        "train_data = splt.generate_train_data(train_files, scaler, DIM, STEP)"
      ],
      "execution_count": 14,
      "outputs": []
    },
    {
      "cell_type": "code",
      "metadata": {
        "colab": {
          "base_uri": "https://localhost:8080/"
        },
        "id": "i8XIS0EWHMBT",
        "outputId": "6c7d5750-23ff-42aa-b10d-4b22dcaeed24"
      },
      "source": [
        "train_data.shape"
      ],
      "execution_count": 15,
      "outputs": [
        {
          "output_type": "execute_result",
          "data": {
            "text/plain": [
              "(134288, 32, 32, 1)"
            ]
          },
          "metadata": {
            "tags": []
          },
          "execution_count": 15
        }
      ]
    },
    {
      "cell_type": "markdown",
      "metadata": {
        "id": "J6VStMg7VFDj"
      },
      "source": [
        "# Modelling"
      ]
    },
    {
      "cell_type": "markdown",
      "metadata": {
        "id": "LlzbhcxnYubl"
      },
      "source": [
        "### Build Convolutional Autoencoder"
      ]
    },
    {
      "cell_type": "code",
      "metadata": {
        "colab": {
          "base_uri": "https://localhost:8080/"
        },
        "id": "URd_-ubwHMM9",
        "outputId": "cf691c24-1e17-47b9-a08d-0b56f3636485"
      },
      "source": [
        "my_model = train.load_new_model(model_name='AE',\n",
        "                                input_shape=INPUT_SHAPE,\n",
        "                                num_nodes=NUM_NODES,\n",
        "                                num_kernel=NUM_KERNEL,\n",
        "                                num_strides=NUM_STRIDES,\n",
        "                                latent_dim=LATENT_DIM)\n",
        "\n",
        "print(my_model.summary())"
      ],
      "execution_count": 16,
      "outputs": [
        {
          "output_type": "stream",
          "text": [
            "This is my autoencoder\n",
            "Model: \"model\"\n",
            "_________________________________________________________________\n",
            "Layer (type)                 Output Shape              Param #   \n",
            "=================================================================\n",
            "Encoder_input (InputLayer)   [(None, 32, 32, 1)]       0         \n",
            "_________________________________________________________________\n",
            "Encoder (Functional)         (None, 20)                504980    \n",
            "_________________________________________________________________\n",
            "Decoder (Functional)         (None, 32, 32, 1)         638849    \n",
            "=================================================================\n",
            "Total params: 1,143,829\n",
            "Trainable params: 1,142,421\n",
            "Non-trainable params: 1,408\n",
            "_________________________________________________________________\n",
            "None\n"
          ],
          "name": "stdout"
        }
      ]
    },
    {
      "cell_type": "code",
      "metadata": {
        "id": "c1wcjHHIVC-Q",
        "colab": {
          "base_uri": "https://localhost:8080/",
          "height": 1000
        },
        "outputId": "7882ff56-c530-4e32-a14a-0ce198c196e0"
      },
      "source": [
        "# Compile model\n",
        "train.compile_model(model=my_model, \n",
        "              optimizer=OPTIMIZER, \n",
        "              loss=LOSS, \n",
        "              learning_rate=0.001)\n",
        "\n",
        "# Train model\n",
        "history = train.train_model(model=my_model,\n",
        "          train_data=train_data,\n",
        "          epochs=EPOCHS,\n",
        "          batch_size=BATCH_SIZE,\n",
        "          validation_split=VALIDATION_SPLIT,\n",
        "          shuffle=SHUFFLE,\n",
        "          callback=True,\n",
        "          patience=15,\n",
        "          model_outdir='/gdrive/MyDrive/sound-of-failure/models/00_trial_AE.hdf5')\n",
        "\n",
        "# Plot model history\n",
        "train.plot_train_history(history)"
      ],
      "execution_count": 17,
      "outputs": [
        {
          "output_type": "stream",
          "text": [
            "Train on 120859 samples, validate on 13429 samples\n",
            "Epoch 1/100\n",
            "120859/120859 [==============================] - ETA: 0s - loss: 0.0408"
          ],
          "name": "stdout"
        },
        {
          "output_type": "stream",
          "text": [
            "/usr/local/lib/python3.7/dist-packages/tensorflow/python/keras/engine/training.py:2325: UserWarning: `Model.state_updates` will be removed in a future version. This property should not be used in TensorFlow 2.0, as `updates` are applied automatically.\n",
            "  warnings.warn('`Model.state_updates` will be removed in a future version. '\n"
          ],
          "name": "stderr"
        },
        {
          "output_type": "stream",
          "text": [
            "\n",
            "Epoch 00001: val_loss improved from inf to 0.02701, saving model to /gdrive/MyDrive/sound-of-failure/models/00_trial_AE.hdf5\n",
            "120859/120859 [==============================] - 33s 274us/sample - loss: 0.0408 - val_loss: 0.0270\n",
            "Epoch 2/100\n",
            "120859/120859 [==============================] - ETA: 0s - loss: 0.0254\n",
            "Epoch 00002: val_loss improved from 0.02701 to 0.02692, saving model to /gdrive/MyDrive/sound-of-failure/models/00_trial_AE.hdf5\n",
            "120859/120859 [==============================] - 29s 241us/sample - loss: 0.0254 - val_loss: 0.0269\n",
            "Epoch 3/100\n",
            "120832/120859 [============================>.] - ETA: 0s - loss: 0.0230\n",
            "Epoch 00003: val_loss improved from 0.02692 to 0.02425, saving model to /gdrive/MyDrive/sound-of-failure/models/00_trial_AE.hdf5\n",
            "120859/120859 [==============================] - 29s 240us/sample - loss: 0.0230 - val_loss: 0.0242\n",
            "Epoch 4/100\n",
            "120859/120859 [==============================] - ETA: 0s - loss: 0.0219\n",
            "Epoch 00004: val_loss did not improve from 0.02425\n",
            "120859/120859 [==============================] - 29s 237us/sample - loss: 0.0219 - val_loss: 0.0265\n",
            "Epoch 5/100\n",
            "120704/120859 [============================>.] - ETA: 0s - loss: 0.0206\n",
            "Epoch 00005: val_loss improved from 0.02425 to 0.02154, saving model to /gdrive/MyDrive/sound-of-failure/models/00_trial_AE.hdf5\n",
            "120859/120859 [==============================] - 29s 242us/sample - loss: 0.0206 - val_loss: 0.0215\n",
            "Epoch 6/100\n",
            "120859/120859 [==============================] - ETA: 0s - loss: 0.0198\n",
            "Epoch 00006: val_loss improved from 0.02154 to 0.02089, saving model to /gdrive/MyDrive/sound-of-failure/models/00_trial_AE.hdf5\n",
            "120859/120859 [==============================] - 29s 239us/sample - loss: 0.0198 - val_loss: 0.0209\n",
            "Epoch 7/100\n",
            "120704/120859 [============================>.] - ETA: 0s - loss: 0.0194\n",
            "Epoch 00007: val_loss improved from 0.02089 to 0.02055, saving model to /gdrive/MyDrive/sound-of-failure/models/00_trial_AE.hdf5\n",
            "120859/120859 [==============================] - 29s 240us/sample - loss: 0.0194 - val_loss: 0.0205\n",
            "Epoch 8/100\n",
            "120704/120859 [============================>.] - ETA: 0s - loss: 0.0191\n",
            "Epoch 00008: val_loss did not improve from 0.02055\n",
            "120859/120859 [==============================] - 29s 236us/sample - loss: 0.0191 - val_loss: 0.0208\n",
            "Epoch 9/100\n",
            "120859/120859 [==============================] - ETA: 0s - loss: 0.0189\n",
            "Epoch 00009: val_loss did not improve from 0.02055\n",
            "120859/120859 [==============================] - 28s 235us/sample - loss: 0.0189 - val_loss: 0.0207\n",
            "Epoch 10/100\n",
            "120832/120859 [============================>.] - ETA: 0s - loss: 0.0187\n",
            "Epoch 00010: val_loss improved from 0.02055 to 0.02019, saving model to /gdrive/MyDrive/sound-of-failure/models/00_trial_AE.hdf5\n",
            "120859/120859 [==============================] - 29s 239us/sample - loss: 0.0187 - val_loss: 0.0202\n",
            "Epoch 11/100\n",
            "120832/120859 [============================>.] - ETA: 0s - loss: 0.0185\n",
            "Epoch 00011: val_loss improved from 0.02019 to 0.02006, saving model to /gdrive/MyDrive/sound-of-failure/models/00_trial_AE.hdf5\n",
            "120859/120859 [==============================] - 29s 243us/sample - loss: 0.0185 - val_loss: 0.0201\n",
            "Epoch 12/100\n",
            "120859/120859 [==============================] - ETA: 0s - loss: 0.0184\n",
            "Epoch 00012: val_loss did not improve from 0.02006\n",
            "120859/120859 [==============================] - 28s 234us/sample - loss: 0.0184 - val_loss: 0.0202\n",
            "Epoch 13/100\n",
            "120704/120859 [============================>.] - ETA: 0s - loss: 0.0183\n",
            "Epoch 00013: val_loss did not improve from 0.02006\n",
            "120859/120859 [==============================] - 29s 237us/sample - loss: 0.0183 - val_loss: 0.0208\n",
            "Epoch 14/100\n",
            "120704/120859 [============================>.] - ETA: 0s - loss: 0.0182\n",
            "Epoch 00014: val_loss did not improve from 0.02006\n",
            "120859/120859 [==============================] - 28s 236us/sample - loss: 0.0182 - val_loss: 0.0204\n",
            "Epoch 15/100\n",
            "120704/120859 [============================>.] - ETA: 0s - loss: 0.0181\n",
            "Epoch 00015: val_loss improved from 0.02006 to 0.02006, saving model to /gdrive/MyDrive/sound-of-failure/models/00_trial_AE.hdf5\n",
            "120859/120859 [==============================] - 30s 244us/sample - loss: 0.0181 - val_loss: 0.0201\n",
            "Epoch 16/100\n",
            "120704/120859 [============================>.] - ETA: 0s - loss: 0.0180\n",
            "Epoch 00016: val_loss improved from 0.02006 to 0.01995, saving model to /gdrive/MyDrive/sound-of-failure/models/00_trial_AE.hdf5\n",
            "120859/120859 [==============================] - 29s 241us/sample - loss: 0.0180 - val_loss: 0.0200\n",
            "Epoch 17/100\n",
            "120704/120859 [============================>.] - ETA: 0s - loss: 0.0179\n",
            "Epoch 00017: val_loss did not improve from 0.01995\n",
            "120859/120859 [==============================] - 29s 236us/sample - loss: 0.0179 - val_loss: 0.0201\n",
            "Epoch 18/100\n",
            "120704/120859 [============================>.] - ETA: 0s - loss: 0.0179\n",
            "Epoch 00018: val_loss improved from 0.01995 to 0.01978, saving model to /gdrive/MyDrive/sound-of-failure/models/00_trial_AE.hdf5\n",
            "120859/120859 [==============================] - 29s 241us/sample - loss: 0.0179 - val_loss: 0.0198\n",
            "Epoch 19/100\n",
            "120768/120859 [============================>.] - ETA: 0s - loss: 0.0178\n",
            "Epoch 00019: val_loss did not improve from 0.01978\n",
            "120859/120859 [==============================] - 29s 237us/sample - loss: 0.0178 - val_loss: 0.0200\n",
            "Epoch 20/100\n",
            "120832/120859 [============================>.] - ETA: 0s - loss: 0.0177\n",
            "Epoch 00020: val_loss did not improve from 0.01978\n",
            "120859/120859 [==============================] - 29s 240us/sample - loss: 0.0177 - val_loss: 0.0200\n",
            "Epoch 21/100\n",
            "120832/120859 [============================>.] - ETA: 0s - loss: 0.0177\n",
            "Epoch 00021: val_loss did not improve from 0.01978\n",
            "120859/120859 [==============================] - 29s 241us/sample - loss: 0.0177 - val_loss: 0.0200\n",
            "Epoch 22/100\n",
            "120859/120859 [==============================] - ETA: 0s - loss: 0.0176\n",
            "Epoch 00022: val_loss did not improve from 0.01978\n",
            "120859/120859 [==============================] - 29s 237us/sample - loss: 0.0176 - val_loss: 0.0199\n",
            "Epoch 23/100\n",
            "120832/120859 [============================>.] - ETA: 0s - loss: 0.0176\n",
            "Epoch 00023: val_loss improved from 0.01978 to 0.01971, saving model to /gdrive/MyDrive/sound-of-failure/models/00_trial_AE.hdf5\n",
            "120859/120859 [==============================] - 29s 241us/sample - loss: 0.0176 - val_loss: 0.0197\n",
            "Epoch 24/100\n",
            "120768/120859 [============================>.] - ETA: 0s - loss: 0.0176\n",
            "Epoch 00024: val_loss did not improve from 0.01971\n",
            "120859/120859 [==============================] - 28s 233us/sample - loss: 0.0176 - val_loss: 0.0201\n",
            "Epoch 25/100\n",
            "120832/120859 [============================>.] - ETA: 0s - loss: 0.0175\n",
            "Epoch 00025: val_loss did not improve from 0.01971\n",
            "120859/120859 [==============================] - 29s 236us/sample - loss: 0.0175 - val_loss: 0.0198\n",
            "Epoch 26/100\n",
            "120832/120859 [============================>.] - ETA: 0s - loss: 0.0175\n",
            "Epoch 00026: val_loss did not improve from 0.01971\n",
            "120859/120859 [==============================] - 29s 238us/sample - loss: 0.0175 - val_loss: 0.0200\n",
            "Epoch 27/100\n",
            "120768/120859 [============================>.] - ETA: 0s - loss: 0.0175\n",
            "Epoch 00027: val_loss did not improve from 0.01971\n",
            "120859/120859 [==============================] - 28s 230us/sample - loss: 0.0175 - val_loss: 0.0202\n",
            "Epoch 28/100\n",
            "120859/120859 [==============================] - ETA: 0s - loss: 0.0174\n",
            "Epoch 00028: val_loss improved from 0.01971 to 0.01968, saving model to /gdrive/MyDrive/sound-of-failure/models/00_trial_AE.hdf5\n",
            "120859/120859 [==============================] - 29s 240us/sample - loss: 0.0174 - val_loss: 0.0197\n",
            "Epoch 29/100\n",
            "120768/120859 [============================>.] - ETA: 0s - loss: 0.0174\n",
            "Epoch 00029: val_loss did not improve from 0.01968\n",
            "120859/120859 [==============================] - 28s 236us/sample - loss: 0.0174 - val_loss: 0.0198\n",
            "Epoch 30/100\n",
            "120704/120859 [============================>.] - ETA: 0s - loss: 0.0174\n",
            "Epoch 00030: val_loss did not improve from 0.01968\n",
            "120859/120859 [==============================] - 29s 237us/sample - loss: 0.0174 - val_loss: 0.0200\n",
            "Epoch 31/100\n",
            "120832/120859 [============================>.] - ETA: 0s - loss: 0.0173\n",
            "Epoch 00031: val_loss did not improve from 0.01968\n",
            "120859/120859 [==============================] - 29s 236us/sample - loss: 0.0173 - val_loss: 0.0198\n",
            "Epoch 32/100\n",
            "120832/120859 [============================>.] - ETA: 0s - loss: 0.0173\n",
            "Epoch 00032: val_loss did not improve from 0.01968\n",
            "120859/120859 [==============================] - 29s 236us/sample - loss: 0.0173 - val_loss: 0.0199\n",
            "Epoch 33/100\n",
            "120704/120859 [============================>.] - ETA: 0s - loss: 0.0173\n",
            "Epoch 00033: val_loss did not improve from 0.01968\n",
            "120859/120859 [==============================] - 28s 235us/sample - loss: 0.0173 - val_loss: 0.0199\n",
            "Epoch 34/100\n",
            "120768/120859 [============================>.] - ETA: 0s - loss: 0.0173\n",
            "Epoch 00034: val_loss did not improve from 0.01968\n",
            "120859/120859 [==============================] - 28s 235us/sample - loss: 0.0173 - val_loss: 0.0197\n",
            "Epoch 35/100\n",
            "120832/120859 [============================>.] - ETA: 0s - loss: 0.0172\n",
            "Epoch 00035: val_loss did not improve from 0.01968\n",
            "120859/120859 [==============================] - 28s 236us/sample - loss: 0.0172 - val_loss: 0.0198\n",
            "Epoch 36/100\n",
            "120704/120859 [============================>.] - ETA: 0s - loss: 0.0172\n",
            "Epoch 00036: val_loss improved from 0.01968 to 0.01967, saving model to /gdrive/MyDrive/sound-of-failure/models/00_trial_AE.hdf5\n",
            "120859/120859 [==============================] - 30s 246us/sample - loss: 0.0172 - val_loss: 0.0197\n",
            "Epoch 37/100\n",
            "120768/120859 [============================>.] - ETA: 0s - loss: 0.0172\n",
            "Epoch 00037: val_loss improved from 0.01967 to 0.01956, saving model to /gdrive/MyDrive/sound-of-failure/models/00_trial_AE.hdf5\n",
            "120859/120859 [==============================] - 29s 243us/sample - loss: 0.0172 - val_loss: 0.0196\n",
            "Epoch 38/100\n",
            "120768/120859 [============================>.] - ETA: 0s - loss: 0.0172\n",
            "Epoch 00038: val_loss did not improve from 0.01956\n",
            "120859/120859 [==============================] - 28s 235us/sample - loss: 0.0172 - val_loss: 0.0196\n",
            "Epoch 39/100\n",
            "120832/120859 [============================>.] - ETA: 0s - loss: 0.0172\n",
            "Epoch 00039: val_loss did not improve from 0.01956\n",
            "120859/120859 [==============================] - 29s 236us/sample - loss: 0.0172 - val_loss: 0.0197\n",
            "Epoch 40/100\n",
            "120768/120859 [============================>.] - ETA: 0s - loss: 0.0171\n",
            "Epoch 00040: val_loss did not improve from 0.01956\n",
            "120859/120859 [==============================] - 29s 238us/sample - loss: 0.0171 - val_loss: 0.0197\n",
            "Epoch 41/100\n",
            "120832/120859 [============================>.] - ETA: 0s - loss: 0.0171\n",
            "Epoch 00041: val_loss did not improve from 0.01956\n",
            "120859/120859 [==============================] - 29s 236us/sample - loss: 0.0171 - val_loss: 0.0197\n",
            "Epoch 42/100\n",
            "120832/120859 [============================>.] - ETA: 0s - loss: 0.0171\n",
            "Epoch 00042: val_loss did not improve from 0.01956\n",
            "120859/120859 [==============================] - 29s 237us/sample - loss: 0.0171 - val_loss: 0.0199\n",
            "Epoch 43/100\n",
            "120832/120859 [============================>.] - ETA: 0s - loss: 0.0171\n",
            "Epoch 00043: val_loss did not improve from 0.01956\n",
            "120859/120859 [==============================] - 29s 237us/sample - loss: 0.0171 - val_loss: 0.0197\n",
            "Epoch 44/100\n",
            "120704/120859 [============================>.] - ETA: 0s - loss: 0.0171\n",
            "Epoch 00044: val_loss did not improve from 0.01956\n",
            "120859/120859 [==============================] - 28s 235us/sample - loss: 0.0171 - val_loss: 0.0198\n",
            "Epoch 45/100\n",
            "120704/120859 [============================>.] - ETA: 0s - loss: 0.0171\n",
            "Epoch 00045: val_loss did not improve from 0.01956\n",
            "120859/120859 [==============================] - 29s 239us/sample - loss: 0.0171 - val_loss: 0.0197\n",
            "Epoch 46/100\n",
            "120859/120859 [==============================] - ETA: 0s - loss: 0.0170\n",
            "Epoch 00046: val_loss did not improve from 0.01956\n",
            "120859/120859 [==============================] - 29s 236us/sample - loss: 0.0170 - val_loss: 0.0198\n",
            "Epoch 47/100\n",
            "120859/120859 [==============================] - ETA: 0s - loss: 0.0170\n",
            "Epoch 00047: val_loss did not improve from 0.01956\n",
            "120859/120859 [==============================] - 29s 241us/sample - loss: 0.0170 - val_loss: 0.0199\n",
            "Epoch 48/100\n",
            "120768/120859 [============================>.] - ETA: 0s - loss: 0.0170\n",
            "Epoch 00048: val_loss did not improve from 0.01956\n",
            "120859/120859 [==============================] - 29s 237us/sample - loss: 0.0170 - val_loss: 0.0196\n",
            "Epoch 49/100\n",
            "120768/120859 [============================>.] - ETA: 0s - loss: 0.0170\n",
            "Epoch 00049: val_loss did not improve from 0.01956\n",
            "120859/120859 [==============================] - 28s 233us/sample - loss: 0.0170 - val_loss: 0.0197\n",
            "Epoch 50/100\n",
            "120704/120859 [============================>.] - ETA: 0s - loss: 0.0170\n",
            "Epoch 00050: val_loss did not improve from 0.01956\n",
            "120859/120859 [==============================] - 28s 233us/sample - loss: 0.0170 - val_loss: 0.0201\n",
            "Epoch 51/100\n",
            "120704/120859 [============================>.] - ETA: 0s - loss: 0.0170\n",
            "Epoch 00051: val_loss did not improve from 0.01956\n",
            "120859/120859 [==============================] - 28s 235us/sample - loss: 0.0170 - val_loss: 0.0197\n",
            "Epoch 52/100\n",
            "120768/120859 [============================>.] - ETA: 0s - loss: 0.0170\n",
            "Epoch 00052: val_loss did not improve from 0.01956\n",
            "120859/120859 [==============================] - 29s 236us/sample - loss: 0.0170 - val_loss: 0.0196\n",
            "Epoch 00052: early stopping\n"
          ],
          "name": "stdout"
        },
        {
          "output_type": "display_data",
          "data": {
            "image/png": "[encoded data removed]",
            "text/plain": [
              "<Figure size 432x432 with 1 Axes>"
            ]
          },
          "metadata": {
            "tags": [],
            "needs_background": "light"
          }
        }
      ]
    },
    {
      "cell_type": "markdown",
      "metadata": {
        "id": "k6wRA8FTq9N3"
      },
      "source": [
        "# Evaluation : Reconstruction error and ROC AUC score"
      ]
    },
    {
      "cell_type": "markdown",
      "metadata": {
        "id": "RgAHsp-v7sYm"
      },
      "source": [
        "### Load trained model"
      ]
    },
    {
      "cell_type": "code",
      "metadata": {
        "id": "nj0BP0q57ucu"
      },
      "source": [
        "saved_model = train.load_saved_model('/gdrive/MyDrive/sound-of-failure/models/00_trial_AE.hdf5')"
      ],
      "execution_count": 18,
      "outputs": []
    },
    {
      "cell_type": "markdown",
      "metadata": {
        "id": "WCEVUPQ37z1c"
      },
      "source": [
        "### Reconstruction error and ROC curve"
      ]
    },
    {
      "cell_type": "code",
      "metadata": {
        "id": "mEQPtwLAq8B9",
        "colab": {
          "base_uri": "https://localhost:8080/"
        },
        "outputId": "ed4332d1-563d-4e3f-b001-fdff91166635"
      },
      "source": [
        "# Reconstruction loss for test and train spectrograms\n",
        "reco_loss_test = eval.reco_loss(model=saved_model, \n",
        "                                scaler=scaler,\n",
        "                                dim=DIM,\n",
        "                                step=STEP,\n",
        "                                test_files=test_files)\n",
        "\n",
        "reco_loss_train = eval.reco_loss(model=saved_model, \n",
        "                                scaler=scaler,\n",
        "                                dim=DIM,\n",
        "                                step=STEP,\n",
        "                                test_files=train_files)"
      ],
      "execution_count": 19,
      "outputs": [
        {
          "output_type": "stream",
          "text": [
            "\r  0%|          | 0/238 [00:00<?, ?it/s]/usr/local/lib/python3.7/dist-packages/tensorflow/python/keras/engine/training.py:2325: UserWarning: `Model.state_updates` will be removed in a future version. This property should not be used in TensorFlow 2.0, as `updates` are applied automatically.\n",
            "  warnings.warn('`Model.state_updates` will be removed in a future version. '\n",
            "100%|██████████| 238/238 [00:05<00:00, 40.13it/s]\n",
            "100%|██████████| 872/872 [00:20<00:00, 42.98it/s]\n"
          ],
          "name": "stderr"
        }
      ]
    },
    {
      "cell_type": "code",
      "metadata": {
        "id": "YpqQHZuQuWfv",
        "colab": {
          "base_uri": "https://localhost:8080/",
          "height": 405
        },
        "outputId": "223a1e7d-6ce2-41ba-a5e7-237e11304884"
      },
      "source": [
        "# ROC curve and ROC AUC score (for test data)\n",
        "eval.plot_roc_curve(test_labels, reco_loss_test)"
      ],
      "execution_count": 20,
      "outputs": [
        {
          "output_type": "stream",
          "text": [
            "Roc AUC score=0.937433797048231\n"
          ],
          "name": "stdout"
        },
        {
          "output_type": "display_data",
          "data": {
            "image/png": "[encoded data removed]",
            "text/plain": [
              "<Figure size 432x432 with 1 Axes>"
            ]
          },
          "metadata": {
            "tags": [],
            "needs_background": "light"
          }
        }
      ]
    },
    {
      "cell_type": "code",
      "metadata": {
        "colab": {
          "base_uri": "https://localhost:8080/",
          "height": 350
        },
        "id": "6NiiuJ5w8Krc",
        "outputId": "06067f3c-e843-4b67-8483-7ba970320eea"
      },
      "source": [
        "# Visualize separation between normal and abnormal reconstruction loss\n",
        "eval.plot_losses(y_true=test_labels,\n",
        "                 y_pred=reco_loss_test,\n",
        "                 y_train=reco_loss_train,\n",
        "                 title=\"Reconstruction Loss\",\n",
        "                 xlabel='Reconstruction Loss')"
      ],
      "execution_count": 21,
      "outputs": [
        {
          "output_type": "display_data",
          "data": {
            "image/png": "[encoded data removed]",
            "text/plain": [
              "<Figure size 576x360 with 1 Axes>"
            ]
          },
          "metadata": {
            "tags": [],
            "needs_background": "light"
          }
        }
      ]
    }
  ]
}