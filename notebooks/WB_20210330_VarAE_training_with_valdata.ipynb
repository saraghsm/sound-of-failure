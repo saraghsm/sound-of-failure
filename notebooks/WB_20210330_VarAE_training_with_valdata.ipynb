{
  "nbformat": 4,
  "nbformat_minor": 0,
  "metadata": {
    "colab": {
      "name": "WB_20210330_VarAE_training_with_valdata.ipynb",
      "provenance": [],
      "collapsed_sections": []
    },
    "kernelspec": {
      "display_name": "Python 3",
      "name": "python3"
    },
    "accelerator": "GPU"
  },
  "cells": [
    {
      "cell_type": "markdown",
      "metadata": {
        "id": "Mv8aAIa0HcMf"
      },
      "source": [
        "# Import Packages"
      ]
    },
    {
      "cell_type": "code",
      "metadata": {
        "colab": {
          "base_uri": "https://localhost:8080/"
        },
        "id": "N4YWwxNTHbi2",
        "outputId": "47b03f19-5c81-4ae0-8739-dac4fde94b7a"
      },
      "source": [
        "import sys\n",
        "import os\n",
        "import shutil\n",
        "import librosa\n",
        "import glob\n",
        "import tqdm\n",
        "import json\n",
        "import ast\n",
        "import random\n",
        "\n",
        "from librosa import display as ld\n",
        "\n",
        "import pandas as pd\n",
        "\n",
        "import tensorflow as tf\n",
        "from tensorflow.keras.models import Model\n",
        "from tensorflow.keras import layers\n",
        "from tensorflow.keras import backend as K\n",
        "\n",
        "!pip install git+https://github.com/AI-Guru/ngdlm.git\n",
        "tf.compat.v1.disable_eager_execution()\n",
        "\n",
        "from sklearn.preprocessing import StandardScaler\n",
        "from sklearn.externals.joblib import load, dump\n",
        "from sklearn import metrics\n",
        "from sklearn.preprocessing import StandardScaler, MinMaxScaler\n",
        "from sklearn.model_selection import train_test_split\n",
        "\n",
        "from IPython import display as ipd\n",
        "import numpy as np\n",
        "import matplotlib.pyplot as plt\n",
        "import seaborn as sns\n",
        "\n",
        "import joblib\n",
        "from configparser import ConfigParser"
      ],
      "execution_count": null,
      "outputs": [
        {
          "output_type": "stream",
          "text": [
            "Collecting git+https://github.com/AI-Guru/ngdlm.git\n",
            "  Cloning https://github.com/AI-Guru/ngdlm.git to /tmp/pip-req-build-u093wsw8\n",
            "  Running command git clone -q https://github.com/AI-Guru/ngdlm.git /tmp/pip-req-build-u093wsw8\n",
            "Requirement already satisfied: keras in /usr/local/lib/python3.7/dist-packages (from ngdlm==0.0.3) (2.4.3)\n",
            "Requirement already satisfied: tensorflow in /usr/local/lib/python3.7/dist-packages (from ngdlm==0.0.3) (2.4.1)\n",
            "Requirement already satisfied: matplotlib in /usr/local/lib/python3.7/dist-packages (from ngdlm==0.0.3) (3.2.2)\n",
            "Requirement already satisfied: h5py in /usr/local/lib/python3.7/dist-packages (from keras->ngdlm==0.0.3) (2.10.0)\n",
            "Requirement already satisfied: pyyaml in /usr/local/lib/python3.7/dist-packages (from keras->ngdlm==0.0.3) (3.13)\n",
            "Requirement already satisfied: scipy>=0.14 in /usr/local/lib/python3.7/dist-packages (from keras->ngdlm==0.0.3) (1.4.1)\n",
            "Requirement already satisfied: numpy>=1.9.1 in /usr/local/lib/python3.7/dist-packages (from keras->ngdlm==0.0.3) (1.19.5)\n",
            "Requirement already satisfied: grpcio~=1.32.0 in /usr/local/lib/python3.7/dist-packages (from tensorflow->ngdlm==0.0.3) (1.32.0)\n",
            "Requirement already satisfied: wheel~=0.35 in /usr/local/lib/python3.7/dist-packages (from tensorflow->ngdlm==0.0.3) (0.36.2)\n",
            "Requirement already satisfied: tensorboard~=2.4 in /usr/local/lib/python3.7/dist-packages (from tensorflow->ngdlm==0.0.3) (2.4.1)\n",
            "Requirement already satisfied: flatbuffers~=1.12.0 in /usr/local/lib/python3.7/dist-packages (from tensorflow->ngdlm==0.0.3) (1.12)\n",
            "Requirement already satisfied: keras-preprocessing~=1.1.2 in /usr/local/lib/python3.7/dist-packages (from tensorflow->ngdlm==0.0.3) (1.1.2)\n",
            "Requirement already satisfied: termcolor~=1.1.0 in /usr/local/lib/python3.7/dist-packages (from tensorflow->ngdlm==0.0.3) (1.1.0)\n",
            "Requirement already satisfied: tensorflow-estimator<2.5.0,>=2.4.0 in /usr/local/lib/python3.7/dist-packages (from tensorflow->ngdlm==0.0.3) (2.4.0)\n",
            "Requirement already satisfied: protobuf>=3.9.2 in /usr/local/lib/python3.7/dist-packages (from tensorflow->ngdlm==0.0.3) (3.12.4)\n",
            "Requirement already satisfied: gast==0.3.3 in /usr/local/lib/python3.7/dist-packages (from tensorflow->ngdlm==0.0.3) (0.3.3)\n",
            "Requirement already satisfied: opt-einsum~=3.3.0 in /usr/local/lib/python3.7/dist-packages (from tensorflow->ngdlm==0.0.3) (3.3.0)\n",
            "Requirement already satisfied: google-pasta~=0.2 in /usr/local/lib/python3.7/dist-packages (from tensorflow->ngdlm==0.0.3) (0.2.0)\n",
            "Requirement already satisfied: astunparse~=1.6.3 in /usr/local/lib/python3.7/dist-packages (from tensorflow->ngdlm==0.0.3) (1.6.3)\n",
            "Requirement already satisfied: wrapt~=1.12.1 in /usr/local/lib/python3.7/dist-packages (from tensorflow->ngdlm==0.0.3) (1.12.1)\n",
            "Requirement already satisfied: typing-extensions~=3.7.4 in /usr/local/lib/python3.7/dist-packages (from tensorflow->ngdlm==0.0.3) (3.7.4.3)\n",
            "Requirement already satisfied: six~=1.15.0 in /usr/local/lib/python3.7/dist-packages (from tensorflow->ngdlm==0.0.3) (1.15.0)\n",
            "Requirement already satisfied: absl-py~=0.10 in /usr/local/lib/python3.7/dist-packages (from tensorflow->ngdlm==0.0.3) (0.10.0)\n",
            "Requirement already satisfied: pyparsing!=2.0.4,!=2.1.2,!=2.1.6,>=2.0.1 in /usr/local/lib/python3.7/dist-packages (from matplotlib->ngdlm==0.0.3) (2.4.7)\n",
            "Requirement already satisfied: kiwisolver>=1.0.1 in /usr/local/lib/python3.7/dist-packages (from matplotlib->ngdlm==0.0.3) (1.3.1)\n",
            "Requirement already satisfied: python-dateutil>=2.1 in /usr/local/lib/python3.7/dist-packages (from matplotlib->ngdlm==0.0.3) (2.8.1)\n",
            "Requirement already satisfied: cycler>=0.10 in /usr/local/lib/python3.7/dist-packages (from matplotlib->ngdlm==0.0.3) (0.10.0)\n",
            "Requirement already satisfied: tensorboard-plugin-wit>=1.6.0 in /usr/local/lib/python3.7/dist-packages (from tensorboard~=2.4->tensorflow->ngdlm==0.0.3) (1.8.0)\n",
            "Requirement already satisfied: werkzeug>=0.11.15 in /usr/local/lib/python3.7/dist-packages (from tensorboard~=2.4->tensorflow->ngdlm==0.0.3) (1.0.1)\n",
            "Requirement already satisfied: google-auth-oauthlib<0.5,>=0.4.1 in /usr/local/lib/python3.7/dist-packages (from tensorboard~=2.4->tensorflow->ngdlm==0.0.3) (0.4.3)\n",
            "Requirement already satisfied: requests<3,>=2.21.0 in /usr/local/lib/python3.7/dist-packages (from tensorboard~=2.4->tensorflow->ngdlm==0.0.3) (2.23.0)\n",
            "Requirement already satisfied: setuptools>=41.0.0 in /usr/local/lib/python3.7/dist-packages (from tensorboard~=2.4->tensorflow->ngdlm==0.0.3) (54.1.2)\n",
            "Requirement already satisfied: markdown>=2.6.8 in /usr/local/lib/python3.7/dist-packages (from tensorboard~=2.4->tensorflow->ngdlm==0.0.3) (3.3.4)\n",
            "Requirement already satisfied: google-auth<2,>=1.6.3 in /usr/local/lib/python3.7/dist-packages (from tensorboard~=2.4->tensorflow->ngdlm==0.0.3) (1.27.1)\n",
            "Requirement already satisfied: requests-oauthlib>=0.7.0 in /usr/local/lib/python3.7/dist-packages (from google-auth-oauthlib<0.5,>=0.4.1->tensorboard~=2.4->tensorflow->ngdlm==0.0.3) (1.3.0)\n",
            "Requirement already satisfied: idna<3,>=2.5 in /usr/local/lib/python3.7/dist-packages (from requests<3,>=2.21.0->tensorboard~=2.4->tensorflow->ngdlm==0.0.3) (2.10)\n",
            "Requirement already satisfied: chardet<4,>=3.0.2 in /usr/local/lib/python3.7/dist-packages (from requests<3,>=2.21.0->tensorboard~=2.4->tensorflow->ngdlm==0.0.3) (3.0.4)\n",
            "Requirement already satisfied: certifi>=2017.4.17 in /usr/local/lib/python3.7/dist-packages (from requests<3,>=2.21.0->tensorboard~=2.4->tensorflow->ngdlm==0.0.3) (2020.12.5)\n",
            "Requirement already satisfied: urllib3!=1.25.0,!=1.25.1,<1.26,>=1.21.1 in /usr/local/lib/python3.7/dist-packages (from requests<3,>=2.21.0->tensorboard~=2.4->tensorflow->ngdlm==0.0.3) (1.24.3)\n",
            "Requirement already satisfied: importlib-metadata; python_version < \"3.8\" in /usr/local/lib/python3.7/dist-packages (from markdown>=2.6.8->tensorboard~=2.4->tensorflow->ngdlm==0.0.3) (3.7.2)\n",
            "Requirement already satisfied: pyasn1-modules>=0.2.1 in /usr/local/lib/python3.7/dist-packages (from google-auth<2,>=1.6.3->tensorboard~=2.4->tensorflow->ngdlm==0.0.3) (0.2.8)\n",
            "Requirement already satisfied: cachetools<5.0,>=2.0.0 in /usr/local/lib/python3.7/dist-packages (from google-auth<2,>=1.6.3->tensorboard~=2.4->tensorflow->ngdlm==0.0.3) (4.2.1)\n",
            "Requirement already satisfied: rsa<5,>=3.1.4; python_version >= \"3.6\" in /usr/local/lib/python3.7/dist-packages (from google-auth<2,>=1.6.3->tensorboard~=2.4->tensorflow->ngdlm==0.0.3) (4.7.2)\n",
            "Requirement already satisfied: oauthlib>=3.0.0 in /usr/local/lib/python3.7/dist-packages (from requests-oauthlib>=0.7.0->google-auth-oauthlib<0.5,>=0.4.1->tensorboard~=2.4->tensorflow->ngdlm==0.0.3) (3.1.0)\n",
            "Requirement already satisfied: zipp>=0.5 in /usr/local/lib/python3.7/dist-packages (from importlib-metadata; python_version < \"3.8\"->markdown>=2.6.8->tensorboard~=2.4->tensorflow->ngdlm==0.0.3) (3.4.1)\n",
            "Requirement already satisfied: pyasn1<0.5.0,>=0.4.6 in /usr/local/lib/python3.7/dist-packages (from pyasn1-modules>=0.2.1->google-auth<2,>=1.6.3->tensorboard~=2.4->tensorflow->ngdlm==0.0.3) (0.4.8)\n",
            "Building wheels for collected packages: ngdlm\n",
            "  Building wheel for ngdlm (setup.py) ... \u001b[?25l\u001b[?25hdone\n",
            "  Created wheel for ngdlm: filename=ngdlm-0.0.3-py2.py3-none-any.whl size=32027 sha256=46d32d83b434e87b57650a0fc7eacba5adb49c7ad45b8e040746cfee9a4782cf\n",
            "  Stored in directory: /tmp/pip-ephem-wheel-cache-3rfc5p8v/wheels/93/06/27/e156acb49f475c364c3c9fa4ad4ab7bfa38808bff5bf9c4647\n",
            "Successfully built ngdlm\n",
            "Installing collected packages: ngdlm\n",
            "Successfully installed ngdlm-0.0.3\n"
          ],
          "name": "stdout"
        },
        {
          "output_type": "stream",
          "text": [
            "/usr/local/lib/python3.7/dist-packages/sklearn/externals/joblib/__init__.py:15: FutureWarning: sklearn.externals.joblib is deprecated in 0.21 and will be removed in 0.23. Please import this functionality directly from joblib, which can be installed with: pip install joblib. If this warning is raised when loading pickled models, you may need to re-serialize those models with scikit-learn 0.21+.\n",
            "  warnings.warn(msg, category=FutureWarning)\n"
          ],
          "name": "stderr"
        }
      ]
    },
    {
      "cell_type": "markdown",
      "metadata": {
        "id": "9fTJnTN9Hte0"
      },
      "source": [
        "# Mount Google Drive\n",
        "#### 1. First mount"
      ]
    },
    {
      "cell_type": "code",
      "metadata": {
        "colab": {
          "base_uri": "https://localhost:8080/"
        },
        "id": "0qhTQeB2upJN",
        "outputId": "d8087435-e83a-4b2c-8546-352c38aa6396"
      },
      "source": [
        "from google.colab import drive\n",
        "drive.mount('/gdrive')\n",
        "%cd /gdrive/MyDrive/sound-of-failure"
      ],
      "execution_count": null,
      "outputs": [
        {
          "output_type": "stream",
          "text": [
            "Mounted at /gdrive\n",
            "/gdrive/MyDrive/sound-of-failure\n"
          ],
          "name": "stdout"
        }
      ]
    },
    {
      "cell_type": "markdown",
      "metadata": {
        "id": "PGyZQ7M0t-py"
      },
      "source": [
        "#### 2. Remount"
      ]
    },
    {
      "cell_type": "code",
      "metadata": {
        "colab": {
          "base_uri": "https://localhost:8080/"
        },
        "id": "AeEkdLfFk-0e",
        "outputId": "044c81e1-b5fb-48bb-90a6-9f7cd28c15e2"
      },
      "source": [
        "%cd ../../..\n",
        "drive.flush_and_unmount()\n",
        "drive.mount('/gdrive', force_remount=True)\n",
        "%cd /gdrive/My Drive/sound-of-failure"
      ],
      "execution_count": null,
      "outputs": [
        {
          "output_type": "stream",
          "text": [
            "/\n",
            "Mounted at /gdrive\n",
            "/gdrive/My Drive/sound-of-failure\n"
          ],
          "name": "stdout"
        }
      ]
    },
    {
      "cell_type": "markdown",
      "metadata": {
        "id": "rrWBR69_IGJj"
      },
      "source": [
        "# Import Own Modules"
      ]
    },
    {
      "cell_type": "code",
      "metadata": {
        "id": "Xo7kKPNOIMz-"
      },
      "source": [
        "sys.path += ['src/00_utils', 'src/01_data_processing', 'src/02_modelling', 'src/03_modell_evaluation',]\n",
        "\n",
        "import spectrogram as spec\n",
        "import train_test_split as splt\n",
        "import train_model_autoencoder as train\n",
        "import eval_model_autoencoder as eval\n",
        "import threshold_recoloss as thres\n",
        "import naming"
      ],
      "execution_count": null,
      "outputs": []
    },
    {
      "cell_type": "markdown",
      "metadata": {
        "id": "nlIUwYBnSuOd"
      },
      "source": [
        "# Global constants"
      ]
    },
    {
      "cell_type": "markdown",
      "metadata": {
        "id": "PM7yY9Hte7AG"
      },
      "source": [
        "### First run the scripts for building the config files.\n",
        "\n",
        "Some of the parameters can be passed through the command line.\n",
        "At present the command line parameters are the following :\n",
        "\n",
        "1. conf_base.py : Script for building the base config file (saves in sound-of-failure/conf/conf_base.ini)\n",
        "        -raw : Pass the location of the raw data dir\n",
        "        -prj : Pass the directory hosting sound-of-failure\n",
        "\n",
        "\n",
        "2. conf_convAE.py : Script for building the config file holding the parameters for Mel Spectrogram and Convolutional Autoencoder (saves in sound-of-failure/conf/make_conf_convAE.ini). Convolutional Autoencoders can be either Autoencoders or Variational Autoencoders.\n",
        "        -prj : Pass the directory hosting sound-of-failure\n",
        "        -ae : AE or VAE\n",
        "        -mel : No. of mels\n",
        "        -fft : No. of FFT bands\n",
        "        -hop : Hop length for the sliding window while calculating FFT\n",
        "        -dim : Time dimension of one spectrogram block after chunking the whole spectrogram\n",
        "        -s : Step for the sliding window for creating chunks from one spectrogram\n"
      ]
    },
    {
      "cell_type": "markdown",
      "metadata": {
        "id": "HPc6UkH2tZQX"
      },
      "source": [
        "To check the description of the command line parameters one could activate the '-h' flag. For example :"
      ]
    },
    {
      "cell_type": "code",
      "metadata": {
        "colab": {
          "base_uri": "https://localhost:8080/"
        },
        "id": "QQkcCK8Ct3Lm",
        "outputId": "dc43d519-5681-4060-bc52-5eaa1041fb00"
      },
      "source": [
        "%run /gdrive/MyDrive/sound-of-failure/src/00_utils/make_conf_AE.py -h"
      ],
      "execution_count": null,
      "outputs": [
        {
          "output_type": "stream",
          "text": [
            "usage: make_conf_AE.py [-h] -prj _ [-ae] [-noise] [-type] [-id] [-mel] [-fft]\n",
            "                       [-hop] [-dim] [-s]\n",
            "\n",
            "Params for Spectrogram and Autoencoder (AE, VAE or lstmAE)\n",
            "\n",
            "optional arguments:\n",
            "  -h, --help            show this help message and exit\n",
            "  -prj _, --project _   directory hat holds sound-of-failure\n",
            "  -ae , --ae            Type of Autoencoder (AE, VAE or lstmAE)\n",
            "  -noise , --noise      Level of background noise (6dB, 0dB or min6dB)\n",
            "  -type , --type        Type of machine (valve, slider, pump or fan)\n",
            "  -id , --id            Machine ID (e.g. id_00)\n",
            "  -mel , --n_mels       No. of mel bands\n",
            "  -fft , --n_fft        No. of FFT bands\n",
            "  -hop , --hop_length   Hop length for FFT calc\n",
            "  -dim , --dim          Time dimension of Spectrogram block\n",
            "  -s , --step           Sliding window step for Spectrogram chunking\n"
          ],
          "name": "stdout"
        }
      ]
    },
    {
      "cell_type": "markdown",
      "metadata": {
        "id": "gVxSOVRS0x-_"
      },
      "source": [
        "#### Note the change here : While running VAE we have to specify -ae to VAE in the command line. This ensures that the right config file is created (conf/conf_VAE.ini)."
      ]
    },
    {
      "cell_type": "code",
      "metadata": {
        "id": "A3Id9ote4biL"
      },
      "source": [
        "%run /gdrive/MyDrive/sound-of-failure/src/00_utils/make_conf_base.py -raw '/gdrive/MyDrive/Hitachi_data/dataset' -prj '/gdrive/MyDrive'\n",
        "%run /gdrive/MyDrive/sound-of-failure/src/00_utils/make_conf_AE.py -prj '/gdrive/MyDrive' -ae VAE -noise 6dB -type valve -id id_00 -mel 32 -fft 1024 -hop 256 -dim 64 -s 8"
      ],
      "execution_count": null,
      "outputs": []
    },
    {
      "cell_type": "markdown",
      "metadata": {
        "id": "gNT43QWpf7Zo"
      },
      "source": [
        "### Then read from the config files\n",
        "\n",
        "There are two config files : \n",
        "\n",
        "1. sound-of-failure/conf/**conf_base**.ini\n",
        "2. sound-of-failure/conf/**conf_VAE**.ini"
      ]
    },
    {
      "cell_type": "markdown",
      "metadata": {
        "id": "HQUoVWzg0a2-"
      },
      "source": [
        "##### Note the change here : In normal Autoencoders the created config file is called conf_convAE.ini. Now is is called conf_VAE.ini."
      ]
    },
    {
      "cell_type": "code",
      "metadata": {
        "id": "ygPws2kf-gMS"
      },
      "source": [
        "base_conf = train.read_config('conf/conf_base.ini')"
      ],
      "execution_count": null,
      "outputs": []
    },
    {
      "cell_type": "code",
      "metadata": {
        "colab": {
          "base_uri": "https://localhost:8080/",
          "height": 142
        },
        "id": "UXGLBIpJ15uv",
        "outputId": "fd5a51cb-5f40-4028-f7b0-3733ab8cc56c"
      },
      "source": [
        "naming.show_run_ids()"
      ],
      "execution_count": null,
      "outputs": [
        {
          "output_type": "execute_result",
          "data": {
            "text/html": [
              "<div>\n",
              "<style scoped>\n",
              "    .dataframe tbody tr th:only-of-type {\n",
              "        vertical-align: middle;\n",
              "    }\n",
              "\n",
              "    .dataframe tbody tr th {\n",
              "        vertical-align: top;\n",
              "    }\n",
              "\n",
              "    .dataframe thead th {\n",
              "        text-align: right;\n",
              "    }\n",
              "</style>\n",
              "<table border=\"1\" class=\"dataframe\">\n",
              "  <thead>\n",
              "    <tr style=\"text-align: right;\">\n",
              "      <th></th>\n",
              "      <th>run_id</th>\n",
              "      <th>conf</th>\n",
              "      <th>scaler</th>\n",
              "      <th>model</th>\n",
              "      <th>comment</th>\n",
              "    </tr>\n",
              "  </thead>\n",
              "  <tbody>\n",
              "    <tr>\n",
              "      <th>0</th>\n",
              "      <td>VAE_6dB_valve_id_00</td>\n",
              "      <td>True</td>\n",
              "      <td>True</td>\n",
              "      <td>True</td>\n",
              "      <td>Default run ID. Archive run to prevent overwri...</td>\n",
              "    </tr>\n",
              "    <tr>\n",
              "      <th>1</th>\n",
              "      <td>conf_VAE</td>\n",
              "      <td>True</td>\n",
              "      <td>False</td>\n",
              "      <td>False</td>\n",
              "      <td></td>\n",
              "    </tr>\n",
              "    <tr>\n",
              "      <th>2</th>\n",
              "      <td>conf_convAE</td>\n",
              "      <td>True</td>\n",
              "      <td>False</td>\n",
              "      <td>False</td>\n",
              "      <td></td>\n",
              "    </tr>\n",
              "  </tbody>\n",
              "</table>\n",
              "</div>"
            ],
            "text/plain": [
              "                run_id  ...                                            comment\n",
              "0  VAE_6dB_valve_id_00  ...  Default run ID. Archive run to prevent overwri...\n",
              "1             conf_VAE  ...                                                   \n",
              "2          conf_convAE  ...                                                   \n",
              "\n",
              "[3 rows x 5 columns]"
            ]
          },
          "metadata": {
            "tags": []
          },
          "execution_count": 8
        }
      ]
    },
    {
      "cell_type": "code",
      "metadata": {
        "id": "FEBdi2hf16Fk"
      },
      "source": [
        "run_id = 'VAE_6dB_valve_id_00'\n",
        "\n",
        "conf_path = naming.get_conf_path(run_id)\n",
        "param_conf = train.read_config(conf_path)"
      ],
      "execution_count": null,
      "outputs": []
    },
    {
      "cell_type": "markdown",
      "metadata": {
        "id": "XhqKBfNNhzDG"
      },
      "source": [
        "#### Read the parameters directly from the config files\n",
        "\n",
        "Question : Should the reading of config files be done within notebooks or the source script should directly read from them?"
      ]
    },
    {
      "cell_type": "code",
      "metadata": {
        "id": "1YtgVox0-7b3"
      },
      "source": [
        "# Directories\n",
        "RAW_DATA_DIR = base_conf['directories']['raw_data_dir']\n",
        "BASE_DIR = base_conf['directories']['base_dir']\n",
        "\n",
        "\n",
        "# Mel spectrograms\n",
        "N_MELS = param_conf.getint('melspec', 'n_mels')\n",
        "N_FFT = param_conf.getint('melspec', 'n_fft')\n",
        "HOP_LENGTH = param_conf.getint('melspec', 'hop_length')\n",
        "POWER = param_conf.getfloat('melspec', 'power')\n",
        "WINDOW = param_conf.get('melspec', 'window')\n",
        "\n",
        "\n",
        "# Subsampling\n",
        "DIM = param_conf.getint('melspec', 'dim')\n",
        "STEP = param_conf.getint('melspec', 'step')\n",
        "\n",
        "\n",
        "# Scaler and cost function\n",
        "SCALER_TYPE = param_conf.get('model', 'scaler')\n",
        "LOSS = param_conf.get('model', 'loss')\n",
        "\n",
        "\n",
        "# Optimizer\n",
        "OPTIMIZER = param_conf.get('model', 'optimizer')\n",
        "EPOCHS = param_conf.getint('model', 'epochs')\n",
        "BATCH_SIZE = param_conf.getint('model', 'batch_size')\n",
        "VALIDATION_SPLIT = param_conf.getfloat('model', 'val_split')\n",
        "SHUFFLE = param_conf.getboolean('model', 'shuffle')\n",
        "\n",
        "\n",
        "# Autoencoder\n",
        "MODEL_NAME = param_conf.get('autoencoder', 'model_name')\n",
        "\n",
        "if MODEL_NAME == 'lstmAE':\n",
        "    NUM_NODES = json.loads(param_conf.get('autoencoder', 'num_nodes'))\n",
        "    INPUT_SHAPE = (param_conf.getint('melspec', 'dim'),\n",
        "                   param_conf.getint('melspec', 'n_mels'))\n",
        "elif MODEL_NAME in ['AE', 'VAE']:\n",
        "    LATENT_DIM = param_conf.getint('autoencoder', 'latentdim')\n",
        "    NUM_NODES = json.loads(param_conf.get('autoencoder', 'num_nodes'))\n",
        "    NUM_KERNEL = json.loads(param_conf.get('autoencoder', 'num_kernel'))\n",
        "    NUM_STRIDES = param_conf.get('autoencoder', 'num_strides')\n",
        "    NUM_STRIDES = list(ast.literal_eval(NUM_STRIDES))\n",
        "    INPUT_SHAPE = (param_conf.getint('melspec', 'dim'),\n",
        "                   param_conf.getint('melspec', 'n_mels'),\n",
        "                   1)\n",
        "else:\n",
        "    print('Invalid model name.')\n",
        "\n",
        "\n",
        "# Data\n",
        "DB = param_conf.get('data', 'noise')\n",
        "MACHINE_TYPE = param_conf.get('data', 'machine')\n",
        "MACHINE_ID = param_conf.get('data', 'machine_id')"
      ],
      "execution_count": null,
      "outputs": []
    },
    {
      "cell_type": "markdown",
      "metadata": {
        "id": "nNCFbJV8SAX1"
      },
      "source": [
        "# Execute preprocessing steps\n",
        "#### 1. Generate unscaled mel spectrograms (~ 5 minutes)"
      ]
    },
    {
      "cell_type": "code",
      "metadata": {
        "colab": {
          "base_uri": "https://localhost:8080/"
        },
        "id": "Dc0KZB_h9nwL",
        "outputId": "dbc1394d-75b9-4b33-b828-be7fff3533c2"
      },
      "source": [
        "spec.make_mel_dirs(BASE_DIR, DB, MACHINE_TYPE, MACHINE_ID)\n",
        "\n",
        "spec.make_mels(RAW_DATA_DIR, BASE_DIR, \n",
        "               DB, MACHINE_TYPE, MACHINE_ID, \n",
        "               N_MELS, N_FFT, HOP_LENGTH, POWER, WINDOW, overwrite=True)"
      ],
      "execution_count": null,
      "outputs": [
        {
          "output_type": "stream",
          "text": [
            "Directory already exists: /gdrive/MyDrive/sound-of-failure/data/mel_spectrograms/6dB/valve/id_00/normal\n",
            "Directory already exists: /gdrive/MyDrive/sound-of-failure/data/mel_spectrograms/6dB/valve/id_00/abnormal\n"
          ],
          "name": "stdout"
        },
        {
          "output_type": "stream",
          "text": [
            "\r  0%|          | 0/991 [00:00<?, ?it/s]"
          ],
          "name": "stderr"
        },
        {
          "output_type": "stream",
          "text": [
            "Generate normal spectrograms and save to /gdrive/MyDrive/sound-of-failure/data/mel_spectrograms/6dB/valve/id_00/normal.\n"
          ],
          "name": "stdout"
        },
        {
          "output_type": "stream",
          "text": [
            "100%|██████████| 991/991 [19:23<00:00,  1.17s/it]\n",
            "  0%|          | 0/119 [00:00<?, ?it/s]"
          ],
          "name": "stderr"
        },
        {
          "output_type": "stream",
          "text": [
            "Created 991 new spectrograms, kept 0 existing spectrograms.\n",
            "Generate abnormal spectrograms and save to /gdrive/MyDrive/sound-of-failure/data/mel_spectrograms/6dB/valve/id_00/abnormal.\n"
          ],
          "name": "stdout"
        },
        {
          "output_type": "stream",
          "text": [
            "100%|██████████| 119/119 [02:09<00:00,  1.09s/it]"
          ],
          "name": "stderr"
        },
        {
          "output_type": "stream",
          "text": [
            "Created 119 new spectrograms, kept 0 existing spectrograms.\n"
          ],
          "name": "stdout"
        },
        {
          "output_type": "stream",
          "text": [
            "\n"
          ],
          "name": "stderr"
        }
      ]
    },
    {
      "cell_type": "markdown",
      "metadata": {
        "id": "9cFvil9_SMTt"
      },
      "source": [
        "#### 2. Separate train and test files"
      ]
    },
    {
      "cell_type": "code",
      "metadata": {
        "id": "77iQhf4K9n33"
      },
      "source": [
        "train_files, train_labels, test_files, test_labels = splt.make_train_test_split(BASE_DIR, \n",
        "                                                                                DB, MACHINE_TYPE, MACHINE_ID, \n",
        "                                                                                random_seed=1)"
      ],
      "execution_count": null,
      "outputs": []
    },
    {
      "cell_type": "markdown",
      "metadata": {
        "id": "a5T8D9Wocg1p"
      },
      "source": [
        "#### 3. Separate train and validation files"
      ]
    },
    {
      "cell_type": "code",
      "metadata": {
        "id": "P_RU0Oydcgfm"
      },
      "source": [
        "train_files, val_files, train_labels, val_labels = train_test_split(train_files, \n",
        "                                                                    train_labels, \n",
        "                                                                    test_size=0.2,\n",
        "                                                                    shuffle=True,\n",
        "                                                                    random_state=42)"
      ],
      "execution_count": null,
      "outputs": []
    },
    {
      "cell_type": "markdown",
      "metadata": {
        "id": "VQ4hNFi5SWK5"
      },
      "source": [
        "#### 3. Fit scaler to train files"
      ]
    },
    {
      "cell_type": "markdown",
      "metadata": {
        "id": "aZxJV_ediUP1"
      },
      "source": [
        "#### 3.1 Plot an example spectrogram\n",
        "\n",
        "Just a sanity check"
      ]
    },
    {
      "cell_type": "code",
      "metadata": {
        "colab": {
          "base_uri": "https://localhost:8080/",
          "height": 295
        },
        "id": "Q6_eI568XV3m",
        "outputId": "110263ce-bc4c-414d-f3c6-3c983203366d"
      },
      "source": [
        "spect = np.load(spec.get_normal_mel_files(BASE_DIR, DB, MACHINE_TYPE, MACHINE_ID)[0])\n",
        "\n",
        "fig, ax = plt.subplots()\n",
        "plt.title(\"Example spectrogram \")\n",
        "img = ld.specshow(spect, \n",
        "                    x_axis='time', \n",
        "                    y_axis='mel', \n",
        "                    sr=16000, \n",
        "                    fmax=8000, \n",
        "                    ax=ax)\n",
        "\n",
        "fig.colorbar(img, ax=ax)\n",
        "plt.show()\n",
        "plt.close()"
      ],
      "execution_count": null,
      "outputs": [
        {
          "output_type": "display_data",
          "data": {
            "image/png": "[encoded data removed]",
            "text/plain": [
              "<Figure size 432x288 with 2 Axes>"
            ]
          },
          "metadata": {
            "tags": [],
            "needs_background": "light"
          }
        }
      ]
    },
    {
      "cell_type": "code",
      "metadata": {
        "colab": {
          "base_uri": "https://localhost:8080/"
        },
        "id": "cXQ_834-9n7y",
        "outputId": "674154cb-c695-4fa2-d730-0120ade71ddc"
      },
      "source": [
        "scaler_path = naming.get_scaler_path(run_id)\n",
        "scaler = spec.fit_and_save_scaler(SCALER_TYPE, train_files, scaler_path, overwrite=True)"
      ],
      "execution_count": null,
      "outputs": [
        {
          "output_type": "stream",
          "text": [
            "  8%|▊         | 53/697 [00:00<00:01, 525.38it/s]"
          ],
          "name": "stderr"
        },
        {
          "output_type": "stream",
          "text": [
            "Overwriting existing scaler models/VAE_6dB_valve_id_00.gz.\n"
          ],
          "name": "stdout"
        },
        {
          "output_type": "stream",
          "text": [
            "100%|██████████| 697/697 [00:01<00:00, 488.55it/s]\n"
          ],
          "name": "stderr"
        },
        {
          "output_type": "stream",
          "text": [
            "Saving scaler to models/VAE_6dB_valve_id_00.gz.\n"
          ],
          "name": "stdout"
        }
      ]
    },
    {
      "cell_type": "markdown",
      "metadata": {
        "id": "MsHNzTQESepd"
      },
      "source": [
        "#### 4. Generate training data from scaling and subsampling mel spectrograms"
      ]
    },
    {
      "cell_type": "code",
      "metadata": {
        "colab": {
          "base_uri": "https://localhost:8080/",
          "height": 35
        },
        "id": "F86uioh7dOws",
        "outputId": "2cf59fc9-832d-42b4-c9fe-b5e50d9ef32a"
      },
      "source": [
        "MODEL_NAME"
      ],
      "execution_count": null,
      "outputs": [
        {
          "output_type": "execute_result",
          "data": {
            "application/vnd.google.colaboratory.intrinsic+json": {
              "type": "string"
            },
            "text/plain": [
              "'VAE'"
            ]
          },
          "metadata": {
            "tags": []
          },
          "execution_count": 16
        }
      ]
    },
    {
      "cell_type": "code",
      "metadata": {
        "id": "behp3UQGDDz7",
        "colab": {
          "base_uri": "https://localhost:8080/"
        },
        "outputId": "32dd71a6-28f4-4259-ad86-478884993fa1"
      },
      "source": [
        "if MODEL_NAME == 'lstmAE':\n",
        "  train_data = splt.generate_train_data(train_files, scaler, DIM, STEP, as_images=False)\n",
        "else:\n",
        "  train_data = splt.generate_train_data(train_files, scaler, DIM, STEP, as_images=True)"
      ],
      "execution_count": null,
      "outputs": [
        {
          "output_type": "stream",
          "text": [
            "100%|██████████| 697/697 [00:43<00:00, 15.86it/s]\n"
          ],
          "name": "stderr"
        }
      ]
    },
    {
      "cell_type": "code",
      "metadata": {
        "id": "i8XIS0EWHMBT",
        "colab": {
          "base_uri": "https://localhost:8080/"
        },
        "outputId": "e1468510-ad25-4033-8b79-d8e127504c25"
      },
      "source": [
        "train_data.shape"
      ],
      "execution_count": null,
      "outputs": [
        {
          "output_type": "execute_result",
          "data": {
            "text/plain": [
              "(50184, 64, 32, 1)"
            ]
          },
          "metadata": {
            "tags": []
          },
          "execution_count": 18
        }
      ]
    },
    {
      "cell_type": "markdown",
      "metadata": {
        "id": "2DVjMCmfdkMD"
      },
      "source": [
        "#### 5. Generate validation data from scaling and subsampling mel spectrograms"
      ]
    },
    {
      "cell_type": "code",
      "metadata": {
        "id": "Qe4PwupHdjja",
        "colab": {
          "base_uri": "https://localhost:8080/"
        },
        "outputId": "a0d9faa3-c71a-422e-dccb-166fe234aca2"
      },
      "source": [
        "if MODEL_NAME == 'lstmAE':\n",
        "  val_data = splt.generate_train_data(val_files, scaler, DIM, STEP, as_images=False)\n",
        "else:\n",
        "  val_data = splt.generate_train_data(val_files, scaler, DIM, STEP, as_images=True)"
      ],
      "execution_count": null,
      "outputs": [
        {
          "output_type": "stream",
          "text": [
            "100%|██████████| 175/175 [00:03<00:00, 51.39it/s]\n"
          ],
          "name": "stderr"
        }
      ]
    },
    {
      "cell_type": "code",
      "metadata": {
        "id": "RzABpHjud-WK",
        "colab": {
          "base_uri": "https://localhost:8080/"
        },
        "outputId": "c81ad971-fab2-4012-a7c5-ef1f725d8580"
      },
      "source": [
        "val_data.shape"
      ],
      "execution_count": null,
      "outputs": [
        {
          "output_type": "execute_result",
          "data": {
            "text/plain": [
              "(12600, 64, 32, 1)"
            ]
          },
          "metadata": {
            "tags": []
          },
          "execution_count": 20
        }
      ]
    },
    {
      "cell_type": "markdown",
      "metadata": {
        "id": "J6VStMg7VFDj"
      },
      "source": [
        "# Modelling"
      ]
    },
    {
      "cell_type": "markdown",
      "metadata": {
        "id": "LlzbhcxnYubl"
      },
      "source": [
        "### Build Variational Autoencoder\n",
        "\n",
        "While training a new model the model should be called fresh from `train/load_new_model`. \n",
        "\n",
        "For prediction or model evaluation, one should call `train/load_saved_model`\n",
        "\n"
      ]
    },
    {
      "cell_type": "code",
      "metadata": {
        "id": "URd_-ubwHMM9",
        "colab": {
          "base_uri": "https://localhost:8080/"
        },
        "outputId": "4e6c5332-a088-468d-e368-4d855ccd95da"
      },
      "source": [
        "my_model = train.load_new_model(model_name='VAE',\n",
        "                                input_shape=INPUT_SHAPE,\n",
        "                                num_nodes=NUM_NODES,\n",
        "                                num_kernel=NUM_KERNEL,\n",
        "                                num_strides=NUM_STRIDES,\n",
        "                                latent_dim=LATENT_DIM)\n",
        "\n",
        "print(my_model.summary())"
      ],
      "execution_count": null,
      "outputs": [
        {
          "output_type": "stream",
          "text": [
            "Encoder:\n",
            "Model: \"encoder\"\n",
            "__________________________________________________________________________________________________\n",
            "Layer (type)                    Output Shape         Param #     Connected to                     \n",
            "==================================================================================================\n",
            "encoder_input (InputLayer)      [(None, 64, 32, 1)]  0                                            \n",
            "__________________________________________________________________________________________________\n",
            "conv_enc0 (Conv2D)              (None, 64, 16, 32)   832         encoder_input[0][0]              \n",
            "__________________________________________________________________________________________________\n",
            "batchnorm_enc0 (BatchNormalizat (None, 64, 16, 32)   128         conv_enc0[0][0]                  \n",
            "__________________________________________________________________________________________________\n",
            "relu_enc0 (ReLU)                (None, 64, 16, 32)   0           batchnorm_enc0[0][0]             \n",
            "__________________________________________________________________________________________________\n",
            "conv_enc1 (Conv2D)              (None, 32, 8, 64)    51264       relu_enc0[0][0]                  \n",
            "__________________________________________________________________________________________________\n",
            "batchnorm_enc1 (BatchNormalizat (None, 32, 8, 64)    256         conv_enc1[0][0]                  \n",
            "__________________________________________________________________________________________________\n",
            "relu_enc1 (ReLU)                (None, 32, 8, 64)    0           batchnorm_enc1[0][0]             \n",
            "__________________________________________________________________________________________________\n",
            "conv_enc2 (Conv2D)              (None, 16, 4, 128)   73856       relu_enc1[0][0]                  \n",
            "__________________________________________________________________________________________________\n",
            "batchnorm_enc2 (BatchNormalizat (None, 16, 4, 128)   512         conv_enc2[0][0]                  \n",
            "__________________________________________________________________________________________________\n",
            "relu_enc2 (ReLU)                (None, 16, 4, 128)   0           batchnorm_enc2[0][0]             \n",
            "__________________________________________________________________________________________________\n",
            "conv_enc3 (Conv2D)              (None, 16, 2, 256)   295168      relu_enc2[0][0]                  \n",
            "__________________________________________________________________________________________________\n",
            "batchnorm_enc3 (BatchNormalizat (None, 16, 2, 256)   1024        conv_enc3[0][0]                  \n",
            "__________________________________________________________________________________________________\n",
            "relu_enc3 (ReLU)                (None, 16, 2, 256)   0           batchnorm_enc3[0][0]             \n",
            "__________________________________________________________________________________________________\n",
            "flatten_enc (Flatten)           (None, 8192)         0           relu_enc3[0][0]                  \n",
            "__________________________________________________________________________________________________\n",
            "latent_enc (Dense)              (None, 20)           163860      flatten_enc[0][0]                \n",
            "__________________________________________________________________________________________________\n",
            "z_mean (Dense)                  (None, 20)           420         latent_enc[0][0]                 \n",
            "__________________________________________________________________________________________________\n",
            "z_log_var (Dense)               (None, 20)           420         latent_enc[0][0]                 \n",
            "__________________________________________________________________________________________________\n",
            "z (Lambda)                      (None, 20)           0           z_mean[0][0]                     \n",
            "                                                                 z_log_var[0][0]                  \n",
            "==================================================================================================\n",
            "Total params: 587,740\n",
            "Trainable params: 586,780\n",
            "Non-trainable params: 960\n",
            "__________________________________________________________________________________________________\n",
            "Decoder:\n",
            "Model: \"decoder\"\n",
            "_________________________________________________________________\n",
            "Layer (type)                 Output Shape              Param #   \n",
            "=================================================================\n",
            "decoder_input (InputLayer)   [(None, 20)]              0         \n",
            "_________________________________________________________________\n",
            "dense_dec (Dense)            (None, 8192)              172032    \n",
            "_________________________________________________________________\n",
            "reshape_dec (Reshape)        (None, 16, 2, 256)        0         \n",
            "_________________________________________________________________\n",
            "convTranspose_dec2 (Conv2DTr (None, 16, 4, 128)        295040    \n",
            "_________________________________________________________________\n",
            "batchnorm_dec2 (BatchNormali (None, 16, 4, 128)        512       \n",
            "_________________________________________________________________\n",
            "relu_dec2 (ReLU)             (None, 16, 4, 128)        0         \n",
            "_________________________________________________________________\n",
            "convTranspose_dec1 (Conv2DTr (None, 32, 8, 64)         204864    \n",
            "_________________________________________________________________\n",
            "batchnorm_dec1 (BatchNormali (None, 32, 8, 64)         256       \n",
            "_________________________________________________________________\n",
            "relu_dec1 (ReLU)             (None, 32, 8, 64)         0         \n",
            "_________________________________________________________________\n",
            "convTranspose_dec0 (Conv2DTr (None, 64, 16, 32)        51232     \n",
            "_________________________________________________________________\n",
            "batchnorm_dec0 (BatchNormali (None, 64, 16, 32)        128       \n",
            "_________________________________________________________________\n",
            "relu_dec0 (ReLU)             (None, 64, 16, 32)        0         \n",
            "_________________________________________________________________\n",
            "output_dec (Conv2DTranspose) (None, 64, 32, 1)         801       \n",
            "=================================================================\n",
            "Total params: 724,865\n",
            "Trainable params: 724,417\n",
            "Non-trainable params: 448\n",
            "_________________________________________________________________\n",
            "Autoencoder:\n",
            "Model: \"vae\"\n",
            "_________________________________________________________________\n",
            "Layer (type)                 Output Shape              Param #   \n",
            "=================================================================\n",
            "encoder_input (InputLayer)   [(None, 64, 32, 1)]       0         \n",
            "_________________________________________________________________\n",
            "encoder (Functional)         [(None, 20), (None, 20),  587740    \n",
            "_________________________________________________________________\n",
            "decoder (Functional)         (None, 64, 32, 1)         724865    \n",
            "=================================================================\n",
            "Total params: 1,312,605\n",
            "Trainable params: 1,311,197\n",
            "Non-trainable params: 1,408\n",
            "_________________________________________________________________\n",
            "None\n"
          ],
          "name": "stdout"
        }
      ]
    },
    {
      "cell_type": "markdown",
      "metadata": {
        "id": "fHHvxZD8R5Oh"
      },
      "source": [
        "#### NOTE THE CHANGE : \n",
        "    1. `train.compile_model`: Now the model is compiled with a learning rate that can be specified by the user. Currently three optimizers can be chosen:\n",
        "      -Adam\n",
        "      -RMSprop\n",
        "      -SGD\n",
        "\n",
        "    2. train.train_model: In the model training there are two options:\n",
        "      A. Train with callbacks: If callback=True, then EarlyStopping and ModelCheckpoint is enabled. In that case a patience and a path to save the best model must be specified.\n",
        "      B. Train without callbacks: Set callback=False in that case. No EarlyStopping and also the best model will not be saved.\n",
        "\n",
        "\n",
        "\n"
      ]
    },
    {
      "cell_type": "code",
      "metadata": {
        "id": "c1wcjHHIVC-Q",
        "colab": {
          "base_uri": "https://localhost:8080/",
          "height": 1000
        },
        "outputId": "bc48a5db-67c4-4f52-ada3-cd4f3b66bd5d"
      },
      "source": [
        "# Compile model\n",
        "train.compile_model(model=my_model, \n",
        "              optimizer=OPTIMIZER, \n",
        "              loss=LOSS, \n",
        "              learning_rate=0.001)\n",
        "\n",
        "model_path = naming.get_model_path(run_id)\n",
        "\n",
        "# Train model\n",
        "history = train.train_model(model=my_model,\n",
        "                            train_data=train_data,\n",
        "                            epochs=EPOCHS,\n",
        "                            batch_size=BATCH_SIZE,\n",
        "                            validation_split=VALIDATION_SPLIT,\n",
        "                            validation_data=val_data,\n",
        "                            shuffle=SHUFFLE,\n",
        "                            callback=True,\n",
        "                            patience=15,\n",
        "                            model_outdir=model_path)\n",
        "\n",
        "# Plot model history\n",
        "train.plot_train_history(history)"
      ],
      "execution_count": null,
      "outputs": [
        {
          "output_type": "stream",
          "text": [
            "Train on 50184 samples, validate on 12600 samples\n",
            "Epoch 1/100\n",
            "50184/50184 [==============================] - ETA: 0s - loss: 0.1536"
          ],
          "name": "stdout"
        },
        {
          "output_type": "stream",
          "text": [
            "/usr/local/lib/python3.7/dist-packages/tensorflow/python/keras/engine/training.py:2325: UserWarning: `Model.state_updates` will be removed in a future version. This property should not be used in TensorFlow 2.0, as `updates` are applied automatically.\n",
            "  warnings.warn('`Model.state_updates` will be removed in a future version. '\n"
          ],
          "name": "stderr"
        },
        {
          "output_type": "stream",
          "text": [
            "\n",
            "Epoch 00001: val_loss improved from inf to 0.07161, saving model to models/VAE_6dB_valve_id_00.hdf5\n",
            "50184/50184 [==============================] - 45s 898us/sample - loss: 0.1536 - val_loss: 0.0716\n",
            "Epoch 2/100\n",
            "50176/50184 [============================>.] - ETA: 0s - loss: 0.0603\n",
            "Epoch 00002: val_loss improved from 0.07161 to 0.06547, saving model to models/VAE_6dB_valve_id_00.hdf5\n",
            "50184/50184 [==============================] - 26s 510us/sample - loss: 0.0603 - val_loss: 0.0655\n",
            "Epoch 3/100\n",
            "50184/50184 [==============================] - ETA: 0s - loss: 0.0545\n",
            "Epoch 00003: val_loss improved from 0.06547 to 0.05581, saving model to models/VAE_6dB_valve_id_00.hdf5\n",
            "50184/50184 [==============================] - 25s 507us/sample - loss: 0.0545 - val_loss: 0.0558\n",
            "Epoch 4/100\n",
            "50184/50184 [==============================] - ETA: 0s - loss: 0.0514\n",
            "Epoch 00004: val_loss did not improve from 0.05581\n",
            "50184/50184 [==============================] - 25s 494us/sample - loss: 0.0514 - val_loss: 0.0764\n",
            "Epoch 5/100\n",
            "50184/50184 [==============================] - ETA: 0s - loss: 0.0493\n",
            "Epoch 00005: val_loss improved from 0.05581 to 0.05231, saving model to models/VAE_6dB_valve_id_00.hdf5\n",
            "50184/50184 [==============================] - 26s 510us/sample - loss: 0.0493 - val_loss: 0.0523\n",
            "Epoch 6/100\n",
            "50112/50184 [============================>.] - ETA: 0s - loss: 0.0482\n",
            "Epoch 00006: val_loss improved from 0.05231 to 0.05075, saving model to models/VAE_6dB_valve_id_00.hdf5\n",
            "50184/50184 [==============================] - 26s 509us/sample - loss: 0.0482 - val_loss: 0.0507\n",
            "Epoch 7/100\n",
            "50184/50184 [==============================] - ETA: 0s - loss: 0.0466\n",
            "Epoch 00007: val_loss improved from 0.05075 to 0.05071, saving model to models/VAE_6dB_valve_id_00.hdf5\n",
            "50184/50184 [==============================] - 26s 508us/sample - loss: 0.0466 - val_loss: 0.0507\n",
            "Epoch 8/100\n",
            "50184/50184 [==============================] - ETA: 0s - loss: 0.0460\n",
            "Epoch 00008: val_loss did not improve from 0.05071\n",
            "50184/50184 [==============================] - 25s 489us/sample - loss: 0.0460 - val_loss: 0.0586\n",
            "Epoch 9/100\n",
            "50184/50184 [==============================] - ETA: 0s - loss: 0.0449\n",
            "Epoch 00009: val_loss improved from 0.05071 to 0.04814, saving model to models/VAE_6dB_valve_id_00.hdf5\n",
            "50184/50184 [==============================] - 25s 501us/sample - loss: 0.0449 - val_loss: 0.0481\n",
            "Epoch 10/100\n",
            "50112/50184 [============================>.] - ETA: 0s - loss: 0.0443\n",
            "Epoch 00010: val_loss improved from 0.04814 to 0.04759, saving model to models/VAE_6dB_valve_id_00.hdf5\n",
            "50184/50184 [==============================] - 25s 499us/sample - loss: 0.0443 - val_loss: 0.0476\n",
            "Epoch 11/100\n",
            "50184/50184 [==============================] - ETA: 0s - loss: 0.0435\n",
            "Epoch 00011: val_loss improved from 0.04759 to 0.04587, saving model to models/VAE_6dB_valve_id_00.hdf5\n",
            "50184/50184 [==============================] - 25s 506us/sample - loss: 0.0435 - val_loss: 0.0459\n",
            "Epoch 12/100\n",
            "50184/50184 [==============================] - ETA: 0s - loss: 0.0432\n",
            "Epoch 00012: val_loss did not improve from 0.04587\n",
            "50184/50184 [==============================] - 25s 490us/sample - loss: 0.0432 - val_loss: 0.0560\n",
            "Epoch 13/100\n",
            "50184/50184 [==============================] - ETA: 0s - loss: 0.0427\n",
            "Epoch 00013: val_loss did not improve from 0.04587\n",
            "50184/50184 [==============================] - 25s 491us/sample - loss: 0.0427 - val_loss: 0.0463\n",
            "Epoch 14/100\n",
            "50184/50184 [==============================] - ETA: 0s - loss: 0.0424\n",
            "Epoch 00014: val_loss improved from 0.04587 to 0.04542, saving model to models/VAE_6dB_valve_id_00.hdf5\n",
            "50184/50184 [==============================] - 25s 502us/sample - loss: 0.0424 - val_loss: 0.0454\n",
            "Epoch 15/100\n",
            "50184/50184 [==============================] - ETA: 0s - loss: 0.0418\n",
            "Epoch 00015: val_loss did not improve from 0.04542\n",
            "50184/50184 [==============================] - 25s 493us/sample - loss: 0.0418 - val_loss: 0.0486\n",
            "Epoch 16/100\n",
            "50184/50184 [==============================] - ETA: 0s - loss: 0.0415\n",
            "Epoch 00016: val_loss did not improve from 0.04542\n",
            "50184/50184 [==============================] - 25s 491us/sample - loss: 0.0415 - val_loss: 0.0458\n",
            "Epoch 17/100\n",
            "50184/50184 [==============================] - ETA: 0s - loss: 0.0410\n",
            "Epoch 00017: val_loss improved from 0.04542 to 0.04480, saving model to models/VAE_6dB_valve_id_00.hdf5\n",
            "50184/50184 [==============================] - 25s 506us/sample - loss: 0.0410 - val_loss: 0.0448\n",
            "Epoch 18/100\n",
            "50184/50184 [==============================] - ETA: 0s - loss: 0.0409\n",
            "Epoch 00018: val_loss improved from 0.04480 to 0.04452, saving model to models/VAE_6dB_valve_id_00.hdf5\n",
            "50184/50184 [==============================] - 25s 505us/sample - loss: 0.0409 - val_loss: 0.0445\n",
            "Epoch 19/100\n",
            "50184/50184 [==============================] - ETA: 0s - loss: 0.0406\n",
            "Epoch 00019: val_loss improved from 0.04452 to 0.04434, saving model to models/VAE_6dB_valve_id_00.hdf5\n",
            "50184/50184 [==============================] - 25s 505us/sample - loss: 0.0406 - val_loss: 0.0443\n",
            "Epoch 20/100\n",
            "50184/50184 [==============================] - ETA: 0s - loss: 0.0404\n",
            "Epoch 00020: val_loss improved from 0.04434 to 0.04411, saving model to models/VAE_6dB_valve_id_00.hdf5\n",
            "50184/50184 [==============================] - 25s 504us/sample - loss: 0.0404 - val_loss: 0.0441\n",
            "Epoch 21/100\n",
            "50184/50184 [==============================] - ETA: 0s - loss: 0.0400\n",
            "Epoch 00021: val_loss did not improve from 0.04411\n",
            "50184/50184 [==============================] - 25s 495us/sample - loss: 0.0400 - val_loss: 0.0463\n",
            "Epoch 22/100\n",
            "50184/50184 [==============================] - ETA: 0s - loss: 0.0399\n",
            "Epoch 00022: val_loss did not improve from 0.04411\n",
            "50184/50184 [==============================] - 25s 491us/sample - loss: 0.0399 - val_loss: 0.0453\n",
            "Epoch 23/100\n",
            "50184/50184 [==============================] - ETA: 0s - loss: 0.0395\n",
            "Epoch 00023: val_loss improved from 0.04411 to 0.04350, saving model to models/VAE_6dB_valve_id_00.hdf5\n",
            "50184/50184 [==============================] - 25s 506us/sample - loss: 0.0395 - val_loss: 0.0435\n",
            "Epoch 24/100\n",
            "50184/50184 [==============================] - ETA: 0s - loss: 0.0393\n",
            "Epoch 00024: val_loss did not improve from 0.04350\n",
            "50184/50184 [==============================] - 25s 494us/sample - loss: 0.0393 - val_loss: 0.0436\n",
            "Epoch 25/100\n",
            "50112/50184 [============================>.] - ETA: 0s - loss: 0.0391\n",
            "Epoch 00025: val_loss did not improve from 0.04350\n",
            "50184/50184 [==============================] - 25s 494us/sample - loss: 0.0391 - val_loss: 0.0447\n",
            "Epoch 26/100\n",
            "50184/50184 [==============================] - ETA: 0s - loss: 0.0390\n",
            "Epoch 00026: val_loss did not improve from 0.04350\n",
            "50184/50184 [==============================] - 25s 491us/sample - loss: 0.0390 - val_loss: 0.0435\n",
            "Epoch 27/100\n",
            "50184/50184 [==============================] - ETA: 0s - loss: 0.0388\n",
            "Epoch 00027: val_loss did not improve from 0.04350\n",
            "50184/50184 [==============================] - 25s 496us/sample - loss: 0.0388 - val_loss: 0.0439\n",
            "Epoch 28/100\n",
            "50184/50184 [==============================] - ETA: 0s - loss: 0.0386\n",
            "Epoch 00028: val_loss did not improve from 0.04350\n",
            "50184/50184 [==============================] - 25s 493us/sample - loss: 0.0386 - val_loss: 0.0445\n",
            "Epoch 29/100\n",
            "50184/50184 [==============================] - ETA: 0s - loss: 0.0385\n",
            "Epoch 00029: val_loss did not improve from 0.04350\n",
            "50184/50184 [==============================] - 25s 491us/sample - loss: 0.0385 - val_loss: 0.0436\n",
            "Epoch 30/100\n",
            "50184/50184 [==============================] - ETA: 0s - loss: 0.0384\n",
            "Epoch 00030: val_loss did not improve from 0.04350\n",
            "50184/50184 [==============================] - 25s 489us/sample - loss: 0.0384 - val_loss: 0.0438\n",
            "Epoch 31/100\n",
            "50184/50184 [==============================] - ETA: 0s - loss: 0.0382\n",
            "Epoch 00031: val_loss improved from 0.04350 to 0.04300, saving model to models/VAE_6dB_valve_id_00.hdf5\n",
            "50184/50184 [==============================] - 25s 505us/sample - loss: 0.0382 - val_loss: 0.0430\n",
            "Epoch 32/100\n",
            "50184/50184 [==============================] - ETA: 0s - loss: 0.0381\n",
            "Epoch 00032: val_loss improved from 0.04300 to 0.04248, saving model to models/VAE_6dB_valve_id_00.hdf5\n",
            "50184/50184 [==============================] - 25s 500us/sample - loss: 0.0381 - val_loss: 0.0425\n",
            "Epoch 33/100\n",
            "50184/50184 [==============================] - ETA: 0s - loss: 0.0379\n",
            "Epoch 00033: val_loss did not improve from 0.04248\n",
            "50184/50184 [==============================] - 25s 490us/sample - loss: 0.0379 - val_loss: 0.0432\n",
            "Epoch 34/100\n",
            "50184/50184 [==============================] - ETA: 0s - loss: 0.0379\n",
            "Epoch 00034: val_loss did not improve from 0.04248\n",
            "50184/50184 [==============================] - 25s 489us/sample - loss: 0.0379 - val_loss: 0.0426\n",
            "Epoch 35/100\n",
            "50184/50184 [==============================] - ETA: 0s - loss: 0.0378\n",
            "Epoch 00035: val_loss improved from 0.04248 to 0.04234, saving model to models/VAE_6dB_valve_id_00.hdf5\n",
            "50184/50184 [==============================] - 25s 505us/sample - loss: 0.0378 - val_loss: 0.0423\n",
            "Epoch 36/100\n",
            "50184/50184 [==============================] - ETA: 0s - loss: 0.0376\n",
            "Epoch 00036: val_loss improved from 0.04234 to 0.04230, saving model to models/VAE_6dB_valve_id_00.hdf5\n",
            "50184/50184 [==============================] - 25s 505us/sample - loss: 0.0376 - val_loss: 0.0423\n",
            "Epoch 37/100\n",
            "50184/50184 [==============================] - ETA: 0s - loss: 0.0376\n",
            "Epoch 00037: val_loss did not improve from 0.04230\n",
            "50184/50184 [==============================] - 25s 493us/sample - loss: 0.0376 - val_loss: 0.0424\n",
            "Epoch 38/100\n",
            "50112/50184 [============================>.] - ETA: 0s - loss: 0.0376\n",
            "Epoch 00038: val_loss did not improve from 0.04230\n",
            "50184/50184 [==============================] - 25s 491us/sample - loss: 0.0376 - val_loss: 0.0424\n",
            "Epoch 39/100\n",
            "50184/50184 [==============================] - ETA: 0s - loss: 0.0374\n",
            "Epoch 00039: val_loss did not improve from 0.04230\n",
            "50184/50184 [==============================] - 25s 493us/sample - loss: 0.0374 - val_loss: 0.0424\n",
            "Epoch 40/100\n",
            "50184/50184 [==============================] - ETA: 0s - loss: 0.0374\n",
            "Epoch 00040: val_loss did not improve from 0.04230\n",
            "50184/50184 [==============================] - 25s 496us/sample - loss: 0.0374 - val_loss: 0.0427\n",
            "Epoch 41/100\n",
            "50184/50184 [==============================] - ETA: 0s - loss: 0.0373\n",
            "Epoch 00041: val_loss did not improve from 0.04230\n",
            "50184/50184 [==============================] - 25s 491us/sample - loss: 0.0373 - val_loss: 0.0426\n",
            "Epoch 42/100\n",
            "50112/50184 [============================>.] - ETA: 0s - loss: 0.0373\n",
            "Epoch 00042: val_loss improved from 0.04230 to 0.04211, saving model to models/VAE_6dB_valve_id_00.hdf5\n",
            "50184/50184 [==============================] - 25s 504us/sample - loss: 0.0373 - val_loss: 0.0421\n",
            "Epoch 43/100\n",
            "50184/50184 [==============================] - ETA: 0s - loss: 0.0372\n",
            "Epoch 00043: val_loss did not improve from 0.04211\n",
            "50184/50184 [==============================] - 25s 491us/sample - loss: 0.0372 - val_loss: 0.0427\n",
            "Epoch 44/100\n",
            "50184/50184 [==============================] - ETA: 0s - loss: 0.0371\n",
            "Epoch 00044: val_loss did not improve from 0.04211\n",
            "50184/50184 [==============================] - 25s 490us/sample - loss: 0.0371 - val_loss: 0.0431\n",
            "Epoch 45/100\n",
            "50184/50184 [==============================] - ETA: 0s - loss: 0.0370\n",
            "Epoch 00045: val_loss did not improve from 0.04211\n",
            "50184/50184 [==============================] - 25s 494us/sample - loss: 0.0370 - val_loss: 0.0422\n",
            "Epoch 46/100\n",
            "50112/50184 [============================>.] - ETA: 0s - loss: 0.0369\n",
            "Epoch 00046: val_loss did not improve from 0.04211\n",
            "50184/50184 [==============================] - 25s 488us/sample - loss: 0.0369 - val_loss: 0.0437\n",
            "Epoch 47/100\n",
            "50184/50184 [==============================] - ETA: 0s - loss: 0.0371\n",
            "Epoch 00047: val_loss did not improve from 0.04211\n",
            "50184/50184 [==============================] - 25s 493us/sample - loss: 0.0371 - val_loss: 0.0422\n",
            "Epoch 48/100\n",
            "50184/50184 [==============================] - ETA: 0s - loss: 0.0368\n",
            "Epoch 00048: val_loss did not improve from 0.04211\n",
            "50184/50184 [==============================] - 25s 490us/sample - loss: 0.0368 - val_loss: 0.0422\n",
            "Epoch 49/100\n",
            "50184/50184 [==============================] - ETA: 0s - loss: 0.0368\n",
            "Epoch 00049: val_loss improved from 0.04211 to 0.04202, saving model to models/VAE_6dB_valve_id_00.hdf5\n",
            "50184/50184 [==============================] - 25s 504us/sample - loss: 0.0368 - val_loss: 0.0420\n",
            "Epoch 50/100\n",
            "50184/50184 [==============================] - ETA: 0s - loss: 0.0367\n",
            "Epoch 00050: val_loss improved from 0.04202 to 0.04192, saving model to models/VAE_6dB_valve_id_00.hdf5\n",
            "50184/50184 [==============================] - 25s 505us/sample - loss: 0.0367 - val_loss: 0.0419\n",
            "Epoch 51/100\n",
            "50184/50184 [==============================] - ETA: 0s - loss: 0.0367\n",
            "Epoch 00051: val_loss did not improve from 0.04192\n",
            "50184/50184 [==============================] - 25s 493us/sample - loss: 0.0367 - val_loss: 0.0465\n",
            "Epoch 52/100\n",
            "50184/50184 [==============================] - ETA: 0s - loss: 0.0367\n",
            "Epoch 00052: val_loss did not improve from 0.04192\n",
            "50184/50184 [==============================] - 25s 496us/sample - loss: 0.0367 - val_loss: 0.0419\n",
            "Epoch 53/100\n",
            "50184/50184 [==============================] - ETA: 0s - loss: 0.0367\n",
            "Epoch 00053: val_loss did not improve from 0.04192\n",
            "50184/50184 [==============================] - 25s 492us/sample - loss: 0.0367 - val_loss: 0.0423\n",
            "Epoch 54/100\n",
            "50184/50184 [==============================] - ETA: 0s - loss: 0.0366\n",
            "Epoch 00054: val_loss did not improve from 0.04192\n",
            "50184/50184 [==============================] - 25s 492us/sample - loss: 0.0366 - val_loss: 0.0431\n",
            "Epoch 55/100\n",
            "50184/50184 [==============================] - ETA: 0s - loss: 0.0366\n",
            "Epoch 00055: val_loss did not improve from 0.04192\n",
            "50184/50184 [==============================] - 25s 489us/sample - loss: 0.0366 - val_loss: 0.0420\n",
            "Epoch 56/100\n",
            "50184/50184 [==============================] - ETA: 0s - loss: 0.0365\n",
            "Epoch 00056: val_loss did not improve from 0.04192\n",
            "50184/50184 [==============================] - 25s 491us/sample - loss: 0.0365 - val_loss: 0.0423\n",
            "Epoch 57/100\n",
            "50184/50184 [==============================] - ETA: 0s - loss: 0.0364\n",
            "Epoch 00057: val_loss did not improve from 0.04192\n",
            "50184/50184 [==============================] - 25s 492us/sample - loss: 0.0364 - val_loss: 0.0419\n",
            "Epoch 58/100\n",
            "50184/50184 [==============================] - ETA: 0s - loss: 0.0363\n",
            "Epoch 00058: val_loss improved from 0.04192 to 0.04182, saving model to models/VAE_6dB_valve_id_00.hdf5\n",
            "50184/50184 [==============================] - 25s 505us/sample - loss: 0.0363 - val_loss: 0.0418\n",
            "Epoch 59/100\n",
            "50184/50184 [==============================] - ETA: 0s - loss: 0.0363\n",
            "Epoch 00059: val_loss did not improve from 0.04182\n",
            "50184/50184 [==============================] - 25s 494us/sample - loss: 0.0363 - val_loss: 0.0418\n",
            "Epoch 60/100\n",
            "50184/50184 [==============================] - ETA: 0s - loss: 0.0364\n",
            "Epoch 00060: val_loss did not improve from 0.04182\n",
            "50184/50184 [==============================] - 25s 493us/sample - loss: 0.0364 - val_loss: 0.0427\n",
            "Epoch 61/100\n",
            "50184/50184 [==============================] - ETA: 0s - loss: 0.0363\n",
            "Epoch 00061: val_loss improved from 0.04182 to 0.04161, saving model to models/VAE_6dB_valve_id_00.hdf5\n",
            "50184/50184 [==============================] - 25s 505us/sample - loss: 0.0363 - val_loss: 0.0416\n",
            "Epoch 62/100\n",
            "50184/50184 [==============================] - ETA: 0s - loss: 0.0363\n",
            "Epoch 00062: val_loss did not improve from 0.04161\n",
            "50184/50184 [==============================] - 25s 494us/sample - loss: 0.0363 - val_loss: 0.0425\n",
            "Epoch 63/100\n",
            "50112/50184 [============================>.] - ETA: 0s - loss: 0.0363\n",
            "Epoch 00063: val_loss improved from 0.04161 to 0.04161, saving model to models/VAE_6dB_valve_id_00.hdf5\n",
            "50184/50184 [==============================] - 25s 507us/sample - loss: 0.0363 - val_loss: 0.0416\n",
            "Epoch 64/100\n",
            "50184/50184 [==============================] - ETA: 0s - loss: 0.0363\n",
            "Epoch 00064: val_loss did not improve from 0.04161\n",
            "50184/50184 [==============================] - 25s 499us/sample - loss: 0.0363 - val_loss: 0.0419\n",
            "Epoch 65/100\n",
            "50184/50184 [==============================] - ETA: 0s - loss: 0.0361\n",
            "Epoch 00065: val_loss did not improve from 0.04161\n",
            "50184/50184 [==============================] - 25s 494us/sample - loss: 0.0361 - val_loss: 0.0424\n",
            "Epoch 66/100\n",
            "50184/50184 [==============================] - ETA: 0s - loss: 0.0362\n",
            "Epoch 00066: val_loss did not improve from 0.04161\n",
            "50184/50184 [==============================] - 25s 497us/sample - loss: 0.0362 - val_loss: 0.0422\n",
            "Epoch 67/100\n",
            "50184/50184 [==============================] - ETA: 0s - loss: 0.0362\n",
            "Epoch 00067: val_loss did not improve from 0.04161\n",
            "50184/50184 [==============================] - 25s 494us/sample - loss: 0.0362 - val_loss: 0.0419\n",
            "Epoch 68/100\n",
            "50184/50184 [==============================] - ETA: 0s - loss: 0.0361\n",
            "Epoch 00068: val_loss did not improve from 0.04161\n",
            "50184/50184 [==============================] - 25s 494us/sample - loss: 0.0361 - val_loss: 0.0427\n",
            "Epoch 69/100\n",
            "50184/50184 [==============================] - ETA: 0s - loss: 0.0361\n",
            "Epoch 00069: val_loss did not improve from 0.04161\n",
            "50184/50184 [==============================] - 25s 497us/sample - loss: 0.0361 - val_loss: 0.0420\n",
            "Epoch 70/100\n",
            "50184/50184 [==============================] - ETA: 0s - loss: 0.0359\n",
            "Epoch 00070: val_loss did not improve from 0.04161\n",
            "50184/50184 [==============================] - 25s 494us/sample - loss: 0.0359 - val_loss: 0.0423\n",
            "Epoch 71/100\n",
            "50184/50184 [==============================] - ETA: 0s - loss: 0.0359\n",
            "Epoch 00071: val_loss did not improve from 0.04161\n",
            "50184/50184 [==============================] - 25s 498us/sample - loss: 0.0359 - val_loss: 0.0421\n",
            "Epoch 72/100\n",
            "50184/50184 [==============================] - ETA: 0s - loss: 0.0360\n",
            "Epoch 00072: val_loss did not improve from 0.04161\n",
            "50184/50184 [==============================] - 25s 496us/sample - loss: 0.0360 - val_loss: 0.0428\n",
            "Epoch 73/100\n",
            "50184/50184 [==============================] - ETA: 0s - loss: 0.0360\n",
            "Epoch 00073: val_loss did not improve from 0.04161\n",
            "50184/50184 [==============================] - 25s 492us/sample - loss: 0.0360 - val_loss: 0.0421\n",
            "Epoch 74/100\n",
            "50184/50184 [==============================] - ETA: 0s - loss: 0.0359\n",
            "Epoch 00074: val_loss did not improve from 0.04161\n",
            "50184/50184 [==============================] - 25s 495us/sample - loss: 0.0359 - val_loss: 0.0416\n",
            "Epoch 75/100\n",
            "50184/50184 [==============================] - ETA: 0s - loss: 0.0359\n",
            "Epoch 00075: val_loss improved from 0.04161 to 0.04153, saving model to models/VAE_6dB_valve_id_00.hdf5\n",
            "50184/50184 [==============================] - 25s 507us/sample - loss: 0.0359 - val_loss: 0.0415\n",
            "Epoch 76/100\n",
            "50184/50184 [==============================] - ETA: 0s - loss: 0.0359\n",
            "Epoch 00076: val_loss improved from 0.04153 to 0.04152, saving model to models/VAE_6dB_valve_id_00.hdf5\n",
            "50184/50184 [==============================] - 26s 510us/sample - loss: 0.0359 - val_loss: 0.0415\n",
            "Epoch 77/100\n",
            "50176/50184 [============================>.] - ETA: 0s - loss: 0.0358\n",
            "Epoch 00077: val_loss did not improve from 0.04152\n",
            "50184/50184 [==============================] - 25s 500us/sample - loss: 0.0358 - val_loss: 0.0417\n",
            "Epoch 78/100\n",
            "50184/50184 [==============================] - ETA: 0s - loss: 0.0357\n",
            "Epoch 00078: val_loss did not improve from 0.04152\n",
            "50184/50184 [==============================] - 25s 497us/sample - loss: 0.0357 - val_loss: 0.0420\n",
            "Epoch 79/100\n",
            "50184/50184 [==============================] - ETA: 0s - loss: 0.0358\n",
            "Epoch 00079: val_loss did not improve from 0.04152\n",
            "50184/50184 [==============================] - 25s 497us/sample - loss: 0.0358 - val_loss: 0.0421\n",
            "Epoch 80/100\n",
            "50184/50184 [==============================] - ETA: 0s - loss: 0.0358\n",
            "Epoch 00080: val_loss did not improve from 0.04152\n",
            "50184/50184 [==============================] - 25s 496us/sample - loss: 0.0358 - val_loss: 0.0420\n",
            "Epoch 81/100\n",
            "50184/50184 [==============================] - ETA: 0s - loss: 0.0357\n",
            "Epoch 00081: val_loss did not improve from 0.04152\n",
            "50184/50184 [==============================] - 25s 496us/sample - loss: 0.0357 - val_loss: 0.0431\n",
            "Epoch 82/100\n",
            "50112/50184 [============================>.] - ETA: 0s - loss: 0.0358\n",
            "Epoch 00082: val_loss did not improve from 0.04152\n",
            "50184/50184 [==============================] - 25s 497us/sample - loss: 0.0358 - val_loss: 0.0426\n",
            "Epoch 83/100\n",
            "50184/50184 [==============================] - ETA: 0s - loss: 0.0356\n",
            "Epoch 00083: val_loss improved from 0.04152 to 0.04152, saving model to models/VAE_6dB_valve_id_00.hdf5\n",
            "50184/50184 [==============================] - 26s 512us/sample - loss: 0.0356 - val_loss: 0.0415\n",
            "Epoch 84/100\n",
            "50184/50184 [==============================] - ETA: 0s - loss: 0.0357\n",
            "Epoch 00084: val_loss did not improve from 0.04152\n",
            "50184/50184 [==============================] - 25s 501us/sample - loss: 0.0357 - val_loss: 0.0418\n",
            "Epoch 85/100\n",
            "50184/50184 [==============================] - ETA: 0s - loss: 0.0356\n",
            "Epoch 00085: val_loss did not improve from 0.04152\n",
            "50184/50184 [==============================] - 25s 494us/sample - loss: 0.0356 - val_loss: 0.0421\n",
            "Epoch 86/100\n",
            "50184/50184 [==============================] - ETA: 0s - loss: 0.0357\n",
            "Epoch 00086: val_loss did not improve from 0.04152\n",
            "50184/50184 [==============================] - 25s 500us/sample - loss: 0.0357 - val_loss: 0.0418\n",
            "Epoch 87/100\n",
            "50184/50184 [==============================] - ETA: 0s - loss: 0.0356\n",
            "Epoch 00087: val_loss did not improve from 0.04152\n",
            "50184/50184 [==============================] - 25s 499us/sample - loss: 0.0356 - val_loss: 0.0418\n",
            "Epoch 88/100\n",
            "50184/50184 [==============================] - ETA: 0s - loss: 0.0356\n",
            "Epoch 00088: val_loss did not improve from 0.04152\n",
            "50184/50184 [==============================] - 25s 502us/sample - loss: 0.0356 - val_loss: 0.0419\n",
            "Epoch 89/100\n",
            "50184/50184 [==============================] - ETA: 0s - loss: 0.0356\n",
            "Epoch 00089: val_loss did not improve from 0.04152\n",
            "50184/50184 [==============================] - 25s 505us/sample - loss: 0.0356 - val_loss: 0.0416\n",
            "Epoch 90/100\n",
            "50184/50184 [==============================] - ETA: 0s - loss: 0.0354\n",
            "Epoch 00090: val_loss did not improve from 0.04152\n",
            "50184/50184 [==============================] - 25s 500us/sample - loss: 0.0354 - val_loss: 0.0417\n",
            "Epoch 91/100\n",
            "50184/50184 [==============================] - ETA: 0s - loss: 0.0355\n",
            "Epoch 00091: val_loss did not improve from 0.04152\n",
            "50184/50184 [==============================] - 25s 497us/sample - loss: 0.0355 - val_loss: 0.0416\n",
            "Epoch 92/100\n",
            "50184/50184 [==============================] - ETA: 0s - loss: 0.0355\n",
            "Epoch 00092: val_loss did not improve from 0.04152\n",
            "50184/50184 [==============================] - 25s 498us/sample - loss: 0.0355 - val_loss: 0.0424\n",
            "Epoch 93/100\n",
            "50184/50184 [==============================] - ETA: 0s - loss: 0.0355\n",
            "Epoch 00093: val_loss did not improve from 0.04152\n",
            "50184/50184 [==============================] - 25s 506us/sample - loss: 0.0355 - val_loss: 0.0417\n",
            "Epoch 94/100\n",
            "50184/50184 [==============================] - ETA: 0s - loss: 0.0355\n",
            "Epoch 00094: val_loss did not improve from 0.04152\n",
            "50184/50184 [==============================] - 25s 495us/sample - loss: 0.0355 - val_loss: 0.0421\n",
            "Epoch 95/100\n",
            "50184/50184 [==============================] - ETA: 0s - loss: 0.0354\n",
            "Epoch 00095: val_loss did not improve from 0.04152\n",
            "50184/50184 [==============================] - 25s 502us/sample - loss: 0.0354 - val_loss: 0.0416\n",
            "Epoch 96/100\n",
            "50184/50184 [==============================] - ETA: 0s - loss: 0.0355\n",
            "Epoch 00096: val_loss did not improve from 0.04152\n",
            "50184/50184 [==============================] - 25s 500us/sample - loss: 0.0355 - val_loss: 0.0431\n",
            "Epoch 97/100\n",
            "50176/50184 [============================>.] - ETA: 0s - loss: 0.0354\n",
            "Epoch 00097: val_loss did not improve from 0.04152\n",
            "50184/50184 [==============================] - 25s 499us/sample - loss: 0.0354 - val_loss: 0.0431\n",
            "Epoch 98/100\n",
            "50184/50184 [==============================] - ETA: 0s - loss: 0.0354\n",
            "Epoch 00098: val_loss did not improve from 0.04152\n",
            "50184/50184 [==============================] - 25s 497us/sample - loss: 0.0354 - val_loss: 0.0422\n",
            "Epoch 00098: early stopping\n"
          ],
          "name": "stdout"
        },
        {
          "output_type": "display_data",
          "data": {
            "image/png": "[encoded data removed]",
            "text/plain": [
              "<Figure size 432x432 with 1 Axes>"
            ]
          },
          "metadata": {
            "tags": [],
            "needs_background": "light"
          }
        }
      ]
    },
    {
      "cell_type": "markdown",
      "metadata": {
        "id": "k6wRA8FTq9N3"
      },
      "source": [
        "# Model evaluation\n"
      ]
    },
    {
      "cell_type": "code",
      "metadata": {
        "id": "mEQPtwLAq8B9",
        "colab": {
          "base_uri": "https://localhost:8080/",
          "height": 120
        },
        "outputId": "9a3ec88b-53c8-434e-d8c6-16b5992abdb0"
      },
      "source": [
        "\"\"\"saved_model = train.load_saved_model('/gdrive/MyDrive/sound-of-failure/models/00_trial_VAE.hdf5')\n",
        "\n",
        "y_pred = np.zeros(len(test_files))\n",
        "y_true = test_labels\n",
        "\n",
        "for idx, test_file in tqdm.tqdm(enumerate(test_files), total=len(test_files)):\n",
        "  #print(\"File no.={}, location={}, label={}\".format(idx, test_file, test_label))\n",
        "\n",
        "  mel = np.load(test_file)\n",
        "\n",
        "  scaled_mel = spec.apply_scaler_to_mel(scaler, mel)\n",
        "\n",
        "  batch = splt.subsample_from_mel(scaled_mel, DIM, STEP)\n",
        "\n",
        "  batch_prediction = saved_model.predict(batch)\n",
        "\n",
        "  squared_error = np.square(batch - batch_prediction)\n",
        "  channelwise_error = np.mean(squared_error, axis=-1)\n",
        "  reconstruction_error = np.mean(channelwise_error)\n",
        "\n",
        "  y_pred[idx] = reconstruction_error\n",
        "\n",
        "\n",
        "auc_score = metrics.roc_auc_score(y_true, y_pred)\n",
        "print(\"Roc AUC score={}\".format(auc_score))\"\"\""
      ],
      "execution_count": null,
      "outputs": [
        {
          "output_type": "execute_result",
          "data": {
            "application/vnd.google.colaboratory.intrinsic+json": {
              "type": "string"
            },
            "text/plain": [
              "'saved_model = train.load_saved_model(\\'/gdrive/MyDrive/sound-of-failure/models/00_trial_VAE.hdf5\\')\\n\\ny_pred = np.zeros(len(test_files))\\ny_true = test_labels\\n\\nfor idx, test_file in tqdm.tqdm(enumerate(test_files), total=len(test_files)):\\n  #print(\"File no.={}, location={}, label={}\".format(idx, test_file, test_label))\\n\\n  mel = np.load(test_file)\\n\\n  scaled_mel = spec.apply_scaler_to_mel(scaler, mel)\\n\\n  batch = splt.subsample_from_mel(scaled_mel, DIM, STEP)\\n\\n  batch_prediction = saved_model.predict(batch)\\n\\n  squared_error = np.square(batch - batch_prediction)\\n  channelwise_error = np.mean(squared_error, axis=-1)\\n  reconstruction_error = np.mean(channelwise_error)\\n\\n  y_pred[idx] = reconstruction_error\\n\\n\\nauc_score = metrics.roc_auc_score(y_true, y_pred)\\nprint(\"Roc AUC score={}\".format(auc_score))'"
            ]
          },
          "metadata": {
            "tags": []
          },
          "execution_count": 23
        }
      ]
    },
    {
      "cell_type": "markdown",
      "metadata": {
        "id": "idZ42GyD5MXl"
      },
      "source": [
        "### Load trained model"
      ]
    },
    {
      "cell_type": "code",
      "metadata": {
        "id": "3afvtoaS9oYd"
      },
      "source": [
        "model_path = naming.get_model_path(run_id)\n",
        "saved_model = train.load_saved_model(model_path)"
      ],
      "execution_count": null,
      "outputs": []
    },
    {
      "cell_type": "markdown",
      "metadata": {
        "id": "0jxzD2Nr5yn4"
      },
      "source": [
        "### Reconstruction error and ROC curve"
      ]
    },
    {
      "cell_type": "code",
      "metadata": {
        "id": "JlHuF_lmsErS",
        "colab": {
          "base_uri": "https://localhost:8080/",
          "height": 35
        },
        "outputId": "ddf138e9-d9bb-4ea6-a2a1-7093e0d27cc6"
      },
      "source": [
        "MODEL_NAME"
      ],
      "execution_count": null,
      "outputs": [
        {
          "output_type": "execute_result",
          "data": {
            "application/vnd.google.colaboratory.intrinsic+json": {
              "type": "string"
            },
            "text/plain": [
              "'VAE'"
            ]
          },
          "metadata": {
            "tags": []
          },
          "execution_count": 25
        }
      ]
    },
    {
      "cell_type": "code",
      "metadata": {
        "id": "z9_p_17c5xtO",
        "colab": {
          "base_uri": "https://localhost:8080/"
        },
        "outputId": "ba31e7f7-4f42-4f58-bc8a-e5843933eaa8"
      },
      "source": [
        "# Reconstruction loss for test and train spectrograms\n",
        "if MODEL_NAME == 'lstmAE':\n",
        "  as_images = False\n",
        "else:\n",
        "  as_images = True\n",
        "\n",
        "\n",
        "# Reconstruction loss for test and train spectrograms\n",
        "reco_loss_test = eval.reco_loss(model=saved_model,\n",
        "                                scaler=scaler,\n",
        "                                dim=DIM,\n",
        "                                step=STEP,\n",
        "                                test_files=test_files,\n",
        "                                as_images=as_images)\n",
        "\n",
        "reco_loss_train = eval.reco_loss(model=saved_model, \n",
        "                                scaler=scaler,\n",
        "                                dim=DIM,\n",
        "                                step=STEP,\n",
        "                                test_files=train_files,\n",
        "                                as_images=as_images)\n",
        "\n",
        "reco_loss_val = eval.reco_loss(model=saved_model,\n",
        "                               scaler=scaler,\n",
        "                               dim=DIM,\n",
        "                               step=STEP,\n",
        "                               test_files=val_files,\n",
        "                               as_images=as_images)"
      ],
      "execution_count": null,
      "outputs": [
        {
          "output_type": "stream",
          "text": [
            "\r  0%|          | 0/238 [00:00<?, ?it/s]/usr/local/lib/python3.7/dist-packages/tensorflow/python/keras/engine/training.py:2325: UserWarning: `Model.state_updates` will be removed in a future version. This property should not be used in TensorFlow 2.0, as `updates` are applied automatically.\n",
            "  warnings.warn('`Model.state_updates` will be removed in a future version. '\n",
            "100%|██████████| 238/238 [00:04<00:00, 53.68it/s]\n",
            "100%|██████████| 697/697 [00:11<00:00, 60.15it/s]\n",
            "100%|██████████| 175/175 [00:02<00:00, 59.60it/s]\n"
          ],
          "name": "stderr"
        }
      ]
    },
    {
      "cell_type": "code",
      "metadata": {
        "id": "_BLhZHvN6uzf",
        "colab": {
          "base_uri": "https://localhost:8080/",
          "height": 405
        },
        "outputId": "55eb2363-9f6b-4712-cf8c-b9ac26faea7b"
      },
      "source": [
        "# ROC curve and ROC AUC score (for test data)\n",
        "eval.plot_roc_curve(test_labels, reco_loss_test)"
      ],
      "execution_count": null,
      "outputs": [
        {
          "output_type": "stream",
          "text": [
            "Roc AUC score=0.9700586116799661\n"
          ],
          "name": "stdout"
        },
        {
          "output_type": "display_data",
          "data": {
            "image/png": "[encoded data removed]",
            "text/plain": [
              "<Figure size 432x432 with 1 Axes>"
            ]
          },
          "metadata": {
            "tags": [],
            "needs_background": "light"
          }
        }
      ]
    },
    {
      "cell_type": "code",
      "metadata": {
        "id": "by67dGZk7EkM",
        "colab": {
          "base_uri": "https://localhost:8080/",
          "height": 513
        },
        "outputId": "bef6907f-e8a6-4bf8-d260-b68ae3bb8cba"
      },
      "source": [
        "# Visualize separation between normal and abnormal reconstruction loss\n",
        "eval.plot_losses(y_true=test_labels,\n",
        "                  y_pred=reco_loss_test,\n",
        "                  y_train=reco_loss_train,\n",
        "                  title=\"Reconstruction Loss\",\n",
        "                  xlabel='Reconstruction Loss')"
      ],
      "execution_count": null,
      "outputs": [
        {
          "output_type": "display_data",
          "data": {
            "image/png": "[encoded data removed]",
            "text/plain": [
              "<Figure size 576x576 with 1 Axes>"
            ]
          },
          "metadata": {
            "tags": [],
            "needs_background": "light"
          }
        }
      ]
    },
    {
      "cell_type": "markdown",
      "metadata": {
        "id": "P2ouAOTxsZJI"
      },
      "source": [
        "### Thresholding the reconstruction loss\n",
        "\n",
        "The threshold on the reconstruction can be calculated in two ways :\n",
        "  - Either by using a percentile measure (e.g. all reco loss greater than 90-th percentile of the validation reco loss will be tagged as anomalies)\n",
        "  - Or by using std deviation (e.g. all reco loss greater than 1 std. dev away\n",
        "  from the mean validation reco loss will be tagged as anomalies)\n",
        "\n",
        "Here since we have access to the test data, a range of such thresholds is provided and the precision score, recall score and accuracy on the test data is calculated for each such threshold."
      ]
    },
    {
      "cell_type": "code",
      "metadata": {
        "colab": {
          "base_uri": "https://localhost:8080/",
          "height": 390
        },
        "id": "Tw98HHZ1CQUV",
        "outputId": "61ebc15b-972a-4e0a-fd0b-c4b93504c9fa"
      },
      "source": [
        "# Range of std. dev to try for thresholding\n",
        "std_range = np.arange(0.4, 1.5, step=0.1)\n",
        "\n",
        "# Range of std. dev to try for thresholding\n",
        "#(currently commented out. To be used when\n",
        "#using percentile criterion for setting the threshold)\n",
        "perc_range = np.arange(85, 100, step=1)\n",
        "\n",
        "#metrics_df = metrics_by_variable_threshold(reco_loss_val, reco_loss_test, test_labels, measure='percentile', criterion_range=perc_range)\n",
        "\n",
        "# Dataframe containning a range of possible thresholds and the corresponding metrics\n",
        "metrics_df = thres.metrics_by_variable_threshold(validation_loss=reco_loss_val, \n",
        "                                                 test_loss=reco_loss_test, \n",
        "                                                 test_labels=test_labels, \n",
        "                                                 measure='stddev', \n",
        "                                                 criterion_range=std_range)\n",
        "\n",
        "metrics_df.head(20)"
      ],
      "execution_count": null,
      "outputs": [
        {
          "output_type": "execute_result",
          "data": {
            "text/html": [
              "<div>\n",
              "<style scoped>\n",
              "    .dataframe tbody tr th:only-of-type {\n",
              "        vertical-align: middle;\n",
              "    }\n",
              "\n",
              "    .dataframe tbody tr th {\n",
              "        vertical-align: top;\n",
              "    }\n",
              "\n",
              "    .dataframe thead th {\n",
              "        text-align: right;\n",
              "    }\n",
              "</style>\n",
              "<table border=\"1\" class=\"dataframe\">\n",
              "  <thead>\n",
              "    <tr style=\"text-align: right;\">\n",
              "      <th></th>\n",
              "      <th>Threshold_stddev</th>\n",
              "      <th>Precision</th>\n",
              "      <th>Recall</th>\n",
              "      <th>Accuracy</th>\n",
              "    </tr>\n",
              "  </thead>\n",
              "  <tbody>\n",
              "    <tr>\n",
              "      <th>0</th>\n",
              "      <td>0.034567</td>\n",
              "      <td>0.815068</td>\n",
              "      <td>1.000000</td>\n",
              "      <td>0.886555</td>\n",
              "    </tr>\n",
              "    <tr>\n",
              "      <th>1</th>\n",
              "      <td>0.036178</td>\n",
              "      <td>0.826389</td>\n",
              "      <td>1.000000</td>\n",
              "      <td>0.894958</td>\n",
              "    </tr>\n",
              "    <tr>\n",
              "      <th>2</th>\n",
              "      <td>0.037789</td>\n",
              "      <td>0.843972</td>\n",
              "      <td>1.000000</td>\n",
              "      <td>0.907563</td>\n",
              "    </tr>\n",
              "    <tr>\n",
              "      <th>3</th>\n",
              "      <td>0.039400</td>\n",
              "      <td>0.850000</td>\n",
              "      <td>1.000000</td>\n",
              "      <td>0.911765</td>\n",
              "    </tr>\n",
              "    <tr>\n",
              "      <th>4</th>\n",
              "      <td>0.041012</td>\n",
              "      <td>0.850000</td>\n",
              "      <td>1.000000</td>\n",
              "      <td>0.911765</td>\n",
              "    </tr>\n",
              "    <tr>\n",
              "      <th>5</th>\n",
              "      <td>0.042623</td>\n",
              "      <td>0.861314</td>\n",
              "      <td>0.991597</td>\n",
              "      <td>0.915966</td>\n",
              "    </tr>\n",
              "    <tr>\n",
              "      <th>6</th>\n",
              "      <td>0.044234</td>\n",
              "      <td>0.860294</td>\n",
              "      <td>0.983193</td>\n",
              "      <td>0.911765</td>\n",
              "    </tr>\n",
              "    <tr>\n",
              "      <th>7</th>\n",
              "      <td>0.045845</td>\n",
              "      <td>0.871212</td>\n",
              "      <td>0.966387</td>\n",
              "      <td>0.911765</td>\n",
              "    </tr>\n",
              "    <tr>\n",
              "      <th>8</th>\n",
              "      <td>0.047457</td>\n",
              "      <td>0.883721</td>\n",
              "      <td>0.957983</td>\n",
              "      <td>0.915966</td>\n",
              "    </tr>\n",
              "    <tr>\n",
              "      <th>9</th>\n",
              "      <td>0.049068</td>\n",
              "      <td>0.909836</td>\n",
              "      <td>0.932773</td>\n",
              "      <td>0.920168</td>\n",
              "    </tr>\n",
              "    <tr>\n",
              "      <th>10</th>\n",
              "      <td>0.050679</td>\n",
              "      <td>0.922414</td>\n",
              "      <td>0.899160</td>\n",
              "      <td>0.911765</td>\n",
              "    </tr>\n",
              "  </tbody>\n",
              "</table>\n",
              "</div>"
            ],
            "text/plain": [
              "    Threshold_stddev  Precision    Recall  Accuracy\n",
              "0           0.034567   0.815068  1.000000  0.886555\n",
              "1           0.036178   0.826389  1.000000  0.894958\n",
              "2           0.037789   0.843972  1.000000  0.907563\n",
              "3           0.039400   0.850000  1.000000  0.911765\n",
              "4           0.041012   0.850000  1.000000  0.911765\n",
              "5           0.042623   0.861314  0.991597  0.915966\n",
              "6           0.044234   0.860294  0.983193  0.911765\n",
              "7           0.045845   0.871212  0.966387  0.911765\n",
              "8           0.047457   0.883721  0.957983  0.915966\n",
              "9           0.049068   0.909836  0.932773  0.920168\n",
              "10          0.050679   0.922414  0.899160  0.911765"
            ]
          },
          "metadata": {
            "tags": []
          },
          "execution_count": 32
        }
      ]
    },
    {
      "cell_type": "markdown",
      "metadata": {
        "id": "katkpvp9mUMZ"
      },
      "source": [
        "Now since we have access to the test data, we can use the chosen threshold for evaluating the test predictions. To extract the optimal threshold from all the possible thresholds the following two criterion can be applied ()\n",
        "\n",
        "  - We want to achieve a high accuracy on the test predictions (say atleast 90%)\n",
        "  - We want to have a high recall and high precision score on the test data. In this case the anomalies are tagged as 1 i.e they are our positive class. Hence the aim here is to reduce false negatives as much as possible at the cost of introducing some false positives. We think false negatives are more dangerous than false positives, in the latter case the only cost will be to hire a field engineer to verify the actual state of the machine. To summarize we set the criterion on the recall score to be very high, (atleast 95%) and the criterion on the precision score slightly lower (atleast 85%)"
      ]
    },
    {
      "cell_type": "code",
      "metadata": {
        "colab": {
          "base_uri": "https://localhost:8080/",
          "height": 221
        },
        "id": "YPGw9aydWixV",
        "outputId": "a1a6b716-0b79-4b45-adc4-6f78f6e1ab64"
      },
      "source": [
        "# Using precision-recall as evaluation criterion\n",
        "#target_metric_val=[0.85, 0.95] : the first value is the target precision\n",
        "#                                  and the second value is the target recall\n",
        "optim_threshold_df, optim_threshold = thres.optimal_threshold(metric='prec_recall', \n",
        "                                                              target_metric_val=[0.85, 0.95], \n",
        "                                                              metric_df=metrics_df)\n",
        "\n",
        "print(\"The optimal threshold from the given criterion = {}\".format(optim_threshold))\n",
        "optim_threshold_df.head()"
      ],
      "execution_count": null,
      "outputs": [
        {
          "output_type": "stream",
          "text": [
            "The optimal threshold from the given criterion = 0.04342848042048939\n"
          ],
          "name": "stdout"
        },
        {
          "output_type": "execute_result",
          "data": {
            "text/html": [
              "<div>\n",
              "<style scoped>\n",
              "    .dataframe tbody tr th:only-of-type {\n",
              "        vertical-align: middle;\n",
              "    }\n",
              "\n",
              "    .dataframe tbody tr th {\n",
              "        vertical-align: top;\n",
              "    }\n",
              "\n",
              "    .dataframe thead th {\n",
              "        text-align: right;\n",
              "    }\n",
              "</style>\n",
              "<table border=\"1\" class=\"dataframe\">\n",
              "  <thead>\n",
              "    <tr style=\"text-align: right;\">\n",
              "      <th></th>\n",
              "      <th>Threshold_stddev</th>\n",
              "      <th>Precision</th>\n",
              "      <th>Recall</th>\n",
              "      <th>Accuracy</th>\n",
              "    </tr>\n",
              "  </thead>\n",
              "  <tbody>\n",
              "    <tr>\n",
              "      <th>3</th>\n",
              "      <td>0.039400</td>\n",
              "      <td>0.850000</td>\n",
              "      <td>1.000000</td>\n",
              "      <td>0.911765</td>\n",
              "    </tr>\n",
              "    <tr>\n",
              "      <th>4</th>\n",
              "      <td>0.041012</td>\n",
              "      <td>0.850000</td>\n",
              "      <td>1.000000</td>\n",
              "      <td>0.911765</td>\n",
              "    </tr>\n",
              "    <tr>\n",
              "      <th>5</th>\n",
              "      <td>0.042623</td>\n",
              "      <td>0.861314</td>\n",
              "      <td>0.991597</td>\n",
              "      <td>0.915966</td>\n",
              "    </tr>\n",
              "    <tr>\n",
              "      <th>6</th>\n",
              "      <td>0.044234</td>\n",
              "      <td>0.860294</td>\n",
              "      <td>0.983193</td>\n",
              "      <td>0.911765</td>\n",
              "    </tr>\n",
              "    <tr>\n",
              "      <th>7</th>\n",
              "      <td>0.045845</td>\n",
              "      <td>0.871212</td>\n",
              "      <td>0.966387</td>\n",
              "      <td>0.911765</td>\n",
              "    </tr>\n",
              "  </tbody>\n",
              "</table>\n",
              "</div>"
            ],
            "text/plain": [
              "   Threshold_stddev  Precision    Recall  Accuracy\n",
              "3          0.039400   0.850000  1.000000  0.911765\n",
              "4          0.041012   0.850000  1.000000  0.911765\n",
              "5          0.042623   0.861314  0.991597  0.915966\n",
              "6          0.044234   0.860294  0.983193  0.911765\n",
              "7          0.045845   0.871212  0.966387  0.911765"
            ]
          },
          "metadata": {
            "tags": []
          },
          "execution_count": 33
        }
      ]
    },
    {
      "cell_type": "code",
      "metadata": {
        "colab": {
          "base_uri": "https://localhost:8080/",
          "height": 221
        },
        "id": "HSCXKPzcW2Tm",
        "outputId": "e522b53d-ce65-48d3-fbc6-c6c71a485550"
      },
      "source": [
        "# Using accuracy as evaluation criterion\n",
        "#target_metric_val=[0.90,] : the first value is the target accuracy                         \n",
        "optim_threshold_df, optim_threshold = thres.optimal_threshold(metric='accuracy', \n",
        "                                                              target_metric_val=[0.90,], \n",
        "                                                              metric_df=metrics_df)\n",
        "\n",
        "print(\"The optimal threshold from the given criterion = {}\".format(optim_threshold))\n",
        "optim_threshold_df.head()"
      ],
      "execution_count": null,
      "outputs": [
        {
          "output_type": "stream",
          "text": [
            "The optimal threshold from the given criterion = 0.04423410463121825\n"
          ],
          "name": "stdout"
        },
        {
          "output_type": "execute_result",
          "data": {
            "text/html": [
              "<div>\n",
              "<style scoped>\n",
              "    .dataframe tbody tr th:only-of-type {\n",
              "        vertical-align: middle;\n",
              "    }\n",
              "\n",
              "    .dataframe tbody tr th {\n",
              "        vertical-align: top;\n",
              "    }\n",
              "\n",
              "    .dataframe thead th {\n",
              "        text-align: right;\n",
              "    }\n",
              "</style>\n",
              "<table border=\"1\" class=\"dataframe\">\n",
              "  <thead>\n",
              "    <tr style=\"text-align: right;\">\n",
              "      <th></th>\n",
              "      <th>Threshold_stddev</th>\n",
              "      <th>Precision</th>\n",
              "      <th>Recall</th>\n",
              "      <th>Accuracy</th>\n",
              "    </tr>\n",
              "  </thead>\n",
              "  <tbody>\n",
              "    <tr>\n",
              "      <th>2</th>\n",
              "      <td>0.037789</td>\n",
              "      <td>0.843972</td>\n",
              "      <td>1.000000</td>\n",
              "      <td>0.907563</td>\n",
              "    </tr>\n",
              "    <tr>\n",
              "      <th>3</th>\n",
              "      <td>0.039400</td>\n",
              "      <td>0.850000</td>\n",
              "      <td>1.000000</td>\n",
              "      <td>0.911765</td>\n",
              "    </tr>\n",
              "    <tr>\n",
              "      <th>4</th>\n",
              "      <td>0.041012</td>\n",
              "      <td>0.850000</td>\n",
              "      <td>1.000000</td>\n",
              "      <td>0.911765</td>\n",
              "    </tr>\n",
              "    <tr>\n",
              "      <th>5</th>\n",
              "      <td>0.042623</td>\n",
              "      <td>0.861314</td>\n",
              "      <td>0.991597</td>\n",
              "      <td>0.915966</td>\n",
              "    </tr>\n",
              "    <tr>\n",
              "      <th>6</th>\n",
              "      <td>0.044234</td>\n",
              "      <td>0.860294</td>\n",
              "      <td>0.983193</td>\n",
              "      <td>0.911765</td>\n",
              "    </tr>\n",
              "  </tbody>\n",
              "</table>\n",
              "</div>"
            ],
            "text/plain": [
              "   Threshold_stddev  Precision    Recall  Accuracy\n",
              "2          0.037789   0.843972  1.000000  0.907563\n",
              "3          0.039400   0.850000  1.000000  0.911765\n",
              "4          0.041012   0.850000  1.000000  0.911765\n",
              "5          0.042623   0.861314  0.991597  0.915966\n",
              "6          0.044234   0.860294  0.983193  0.911765"
            ]
          },
          "metadata": {
            "tags": []
          },
          "execution_count": 34
        }
      ]
    },
    {
      "cell_type": "code",
      "metadata": {
        "colab": {
          "base_uri": "https://localhost:8080/",
          "height": 567
        },
        "id": "e5yf-VCVQNnS",
        "outputId": "ac9c3cf2-5265-450d-e4e6-6bfab5963586"
      },
      "source": [
        "# Visualize separation between normal and abnormal reconstruction loss\n",
        "eval.plot_losses(y_true=test_labels,\n",
        "                  y_pred=reco_loss_test,\n",
        "                  y_train=reco_loss_train,\n",
        "                  y_val=reco_loss_val,\n",
        "                  thres=optim_threshold,\n",
        "                  title=\"Reconstruction Loss\",\n",
        "                  xlabel='Reconstruction Loss')"
      ],
      "execution_count": null,
      "outputs": [
        {
          "output_type": "stream",
          "text": [
            "/usr/local/lib/python3.7/dist-packages/seaborn/distributions.py:2557: FutureWarning: `distplot` is a deprecated function and will be removed in a future version. Please adapt your code to use either `displot` (a figure-level function with similar flexibility) or `histplot` (an axes-level function for histograms).\n",
            "  warnings.warn(msg, FutureWarning)\n"
          ],
          "name": "stderr"
        },
        {
          "output_type": "display_data",
          "data": {
            "image/png": "[encoded data removed]",
            "text/plain": [
              "<Figure size 1152x576 with 2 Axes>"
            ]
          },
          "metadata": {
            "tags": [],
            "needs_background": "light"
          }
        }
      ]
    },
    {
      "cell_type": "markdown",
      "metadata": {
        "id": "HSfLoTuo7uOk"
      },
      "source": [
        "### KL Divergence loss"
      ]
    },
    {
      "cell_type": "code",
      "metadata": {
        "id": "Fsj1grm57qbL",
        "colab": {
          "base_uri": "https://localhost:8080/"
        },
        "outputId": "726a1a8c-8c0c-4549-fb1c-8c767d760453"
      },
      "source": [
        "# KL-divergence for the test and train spectrograms\n",
        "kl_loss_test = eval.kl_loss(model=my_model, \n",
        "                            scaler=scaler,\n",
        "                            dim=DIM,\n",
        "                            step=STEP,\n",
        "                            test_files=test_files)\n",
        "\n",
        "kl_loss_train = eval.kl_loss(model=my_model, \n",
        "                            scaler=scaler,\n",
        "                            dim=DIM,\n",
        "                            step=STEP,\n",
        "                            test_files=train_files)"
      ],
      "execution_count": null,
      "outputs": [
        {
          "output_type": "stream",
          "text": [
            "\r  0%|          | 0/238 [00:00<?, ?it/s]/usr/local/lib/python3.7/dist-packages/tensorflow/python/keras/engine/training.py:2325: UserWarning: `Model.state_updates` will be removed in a future version. This property should not be used in TensorFlow 2.0, as `updates` are applied automatically.\n",
            "  warnings.warn('`Model.state_updates` will be removed in a future version. '\n",
            "100%|██████████| 238/238 [01:09<00:00,  3.43it/s]\n",
            "100%|██████████| 697/697 [05:06<00:00,  2.27it/s]\n"
          ],
          "name": "stderr"
        }
      ]
    },
    {
      "cell_type": "code",
      "metadata": {
        "id": "B5pBiNM78Tmg",
        "colab": {
          "base_uri": "https://localhost:8080/",
          "height": 513
        },
        "outputId": "5bb9aa68-630a-46ab-8e07-7b061d05a1d4"
      },
      "source": [
        "# Visualize separation between normal and abnormal KL_divergence loss\n",
        "eval.plot_losses(y_true=test_labels,\n",
        "                 y_pred=kl_loss_test,\n",
        "                 y_train=kl_loss_train,\n",
        "                 title=\"KL-divergence Loss\",\n",
        "                 xlabel='KL-divergence Loss')"
      ],
      "execution_count": null,
      "outputs": [
        {
          "output_type": "display_data",
          "data": {
            "image/png": "[encoded data removed]",
            "text/plain": [
              "<Figure size 576x576 with 1 Axes>"
            ]
          },
          "metadata": {
            "tags": [],
            "needs_background": "light"
          }
        }
      ]
    },
    {
      "cell_type": "code",
      "metadata": {
        "id": "OaoLThO8N_Oq"
      },
      "source": [
        ""
      ],
      "execution_count": null,
      "outputs": []
    }
  ]
}